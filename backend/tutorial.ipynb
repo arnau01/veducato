{
 "cells": [
  {
   "cell_type": "markdown",
   "metadata": {},
   "source": [
    "### Manim Examples\n",
    "\n",
    "_From the Manim Community Tutorials_\n",
    "\n",
    "This is a temporary test environment in which you can play around with Manim without the need of installing it locally. Some basic knowledge of Python is helpful! Keep in mind that this is a *temporary* environment, though: your changes will not be saved and cannot be shared with others. To save your work, you will need to download the notebook file (\"File > Download as > Notebook (.ipynb)\"). Enjoy!\n",
    "\n",
    "> *Useful resources:* [Documentation](https://docs.manim.community), [Discord](https://discord.gg/mMRrZQW), [Reddit](https://www.reddit.com/r/manim/)"
   ]
  },
  {
   "cell_type": "code",
   "execution_count": 23,
   "metadata": {},
   "outputs": [],
   "source": [
    "from manim import *\n",
    "\n",
    "config.media_width = \"75%\"\n",
    "config.verbosity = \"WARNING\""
   ]
  },
  {
   "cell_type": "code",
   "execution_count": 6,
   "metadata": {},
   "outputs": [
    {
     "data": {
      "text/html": [
       "<pre style=\"white-space:pre;overflow-x:auto;line-height:normal;font-family:Menlo,'DejaVu Sans Mono',consolas,'Courier New',monospace\">Manim Community <span style=\"color: #008000; text-decoration-color: #008000\">v0.18.1</span>\n",
       "\n",
       "</pre>\n"
      ],
      "text/plain": [
       "Manim Community \u001b[32mv0.\u001b[0m\u001b[32m18.1\u001b[0m\n",
       "\n"
      ]
     },
     "metadata": {},
     "output_type": "display_data"
    },
    {
     "name": "stderr",
     "output_type": "stream",
     "text": [
      "                                                                                \r"
     ]
    },
    {
     "data": {
      "text/html": [
       "<video src=\"media\\jupyter\\CircleToSquare@2024-10-05@22-07-26.mp4\" controls autoplay loop style=\"max-width: 75%;\"  >\n",
       "      Your browser does not support the <code>video</code> element.\n",
       "    </video>"
      ],
      "text/plain": [
       "<IPython.core.display.Video object>"
      ]
     },
     "metadata": {},
     "output_type": "display_data"
    }
   ],
   "source": [
    "%%manim -qm CircleToSquare\n",
    "\n",
    "class CircleToSquare(Scene):\n",
    "    def construct(self):\n",
    "        blue_circle = Circle(color=BLUE, fill_opacity=0.5)\n",
    "        green_square = Square(color=GREEN, fill_opacity=0.8)\n",
    "        self.play(Create(blue_circle))\n",
    "        self.wait()\n",
    "        \n",
    "        self.play(Transform(blue_circle, green_square))\n",
    "        self.wait()"
   ]
  },
  {
   "cell_type": "code",
   "execution_count": 3,
   "metadata": {},
   "outputs": [
    {
     "data": {
      "text/html": [
       "<pre style=\"white-space:pre;overflow-x:auto;line-height:normal;font-family:Menlo,'DejaVu Sans Mono',consolas,'Courier New',monospace\">Manim Community <span style=\"color: #008000; text-decoration-color: #008000\">v0.18.1</span>\n",
       "\n",
       "</pre>\n"
      ],
      "text/plain": [
       "Manim Community \u001b[32mv0.\u001b[0m\u001b[32m18.1\u001b[0m\n",
       "\n"
      ]
     },
     "metadata": {},
     "output_type": "display_data"
    },
    {
     "name": "stderr",
     "output_type": "stream",
     "text": [
      "                                                                                   \r"
     ]
    },
    {
     "data": {
      "text/html": [
       "<video src=\"media/jupyter/HelloCircle@2024-10-05@11-21-32.mp4\" controls autoplay loop style=\"max-width: 75%;\"  >\n",
       "      Your browser does not support the <code>video</code> element.\n",
       "    </video>"
      ],
      "text/plain": [
       "<IPython.core.display.Video object>"
      ]
     },
     "metadata": {},
     "output_type": "display_data"
    }
   ],
   "source": [
    "%%manim -qm HelloCircle\n",
    "\n",
    "class HelloCircle(Scene):\n",
    "    def construct(self):\n",
    "        # blue_circle = Circle(color=BLUE, fill_opacity=0.5)\n",
    "        # We can also create a \"plain\" circle and add the desired attributes via set methods:\n",
    "        circle = Circle()\n",
    "        blue_circle = circle.set_color(BLUE).set_opacity(0.5)\n",
    "        \n",
    "        label = Text(\"A wild circle appears!\")\n",
    "        label.next_to(blue_circle, DOWN, buff=0.5)\n",
    "        \n",
    "        self.play(Create(blue_circle), Write(label))\n",
    "        self.wait()"
   ]
  },
  {
   "cell_type": "code",
   "execution_count": 4,
   "metadata": {},
   "outputs": [
    {
     "data": {
      "text/html": [
       "<pre style=\"white-space:pre;overflow-x:auto;line-height:normal;font-family:Menlo,'DejaVu Sans Mono',consolas,'Courier New',monospace\">Manim Community <span style=\"color: #008000; text-decoration-color: #008000\">v0.18.1</span>\n",
       "\n",
       "</pre>\n"
      ],
      "text/plain": [
       "Manim Community \u001b[32mv0.\u001b[0m\u001b[32m18.1\u001b[0m\n",
       "\n"
      ]
     },
     "metadata": {},
     "output_type": "display_data"
    },
    {
     "name": "stderr",
     "output_type": "stream",
     "text": [
      "                                                                                                              \r"
     ]
    },
    {
     "data": {
      "text/html": [
       "<video src=\"media/jupyter/CircleAnnouncement@2024-10-05@11-21-33.mp4\" controls autoplay loop style=\"max-width: 75%;\"  >\n",
       "      Your browser does not support the <code>video</code> element.\n",
       "    </video>"
      ],
      "text/plain": [
       "<IPython.core.display.Video object>"
      ]
     },
     "metadata": {},
     "output_type": "display_data"
    }
   ],
   "source": [
    "%%manim -qm CircleAnnouncement\n",
    "\n",
    "class CircleAnnouncement(Scene):\n",
    "    def construct(self):\n",
    "        blue_circle = Circle(color=BLUE, fill_opacity=0.5)\n",
    "        announcement = Text(\"Let us draw a circle.\")\n",
    "        \n",
    "        self.play(Write(announcement))\n",
    "        self.wait()\n",
    "        \n",
    "        self.play(announcement.animate.next_to(blue_circle, UP, buff=0.5))\n",
    "        self.play(Create(blue_circle))"
   ]
  },
  {
   "cell_type": "code",
   "execution_count": 5,
   "metadata": {},
   "outputs": [
    {
     "data": {
      "text/html": [
       "<pre style=\"white-space:pre;overflow-x:auto;line-height:normal;font-family:Menlo,'DejaVu Sans Mono',consolas,'Courier New',monospace\">Manim Community <span style=\"color: #008000; text-decoration-color: #008000\">v0.18.1</span>\n",
       "\n",
       "</pre>\n"
      ],
      "text/plain": [
       "Manim Community \u001b[32mv0.\u001b[0m\u001b[32m18.1\u001b[0m\n",
       "\n"
      ]
     },
     "metadata": {},
     "output_type": "display_data"
    },
    {
     "name": "stderr",
     "output_type": "stream",
     "text": [
      "                                                                                           \r"
     ]
    },
    {
     "data": {
      "text/html": [
       "<video src=\"media/jupyter/AnimateSyntax@2024-10-05@11-21-34.mp4\" controls autoplay loop style=\"max-width: 75%;\"  >\n",
       "      Your browser does not support the <code>video</code> element.\n",
       "    </video>"
      ],
      "text/plain": [
       "<IPython.core.display.Video object>"
      ]
     },
     "metadata": {},
     "output_type": "display_data"
    }
   ],
   "source": [
    "%%manim -qm AnimateSyntax\n",
    "\n",
    "class AnimateSyntax(Scene):\n",
    "    def construct(self):\n",
    "        triangle = Triangle(color=RED, fill_opacity=1)\n",
    "        self.play(DrawBorderThenFill(triangle))\n",
    "        self.play(triangle.animate.shift(LEFT))\n",
    "        self.play(triangle.animate.shift(RIGHT).scale(2))\n",
    "        self.play(triangle.animate.rotate(PI/3))"
   ]
  },
  {
   "cell_type": "code",
   "execution_count": 6,
   "metadata": {},
   "outputs": [
    {
     "data": {
      "text/html": [
       "<pre style=\"white-space:pre;overflow-x:auto;line-height:normal;font-family:Menlo,'DejaVu Sans Mono',consolas,'Courier New',monospace\">Manim Community <span style=\"color: #008000; text-decoration-color: #008000\">v0.18.1</span>\n",
       "\n",
       "</pre>\n"
      ],
      "text/plain": [
       "Manim Community \u001b[32mv0.\u001b[0m\u001b[32m18.1\u001b[0m\n",
       "\n"
      ]
     },
     "metadata": {},
     "output_type": "display_data"
    },
    {
     "name": "stderr",
     "output_type": "stream",
     "text": [
      "                                                                                             \r"
     ]
    },
    {
     "data": {
      "text/html": [
       "<video src=\"media/jupyter/DifferentRotations@2024-10-05@11-21-34.mp4\" controls autoplay loop style=\"max-width: 75%;\"  >\n",
       "      Your browser does not support the <code>video</code> element.\n",
       "    </video>"
      ],
      "text/plain": [
       "<IPython.core.display.Video object>"
      ]
     },
     "metadata": {},
     "output_type": "display_data"
    }
   ],
   "source": [
    "%%manim -qm DifferentRotations\n",
    "\n",
    "class DifferentRotations(Scene):\n",
    "    def construct(self):\n",
    "        left_square = Square(color=BLUE, fill_opacity=0.7).shift(2*LEFT)\n",
    "        right_square = Square(color=GREEN, fill_opacity=0.7).shift(2*RIGHT)\n",
    "        self.play(left_square.animate.rotate(PI), Rotate(right_square, angle=PI), run_time=2)\n",
    "        self.wait()"
   ]
  },
  {
   "cell_type": "code",
   "execution_count": 7,
   "metadata": {},
   "outputs": [
    {
     "data": {
      "text/html": [
       "<pre style=\"white-space:pre;overflow-x:auto;line-height:normal;font-family:Menlo,'DejaVu Sans Mono',consolas,'Courier New',monospace\">Manim Community <span style=\"color: #008000; text-decoration-color: #008000\">v0.18.1</span>\n",
       "\n",
       "</pre>\n"
      ],
      "text/plain": [
       "Manim Community \u001b[32mv0.\u001b[0m\u001b[32m18.1\u001b[0m\n",
       "\n"
      ]
     },
     "metadata": {},
     "output_type": "display_data"
    },
    {
     "name": "stderr",
     "output_type": "stream",
     "text": [
      "                                                                                                                                                        \r"
     ]
    },
    {
     "data": {
      "text/html": [
       "<video src=\"media/jupyter/CauchyIntegralFormula@2024-10-05@11-21-36.mp4\" controls autoplay loop style=\"max-width: 75%;\"  >\n",
       "      Your browser does not support the <code>video</code> element.\n",
       "    </video>"
      ],
      "text/plain": [
       "<IPython.core.display.Video object>"
      ]
     },
     "metadata": {},
     "output_type": "display_data"
    }
   ],
   "source": [
    "%%manim -qm CauchyIntegralFormula\n",
    "\n",
    "class CauchyIntegralFormula(Scene):\n",
    "    def construct(self):\n",
    "        formula = MathTex(r\"[z^n]f(z) = \\frac{1}{2\\pi i}\\oint_{\\gamma} \\frac{f(z)}{z^{n+1}}~dz\")\n",
    "        self.play(Write(formula), run_time=3)\n",
    "        self.wait()"
   ]
  },
  {
   "cell_type": "code",
   "execution_count": 8,
   "metadata": {},
   "outputs": [
    {
     "data": {
      "text/html": [
       "<pre style=\"white-space:pre;overflow-x:auto;line-height:normal;font-family:Menlo,'DejaVu Sans Mono',consolas,'Courier New',monospace\">Manim Community <span style=\"color: #008000; text-decoration-color: #008000\">v0.18.1</span>\n",
       "\n",
       "</pre>\n"
      ],
      "text/plain": [
       "Manim Community \u001b[32mv0.\u001b[0m\u001b[32m18.1\u001b[0m\n",
       "\n"
      ]
     },
     "metadata": {},
     "output_type": "display_data"
    },
    {
     "name": "stderr",
     "output_type": "stream",
     "text": [
      "                                                                                             \r"
     ]
    },
    {
     "data": {
      "text/html": [
       "<video src=\"media/jupyter/TransformEquation@2024-10-05@11-21-43.mp4\" controls autoplay loop style=\"max-width: 75%;\"  >\n",
       "      Your browser does not support the <code>video</code> element.\n",
       "    </video>"
      ],
      "text/plain": [
       "<IPython.core.display.Video object>"
      ]
     },
     "metadata": {},
     "output_type": "display_data"
    }
   ],
   "source": [
    "%%manim -qm TransformEquation\n",
    "\n",
    "class TransformEquation(Scene):\n",
    "    def construct(self):\n",
    "        eq1 = MathTex(\"42 {{ a^2 }} + {{ b^2 }} = {{ c^2 }}\")\n",
    "        eq2 = MathTex(\"42 {{ a^2 }} = {{ c^2 }} - {{ b^2 }}\")\n",
    "        eq3 = MathTex(r\"a^2 = \\frac{c^2 - b^2}{42}\")\n",
    "        self.add(eq1)\n",
    "        self.wait()\n",
    "        self.play(TransformMatchingTex(eq1, eq2))\n",
    "        self.wait()\n",
    "        self.play(TransformMatchingShapes(eq2, eq3))\n",
    "        self.wait()"
   ]
  },
  {
   "cell_type": "code",
   "execution_count": 1,
   "metadata": {},
   "outputs": [
    {
     "name": "stderr",
     "output_type": "stream",
     "text": [
      "UsageError: Cell magic `%%manim` not found.\n"
     ]
    }
   ],
   "source": [
    "%%manim -qm FormulaEmphasis\n",
    "\n",
    "class FormulaEmphasis(Scene):\n",
    "    def construct(self):\n",
    "        product_formula = MathTex(\n",
    "            r\"\\frac{d}{dx} f(x)g(x) =\",\n",
    "            r\"f(x) \\frac{d}{dx} g(x)\",\n",
    "            r\"+\",\n",
    "            r\"g(x) \\frac{d}{dx} f(x)\"\n",
    "        )\n",
    "        self.play(Write(product_formula))\n",
    "        box1 = SurroundingRectangle(product_formula[1], buff=0.1)\n",
    "        box2 = SurroundingRectangle(product_formula[3], buff=0.1)\n",
    "        self.play(Create(box1))\n",
    "        self.wait()\n",
    "        self.play(Transform(box1, box2))\n",
    "        self.wait()"
   ]
  },
  {
   "cell_type": "code",
   "execution_count": 14,
   "metadata": {},
   "outputs": [
    {
     "data": {
      "text/html": [
       "<pre style=\"white-space:pre;overflow-x:auto;line-height:normal;font-family:Menlo,'DejaVu Sans Mono',consolas,'Courier New',monospace\">Manim Community <span style=\"color: #008000; text-decoration-color: #008000\">v0.18.1</span>\n",
       "\n",
       "</pre>\n"
      ],
      "text/plain": [
       "Manim Community \u001b[32mv0.\u001b[0m\u001b[32m18.1\u001b[0m\n",
       "\n"
      ]
     },
     "metadata": {},
     "output_type": "display_data"
    },
    {
     "name": "stderr",
     "output_type": "stream",
     "text": [
      "                                                                                                                                                \r"
     ]
    },
    {
     "data": {
      "text/html": [
       "<video src=\"media/jupyter/PlotExample@2024-10-05@15-34-38.mp4\" controls autoplay loop style=\"max-width: 75%;\"  >\n",
       "      Your browser does not support the <code>video</code> element.\n",
       "    </video>"
      ],
      "text/plain": [
       "<IPython.core.display.Video object>"
      ]
     },
     "metadata": {},
     "output_type": "display_data"
    }
   ],
   "source": [
    "%%manim -qm PlotExample\n",
    "\n",
    "class PlotExample(Scene):\n",
    "    def construct(self):\n",
    "        plot_axes = Axes(\n",
    "            x_range=[0, 1, 0.05],\n",
    "            y_range=[0, 1, 0.05],\n",
    "            x_length=9,\n",
    "            y_length=5.5,\n",
    "            axis_config={\n",
    "                \"numbers_to_include\": np.arange(0, 1 + 0.1, 0.1),\n",
    "                \"font_size\": 24,\n",
    "            },\n",
    "            tips=False,\n",
    "        )\n",
    "\n",
    "        y_label = plot_axes.get_y_axis_label(\"y\", edge=LEFT, direction=LEFT, buff=0.4)\n",
    "        x_label = plot_axes.get_x_axis_label(\"x\")\n",
    "        plot_labels = VGroup(x_label, y_label)\n",
    "\n",
    "        plots = VGroup()\n",
    "        for n in np.arange(1, 20 + 0.5, 0.5):\n",
    "            plots += plot_axes.plot(lambda x: x**n, color=WHITE)\n",
    "            plots += plot_axes.plot(\n",
    "                lambda x: x**(1 / n), color=WHITE, use_smoothing=False\n",
    "            )\n",
    "\n",
    "        extras = VGroup()\n",
    "        extras += plot_axes.get_horizontal_line(plot_axes.c2p(1, 1, 0), color=BLUE)\n",
    "        extras += plot_axes.get_vertical_line(plot_axes.c2p(1, 1, 0), color=BLUE)\n",
    "        extras += Dot(point=plot_axes.c2p(1, 1, 0), color=YELLOW)\n",
    "        title = Title(\n",
    "            r\"Graphs of $y=x^{\\frac{1}{n}}$ and $y=x^n (n=1, 1.5, 2, 2.5, 3, \\dots, 20)$\",\n",
    "            include_underline=False,\n",
    "            font_size=40,\n",
    "        )\n",
    "        \n",
    "        self.play(Write(title))\n",
    "        self.play(Create(plot_axes), Create(plot_labels), Create(extras))\n",
    "        self.play(AnimationGroup(*[Create(plot) for plot in plots], lag_ratio=0.05))"
   ]
  },
  {
   "cell_type": "code",
   "execution_count": 11,
   "metadata": {},
   "outputs": [
    {
     "data": {
      "text/html": [
       "<pre style=\"white-space:pre;overflow-x:auto;line-height:normal;font-family:Menlo,'DejaVu Sans Mono',consolas,'Courier New',monospace\">Manim Community <span style=\"color: #008000; text-decoration-color: #008000\">v0.18.1</span>\n",
       "\n",
       "</pre>\n"
      ],
      "text/plain": [
       "Manim Community \u001b[32mv0.\u001b[0m\u001b[32m18.1\u001b[0m\n",
       "\n"
      ]
     },
     "metadata": {},
     "output_type": "display_data"
    },
    {
     "name": "stderr",
     "output_type": "stream",
     "text": [
      "                                                                                                                    \r"
     ]
    },
    {
     "data": {
      "text/html": [
       "<video src=\"media/jupyter/ErdosRenyiGraph@2024-10-05@11-22-05.mp4\" controls autoplay loop style=\"max-width: 75%;\"  >\n",
       "      Your browser does not support the <code>video</code> element.\n",
       "    </video>"
      ],
      "text/plain": [
       "<IPython.core.display.Video object>"
      ]
     },
     "metadata": {},
     "output_type": "display_data"
    }
   ],
   "source": [
    "%%manim -qm ErdosRenyiGraph\n",
    "\n",
    "import networkx as nx\n",
    "\n",
    "nxgraph = nx.erdos_renyi_graph(14, 0.5)\n",
    "\n",
    "class ErdosRenyiGraph(Scene):\n",
    "    def construct(self):\n",
    "        G = Graph.from_networkx(nxgraph, layout=\"spring\", layout_scale=3.5)\n",
    "        self.play(Create(G))\n",
    "        self.play(*[G[v].animate.move_to(5*RIGHT*np.cos(ind/7 * PI) +\n",
    "                                         3*UP*np.sin(ind/7 * PI))\n",
    "                    for ind, v in enumerate(G.vertices)])\n",
    "        self.play(Uncreate(G))"
   ]
  },
  {
   "cell_type": "code",
   "execution_count": 12,
   "metadata": {},
   "outputs": [
    {
     "data": {
      "text/html": [
       "<pre style=\"white-space:pre;overflow-x:auto;line-height:normal;font-family:Menlo,'DejaVu Sans Mono',consolas,'Courier New',monospace\">Manim Community <span style=\"color: #008000; text-decoration-color: #008000\">v0.18.1</span>\n",
       "\n",
       "</pre>\n"
      ],
      "text/plain": [
       "Manim Community \u001b[32mv0.\u001b[0m\u001b[32m18.1\u001b[0m\n",
       "\n"
      ]
     },
     "metadata": {},
     "output_type": "display_data"
    },
    {
     "name": "stderr",
     "output_type": "stream",
     "text": [
      "                                                                                          \r"
     ]
    },
    {
     "data": {
      "text/html": [
       "<video src=\"media/jupyter/CodeFromString@2024-10-05@11-22-08.mp4\" controls autoplay loop style=\"max-width: 75%;\"  >\n",
       "      Your browser does not support the <code>video</code> element.\n",
       "    </video>"
      ],
      "text/plain": [
       "<IPython.core.display.Video object>"
      ]
     },
     "metadata": {},
     "output_type": "display_data"
    }
   ],
   "source": [
    "%%manim -qm CodeFromString\n",
    "\n",
    "class CodeFromString(Scene):\n",
    "    def construct(self):\n",
    "        code = '''from manim import Scene, Square\n",
    "\n",
    "class FadeInSquare(Scene):\n",
    "    def construct(self):\n",
    "        s = Square()\n",
    "        self.play(FadeIn(s))\n",
    "        self.play(s.animate.scale(2))\n",
    "        self.wait()\n",
    "'''\n",
    "        rendered_code = Code(code=code, tab_width=4, background=\"window\",\n",
    "                            language=\"Python\", font=\"Monospace\")\n",
    "        self.play(Write(rendered_code))\n",
    "        self.wait(2)"
   ]
  },
  {
   "cell_type": "code",
   "execution_count": 13,
   "metadata": {},
   "outputs": [
    {
     "data": {
      "text/html": [
       "<pre style=\"white-space:pre;overflow-x:auto;line-height:normal;font-family:Menlo,'DejaVu Sans Mono',consolas,'Courier New',monospace\">Manim Community <span style=\"color: #008000; text-decoration-color: #008000\">v0.18.1</span>\n",
       "\n",
       "</pre>\n"
      ],
      "text/plain": [
       "Manim Community \u001b[32mv0.\u001b[0m\u001b[32m18.1\u001b[0m\n",
       "\n"
      ]
     },
     "metadata": {},
     "output_type": "display_data"
    },
    {
     "name": "stderr",
     "output_type": "stream",
     "text": [
      "                                                                                                            \r"
     ]
    },
    {
     "data": {
      "text/html": [
       "<video src=\"media/jupyter/OpeningManim@2024-10-05@11-22-17.mp4\" controls autoplay loop style=\"max-width: 75%;\"  >\n",
       "      Your browser does not support the <code>video</code> element.\n",
       "    </video>"
      ],
      "text/plain": [
       "<IPython.core.display.Video object>"
      ]
     },
     "metadata": {},
     "output_type": "display_data"
    }
   ],
   "source": [
    "%%manim -qm OpeningManim\n",
    "\n",
    "class OpeningManim(Scene):\n",
    "    def construct(self):\n",
    "        title = Tex(r\"This is some \\LaTeX\")\n",
    "        basel = MathTex(r\"\\sum_{n=1}^\\infty \\frac{1}{n^2} = \\frac{\\pi^2}{6}\")\n",
    "        VGroup(title, basel).arrange(DOWN)\n",
    "        self.play(\n",
    "            Write(title),\n",
    "            FadeIn(basel, shift=UP),\n",
    "        )\n",
    "        self.wait()\n",
    "\n",
    "        transform_title = Tex(\"That was a transform\")\n",
    "        transform_title.to_corner(UP + LEFT)\n",
    "        self.play(\n",
    "            Transform(title, transform_title),\n",
    "            LaggedStart(*[FadeOut(obj, shift=DOWN) for obj in basel]),\n",
    "        )\n",
    "        self.wait()\n",
    "\n",
    "        grid = NumberPlane(x_range=(-10, 10, 1), y_range=(-6.0, 6.0, 1))\n",
    "        grid_title = Tex(\"This is a grid\")\n",
    "        grid_title.scale(1.5)\n",
    "        grid_title.move_to(transform_title)\n",
    "\n",
    "        self.add(grid, grid_title)\n",
    "        self.play(\n",
    "            FadeOut(title),\n",
    "            FadeIn(grid_title, shift=DOWN),\n",
    "            Create(grid, run_time=3, lag_ratio=0.1),\n",
    "        )\n",
    "        self.wait()\n",
    "\n",
    "        grid_transform_title = Tex(\n",
    "            r\"That was a non-linear function \\\\ applied to the grid\"\n",
    "        )\n",
    "        grid_transform_title.move_to(grid_title, UL)\n",
    "        grid.prepare_for_nonlinear_transform()\n",
    "        self.play(\n",
    "            grid.animate.apply_function(\n",
    "                lambda p: p + np.array([np.sin(p[1]), np.sin(p[0]), 0])\n",
    "            ),\n",
    "            run_time=3,\n",
    "        )\n",
    "        self.wait()\n",
    "        self.play(Transform(grid_title, grid_transform_title))\n",
    "        self.wait()"
   ]
  },
  {
   "cell_type": "code",
   "execution_count": 1,
   "metadata": {},
   "outputs": [
    {
     "name": "stderr",
     "output_type": "stream",
     "text": [
      "UsageError: Cell magic `%%manim` not found.\n"
     ]
    }
   ],
   "source": [
    "%%manim -qm CustomScene\n",
    "\n",
    "class CustomScene(Scene):\n",
    "    def construct(self):\n",
    "    # Create the unit circle\n",
    "    circle = Circle(radius=2, color=BLUE)\n",
    "    self.play(Create(circle))\n",
    "    self.wait(1)\n",
    "\n",
    "    # Add complex plane coordinates\n",
    "    axes = Axes(x_range=[-2, 2, 1], y_range=[-2, 2, 1], x_length=4, y_length=4, tips=False)\n",
    "    self.play(Create(axes))\n",
    "    self.wait(1)\n",
    "\n",
    "    # Introduce rotating point for e^(ix)\n",
    "    dot = Dot(circle.point_at_angle(0), color=RED)\n",
    "    self.play(FadeIn(dot))\n",
    "    self.wait(1)\n",
    "\n",
    "    # Overlay spirals for complex exponentials\n",
    "    spiral = ParametricFunction(lambda t: np.array([np.cos(t), np.sin(t), 0]) * t, t_range=[0, 4 * PI], color=GREEN)\n",
    "    self.play(Create(spiral))\n",
    "    self.wait(1)\n",
    "\n",
    "    # Show geometric representation of cos(x) and isin(x)\n",
    "    cos_line = Line(circle.get_center(), circle.point_at_angle(PI / 4), color=YELLOW)\n",
    "    sin_line = Line(circle.get_center(), circle.point_at_angle(PI / 2), color=YELLOW)\n",
    "    self.play(Create(cos_line), Create(sin_line))\n",
    "    self.wait(1)\n",
    "\n",
    "    # Animate full rotation to π\n",
    "    self.play(Rotate(dot, angle=PI, about_point=circle.get_center()))\n",
    "    self.wait(1)\n",
    "\n",
    "    # Highlight final position at -1\n",
    "    final_dot = Dot(circle.point_at_angle(PI), color=RED)\n",
    "    self.play(FadeIn(final_dot))\n",
    "    self.wait(1)\n",
    "\n",
    "    # Bring in labels for 0, 1, e, i, and π\n",
    "    labels = VGroup(\n",
    "        MathMathTex(r\"0\").move_to(circle.get_center()),\n",
    "        MathMathTex(r\"1\").move_to(circle.point_at_angle(0)),\n",
    "        MathMathTex(r\"e\").move_to(circle.point_at_angle(PI / 2)),\n",
    "        MathMathTex(r\"i\").move_to(circle.point_at_angle(PI / 4)),\n",
    "        MathMathTex(r\"\\pi\").move_to(circle.point_at_angle(PI))\n",
    "    )\n",
    "    self.play(Write(labels))\n",
    "    self.wait(1)\n",
    "\n",
    "    # Animate the equation e^(iπ) + 1 = 0 being formed\n",
    "    equation = MathMathTex(r\"e^{i\\pi} + 1 = 0\").move_to(UP * 3)\n",
    "    self.play(Write(equation))\n",
    "    self.wait(1)\n",
    "\n",
    "    # Visually emphasize how each constant plays a role in the identity\n",
    "    self.play(Indicate(labels[0]), Indicate(labels[1]), Indicate(labels[2]), Indicate(labels[3]), Indicate(labels[4]))\n",
    "    self.wait(1)"
   ]
  },
  {
   "cell_type": "code",
   "execution_count": null,
   "metadata": {},
   "outputs": [],
   "source": [
    "# Import necessary modules\n",
    "from manim import *\n",
    "\n",
    "# Fix the MathMathTex error by replacing it with MathTex\n",
    "class CustomScene(Scene):\n",
    "    def construct(self):\n",
    "        # Create the unit circle\n",
    "        circle = Circle(radius=2, color=BLUE)\n",
    "        self.play(Create(circle))\n",
    "        self.wait(1)\n",
    "\n",
    "        # Add complex plane coordinates\n",
    "        axes = Axes(x_range=[-2, 2, 1], y_range=[-2, 2, 1], x_length=4, y_length=4, tips=False)\n",
    "        self.play(Create(axes))\n",
    "        self.wait(1)\n",
    "\n",
    "        # Introduce rotating point for e^(ix)\n",
    "        dot = Dot(circle.point_at_angle(0), color=RED)\n",
    "        self.play(FadeIn(dot))\n",
    "        self.wait(1)\n",
    "\n",
    "        # Overlay spirals for complex exponentials\n",
    "        spiral = ParametricFunction(lambda t: np.array([np.cos(t), np.sin(t), 0]) * t, t_range=[0, 4 * PI], color=GREEN)\n",
    "        self.play(Create(spiral))\n",
    "        self.wait(1)\n",
    "\n",
    "        # Show geometric representation of cos(x) and isin(x)\n",
    "        cos_line = Line(circle.get_center(), circle.point_at_angle(PI / 4), color=YELLOW)\n",
    "        sin_line = Line(circle.get_center(), circle.point_at_angle(PI / 2), color=YELLOW)\n",
    "        self.play(Create(cos_line), Create(sin_line))\n",
    "        self.wait(1)\n",
    "\n",
    "        # Animate full rotation to π\n",
    "        self.play(Rotate(dot, angle=PI, about_point=circle.get_center()))\n",
    "        self.wait(1)\n",
    "\n",
    "        # Highlight final position at -1\n",
    "        final_dot = Dot(circle.point_at_angle(PI), color=RED)\n",
    "        self.play(FadeIn(final_dot))\n",
    "        self.wait(1)\n",
    "\n",
    "        # Bring in labels for 0, 1, e, i, and π\n",
    "        labels = VGroup(\n",
    "            MathTex(r\"0\").move_to(circle.get_center()),\n",
    "            MathTex(r\"1\").move_to(circle.point_at_angle(0)),\n",
    "            MathTex(r\"e\").move_to(circle.point_at_angle(PI / 2)),\n",
    "            MathTex(r\"i\").move_to(circle.point_at_angle(PI / 4)),\n",
    "            MathTex(r\"\\pi\").move_to(circle.point_at_angle(PI))\n",
    "        )\n",
    "        self.play(Write(labels))\n",
    "        self.wait(1)\n",
    "\n",
    "        # Animate the equation e^(iπ) + 1 = 0 being formed\n",
    "        equation = MathTex(r\"e^{i\\pi} + 1 = 0\").move_to(UP * 3)\n",
    "        self.play(Write(equation))\n",
    "        self.wait(1)\n",
    "\n",
    "        # Visually emphasize how each constant plays a role in the identity\n",
    "        self.play(Indicate(labels[0]), Indicate(labels[1]), Indicate(labels[2]), Indicate(labels[3]), Indicate(labels[4]))\n",
    "        self.wait(1)\n"
   ]
  },
  {
   "cell_type": "code",
   "execution_count": 5,
   "metadata": {},
   "outputs": [
    {
     "name": "stderr",
     "output_type": "stream",
     "text": [
      "<string>:54: SyntaxWarning: invalid escape sequence '\\p'\n"
     ]
    },
    {
     "data": {
      "text/html": [
       "<pre style=\"white-space:pre;overflow-x:auto;line-height:normal;font-family:Menlo,'DejaVu Sans Mono',consolas,'Courier New',monospace\">Manim Community <span style=\"color: #008000; text-decoration-color: #008000\">v0.18.1</span>\n",
       "\n",
       "</pre>\n"
      ],
      "text/plain": [
       "Manim Community \u001b[32mv0.\u001b[0m\u001b[32m18.1\u001b[0m\n",
       "\n"
      ]
     },
     "metadata": {},
     "output_type": "display_data"
    },
    {
     "name": "stderr",
     "output_type": "stream",
     "text": [
      "                                                                                                 \r"
     ]
    },
    {
     "data": {
      "text/html": [
       "<video src=\"media\\jupyter\\CustomScene@2024-10-06@01-33-33.mp4\" controls autoplay loop style=\"max-width: 75%;\"  >\n",
       "      Your browser does not support the <code>video</code> element.\n",
       "    </video>"
      ],
      "text/plain": [
       "<IPython.core.display.Video object>"
      ]
     },
     "metadata": {},
     "output_type": "display_data"
    }
   ],
   "source": [
    "%%manim -qm CustomScene\n",
    "\n",
    "class CustomScene(Scene):\n",
    "    def construct(self):\n",
    "        # Create the coordinate system\n",
    "        axes = Axes(\n",
    "            x_range=[0, 4*PI, PI],\n",
    "            y_range=[-1.5, 1.5, 0.5],\n",
    "            x_length=12,\n",
    "            y_length=6,\n",
    "            axis_config={\"color\": BLUE},\n",
    "            x_axis_config={\"numbers_to_include\": []},  # Remove default numbers\n",
    "            y_axis_config={\"numbers_to_include\": [-1, 1]},\n",
    "            tips=False\n",
    "        )\n",
    "        axes_labels = axes.get_axis_labels(x_label=\"x\", y_label=\"y\")\n",
    "\n",
    "        # Create the unit circle\n",
    "        circle = Circle(radius=1, color=WHITE)\n",
    "        circle.move_to(axes.c2p(0, 0))\n",
    "\n",
    "        # Create the angle\n",
    "        angle = ValueTracker(0)\n",
    "        line = always_redraw(lambda: Line(circle.get_center(), circle.point_at_angle(angle.get_value()), color=YELLOW))\n",
    "        \n",
    "        # Create the sine curve\n",
    "        sine_curve = always_redraw(\n",
    "            lambda: axes.plot(\n",
    "                lambda x: np.sin(x),\n",
    "                x_range=[0, angle.get_value()],\n",
    "                color=RED\n",
    "            )\n",
    "        )\n",
    "\n",
    "        # Create the dot on the circle and its projection\n",
    "        moving_dot = always_redraw(lambda: Dot(circle.point_at_angle(angle.get_value()), color=RED))\n",
    "        h_line = always_redraw(lambda: DashedLine(\n",
    "            moving_dot.get_center(),\n",
    "            axes.c2p(angle.get_value(), np.sin(angle.get_value())),\n",
    "            color=GRAY\n",
    "        ))\n",
    "        v_line = always_redraw(lambda: DashedLine(\n",
    "            axes.c2p(angle.get_value(), 0),\n",
    "            axes.c2p(angle.get_value(), np.sin(angle.get_value())),\n",
    "            color=GRAY\n",
    "        ))\n",
    "        sine_dot = always_redraw(lambda: Dot(\n",
    "            axes.c2p(angle.get_value(), np.sin(angle.get_value())),\n",
    "            color=RED\n",
    "        ))\n",
    "\n",
    "        # Labels\n",
    "        sine_label = MathTex(r\"\\sin(x)\").next_to(axes, UP).set_color(RED)\n",
    "        pi_labels = VGroup(*[\n",
    "            MathTex(f\"{i}\\pi\").next_to(axes.c2p(i*PI, 0), DOWN)\n",
    "            for i in range(1, 5)\n",
    "        ])\n",
    "\n",
    "        # Animations\n",
    "        self.play(Create(axes), Write(axes_labels))\n",
    "        self.play(Create(circle))\n",
    "        self.play(Create(line), Create(moving_dot))\n",
    "        self.play(Write(sine_label), Create(h_line), Create(v_line), Create(sine_dot))\n",
    "        self.play(Create(sine_curve))\n",
    "        self.play(Write(pi_labels))\n",
    "\n",
    "        # Animate the sine curve\n",
    "        self.play(angle.animate.set_value(4*PI), run_time=12, rate_func=linear)\n",
    "        self.wait()\n",
    "\n",
    "        # Highlight key points\n",
    "        highlight_points = [\n",
    "            (0, \"y = 0\"),\n",
    "            (PI/2, \"y = 1\"),\n",
    "            (PI, \"y = 0\"),\n",
    "            (3*PI/2, \"y = -1\"),\n",
    "        \n",
    "        ]\n",
    "\n",
    "        for x, label_text in highlight_points:\n",
    "            point = axes.c2p(x, np.sin(x))\n",
    "            dot = Dot(point, color=YELLOW)\n",
    "            label = Text(label_text, font_size=24).next_to(dot, UP)\n",
    "            self.play(Create(dot), Write(label))\n",
    "            self.wait(0.5)\n",
    "            self.play(FadeOut(dot), FadeOut(label))\n",
    "\n",
    "        self.wait(2)"
   ]
  },
  {
   "cell_type": "code",
   "execution_count": 8,
   "metadata": {},
   "outputs": [
    {
     "data": {
      "text/html": [
       "<pre style=\"white-space:pre;overflow-x:auto;line-height:normal;font-family:Menlo,'DejaVu Sans Mono',consolas,'Courier New',monospace\">Manim Community <span style=\"color: #008000; text-decoration-color: #008000\">v0.18.1</span>\n",
       "\n",
       "</pre>\n"
      ],
      "text/plain": [
       "Manim Community \u001b[32mv0.\u001b[0m\u001b[32m18.1\u001b[0m\n",
       "\n"
      ]
     },
     "metadata": {},
     "output_type": "display_data"
    },
    {
     "name": "stderr",
     "output_type": "stream",
     "text": [
      "                                                                                                                                                                                \r"
     ]
    },
    {
     "data": {
      "text/html": [
       "<video src=\"media\\jupyter\\MediantInequalityExplanation@2024-10-06@01-43-34.mp4\" controls autoplay loop style=\"max-width: 75%;\"  >\n",
       "      Your browser does not support the <code>video</code> element.\n",
       "    </video>"
      ],
      "text/plain": [
       "<IPython.core.display.Video object>"
      ]
     },
     "metadata": {},
     "output_type": "display_data"
    }
   ],
   "source": [
    "%%manim -qm MediantInequalityExplanation\n",
    "\n",
    "class MediantInequalityExplanation(Scene):\n",
    "    def construct(self):\n",
    "        # Title\n",
    "        title = Text(\"Mediant Inequality\", font_size=48)\n",
    "        self.play(Write(title))\n",
    "        self.play(title.animate.to_edge(UP))\n",
    "        self.wait(1)\n",
    "\n",
    "        # Define fractions\n",
    "        frac1 = MathTex(r\"\\frac{a}{b}\")\n",
    "        frac2 = MathTex(r\"\\frac{c}{d}\")\n",
    "        mediant = MathTex(r\"\\frac{a+c}{b+d}\")\n",
    "\n",
    "        # Position fractions\n",
    "        fractions = VGroup(frac1, frac2, mediant).arrange(RIGHT, buff=1)\n",
    "        self.play(Write(fractions))\n",
    "        self.wait(1)\n",
    "\n",
    "        # Inequality\n",
    "        inequality = MathTex(r\"\\min(\\frac{a}{b}, \\frac{c}{d}) \\leq \\frac{a+c}{b+d} \\leq \\max(\\frac{a}{b}, \\frac{c}{d})\")\n",
    "        inequality.next_to(fractions, DOWN, buff=1)\n",
    "        self.play(Write(inequality))\n",
    "        self.wait(2)\n",
    "\n",
    "        # Clear screen for visualization\n",
    "        self.play(FadeOut(fractions), FadeOut(inequality))\n",
    "\n",
    "        # Number line\n",
    "        number_line = NumberLine(\n",
    "            x_range=[0, 1, 0.1],\n",
    "            length=10,\n",
    "            include_numbers=True,\n",
    "            numbers_to_include=[0, 0.5, 1]\n",
    "        )\n",
    "        self.play(Create(number_line))\n",
    "        self.wait(1)\n",
    "\n",
    "        # Example fractions\n",
    "        example1 = MathTex(r\"\\frac{1}{3}\")\n",
    "        example2 = MathTex(r\"\\frac{3}{4}\")\n",
    "        example_mediant = MathTex(r\"\\frac{1+3}{3+4} = \\frac{4}{7}\")\n",
    "\n",
    "        examples = VGroup(example1, example2, example_mediant).arrange(DOWN, buff=0.5)\n",
    "        examples.to_edge(LEFT)\n",
    "        self.play(Write(examples))\n",
    "        self.wait(1)\n",
    "\n",
    "        # Points on number line\n",
    "        point1 = Dot(number_line.n2p(1/3), color=RED)\n",
    "        point2 = Dot(number_line.n2p(3/4), color=BLUE)\n",
    "        point_mediant = Dot(number_line.n2p(4/7), color=GREEN)\n",
    "\n",
    "        # Labels for points\n",
    "        label1 = MathTex(r\"\\frac{1}{3}\").next_to(point1, UP)\n",
    "        label2 = MathTex(r\"\\frac{3}{4}\").next_to(point2, UP)\n",
    "        label_mediant = MathTex(r\"\\frac{4}{7}\").next_to(point_mediant, DOWN)\n",
    "\n",
    "        # Add points and labels\n",
    "        self.play(\n",
    "            Create(point1), Write(label1),\n",
    "            Create(point2), Write(label2)\n",
    "        )\n",
    "        self.wait(1)\n",
    "        self.play(Create(point_mediant), Write(label_mediant))\n",
    "        self.wait(1)\n",
    "\n",
    "        # Highlight the inequality\n",
    "        highlight = VGroup(point1, point_mediant, point2)\n",
    "        self.play(highlight.animate.set_color(YELLOW))\n",
    "        self.wait(1)\n",
    "\n",
    "        # Add shapes to visualize fractions\n",
    "        circle1 = Circle(radius=1, color=RED, fill_opacity=0.5)\n",
    "        circle1.move_to(3*LEFT + 2*UP)\n",
    "        circle2 = Circle(radius=1, color=BLUE, fill_opacity=0.5)\n",
    "        circle2.move_to(3*RIGHT + 2*UP)\n",
    "        \n",
    "        self.play(Create(circle1), Create(circle2))\n",
    "        self.wait(1)\n",
    "\n",
    "        # Divide circles to represent fractions\n",
    "        line1 = Line(circle1.get_top(), circle1.get_bottom(), color=WHITE)\n",
    "        line1.rotate(PI/3, about_point=circle1.get_center())\n",
    "        line2 = Line(circle2.get_top(), circle2.get_bottom(), color=WHITE)\n",
    "        line2.rotate(PI/4, about_point=circle2.get_center())\n",
    "\n",
    "        self.play(Create(line1), Create(line2))\n",
    "        self.wait(1)\n",
    "\n",
    "        # Mediant visualization\n",
    "        rect = Rectangle(width=4, height=2, color=GREEN, fill_opacity=0.5)\n",
    "        rect.next_to(number_line, DOWN, buff=1)\n",
    "        self.play(Create(rect))\n",
    "\n",
    "        divider = Line(rect.get_top(), rect.get_bottom(), color=WHITE)\n",
    "        divider.move_to(rect.get_center())\n",
    "        divider.shift(RIGHT * 0.57)  # Approximate position for 4/7\n",
    "\n",
    "        self.play(Create(divider))\n",
    "        self.wait(1)\n",
    "\n",
    "        # Conclusion\n",
    "        conclusion = Text(\"The mediant is always between the two original fractions\", font_size=36)\n",
    "        conclusion.next_to(rect, DOWN, buff=1)\n",
    "        self.play(Write(conclusion))\n",
    "        self.wait(2)\n"
   ]
  },
  {
   "cell_type": "code",
   "execution_count": 9,
   "metadata": {},
   "outputs": [
    {
     "name": "stderr",
     "output_type": "stream",
     "text": [
      "<string>:37: SyntaxWarning: invalid escape sequence '\\s'\n",
      "<string>:56: SyntaxWarning: invalid escape sequence '\\s'\n",
      "<string>:76: SyntaxWarning: invalid escape sequence '\\s'\n"
     ]
    },
    {
     "data": {
      "text/html": [
       "<pre style=\"white-space:pre;overflow-x:auto;line-height:normal;font-family:Menlo,'DejaVu Sans Mono',consolas,'Courier New',monospace\">Manim Community <span style=\"color: #008000; text-decoration-color: #008000\">v0.18.1</span>\n",
       "\n",
       "</pre>\n"
      ],
      "text/plain": [
       "Manim Community \u001b[32mv0.\u001b[0m\u001b[32m18.1\u001b[0m\n",
       "\n"
      ]
     },
     "metadata": {},
     "output_type": "display_data"
    },
    {
     "name": "stderr",
     "output_type": "stream",
     "text": [
      "                                                                                                                                  \r"
     ]
    },
    {
     "ename": "AttributeError",
     "evalue": "'numpy.ndarray' object has no attribute 'project'",
     "output_type": "error",
     "traceback": [
      "\u001b[1;31m---------------------------------------------------------------------------\u001b[0m",
      "\u001b[1;31mAttributeError\u001b[0m                            Traceback (most recent call last)",
      "Cell \u001b[1;32mIn[9], line 1\u001b[0m\n\u001b[1;32m----> 1\u001b[0m \u001b[43mget_ipython\u001b[49m\u001b[43m(\u001b[49m\u001b[43m)\u001b[49m\u001b[38;5;241;43m.\u001b[39;49m\u001b[43mrun_cell_magic\u001b[49m\u001b[43m(\u001b[49m\u001b[38;5;124;43m'\u001b[39;49m\u001b[38;5;124;43mmanim\u001b[39;49m\u001b[38;5;124;43m'\u001b[39;49m\u001b[43m,\u001b[49m\u001b[43m \u001b[49m\u001b[38;5;124;43m'\u001b[39;49m\u001b[38;5;124;43m-qm ParallelogramAreaSAS\u001b[39;49m\u001b[38;5;124;43m'\u001b[39;49m\u001b[43m,\u001b[49m\u001b[43m \u001b[49m\u001b[38;5;124;43m'\u001b[39;49m\u001b[38;5;130;43;01m\\n\u001b[39;49;00m\u001b[38;5;124;43mimport math\u001b[39;49m\u001b[38;5;130;43;01m\\n\u001b[39;49;00m\u001b[38;5;130;43;01m\\n\u001b[39;49;00m\u001b[38;5;124;43mclass ParallelogramAreaSAS(Scene):\u001b[39;49m\u001b[38;5;130;43;01m\\n\u001b[39;49;00m\u001b[38;5;124;43m    def construct(self):\u001b[39;49m\u001b[38;5;130;43;01m\\n\u001b[39;49;00m\u001b[38;5;124;43m        # Title\u001b[39;49m\u001b[38;5;130;43;01m\\n\u001b[39;49;00m\u001b[38;5;124;43m        title = Text(\u001b[39;49m\u001b[38;5;124;43m\"\u001b[39;49m\u001b[38;5;124;43mParallelogram Area: Side-Angle-Side Method\u001b[39;49m\u001b[38;5;124;43m\"\u001b[39;49m\u001b[38;5;124;43m, font_size=40)\u001b[39;49m\u001b[38;5;130;43;01m\\n\u001b[39;49;00m\u001b[38;5;124;43m        self.play(Write(title))\u001b[39;49m\u001b[38;5;130;43;01m\\n\u001b[39;49;00m\u001b[38;5;124;43m        self.play(title.animate.to_edge(UP))\u001b[39;49m\u001b[38;5;130;43;01m\\n\u001b[39;49;00m\u001b[38;5;124;43m        self.wait(1)\u001b[39;49m\u001b[38;5;130;43;01m\\n\u001b[39;49;00m\u001b[38;5;130;43;01m\\n\u001b[39;49;00m\u001b[38;5;124;43m        # Create parallelogram\u001b[39;49m\u001b[38;5;130;43;01m\\n\u001b[39;49;00m\u001b[38;5;124;43m        parallelogram = Polygon(\u001b[39;49m\u001b[38;5;130;43;01m\\n\u001b[39;49;00m\u001b[38;5;124;43m            ORIGIN, 4*RIGHT, 4*RIGHT + 2*UP + LEFT, LEFT + 2*UP,\u001b[39;49m\u001b[38;5;130;43;01m\\n\u001b[39;49;00m\u001b[38;5;124;43m            color=WHITE, fill_opacity=0.2\u001b[39;49m\u001b[38;5;130;43;01m\\n\u001b[39;49;00m\u001b[38;5;124;43m        )\u001b[39;49m\u001b[38;5;130;43;01m\\n\u001b[39;49;00m\u001b[38;5;124;43m        self.play(Create(parallelogram))\u001b[39;49m\u001b[38;5;130;43;01m\\n\u001b[39;49;00m\u001b[38;5;124;43m        self.wait(1)\u001b[39;49m\u001b[38;5;130;43;01m\\n\u001b[39;49;00m\u001b[38;5;130;43;01m\\n\u001b[39;49;00m\u001b[38;5;124;43m        # Label sides and angle\u001b[39;49m\u001b[38;5;130;43;01m\\n\u001b[39;49;00m\u001b[38;5;124;43m        side_a = Line(parallelogram.get_corner(DL), parallelogram.get_corner(DR))\u001b[39;49m\u001b[38;5;130;43;01m\\n\u001b[39;49;00m\u001b[38;5;124;43m        side_b = Line(parallelogram.get_corner(DL), parallelogram.get_corner(UL))\u001b[39;49m\u001b[38;5;130;43;01m\\n\u001b[39;49;00m\u001b[38;5;124;43m        angle = Angle(side_a, side_b, radius=0.5, color=YELLOW)\u001b[39;49m\u001b[38;5;130;43;01m\\n\u001b[39;49;00m\u001b[38;5;130;43;01m\\n\u001b[39;49;00m\u001b[38;5;124;43m        labels = VGroup(\u001b[39;49m\u001b[38;5;130;43;01m\\n\u001b[39;49;00m\u001b[38;5;124;43m            MathTex(\u001b[39;49m\u001b[38;5;124;43m\"\u001b[39;49m\u001b[38;5;124;43ma\u001b[39;49m\u001b[38;5;124;43m\"\u001b[39;49m\u001b[38;5;124;43m).next_to(side_a, DOWN),\u001b[39;49m\u001b[38;5;130;43;01m\\n\u001b[39;49;00m\u001b[38;5;124;43m            MathTex(\u001b[39;49m\u001b[38;5;124;43m\"\u001b[39;49m\u001b[38;5;124;43mb\u001b[39;49m\u001b[38;5;124;43m\"\u001b[39;49m\u001b[38;5;124;43m).next_to(side_b, LEFT),\u001b[39;49m\u001b[38;5;130;43;01m\\n\u001b[39;49;00m\u001b[38;5;124;43m            MathTex(r\u001b[39;49m\u001b[38;5;124;43m\"\u001b[39;49m\u001b[38;5;130;43;01m\\\\\u001b[39;49;00m\u001b[38;5;124;43mtheta\u001b[39;49m\u001b[38;5;124;43m\"\u001b[39;49m\u001b[38;5;124;43m).next_to(angle, RIGHT, buff=0.1)\u001b[39;49m\u001b[38;5;130;43;01m\\n\u001b[39;49;00m\u001b[38;5;124;43m        )\u001b[39;49m\u001b[38;5;130;43;01m\\n\u001b[39;49;00m\u001b[38;5;124;43m        self.play(\u001b[39;49m\u001b[38;5;130;43;01m\\n\u001b[39;49;00m\u001b[38;5;124;43m            Create(angle),\u001b[39;49m\u001b[38;5;130;43;01m\\n\u001b[39;49;00m\u001b[38;5;124;43m            Write(labels)\u001b[39;49m\u001b[38;5;130;43;01m\\n\u001b[39;49;00m\u001b[38;5;124;43m        )\u001b[39;49m\u001b[38;5;130;43;01m\\n\u001b[39;49;00m\u001b[38;5;124;43m        self.wait(1)\u001b[39;49m\u001b[38;5;130;43;01m\\n\u001b[39;49;00m\u001b[38;5;130;43;01m\\n\u001b[39;49;00m\u001b[38;5;124;43m        # Show formula\u001b[39;49m\u001b[38;5;130;43;01m\\n\u001b[39;49;00m\u001b[38;5;124;43m        formula = MathTex(\u001b[39;49m\u001b[38;5;124;43m\"\u001b[39;49m\u001b[38;5;124;43mArea = ab \u001b[39;49m\u001b[38;5;130;43;01m\\\\\u001b[39;49;00m\u001b[38;5;124;43msin(\u001b[39;49m\u001b[38;5;130;43;01m\\\\\u001b[39;49;00m\u001b[38;5;124;43mtheta)\u001b[39;49m\u001b[38;5;124;43m\"\u001b[39;49m\u001b[38;5;124;43m)\u001b[39;49m\u001b[38;5;130;43;01m\\n\u001b[39;49;00m\u001b[38;5;124;43m        formula.next_to(parallelogram, DOWN, buff=1)\u001b[39;49m\u001b[38;5;130;43;01m\\n\u001b[39;49;00m\u001b[38;5;124;43m        self.play(Write(formula))\u001b[39;49m\u001b[38;5;130;43;01m\\n\u001b[39;49;00m\u001b[38;5;124;43m        self.wait(1)\u001b[39;49m\u001b[38;5;130;43;01m\\n\u001b[39;49;00m\u001b[38;5;130;43;01m\\n\u001b[39;49;00m\u001b[38;5;124;43m        # Explanation\u001b[39;49m\u001b[38;5;130;43;01m\\n\u001b[39;49;00m\u001b[38;5;124;43m        explanation = VGroup(\u001b[39;49m\u001b[38;5;130;43;01m\\n\u001b[39;49;00m\u001b[38;5;124;43m            Text(\u001b[39;49m\u001b[38;5;124;43m\"\u001b[39;49m\u001b[38;5;124;43m• \u001b[39;49m\u001b[38;5;130;43;01m\\'\u001b[39;49;00m\u001b[38;5;124;43ma\u001b[39;49m\u001b[38;5;130;43;01m\\'\u001b[39;49;00m\u001b[38;5;124;43m and \u001b[39;49m\u001b[38;5;130;43;01m\\'\u001b[39;49;00m\u001b[38;5;124;43mb\u001b[39;49m\u001b[38;5;130;43;01m\\'\u001b[39;49;00m\u001b[38;5;124;43m are side lengths\u001b[39;49m\u001b[38;5;124;43m\"\u001b[39;49m\u001b[38;5;124;43m, font_size=24),\u001b[39;49m\u001b[38;5;130;43;01m\\n\u001b[39;49;00m\u001b[38;5;124;43m            Text(\u001b[39;49m\u001b[38;5;124;43m\"\u001b[39;49m\u001b[38;5;124;43m• θ is the angle between sides\u001b[39;49m\u001b[38;5;124;43m\"\u001b[39;49m\u001b[38;5;124;43m, font_size=24),\u001b[39;49m\u001b[38;5;130;43;01m\\n\u001b[39;49;00m\u001b[38;5;124;43m            Text(\u001b[39;49m\u001b[38;5;124;43m\"\u001b[39;49m\u001b[38;5;124;43m• sin(θ) gives the height relative to side \u001b[39;49m\u001b[38;5;130;43;01m\\'\u001b[39;49;00m\u001b[38;5;124;43ma\u001b[39;49m\u001b[38;5;130;43;01m\\'\u001b[39;49;00m\u001b[38;5;124;43m\"\u001b[39;49m\u001b[38;5;124;43m, font_size=24)\u001b[39;49m\u001b[38;5;130;43;01m\\n\u001b[39;49;00m\u001b[38;5;124;43m        ).arrange(DOWN, aligned_edge=LEFT).next_to(formula, DOWN, buff=0.5)\u001b[39;49m\u001b[38;5;130;43;01m\\n\u001b[39;49;00m\u001b[38;5;124;43m        self.play(Write(explanation))\u001b[39;49m\u001b[38;5;130;43;01m\\n\u001b[39;49;00m\u001b[38;5;124;43m        self.wait(2)\u001b[39;49m\u001b[38;5;130;43;01m\\n\u001b[39;49;00m\u001b[38;5;130;43;01m\\n\u001b[39;49;00m\u001b[38;5;124;43m        # Show height\u001b[39;49m\u001b[38;5;130;43;01m\\n\u001b[39;49;00m\u001b[38;5;124;43m        height = DashedLine(\u001b[39;49m\u001b[38;5;130;43;01m\\n\u001b[39;49;00m\u001b[38;5;124;43m            parallelogram.get_corner(UR),\u001b[39;49m\u001b[38;5;130;43;01m\\n\u001b[39;49;00m\u001b[38;5;124;43m            parallelogram.get_corner(UR).project(Line(parallelogram.get_corner(DL), parallelogram.get_corner(DR)))\u001b[39;49m\u001b[38;5;130;43;01m\\n\u001b[39;49;00m\u001b[38;5;124;43m        )\u001b[39;49m\u001b[38;5;130;43;01m\\n\u001b[39;49;00m\u001b[38;5;124;43m        height_label = MathTex(\u001b[39;49m\u001b[38;5;124;43m\"\u001b[39;49m\u001b[38;5;124;43mh = b \u001b[39;49m\u001b[38;5;130;43;01m\\\\\u001b[39;49;00m\u001b[38;5;124;43msin(\u001b[39;49m\u001b[38;5;130;43;01m\\\\\u001b[39;49;00m\u001b[38;5;124;43mtheta)\u001b[39;49m\u001b[38;5;124;43m\"\u001b[39;49m\u001b[38;5;124;43m).next_to(height, RIGHT)\u001b[39;49m\u001b[38;5;130;43;01m\\n\u001b[39;49;00m\u001b[38;5;124;43m        self.play(\u001b[39;49m\u001b[38;5;130;43;01m\\n\u001b[39;49;00m\u001b[38;5;124;43m            Create(height),\u001b[39;49m\u001b[38;5;130;43;01m\\n\u001b[39;49;00m\u001b[38;5;124;43m            Write(height_label)\u001b[39;49m\u001b[38;5;130;43;01m\\n\u001b[39;49;00m\u001b[38;5;124;43m        )\u001b[39;49m\u001b[38;5;130;43;01m\\n\u001b[39;49;00m\u001b[38;5;124;43m        self.wait(1)\u001b[39;49m\u001b[38;5;130;43;01m\\n\u001b[39;49;00m\u001b[38;5;130;43;01m\\n\u001b[39;49;00m\u001b[38;5;124;43m        # Highlight area calculation\u001b[39;49m\u001b[38;5;130;43;01m\\n\u001b[39;49;00m\u001b[38;5;124;43m        area_rect = Rectangle(\u001b[39;49m\u001b[38;5;130;43;01m\\n\u001b[39;49;00m\u001b[38;5;124;43m            width=side_a.get_length(),\u001b[39;49m\u001b[38;5;130;43;01m\\n\u001b[39;49;00m\u001b[38;5;124;43m            height=height.get_length(),\u001b[39;49m\u001b[38;5;130;43;01m\\n\u001b[39;49;00m\u001b[38;5;124;43m            color=BLUE,\u001b[39;49m\u001b[38;5;130;43;01m\\n\u001b[39;49;00m\u001b[38;5;124;43m            fill_opacity=0.3\u001b[39;49m\u001b[38;5;130;43;01m\\n\u001b[39;49;00m\u001b[38;5;124;43m        ).move_to(parallelogram)\u001b[39;49m\u001b[38;5;130;43;01m\\n\u001b[39;49;00m\u001b[38;5;124;43m        self.play(Create(area_rect))\u001b[39;49m\u001b[38;5;130;43;01m\\n\u001b[39;49;00m\u001b[38;5;124;43m        self.wait(1)\u001b[39;49m\u001b[38;5;130;43;01m\\n\u001b[39;49;00m\u001b[38;5;130;43;01m\\n\u001b[39;49;00m\u001b[38;5;124;43m        # Example calculation\u001b[39;49m\u001b[38;5;130;43;01m\\n\u001b[39;49;00m\u001b[38;5;124;43m        example = VGroup(\u001b[39;49m\u001b[38;5;130;43;01m\\n\u001b[39;49;00m\u001b[38;5;124;43m            MathTex(\u001b[39;49m\u001b[38;5;124;43m\"\u001b[39;49m\u001b[38;5;124;43ma = 4, b = 3, \u001b[39;49m\u001b[38;5;130;43;01m\\\\\u001b[39;49;00m\u001b[38;5;124;43mtheta = 60°\u001b[39;49m\u001b[38;5;124;43m\"\u001b[39;49m\u001b[38;5;124;43m),\u001b[39;49m\u001b[38;5;130;43;01m\\n\u001b[39;49;00m\u001b[38;5;124;43m            MathTex(\u001b[39;49m\u001b[38;5;124;43m\"\u001b[39;49m\u001b[38;5;124;43mArea = 4 * 3 * \u001b[39;49m\u001b[38;5;130;43;01m\\\\\u001b[39;49;00m\u001b[38;5;124;43msin(60°)\u001b[39;49m\u001b[38;5;124;43m\"\u001b[39;49m\u001b[38;5;124;43m),\u001b[39;49m\u001b[38;5;130;43;01m\\n\u001b[39;49;00m\u001b[38;5;124;43m            MathTex(\u001b[39;49m\u001b[38;5;124;43m\"\u001b[39;49m\u001b[38;5;124;43m= 12 * 0.866\u001b[39;49m\u001b[38;5;124;43m\"\u001b[39;49m\u001b[38;5;124;43m),\u001b[39;49m\u001b[38;5;130;43;01m\\n\u001b[39;49;00m\u001b[38;5;124;43m            MathTex(\u001b[39;49m\u001b[38;5;124;43m\"\u001b[39;49m\u001b[38;5;124;43m≈ 10.39\u001b[39;49m\u001b[38;5;124;43m\"\u001b[39;49m\u001b[38;5;124;43m)\u001b[39;49m\u001b[38;5;130;43;01m\\n\u001b[39;49;00m\u001b[38;5;124;43m        ).arrange(DOWN, aligned_edge=LEFT).next_to(explanation, DOWN, buff=0.5)\u001b[39;49m\u001b[38;5;130;43;01m\\n\u001b[39;49;00m\u001b[38;5;124;43m        self.play(Write(example))\u001b[39;49m\u001b[38;5;130;43;01m\\n\u001b[39;49;00m\u001b[38;5;124;43m        self.wait(2)\u001b[39;49m\u001b[38;5;130;43;01m\\n\u001b[39;49;00m\u001b[38;5;130;43;01m\\n\u001b[39;49;00m\u001b[38;5;124;43m        # Conclusion\u001b[39;49m\u001b[38;5;130;43;01m\\n\u001b[39;49;00m\u001b[38;5;124;43m        conclusion = Text(\u001b[39;49m\u001b[38;5;130;43;01m\\n\u001b[39;49;00m\u001b[38;5;124;43m            \u001b[39;49m\u001b[38;5;124;43m\"\u001b[39;49m\u001b[38;5;124;43mThe SAS method allows area calculation\u001b[39;49m\u001b[38;5;130;43;01m\\\\\u001b[39;49;00m\u001b[38;5;124;43mnwithout knowing the height directly\u001b[39;49m\u001b[38;5;124;43m\"\u001b[39;49m\u001b[38;5;124;43m,\u001b[39;49m\u001b[38;5;130;43;01m\\n\u001b[39;49;00m\u001b[38;5;124;43m            font_size=32\u001b[39;49m\u001b[38;5;130;43;01m\\n\u001b[39;49;00m\u001b[38;5;124;43m        ).next_to(example, DOWN, buff=0.5)\u001b[39;49m\u001b[38;5;130;43;01m\\n\u001b[39;49;00m\u001b[38;5;124;43m        self.play(Write(conclusion))\u001b[39;49m\u001b[38;5;130;43;01m\\n\u001b[39;49;00m\u001b[38;5;124;43m        self.wait(2)\u001b[39;49m\u001b[38;5;130;43;01m\\n\u001b[39;49;00m\u001b[38;5;124;43m'\u001b[39;49m\u001b[43m)\u001b[49m\n",
      "File \u001b[1;32mc:\\Users\\berge\\Desktop\\a16z\\a16z-hackathon\\venv\\Lib\\site-packages\\IPython\\core\\interactiveshell.py:2541\u001b[0m, in \u001b[0;36mInteractiveShell.run_cell_magic\u001b[1;34m(self, magic_name, line, cell)\u001b[0m\n\u001b[0;32m   2539\u001b[0m \u001b[38;5;28;01mwith\u001b[39;00m \u001b[38;5;28mself\u001b[39m\u001b[38;5;241m.\u001b[39mbuiltin_trap:\n\u001b[0;32m   2540\u001b[0m     args \u001b[38;5;241m=\u001b[39m (magic_arg_s, cell)\n\u001b[1;32m-> 2541\u001b[0m     result \u001b[38;5;241m=\u001b[39m \u001b[43mfn\u001b[49m\u001b[43m(\u001b[49m\u001b[38;5;241;43m*\u001b[39;49m\u001b[43margs\u001b[49m\u001b[43m,\u001b[49m\u001b[43m \u001b[49m\u001b[38;5;241;43m*\u001b[39;49m\u001b[38;5;241;43m*\u001b[39;49m\u001b[43mkwargs\u001b[49m\u001b[43m)\u001b[49m\n\u001b[0;32m   2543\u001b[0m \u001b[38;5;66;03m# The code below prevents the output from being displayed\u001b[39;00m\n\u001b[0;32m   2544\u001b[0m \u001b[38;5;66;03m# when using magics with decorator @output_can_be_silenced\u001b[39;00m\n\u001b[0;32m   2545\u001b[0m \u001b[38;5;66;03m# when the last Python token in the expression is a ';'.\u001b[39;00m\n\u001b[0;32m   2546\u001b[0m \u001b[38;5;28;01mif\u001b[39;00m \u001b[38;5;28mgetattr\u001b[39m(fn, magic\u001b[38;5;241m.\u001b[39mMAGIC_OUTPUT_CAN_BE_SILENCED, \u001b[38;5;28;01mFalse\u001b[39;00m):\n",
      "File \u001b[1;32mc:\\Users\\berge\\Desktop\\a16z\\a16z-hackathon\\venv\\Lib\\site-packages\\manim\\utils\\ipython_magic.py:143\u001b[0m, in \u001b[0;36mManimMagic.manim\u001b[1;34m(self, line, cell, local_ns)\u001b[0m\n\u001b[0;32m    141\u001b[0m     SceneClass \u001b[38;5;241m=\u001b[39m local_ns[config[\u001b[38;5;124m\"\u001b[39m\u001b[38;5;124mscene_names\u001b[39m\u001b[38;5;124m\"\u001b[39m][\u001b[38;5;241m0\u001b[39m]]\n\u001b[0;32m    142\u001b[0m     scene \u001b[38;5;241m=\u001b[39m SceneClass(renderer\u001b[38;5;241m=\u001b[39mrenderer)\n\u001b[1;32m--> 143\u001b[0m     \u001b[43mscene\u001b[49m\u001b[38;5;241;43m.\u001b[39;49m\u001b[43mrender\u001b[49m\u001b[43m(\u001b[49m\u001b[43m)\u001b[49m\n\u001b[0;32m    144\u001b[0m \u001b[38;5;28;01mfinally\u001b[39;00m:\n\u001b[0;32m    145\u001b[0m     \u001b[38;5;66;03m# Shader cache becomes invalid as the context is destroyed\u001b[39;00m\n\u001b[0;32m    146\u001b[0m     shader_program_cache\u001b[38;5;241m.\u001b[39mclear()\n",
      "File \u001b[1;32mc:\\Users\\berge\\Desktop\\a16z\\a16z-hackathon\\venv\\Lib\\site-packages\\manim\\scene\\scene.py:229\u001b[0m, in \u001b[0;36mScene.render\u001b[1;34m(self, preview)\u001b[0m\n\u001b[0;32m    227\u001b[0m \u001b[38;5;28mself\u001b[39m\u001b[38;5;241m.\u001b[39msetup()\n\u001b[0;32m    228\u001b[0m \u001b[38;5;28;01mtry\u001b[39;00m:\n\u001b[1;32m--> 229\u001b[0m     \u001b[38;5;28;43mself\u001b[39;49m\u001b[38;5;241;43m.\u001b[39;49m\u001b[43mconstruct\u001b[49m\u001b[43m(\u001b[49m\u001b[43m)\u001b[49m\n\u001b[0;32m    230\u001b[0m \u001b[38;5;28;01mexcept\u001b[39;00m EndSceneEarlyException:\n\u001b[0;32m    231\u001b[0m     \u001b[38;5;28;01mpass\u001b[39;00m\n",
      "File \u001b[1;32m<string>:54\u001b[0m, in \u001b[0;36mconstruct\u001b[1;34m(self)\u001b[0m\n",
      "\u001b[1;31mAttributeError\u001b[0m: 'numpy.ndarray' object has no attribute 'project'"
     ]
    }
   ],
   "source": [
    "%%manim -qm ParallelogramAreaSAS\n",
    "\n",
    "import math\n",
    "\n",
    "class ParallelogramAreaSAS(Scene):\n",
    "    def construct(self):\n",
    "        # Title\n",
    "        title = Text(\"Parallelogram Area: Side-Angle-Side Method\", font_size=40)\n",
    "        self.play(Write(title))\n",
    "        self.play(title.animate.to_edge(UP))\n",
    "        self.wait(1)\n",
    "\n",
    "        # Create parallelogram\n",
    "        parallelogram = Polygon(\n",
    "            ORIGIN, 4*RIGHT, 4*RIGHT + 2*UP + LEFT, LEFT + 2*UP,\n",
    "            color=WHITE, fill_opacity=0.2\n",
    "        )\n",
    "        self.play(Create(parallelogram))\n",
    "        self.wait(1)\n",
    "\n",
    "        # Label sides and angle\n",
    "        side_a = Line(parallelogram.get_corner(DL), parallelogram.get_corner(DR))\n",
    "        side_b = Line(parallelogram.get_corner(DL), parallelogram.get_corner(UL))\n",
    "        angle = Angle(side_a, side_b, radius=0.5, color=YELLOW)\n",
    "\n",
    "        labels = VGroup(\n",
    "            MathTex(\"a\").next_to(side_a, DOWN),\n",
    "            MathTex(\"b\").next_to(side_b, LEFT),\n",
    "            MathTex(r\"\\theta\").next_to(angle, RIGHT, buff=0.1)\n",
    "        )\n",
    "        self.play(\n",
    "            Create(angle),\n",
    "            Write(labels)\n",
    "        )\n",
    "        self.wait(1)\n",
    "\n",
    "        # Show formula\n",
    "        formula = MathTex(\"Area = ab \\sin(\\theta)\")\n",
    "        formula.next_to(parallelogram, DOWN, buff=1)\n",
    "        self.play(Write(formula))\n",
    "        self.wait(1)\n",
    "\n",
    "        # Explanation\n",
    "        explanation = VGroup(\n",
    "            Text(\"• 'a' and 'b' are side lengths\", font_size=24),\n",
    "            Text(\"• θ is the angle between sides\", font_size=24),\n",
    "            Text(\"• sin(θ) gives the height relative to side 'a'\", font_size=24)\n",
    "        ).arrange(DOWN, aligned_edge=LEFT).next_to(formula, DOWN, buff=0.5)\n",
    "        self.play(Write(explanation))\n",
    "        self.wait(2)\n",
    "\n",
    "        # Show height\n",
    "        height = DashedLine(\n",
    "            parallelogram.get_corner(UR),\n",
    "            parallelogram.get_corner(UR).project(Line(parallelogram.get_corner(DL), parallelogram.get_corner(DR)))\n",
    "        )\n",
    "        height_label = MathTex(\"h = b \\sin(\\theta)\").next_to(height, RIGHT)\n",
    "        self.play(\n",
    "            Create(height),\n",
    "            Write(height_label)\n",
    "        )\n",
    "        self.wait(1)\n",
    "\n",
    "        # Highlight area calculation\n",
    "        area_rect = Rectangle(\n",
    "            width=side_a.get_length(),\n",
    "            height=height.get_length(),\n",
    "            color=BLUE,\n",
    "            fill_opacity=0.3\n",
    "        ).move_to(parallelogram)\n",
    "        self.play(Create(area_rect))\n",
    "        self.wait(1)\n",
    "\n",
    "        # Example calculation\n",
    "        example = VGroup(\n",
    "            MathTex(\"a = 4, b = 3, \\theta = 60°\"),\n",
    "            MathTex(\"Area = 4 * 3 * \\sin(60°)\"),\n",
    "            MathTex(\"= 12 * 0.866\"),\n",
    "            MathTex(\"≈ 10.39\")\n",
    "        ).arrange(DOWN, aligned_edge=LEFT).next_to(explanation, DOWN, buff=0.5)\n",
    "        self.play(Write(example))\n",
    "        self.wait(2)\n",
    "\n",
    "        # Conclusion\n",
    "        conclusion = Text(\n",
    "            \"The SAS method allows area calculation\\nwithout knowing the height directly\",\n",
    "            font_size=32\n",
    "        ).next_to(example, DOWN, buff=0.5)\n",
    "        self.play(Write(conclusion))\n",
    "        self.wait(2)"
   ]
  },
  {
   "cell_type": "code",
   "execution_count": 10,
   "metadata": {},
   "outputs": [
    {
     "data": {
      "text/html": [
       "<pre style=\"white-space:pre;overflow-x:auto;line-height:normal;font-family:Menlo,'DejaVu Sans Mono',consolas,'Courier New',monospace\">Manim Community <span style=\"color: #008000; text-decoration-color: #008000\">v0.18.1</span>\n",
       "\n",
       "</pre>\n"
      ],
      "text/plain": [
       "Manim Community \u001b[32mv0.\u001b[0m\u001b[32m18.1\u001b[0m\n",
       "\n"
      ]
     },
     "metadata": {},
     "output_type": "display_data"
    },
    {
     "name": "stderr",
     "output_type": "stream",
     "text": [
      "                                                                                                                                                                    \r"
     ]
    },
    {
     "data": {
      "text/html": [
       "<video src=\"media\\jupyter\\PythagoreanTheoremExplanation@2024-10-06@01-46-20.mp4\" controls autoplay loop style=\"max-width: 75%;\"  >\n",
       "      Your browser does not support the <code>video</code> element.\n",
       "    </video>"
      ],
      "text/plain": [
       "<IPython.core.display.Video object>"
      ]
     },
     "metadata": {},
     "output_type": "display_data"
    }
   ],
   "source": [
    "%%manim -qm PythagoreanTheoremExplanation\n",
    "\n",
    "class PythagoreanTheoremExplanation(Scene):\n",
    "    def construct(self):\n",
    "        # Title\n",
    "        title = Text(\"Pythagorean Theorem\", font_size=48)\n",
    "        self.play(Write(title))\n",
    "        self.play(title.animate.to_edge(UP))\n",
    "        self.wait(1)\n",
    "\n",
    "        # Create right triangle\n",
    "        triangle = Polygon(\n",
    "            ORIGIN, 4*RIGHT, 4*RIGHT + 3*UP,\n",
    "            color=WHITE, fill_opacity=0.2\n",
    "        ).move_to(ORIGIN)\n",
    "        self.play(Create(triangle))\n",
    "        self.wait(1)\n",
    "\n",
    "        # Label sides\n",
    "        labels = VGroup(\n",
    "            MathTex(\"a\").next_to(triangle.get_bottom(), DOWN),\n",
    "            MathTex(\"b\").next_to(triangle.get_right(), RIGHT),\n",
    "            MathTex(\"c\").next_to(triangle.get_top() + triangle.get_left(), UP+LEFT)\n",
    "        )\n",
    "        self.play(Write(labels))\n",
    "        self.wait(1)\n",
    "\n",
    "        # Show equation\n",
    "        equation = MathTex(\"a^2\", \"+\", \"b^2\", \"=\", \"c^2\")\n",
    "        equation.next_to(triangle, DOWN, buff=1)\n",
    "        self.play(Write(equation))\n",
    "        self.wait(1)\n",
    "\n",
    "        # Create squares on each side\n",
    "        square_a = Square(side_length=3, color=RED, fill_opacity=0.5)\n",
    "        square_b = Square(side_length=4, color=GREEN, fill_opacity=0.5)\n",
    "        square_c = Square(side_length=5, color=BLUE, fill_opacity=0.5)\n",
    "\n",
    "        square_a.next_to(triangle, DOWN, buff=0.5)\n",
    "        square_b.next_to(triangle, RIGHT, buff=0.5)\n",
    "        square_c.move_to(triangle.get_center()).rotate(np.arctan(3/4))\n",
    "\n",
    "        self.play(\n",
    "            Create(square_a),\n",
    "            Create(square_b),\n",
    "            Create(square_c)\n",
    "        )\n",
    "        self.wait(1)\n",
    "\n",
    "        # Label areas\n",
    "        area_labels = VGroup(\n",
    "            MathTex(\"a^2\").move_to(square_a.get_center()),\n",
    "            MathTex(\"b^2\").move_to(square_b.get_center()),\n",
    "            MathTex(\"c^2\").move_to(square_c.get_center())\n",
    "        )\n",
    "        self.play(Write(area_labels))\n",
    "        self.wait(1)\n",
    "\n",
    "        # Highlight equation parts\n",
    "        for i, square in enumerate([square_a, square_b, square_c]):\n",
    "            self.play(\n",
    "                Indicate(square, color=YELLOW),\n",
    "                Indicate(equation[i*2], color=YELLOW)\n",
    "            )\n",
    "            self.wait(0.5)\n",
    "\n",
    "        # Remove shapes and center equation\n",
    "        self.play(\n",
    "            FadeOut(triangle),\n",
    "            FadeOut(labels),\n",
    "            FadeOut(square_a),\n",
    "            FadeOut(square_b),\n",
    "            FadeOut(square_c),\n",
    "            FadeOut(area_labels),\n",
    "            equation.animate.move_to(ORIGIN)\n",
    "        )\n",
    "        self.wait(1)\n",
    "\n",
    "        # Show numerical example\n",
    "        example = MathTex(\"3^2\", \"+\", \"4^2\", \"=\", \"5^2\")\n",
    "        example.next_to(equation, DOWN, buff=0.5)\n",
    "        self.play(Write(example))\n",
    "        self.wait(1)\n",
    "\n",
    "        # Evaluate\n",
    "        result = MathTex(\"9\", \"+\", \"16\", \"=\", \"25\")\n",
    "        result.next_to(example, DOWN, buff=0.5)\n",
    "        self.play(Write(result))\n",
    "        self.wait(1)\n",
    "\n",
    "        # Conclusion\n",
    "        conclusion = Text(\"The sum of the squares of the two shorter sides\\nequals the square of the longest side\", \n",
    "                          font_size=36, t2c={\"squares\": YELLOW, \"longest side\": BLUE})\n",
    "        conclusion.next_to(result, DOWN, buff=1)\n",
    "        self.play(Write(conclusion))\n",
    "        self.wait(2)"
   ]
  },
  {
   "cell_type": "code",
   "execution_count": 11,
   "metadata": {},
   "outputs": [
    {
     "data": {
      "text/html": [
       "<pre style=\"white-space:pre;overflow-x:auto;line-height:normal;font-family:Menlo,'DejaVu Sans Mono',consolas,'Courier New',monospace\">Manim Community <span style=\"color: #008000; text-decoration-color: #008000\">v0.18.1</span>\n",
       "\n",
       "</pre>\n"
      ],
      "text/plain": [
       "Manim Community \u001b[32mv0.\u001b[0m\u001b[32m18.1\u001b[0m\n",
       "\n"
      ]
     },
     "metadata": {},
     "output_type": "display_data"
    },
    {
     "name": "stderr",
     "output_type": "stream",
     "text": [
      "                                                                                                                                                            \r"
     ]
    },
    {
     "data": {
      "text/html": [
       "<video src=\"media\\jupyter\\IntegralAreaUnderCurve@2024-10-06@01-47-00.mp4\" controls autoplay loop style=\"max-width: 75%;\"  >\n",
       "      Your browser does not support the <code>video</code> element.\n",
       "    </video>"
      ],
      "text/plain": [
       "<IPython.core.display.Video object>"
      ]
     },
     "metadata": {},
     "output_type": "display_data"
    }
   ],
   "source": [
    "%%manim -qm IntegralAreaUnderCurve\n",
    "\n",
    "class IntegralAreaUnderCurve(Scene):\n",
    "    def construct(self):\n",
    "        # Title\n",
    "        title = Text(\"Integral: Area Under the Curve\", font_size=42)\n",
    "        self.play(Write(title))\n",
    "        self.play(title.animate.to_edge(UP))\n",
    "        self.wait(1)\n",
    "\n",
    "        # Create axes\n",
    "        axes = Axes(\n",
    "            x_range=[0, 5],\n",
    "            y_range=[0, 3],\n",
    "            axis_config={\"color\": BLUE},\n",
    "            x_length=6,\n",
    "            y_length=4\n",
    "        ).add_coordinates()\n",
    "        axes_labels = axes.get_axis_labels(x_label=\"x\", y_label=\"f(x)\")\n",
    "\n",
    "        # Create graph\n",
    "        def func(x):\n",
    "            return 0.1 * (x - 1) * (x - 3) * (x - 4) + 2\n",
    "\n",
    "        graph = axes.plot(func, color=WHITE)\n",
    "        graph_label = MathTex(\"f(x)\").next_to(graph.point_from_proportion(0.8), UP)\n",
    "\n",
    "        # Display axes and graph\n",
    "        self.play(Create(axes), Create(axes_labels))\n",
    "        self.play(Create(graph), Write(graph_label))\n",
    "        self.wait(1)\n",
    "\n",
    "        # Integral formula\n",
    "        integral = MathTex(r\"\\int_a^b f(x) dx\")\n",
    "        integral_text = Text(\"Area under the curve\", font_size=24)\n",
    "        integral_group = VGroup(integral, integral_text).arrange(DOWN).to_edge(RIGHT)\n",
    "        self.play(Write(integral_group))\n",
    "        self.wait(1)\n",
    "\n",
    "        # Show Riemann sum\n",
    "        rectangles = axes.get_riemann_rectangles(\n",
    "            graph,\n",
    "            x_range=[1, 4],\n",
    "            dx=0.5,\n",
    "            stroke_width=0.1,\n",
    "            stroke_color=WHITE\n",
    "        )\n",
    "        self.play(Create(rectangles))\n",
    "        self.wait(1)\n",
    "\n",
    "        # Refine Riemann sum\n",
    "        for dx in [0.25, 0.1]:\n",
    "            new_rectangles = axes.get_riemann_rectangles(\n",
    "                graph,\n",
    "                x_range=[1, 4],\n",
    "                dx=dx,\n",
    "                stroke_width=0.1,\n",
    "                stroke_color=WHITE\n",
    "            )\n",
    "            self.play(Transform(rectangles, new_rectangles))\n",
    "            self.wait(1)\n",
    "\n",
    "        # Show area\n",
    "        area = axes.get_area(graph, x_range=[1, 4], color=YELLOW, opacity=0.3)\n",
    "        self.play(FadeOut(rectangles), FadeIn(area))\n",
    "        self.wait(1)\n",
    "\n",
    "        # Highlight bounds\n",
    "        x_1 = axes.get_vertical_line(axes.c2p(1, 0), color=GREEN)\n",
    "        x_4 = axes.get_vertical_line(axes.c2p(4, 0), color=RED)\n",
    "        bound_labels = VGroup(\n",
    "            MathTex(\"a\").next_to(x_1, DOWN),\n",
    "            MathTex(\"b\").next_to(x_4, DOWN)\n",
    "        )\n",
    "        self.play(Create(x_1), Create(x_4), Write(bound_labels))\n",
    "        self.wait(1)\n",
    "\n",
    "        # Final formula\n",
    "        final_integral = MathTex(r\"\\int_1^4 f(x) dx = \\text{Area}\")\n",
    "        final_integral.next_to(area, DOWN, buff=0.5)\n",
    "        self.play(Write(final_integral))\n",
    "        self.wait(1)\n",
    "\n",
    "        # Conclusion\n",
    "        conclusion = Text(\n",
    "            \"The definite integral represents\\nthe area under the curve\\nbetween two points\",\n",
    "            font_size=32,\n",
    "            t2c={\"area\": YELLOW, \"two points\": GREEN}\n",
    "        ).next_to(final_integral, DOWN, buff=0.5)\n",
    "        self.play(Write(conclusion))\n",
    "        self.wait(2)"
   ]
  },
  {
   "cell_type": "code",
   "execution_count": 12,
   "metadata": {},
   "outputs": [
    {
     "name": "stderr",
     "output_type": "stream",
     "text": [
      "<string>:15: SyntaxWarning: invalid escape sequence '\\s'\n",
      "<string>:21: SyntaxWarning: invalid escape sequence '\\s'\n",
      "<string>:66: SyntaxWarning: invalid escape sequence '\\s'\n"
     ]
    },
    {
     "data": {
      "text/html": [
       "<pre style=\"white-space:pre;overflow-x:auto;line-height:normal;font-family:Menlo,'DejaVu Sans Mono',consolas,'Courier New',monospace\">Manim Community <span style=\"color: #008000; text-decoration-color: #008000\">v0.18.1</span>\n",
       "\n",
       "</pre>\n"
      ],
      "text/plain": [
       "Manim Community \u001b[32mv0.\u001b[0m\u001b[32m18.1\u001b[0m\n",
       "\n"
      ]
     },
     "metadata": {},
     "output_type": "display_data"
    },
    {
     "name": "stderr",
     "output_type": "stream",
     "text": [
      "                                                                                                                          \r"
     ]
    },
    {
     "data": {
      "text/html": [
       "<video src=\"media\\jupyter\\Root2IrrationalProof@2024-10-06@01-51-02.mp4\" controls autoplay loop style=\"max-width: 75%;\"  >\n",
       "      Your browser does not support the <code>video</code> element.\n",
       "    </video>"
      ],
      "text/plain": [
       "<IPython.core.display.Video object>"
      ]
     },
     "metadata": {},
     "output_type": "display_data"
    }
   ],
   "source": [
    "%%manim -qm Root2IrrationalProof\n",
    "\n",
    "class Root2IrrationalProof(Scene):\n",
    "    def construct(self):\n",
    "        # Title\n",
    "        title = Text(\"√2 is Irrational: Visual Proof\", font_size=42)\n",
    "        self.play(Write(title))\n",
    "        self.play(title.animate.to_edge(UP))\n",
    "        self.wait(1)\n",
    "\n",
    "        # Create initial triangle\n",
    "        triangle = Polygon(ORIGIN, 4*RIGHT, 4*UP, color=WHITE, fill_opacity=0.2)\n",
    "        labels = VGroup(\n",
    "            MathTex(\"a\").next_to(triangle, DOWN),\n",
    "            MathTex(\"a\").next_to(triangle, LEFT),\n",
    "            MathTex(\"a\\sqrt{2}\").next_to(triangle, UP+RIGHT)\n",
    "        )\n",
    "        self.play(Create(triangle), Write(labels))\n",
    "        self.wait(1)\n",
    "\n",
    "        # Show Pythagorean theorem\n",
    "        pythag = MathTex(\"a^2 + a^2 = (a\\sqrt{2})^2\")\n",
    "        pythag.next_to(triangle, DOWN, buff=1)\n",
    "        self.play(Write(pythag))\n",
    "        self.wait(1)\n",
    "\n",
    "        # Simplify equation\n",
    "        simplify1 = MathTex(\"2a^2 = 2a^2\")\n",
    "        simplify1.next_to(pythag, DOWN)\n",
    "        self.play(Write(simplify1))\n",
    "        self.wait(1)\n",
    "\n",
    "        # Assumption: a is an integer\n",
    "        assumption = Text(\"Assume a is the smallest integer that works\", font_size=32)\n",
    "        assumption.next_to(simplify1, DOWN)\n",
    "        self.play(Write(assumption))\n",
    "        self.wait(1)\n",
    "\n",
    "        # Create smaller triangle\n",
    "        small_triangle = triangle.copy().scale(0.5).set_color(YELLOW)\n",
    "        small_triangle.move_to(triangle.get_bottom())\n",
    "        self.play(Create(small_triangle))\n",
    "        self.wait(1)\n",
    "\n",
    "        # Label smaller triangle\n",
    "        small_labels = VGroup(\n",
    "            MathTex(\"b\").next_to(small_triangle, DOWN),\n",
    "            MathTex(\"a-b\").next_to(small_triangle, LEFT),\n",
    "            MathTex(\"a\").next_to(small_triangle, UP+RIGHT)\n",
    "        )\n",
    "        self.play(Write(small_labels))\n",
    "        self.wait(1)\n",
    "\n",
    "        # Show similarity\n",
    "        similar = Text(\"These triangles are similar\", font_size=32)\n",
    "        similar.next_to(assumption, DOWN)\n",
    "        self.play(Write(similar))\n",
    "        self.wait(1)\n",
    "\n",
    "        # Proportion equation\n",
    "        proportion = MathTex(r\"\\frac{a}{a\\sqrt{2}} = \\frac{b}{a}\")\n",
    "        proportion.next_to(similar, DOWN)\n",
    "        self.play(Write(proportion))\n",
    "        self.wait(1)\n",
    "\n",
    "        # Solve for b\n",
    "        solve_b = MathTex(\"b = a - a(\\sqrt{2}-1) = a(2-\\sqrt{2})\")\n",
    "        solve_b.next_to(proportion, DOWN)\n",
    "        self.play(Write(solve_b))\n",
    "        self.wait(1)\n",
    "\n",
    "        # Contradiction\n",
    "        contradiction = Text(\"But b is smaller than a and also an integer!\", font_size=32, color=RED)\n",
    "        contradiction.next_to(solve_b, DOWN)\n",
    "        self.play(Write(contradiction))\n",
    "        self.wait(1)\n",
    "\n",
    "        # Conclusion\n",
    "        conclusion = Text(\"Therefore, √2 cannot be rational\", font_size=36, color=YELLOW)\n",
    "        conclusion.next_to(contradiction, DOWN)\n",
    "        self.play(Write(conclusion))\n",
    "        self.wait(2)"
   ]
  },
  {
   "cell_type": "code",
   "execution_count": 13,
   "metadata": {},
   "outputs": [
    {
     "data": {
      "text/html": [
       "<pre style=\"white-space:pre;overflow-x:auto;line-height:normal;font-family:Menlo,'DejaVu Sans Mono',consolas,'Courier New',monospace\">Manim Community <span style=\"color: #008000; text-decoration-color: #008000\">v0.18.1</span>\n",
       "\n",
       "</pre>\n"
      ],
      "text/plain": [
       "Manim Community \u001b[32mv0.\u001b[0m\u001b[32m18.1\u001b[0m\n",
       "\n"
      ]
     },
     "metadata": {},
     "output_type": "display_data"
    },
    {
     "name": "stderr",
     "output_type": "stream",
     "text": [
      "                                                                                                                                                                                                                                  \r"
     ]
    },
    {
     "data": {
      "text/html": [
       "<video src=\"media\\jupyter\\VectorMatricesExplanation@2024-10-06@01-53-03.mp4\" controls autoplay loop style=\"max-width: 75%;\"  >\n",
       "      Your browser does not support the <code>video</code> element.\n",
       "    </video>"
      ],
      "text/plain": [
       "<IPython.core.display.Video object>"
      ]
     },
     "metadata": {},
     "output_type": "display_data"
    }
   ],
   "source": [
    "%%manim -qm VectorMatricesExplanation\n",
    "\n",
    "class VectorMatricesExplanation(Scene):\n",
    "    def construct(self):\n",
    "        # Title\n",
    "        title = Text(\"Vector Matrices and Transformations\", font_size=42)\n",
    "        self.play(Write(title))\n",
    "        self.play(title.animate.to_edge(UP))\n",
    "        self.wait(1)\n",
    "\n",
    "        # Create a 2D coordinate system\n",
    "        axes = Axes(\n",
    "            x_range=[-5, 5],\n",
    "            y_range=[-5, 5],\n",
    "            axis_config={\"color\": BLUE},\n",
    "        ).add_coordinates()\n",
    "        self.play(Create(axes))\n",
    "        self.wait(1)\n",
    "\n",
    "        # Define and show a vector\n",
    "        vector = Vector([3, 2], color=YELLOW)\n",
    "        vector_label = MathTex(r\"\\vec{v} = \\begin{bmatrix} 3 \\\\ 2 \\end{bmatrix}\").next_to(vector.get_end(), RIGHT)\n",
    "        self.play(GrowArrow(vector), Write(vector_label))\n",
    "        self.wait(1)\n",
    "\n",
    "        # Define a transformation matrix\n",
    "        matrix = MathTex(r\"A = \\begin{bmatrix} 0 & -1 \\\\ 1 & 0 \\end{bmatrix}\")\n",
    "        matrix.to_edge(LEFT)\n",
    "        self.play(Write(matrix))\n",
    "        self.wait(1)\n",
    "\n",
    "        # Show matrix multiplication\n",
    "        multiplication = MathTex(r\"A\\vec{v} = \\begin{bmatrix} 0 & -1 \\\\ 1 & 0 \\end{bmatrix} \\begin{bmatrix} 3 \\\\ 2 \\end{bmatrix} = \\begin{bmatrix} -2 \\\\ 3 \\end{bmatrix}\")\n",
    "        multiplication.next_to(matrix, DOWN, buff=0.5)\n",
    "        self.play(Write(multiplication))\n",
    "        self.wait(1)\n",
    "\n",
    "        # Show the transformed vector\n",
    "        transformed_vector = Vector([-2, 3], color=RED)\n",
    "        transformed_label = MathTex(r\"A\\vec{v}\").next_to(transformed_vector.get_end(), RIGHT)\n",
    "        self.play(GrowArrow(transformed_vector), Write(transformed_label))\n",
    "        self.wait(1)\n",
    "\n",
    "        # Animate the transformation\n",
    "        def matrix_transform(point):\n",
    "            x, y, z = point\n",
    "            return np.array([\n",
    "                -y,\n",
    "                x,\n",
    "                0\n",
    "            ])\n",
    "        \n",
    "        self.play(\n",
    "            vector.animate.apply_function(matrix_transform),\n",
    "            vector_label.animate.next_to(transformed_vector.get_end(), RIGHT),\n",
    "            run_time=2\n",
    "        )\n",
    "        self.wait(1)\n",
    "\n",
    "        # Explain rotation\n",
    "        rotation_text = Text(\"This matrix rotates vectors by 90° counterclockwise\", font_size=24)\n",
    "        rotation_text.next_to(multiplication, DOWN, buff=0.5)\n",
    "        self.play(Write(rotation_text))\n",
    "        self.wait(1)\n",
    "\n",
    "        # Show basis vectors\n",
    "        i_hat = Vector([1, 0], color=GREEN)\n",
    "        j_hat = Vector([0, 1], color=PURPLE)\n",
    "        basis_labels = VGroup(\n",
    "            MathTex(r\"\\hat{i}\").next_to(i_hat.get_end(), RIGHT),\n",
    "            MathTex(r\"\\hat{j}\").next_to(j_hat.get_end(), UP)\n",
    "        )\n",
    "        self.play(GrowArrow(i_hat), GrowArrow(j_hat), Write(basis_labels))\n",
    "        self.wait(1)\n",
    "\n",
    "        # Transform basis vectors\n",
    "        self.play(\n",
    "            i_hat.animate.apply_function(matrix_transform),\n",
    "            j_hat.animate.apply_function(matrix_transform),\n",
    "            basis_labels[0].animate.next_to(Vector([0, 1]).get_end(), UP),\n",
    "            basis_labels[1].animate.next_to(Vector([-1, 0]).get_end(), LEFT),\n",
    "            run_time=2\n",
    "        )\n",
    "        self.wait(1)\n",
    "\n",
    "        # Conclusion\n",
    "        conclusion = Text(\n",
    "            \"Matrices transform vectors by transforming the basis vectors\",\n",
    "            font_size=32\n",
    "        ).next_to(rotation_text, DOWN, buff=0.5)\n",
    "        self.play(Write(conclusion))\n",
    "        self.wait(2)"
   ]
  },
  {
   "cell_type": "code",
   "execution_count": 15,
   "metadata": {},
   "outputs": [
    {
     "data": {
      "text/html": [
       "<pre style=\"white-space:pre;overflow-x:auto;line-height:normal;font-family:Menlo,'DejaVu Sans Mono',consolas,'Courier New',monospace\">Manim Community <span style=\"color: #008000; text-decoration-color: #008000\">v0.18.1</span>\n",
       "\n",
       "</pre>\n"
      ],
      "text/plain": [
       "Manim Community \u001b[32mv0.\u001b[0m\u001b[32m18.1\u001b[0m\n",
       "\n"
      ]
     },
     "metadata": {},
     "output_type": "display_data"
    },
    {
     "name": "stderr",
     "output_type": "stream",
     "text": [
      "                                                                                                                                                                     \r"
     ]
    },
    {
     "data": {
      "text/html": [
       "<video src=\"media\\jupyter\\NeuralNetworkVisualization@2024-10-06@01-55-22.mp4\" controls autoplay loop style=\"max-width: 75%;\"  >\n",
       "      Your browser does not support the <code>video</code> element.\n",
       "    </video>"
      ],
      "text/plain": [
       "<IPython.core.display.Video object>"
      ]
     },
     "metadata": {},
     "output_type": "display_data"
    }
   ],
   "source": [
    "%%manim -qm NeuralNetworkVisualization\n",
    "\n",
    "import random\n",
    "\n",
    "class NeuralNetworkVisualization(Scene):\n",
    "    def construct(self):\n",
    "        # Title\n",
    "        title = Text(\"Basic Neural Network\", font_size=42)\n",
    "        self.play(Write(title))\n",
    "        self.play(title.animate.to_edge(UP))\n",
    "        self.wait(1)\n",
    "\n",
    "        # Create layers\n",
    "        input_layer = VGroup(*[Circle(radius=0.2, color=BLUE) for _ in range(4)]).arrange(DOWN, buff=0.5)\n",
    "        hidden_layer = VGroup(*[Circle(radius=0.2, color=GREEN) for _ in range(5)]).arrange(DOWN, buff=0.5)\n",
    "        output_layer = VGroup(*[Circle(radius=0.2, color=RED) for _ in range(3)]).arrange(DOWN, buff=0.5)\n",
    "\n",
    "        # Arrange layers\n",
    "        layers = VGroup(input_layer, hidden_layer, output_layer).arrange(RIGHT, buff=2)\n",
    "        self.play(Create(layers))\n",
    "        self.wait(1)\n",
    "\n",
    "        # Add layer labels\n",
    "        labels = VGroup(\n",
    "            Text(\"Input Layer\").next_to(input_layer, DOWN),\n",
    "            Text(\"Hidden Layer\").next_to(hidden_layer, DOWN),\n",
    "            Text(\"Output Layer\").next_to(output_layer, DOWN)\n",
    "        )\n",
    "        self.play(Write(labels))\n",
    "        self.wait(1)\n",
    "\n",
    "        # Create connections\n",
    "        connections = VGroup()\n",
    "        for i, layer1 in enumerate(layers[:-1]):\n",
    "            layer2 = layers[i+1]\n",
    "            for neuron1 in layer1:\n",
    "                for neuron2 in layer2:\n",
    "                    connection = Line(neuron1.get_center(), neuron2.get_center(), stroke_opacity=0.3)\n",
    "                    connections.add(connection)\n",
    "\n",
    "        self.play(Create(connections), run_time=2)\n",
    "        self.wait(1)\n",
    "\n",
    "        # Highlight data flow\n",
    "        def highlight_path():\n",
    "            path = VGroup()\n",
    "            for i in range(len(layers) - 1):\n",
    "                start_neuron = random.choice(layers[i])\n",
    "                end_neuron = random.choice(layers[i+1])\n",
    "                path.add(Line(start_neuron.get_center(), end_neuron.get_center(), stroke_width=4, color=YELLOW))\n",
    "            return path\n",
    "\n",
    "        for _ in range(3):  # Show 3 random paths\n",
    "            path = highlight_path()\n",
    "            self.play(Create(path), run_time=0.5)\n",
    "            self.wait(0.5)\n",
    "            self.play(FadeOut(path), run_time=0.5)\n",
    "\n",
    "        # Add explanation\n",
    "        explanation = VGroup(\n",
    "            Text(\"• Each circle represents a neuron\", font_size=24),\n",
    "            Text(\"• Lines represent connections between neurons\", font_size=24),\n",
    "            Text(\"• Information flows from input to output\", font_size=24),\n",
    "            Text(\"• The hidden layer allows for complex pattern recognition\", font_size=24)\n",
    "        ).arrange(DOWN, aligned_edge=LEFT).next_to(layers, DOWN, buff=0.5)\n",
    "\n",
    "        self.play(Write(explanation), run_time=2)\n",
    "        self.wait(2)\n",
    "\n",
    "        # Conclusion\n",
    "        conclusion = Text(\n",
    "            \"Neural networks can learn to recognize patterns\\nand make decisions based on input data\",\n",
    "            font_size=32\n",
    "        ).next_to(explanation, DOWN, buff=0.5)\n",
    "        self.play(Write(conclusion))\n",
    "        self.wait(2)"
   ]
  },
  {
   "cell_type": "code",
   "execution_count": null,
   "metadata": {},
   "outputs": [
    {
     "data": {
      "text/html": [
       "<pre style=\"white-space:pre;overflow-x:auto;line-height:normal;font-family:Menlo,'DejaVu Sans Mono',consolas,'Courier New',monospace\">Manim Community <span style=\"color: #008000; text-decoration-color: #008000\">v0.18.1</span>\n",
       "\n",
       "</pre>\n"
      ],
      "text/plain": [
       "Manim Community \u001b[32mv0.\u001b[0m\u001b[32m18.1\u001b[0m\n",
       "\n"
      ]
     },
     "metadata": {},
     "output_type": "display_data"
    },
    {
     "name": "stderr",
     "output_type": "stream",
     "text": [
      "                                                                                                                                                   \r"
     ]
    },
    {
     "ename": "KeyboardInterrupt",
     "evalue": "",
     "output_type": "error",
     "traceback": [
      "\u001b[1;31m---------------------------------------------------------------------------\u001b[0m",
      "\u001b[1;31mKeyboardInterrupt\u001b[0m                         Traceback (most recent call last)",
      "Cell \u001b[1;32mIn[18], line 1\u001b[0m\n\u001b[1;32m----> 1\u001b[0m \u001b[43mget_ipython\u001b[49m\u001b[43m(\u001b[49m\u001b[43m)\u001b[49m\u001b[38;5;241;43m.\u001b[39;49m\u001b[43mrun_cell_magic\u001b[49m\u001b[43m(\u001b[49m\u001b[38;5;124;43m'\u001b[39;49m\u001b[38;5;124;43mmanim\u001b[39;49m\u001b[38;5;124;43m'\u001b[39;49m\u001b[43m,\u001b[49m\u001b[43m \u001b[49m\u001b[38;5;124;43m'\u001b[39;49m\u001b[38;5;124;43m-qm WordEmbeddingsExplanation\u001b[39;49m\u001b[38;5;124;43m'\u001b[39;49m\u001b[43m,\u001b[49m\u001b[43m \u001b[49m\u001b[38;5;124;43m'\u001b[39;49m\u001b[38;5;130;43;01m\\n\u001b[39;49;00m\u001b[38;5;124;43mfrom manim import *\u001b[39;49m\u001b[38;5;130;43;01m\\n\u001b[39;49;00m\u001b[38;5;130;43;01m\\n\u001b[39;49;00m\u001b[38;5;124;43mclass WordEmbeddingsExplanation(ThreeDScene):\u001b[39;49m\u001b[38;5;130;43;01m\\n\u001b[39;49;00m\u001b[38;5;124;43m    def construct(self):\u001b[39;49m\u001b[38;5;130;43;01m\\n\u001b[39;49;00m\u001b[38;5;124;43m        # Title\u001b[39;49m\u001b[38;5;130;43;01m\\n\u001b[39;49;00m\u001b[38;5;124;43m        title = Text(\u001b[39;49m\u001b[38;5;124;43m\"\u001b[39;49m\u001b[38;5;124;43mWord Embeddings\u001b[39;49m\u001b[38;5;124;43m\"\u001b[39;49m\u001b[38;5;124;43m, font_size=42)\u001b[39;49m\u001b[38;5;130;43;01m\\n\u001b[39;49;00m\u001b[38;5;124;43m        self.play(Write(title))\u001b[39;49m\u001b[38;5;130;43;01m\\n\u001b[39;49;00m\u001b[38;5;124;43m        self.play(title.animate.to_edge(UP))\u001b[39;49m\u001b[38;5;130;43;01m\\n\u001b[39;49;00m\u001b[38;5;124;43m        self.wait(1)\u001b[39;49m\u001b[38;5;130;43;01m\\n\u001b[39;49;00m\u001b[38;5;130;43;01m\\n\u001b[39;49;00m\u001b[38;5;124;43m        # Explanation text\u001b[39;49m\u001b[38;5;130;43;01m\\n\u001b[39;49;00m\u001b[38;5;124;43m        explanation = Text(\u001b[39;49m\u001b[38;5;130;43;01m\\n\u001b[39;49;00m\u001b[38;5;124;43m            \u001b[39;49m\u001b[38;5;124;43m\"\u001b[39;49m\u001b[38;5;124;43mWord embeddings represent words as vectors in a high-dimensional space\u001b[39;49m\u001b[38;5;124;43m\"\u001b[39;49m\u001b[38;5;124;43m,\u001b[39;49m\u001b[38;5;130;43;01m\\n\u001b[39;49;00m\u001b[38;5;124;43m            font_size=24\u001b[39;49m\u001b[38;5;130;43;01m\\n\u001b[39;49;00m\u001b[38;5;124;43m        ).next_to(title, DOWN)\u001b[39;49m\u001b[38;5;130;43;01m\\n\u001b[39;49;00m\u001b[38;5;124;43m        self.play(Write(explanation))\u001b[39;49m\u001b[38;5;130;43;01m\\n\u001b[39;49;00m\u001b[38;5;124;43m        self.wait(2)\u001b[39;49m\u001b[38;5;130;43;01m\\n\u001b[39;49;00m\u001b[38;5;130;43;01m\\n\u001b[39;49;00m\u001b[38;5;124;43m        # Create a 3D axes (representing a simplified embedding space)\u001b[39;49m\u001b[38;5;130;43;01m\\n\u001b[39;49;00m\u001b[38;5;124;43m        axes = ThreeDAxes(\u001b[39;49m\u001b[38;5;130;43;01m\\n\u001b[39;49;00m\u001b[38;5;124;43m            x_range=[-5, 5],\u001b[39;49m\u001b[38;5;130;43;01m\\n\u001b[39;49;00m\u001b[38;5;124;43m            y_range=[-5, 5],\u001b[39;49m\u001b[38;5;130;43;01m\\n\u001b[39;49;00m\u001b[38;5;124;43m            z_range=[-5, 5],\u001b[39;49m\u001b[38;5;130;43;01m\\n\u001b[39;49;00m\u001b[38;5;124;43m            axis_config=\u001b[39;49m\u001b[38;5;124;43m{\u001b[39;49m\u001b[38;5;124;43m\"\u001b[39;49m\u001b[38;5;124;43mcolor\u001b[39;49m\u001b[38;5;124;43m\"\u001b[39;49m\u001b[38;5;124;43m: BLUE}\u001b[39;49m\u001b[38;5;130;43;01m\\n\u001b[39;49;00m\u001b[38;5;124;43m        )\u001b[39;49m\u001b[38;5;130;43;01m\\n\u001b[39;49;00m\u001b[38;5;124;43m        self.play(Create(axes))\u001b[39;49m\u001b[38;5;130;43;01m\\n\u001b[39;49;00m\u001b[38;5;124;43m        self.wait(1)\u001b[39;49m\u001b[38;5;130;43;01m\\n\u001b[39;49;00m\u001b[38;5;130;43;01m\\n\u001b[39;49;00m\u001b[38;5;124;43m        # Define some example word vectors\u001b[39;49m\u001b[38;5;130;43;01m\\n\u001b[39;49;00m\u001b[38;5;124;43m        words = \u001b[39;49m\u001b[38;5;124;43m{\u001b[39;49m\u001b[38;5;130;43;01m\\n\u001b[39;49;00m\u001b[38;5;124;43m            \u001b[39;49m\u001b[38;5;124;43m\"\u001b[39;49m\u001b[38;5;124;43mking\u001b[39;49m\u001b[38;5;124;43m\"\u001b[39;49m\u001b[38;5;124;43m: np.array([3, 2, 1]),\u001b[39;49m\u001b[38;5;130;43;01m\\n\u001b[39;49;00m\u001b[38;5;124;43m            \u001b[39;49m\u001b[38;5;124;43m\"\u001b[39;49m\u001b[38;5;124;43mqueen\u001b[39;49m\u001b[38;5;124;43m\"\u001b[39;49m\u001b[38;5;124;43m: np.array([3, 2, -1]),\u001b[39;49m\u001b[38;5;130;43;01m\\n\u001b[39;49;00m\u001b[38;5;124;43m            \u001b[39;49m\u001b[38;5;124;43m\"\u001b[39;49m\u001b[38;5;124;43mman\u001b[39;49m\u001b[38;5;124;43m\"\u001b[39;49m\u001b[38;5;124;43m: np.array([2, 0, 1]),\u001b[39;49m\u001b[38;5;130;43;01m\\n\u001b[39;49;00m\u001b[38;5;124;43m            \u001b[39;49m\u001b[38;5;124;43m\"\u001b[39;49m\u001b[38;5;124;43mwoman\u001b[39;49m\u001b[38;5;124;43m\"\u001b[39;49m\u001b[38;5;124;43m: np.array([2, 0, -1]),\u001b[39;49m\u001b[38;5;130;43;01m\\n\u001b[39;49;00m\u001b[38;5;124;43m            \u001b[39;49m\u001b[38;5;124;43m\"\u001b[39;49m\u001b[38;5;124;43mroyal\u001b[39;49m\u001b[38;5;124;43m\"\u001b[39;49m\u001b[38;5;124;43m: np.array([1, 2, 0])\u001b[39;49m\u001b[38;5;130;43;01m\\n\u001b[39;49;00m\u001b[38;5;124;43m        }\u001b[39;49m\u001b[38;5;130;43;01m\\n\u001b[39;49;00m\u001b[38;5;130;43;01m\\n\u001b[39;49;00m\u001b[38;5;124;43m        # Create dots and labels for each word\u001b[39;49m\u001b[38;5;130;43;01m\\n\u001b[39;49;00m\u001b[38;5;124;43m        word_dots = VGroup()\u001b[39;49m\u001b[38;5;130;43;01m\\n\u001b[39;49;00m\u001b[38;5;124;43m        word_labels = VGroup()\u001b[39;49m\u001b[38;5;130;43;01m\\n\u001b[39;49;00m\u001b[38;5;124;43m        for word, vector in words.items():\u001b[39;49m\u001b[38;5;130;43;01m\\n\u001b[39;49;00m\u001b[38;5;124;43m            dot = Dot3D(point=axes.coords_to_point(*vector), color=YELLOW)\u001b[39;49m\u001b[38;5;130;43;01m\\n\u001b[39;49;00m\u001b[38;5;124;43m            label = Text(word, font_size=24).next_to(dot, UP+RIGHT)\u001b[39;49m\u001b[38;5;130;43;01m\\n\u001b[39;49;00m\u001b[38;5;124;43m            word_dots.add(dot)\u001b[39;49m\u001b[38;5;130;43;01m\\n\u001b[39;49;00m\u001b[38;5;124;43m            word_labels.add(label)\u001b[39;49m\u001b[38;5;130;43;01m\\n\u001b[39;49;00m\u001b[38;5;130;43;01m\\n\u001b[39;49;00m\u001b[38;5;124;43m        self.play(Create(word_dots), Write(word_labels))\u001b[39;49m\u001b[38;5;130;43;01m\\n\u001b[39;49;00m\u001b[38;5;124;43m        self.wait(2)\u001b[39;49m\u001b[38;5;130;43;01m\\n\u001b[39;49;00m\u001b[38;5;130;43;01m\\n\u001b[39;49;00m\u001b[38;5;124;43m        # Rotate the scene to show 3D nature\u001b[39;49m\u001b[38;5;130;43;01m\\n\u001b[39;49;00m\u001b[38;5;124;43m        self.move_camera(phi=60 * DEGREES, theta=-45 * DEGREES, run_time=3)\u001b[39;49m\u001b[38;5;130;43;01m\\n\u001b[39;49;00m\u001b[38;5;124;43m        self.wait(1)\u001b[39;49m\u001b[38;5;130;43;01m\\n\u001b[39;49;00m\u001b[38;5;130;43;01m\\n\u001b[39;49;00m\u001b[38;5;124;43m        # Highlight relationships\u001b[39;49m\u001b[38;5;130;43;01m\\n\u001b[39;49;00m\u001b[38;5;124;43m        self.play(\u001b[39;49m\u001b[38;5;130;43;01m\\n\u001b[39;49;00m\u001b[38;5;124;43m            word_dots[0].animate.set_color(RED),  # king\u001b[39;49m\u001b[38;5;130;43;01m\\n\u001b[39;49;00m\u001b[38;5;124;43m            word_dots[1].animate.set_color(RED),  # queen\u001b[39;49m\u001b[38;5;130;43;01m\\n\u001b[39;49;00m\u001b[38;5;124;43m            word_dots[4].animate.set_color(GREEN)  # royal\u001b[39;49m\u001b[38;5;130;43;01m\\n\u001b[39;49;00m\u001b[38;5;124;43m        )\u001b[39;49m\u001b[38;5;130;43;01m\\n\u001b[39;49;00m\u001b[38;5;124;43m        relationship = Text(\u001b[39;49m\u001b[38;5;124;43m\"\u001b[39;49m\u001b[38;5;124;43mRelated words are closer in the embedding space\u001b[39;49m\u001b[38;5;124;43m\"\u001b[39;49m\u001b[38;5;124;43m, font_size=24).to_edge(DOWN)\u001b[39;49m\u001b[38;5;130;43;01m\\n\u001b[39;49;00m\u001b[38;5;124;43m        self.play(Write(relationship))\u001b[39;49m\u001b[38;5;130;43;01m\\n\u001b[39;49;00m\u001b[38;5;124;43m        self.wait(2)\u001b[39;49m\u001b[38;5;130;43;01m\\n\u001b[39;49;00m\u001b[38;5;130;43;01m\\n\u001b[39;49;00m\u001b[38;5;124;43m        # Show vector arithmetic\u001b[39;49m\u001b[38;5;130;43;01m\\n\u001b[39;49;00m\u001b[38;5;124;43m        vector_math = MathTex(r\u001b[39;49m\u001b[38;5;124;43m\"\u001b[39;49m\u001b[38;5;130;43;01m\\\\\u001b[39;49;00m\u001b[38;5;124;43mtext\u001b[39;49m\u001b[38;5;132;43;01m{king}\u001b[39;49;00m\u001b[38;5;124;43m - \u001b[39;49m\u001b[38;5;130;43;01m\\\\\u001b[39;49;00m\u001b[38;5;124;43mtext\u001b[39;49m\u001b[38;5;132;43;01m{man}\u001b[39;49;00m\u001b[38;5;124;43m + \u001b[39;49m\u001b[38;5;130;43;01m\\\\\u001b[39;49;00m\u001b[38;5;124;43mtext\u001b[39;49m\u001b[38;5;132;43;01m{woman}\u001b[39;49;00m\u001b[38;5;124;43m \u001b[39;49m\u001b[38;5;130;43;01m\\\\\u001b[39;49;00m\u001b[38;5;124;43mapprox \u001b[39;49m\u001b[38;5;130;43;01m\\\\\u001b[39;49;00m\u001b[38;5;124;43mtext\u001b[39;49m\u001b[38;5;132;43;01m{queen}\u001b[39;49;00m\u001b[38;5;124;43m\"\u001b[39;49m\u001b[38;5;124;43m)\u001b[39;49m\u001b[38;5;130;43;01m\\n\u001b[39;49;00m\u001b[38;5;124;43m        vector_math.to_edge(LEFT)\u001b[39;49m\u001b[38;5;130;43;01m\\n\u001b[39;49;00m\u001b[38;5;124;43m        self.play(Write(vector_math))\u001b[39;49m\u001b[38;5;130;43;01m\\n\u001b[39;49;00m\u001b[38;5;124;43m        self.wait(2)\u001b[39;49m\u001b[38;5;130;43;01m\\n\u001b[39;49;00m\u001b[38;5;130;43;01m\\n\u001b[39;49;00m\u001b[38;5;124;43m        # Animate vector arithmetic\u001b[39;49m\u001b[38;5;130;43;01m\\n\u001b[39;49;00m\u001b[38;5;124;43m        arrow1 = Arrow(start=axes.coords_to_point(*words[\u001b[39;49m\u001b[38;5;124;43m\"\u001b[39;49m\u001b[38;5;124;43mking\u001b[39;49m\u001b[38;5;124;43m\"\u001b[39;49m\u001b[38;5;124;43m]), end=axes.coords_to_point(*words[\u001b[39;49m\u001b[38;5;124;43m\"\u001b[39;49m\u001b[38;5;124;43mman\u001b[39;49m\u001b[38;5;124;43m\"\u001b[39;49m\u001b[38;5;124;43m]), color=ORANGE)\u001b[39;49m\u001b[38;5;130;43;01m\\n\u001b[39;49;00m\u001b[38;5;124;43m        arrow2 = Arrow(start=axes.coords_to_point(*words[\u001b[39;49m\u001b[38;5;124;43m\"\u001b[39;49m\u001b[38;5;124;43mman\u001b[39;49m\u001b[38;5;124;43m\"\u001b[39;49m\u001b[38;5;124;43m]), end=axes.coords_to_point(*words[\u001b[39;49m\u001b[38;5;124;43m\"\u001b[39;49m\u001b[38;5;124;43mwoman\u001b[39;49m\u001b[38;5;124;43m\"\u001b[39;49m\u001b[38;5;124;43m]), color=ORANGE)\u001b[39;49m\u001b[38;5;130;43;01m\\n\u001b[39;49;00m\u001b[38;5;124;43m        arrow3 = Arrow(start=axes.coords_to_point(*words[\u001b[39;49m\u001b[38;5;124;43m\"\u001b[39;49m\u001b[38;5;124;43mwoman\u001b[39;49m\u001b[38;5;124;43m\"\u001b[39;49m\u001b[38;5;124;43m]), end=axes.coords_to_point(*words[\u001b[39;49m\u001b[38;5;124;43m\"\u001b[39;49m\u001b[38;5;124;43mqueen\u001b[39;49m\u001b[38;5;124;43m\"\u001b[39;49m\u001b[38;5;124;43m]), color=ORANGE)\u001b[39;49m\u001b[38;5;130;43;01m\\n\u001b[39;49;00m\u001b[38;5;130;43;01m\\n\u001b[39;49;00m\u001b[38;5;124;43m        self.play(Create(arrow1), Create(arrow2), Create(arrow3), run_time=2)\u001b[39;49m\u001b[38;5;130;43;01m\\n\u001b[39;49;00m\u001b[38;5;124;43m        self.wait(2)\u001b[39;49m\u001b[38;5;130;43;01m\\n\u001b[39;49;00m\u001b[38;5;130;43;01m\\n\u001b[39;49;00m\u001b[38;5;124;43m        # Conclusion\u001b[39;49m\u001b[38;5;130;43;01m\\n\u001b[39;49;00m\u001b[38;5;124;43m        conclusion = Text(\u001b[39;49m\u001b[38;5;130;43;01m\\n\u001b[39;49;00m\u001b[38;5;124;43m            \u001b[39;49m\u001b[38;5;124;43m\"\u001b[39;49m\u001b[38;5;124;43mWord embeddings capture semantic relationships between words\u001b[39;49m\u001b[38;5;124;43m\"\u001b[39;49m\u001b[38;5;124;43m,\u001b[39;49m\u001b[38;5;130;43;01m\\n\u001b[39;49;00m\u001b[38;5;124;43m            font_size=32\u001b[39;49m\u001b[38;5;130;43;01m\\n\u001b[39;49;00m\u001b[38;5;124;43m        ).next_to(relationship, UP)\u001b[39;49m\u001b[38;5;130;43;01m\\n\u001b[39;49;00m\u001b[38;5;124;43m        self.play(Write(conclusion))\u001b[39;49m\u001b[38;5;130;43;01m\\n\u001b[39;49;00m\u001b[38;5;124;43m        self.wait(2)\u001b[39;49m\u001b[38;5;130;43;01m\\n\u001b[39;49;00m\u001b[38;5;130;43;01m\\n\u001b[39;49;00m\u001b[38;5;124;43m        # Final camera movement\u001b[39;49m\u001b[38;5;130;43;01m\\n\u001b[39;49;00m\u001b[38;5;124;43m        self.move_camera(phi=0, theta=-90 * DEGREES, run_time=3)\u001b[39;49m\u001b[38;5;130;43;01m\\n\u001b[39;49;00m\u001b[38;5;124;43m        self.wait(2)\u001b[39;49m\u001b[38;5;130;43;01m\\n\u001b[39;49;00m\u001b[38;5;124;43m'\u001b[39;49m\u001b[43m)\u001b[49m\n",
      "File \u001b[1;32mc:\\Users\\berge\\Desktop\\a16z\\a16z-hackathon\\venv\\Lib\\site-packages\\IPython\\core\\interactiveshell.py:2541\u001b[0m, in \u001b[0;36mInteractiveShell.run_cell_magic\u001b[1;34m(self, magic_name, line, cell)\u001b[0m\n\u001b[0;32m   2539\u001b[0m \u001b[38;5;28;01mwith\u001b[39;00m \u001b[38;5;28mself\u001b[39m\u001b[38;5;241m.\u001b[39mbuiltin_trap:\n\u001b[0;32m   2540\u001b[0m     args \u001b[38;5;241m=\u001b[39m (magic_arg_s, cell)\n\u001b[1;32m-> 2541\u001b[0m     result \u001b[38;5;241m=\u001b[39m \u001b[43mfn\u001b[49m\u001b[43m(\u001b[49m\u001b[38;5;241;43m*\u001b[39;49m\u001b[43margs\u001b[49m\u001b[43m,\u001b[49m\u001b[43m \u001b[49m\u001b[38;5;241;43m*\u001b[39;49m\u001b[38;5;241;43m*\u001b[39;49m\u001b[43mkwargs\u001b[49m\u001b[43m)\u001b[49m\n\u001b[0;32m   2543\u001b[0m \u001b[38;5;66;03m# The code below prevents the output from being displayed\u001b[39;00m\n\u001b[0;32m   2544\u001b[0m \u001b[38;5;66;03m# when using magics with decorator @output_can_be_silenced\u001b[39;00m\n\u001b[0;32m   2545\u001b[0m \u001b[38;5;66;03m# when the last Python token in the expression is a ';'.\u001b[39;00m\n\u001b[0;32m   2546\u001b[0m \u001b[38;5;28;01mif\u001b[39;00m \u001b[38;5;28mgetattr\u001b[39m(fn, magic\u001b[38;5;241m.\u001b[39mMAGIC_OUTPUT_CAN_BE_SILENCED, \u001b[38;5;28;01mFalse\u001b[39;00m):\n",
      "File \u001b[1;32mc:\\Users\\berge\\Desktop\\a16z\\a16z-hackathon\\venv\\Lib\\site-packages\\manim\\utils\\ipython_magic.py:143\u001b[0m, in \u001b[0;36mManimMagic.manim\u001b[1;34m(self, line, cell, local_ns)\u001b[0m\n\u001b[0;32m    141\u001b[0m     SceneClass \u001b[38;5;241m=\u001b[39m local_ns[config[\u001b[38;5;124m\"\u001b[39m\u001b[38;5;124mscene_names\u001b[39m\u001b[38;5;124m\"\u001b[39m][\u001b[38;5;241m0\u001b[39m]]\n\u001b[0;32m    142\u001b[0m     scene \u001b[38;5;241m=\u001b[39m SceneClass(renderer\u001b[38;5;241m=\u001b[39mrenderer)\n\u001b[1;32m--> 143\u001b[0m     \u001b[43mscene\u001b[49m\u001b[38;5;241;43m.\u001b[39;49m\u001b[43mrender\u001b[49m\u001b[43m(\u001b[49m\u001b[43m)\u001b[49m\n\u001b[0;32m    144\u001b[0m \u001b[38;5;28;01mfinally\u001b[39;00m:\n\u001b[0;32m    145\u001b[0m     \u001b[38;5;66;03m# Shader cache becomes invalid as the context is destroyed\u001b[39;00m\n\u001b[0;32m    146\u001b[0m     shader_program_cache\u001b[38;5;241m.\u001b[39mclear()\n",
      "File \u001b[1;32mc:\\Users\\berge\\Desktop\\a16z\\a16z-hackathon\\venv\\Lib\\site-packages\\manim\\scene\\scene.py:229\u001b[0m, in \u001b[0;36mScene.render\u001b[1;34m(self, preview)\u001b[0m\n\u001b[0;32m    227\u001b[0m \u001b[38;5;28mself\u001b[39m\u001b[38;5;241m.\u001b[39msetup()\n\u001b[0;32m    228\u001b[0m \u001b[38;5;28;01mtry\u001b[39;00m:\n\u001b[1;32m--> 229\u001b[0m     \u001b[38;5;28;43mself\u001b[39;49m\u001b[38;5;241;43m.\u001b[39;49m\u001b[43mconstruct\u001b[49m\u001b[43m(\u001b[49m\u001b[43m)\u001b[49m\n\u001b[0;32m    230\u001b[0m \u001b[38;5;28;01mexcept\u001b[39;00m EndSceneEarlyException:\n\u001b[0;32m    231\u001b[0m     \u001b[38;5;28;01mpass\u001b[39;00m\n",
      "File \u001b[1;32m<string>:88\u001b[0m, in \u001b[0;36mconstruct\u001b[1;34m(self)\u001b[0m\n",
      "File \u001b[1;32mc:\\Users\\berge\\Desktop\\a16z\\a16z-hackathon\\venv\\Lib\\site-packages\\manim\\scene\\three_d_scene.py:308\u001b[0m, in \u001b[0;36mThreeDScene.move_camera\u001b[1;34m(self, phi, theta, gamma, zoom, focal_distance, frame_center, added_anims, **kwargs)\u001b[0m\n\u001b[0;32m    301\u001b[0m         warnings\u001b[38;5;241m.\u001b[39mwarn(\n\u001b[0;32m    302\u001b[0m             \u001b[38;5;124m\"\u001b[39m\u001b[38;5;124mfocal distance of OpenGLCamera can not be adjusted.\u001b[39m\u001b[38;5;124m\"\u001b[39m,\n\u001b[0;32m    303\u001b[0m             stacklevel\u001b[38;5;241m=\u001b[39m\u001b[38;5;241m2\u001b[39m,\n\u001b[0;32m    304\u001b[0m         )\n\u001b[0;32m    306\u001b[0m     anims \u001b[38;5;241m+\u001b[39m\u001b[38;5;241m=\u001b[39m [Transform(cam, cam2)]\n\u001b[1;32m--> 308\u001b[0m \u001b[38;5;28;43mself\u001b[39;49m\u001b[38;5;241;43m.\u001b[39;49m\u001b[43mplay\u001b[49m\u001b[43m(\u001b[49m\u001b[38;5;241;43m*\u001b[39;49m\u001b[43manims\u001b[49m\u001b[43m \u001b[49m\u001b[38;5;241;43m+\u001b[39;49m\u001b[43m \u001b[49m\u001b[43madded_anims\u001b[49m\u001b[43m,\u001b[49m\u001b[43m \u001b[49m\u001b[38;5;241;43m*\u001b[39;49m\u001b[38;5;241;43m*\u001b[39;49m\u001b[43mkwargs\u001b[49m\u001b[43m)\u001b[49m\n\u001b[0;32m    310\u001b[0m \u001b[38;5;66;03m# These lines are added to improve performance. If manim thinks that frame_center is moving,\u001b[39;00m\n\u001b[0;32m    311\u001b[0m \u001b[38;5;66;03m# it is required to redraw every object. These lines remove frame_center from the Scene once\u001b[39;00m\n\u001b[0;32m    312\u001b[0m \u001b[38;5;66;03m# its animation is done, ensuring that manim does not think that it is moving. Since the\u001b[39;00m\n\u001b[0;32m    313\u001b[0m \u001b[38;5;66;03m# frame_center is never actually drawn, this shouldn't break anything.\u001b[39;00m\n\u001b[0;32m    314\u001b[0m \u001b[38;5;28;01mif\u001b[39;00m frame_center \u001b[38;5;129;01mis\u001b[39;00m \u001b[38;5;129;01mnot\u001b[39;00m \u001b[38;5;28;01mNone\u001b[39;00m \u001b[38;5;129;01mand\u001b[39;00m config\u001b[38;5;241m.\u001b[39mrenderer \u001b[38;5;241m==\u001b[39m RendererType\u001b[38;5;241m.\u001b[39mCAIRO:\n",
      "File \u001b[1;32mc:\\Users\\berge\\Desktop\\a16z\\a16z-hackathon\\venv\\Lib\\site-packages\\manim\\scene\\scene.py:1092\u001b[0m, in \u001b[0;36mScene.play\u001b[1;34m(self, subcaption, subcaption_duration, subcaption_offset, *args, **kwargs)\u001b[0m\n\u001b[0;32m   1089\u001b[0m     \u001b[38;5;28;01mreturn\u001b[39;00m\n\u001b[0;32m   1091\u001b[0m start_time \u001b[38;5;241m=\u001b[39m \u001b[38;5;28mself\u001b[39m\u001b[38;5;241m.\u001b[39mrenderer\u001b[38;5;241m.\u001b[39mtime\n\u001b[1;32m-> 1092\u001b[0m \u001b[38;5;28;43mself\u001b[39;49m\u001b[38;5;241;43m.\u001b[39;49m\u001b[43mrenderer\u001b[49m\u001b[38;5;241;43m.\u001b[39;49m\u001b[43mplay\u001b[49m\u001b[43m(\u001b[49m\u001b[38;5;28;43mself\u001b[39;49m\u001b[43m,\u001b[49m\u001b[43m \u001b[49m\u001b[38;5;241;43m*\u001b[39;49m\u001b[43margs\u001b[49m\u001b[43m,\u001b[49m\u001b[43m \u001b[49m\u001b[38;5;241;43m*\u001b[39;49m\u001b[38;5;241;43m*\u001b[39;49m\u001b[43mkwargs\u001b[49m\u001b[43m)\u001b[49m\n\u001b[0;32m   1093\u001b[0m run_time \u001b[38;5;241m=\u001b[39m \u001b[38;5;28mself\u001b[39m\u001b[38;5;241m.\u001b[39mrenderer\u001b[38;5;241m.\u001b[39mtime \u001b[38;5;241m-\u001b[39m start_time\n\u001b[0;32m   1094\u001b[0m \u001b[38;5;28;01mif\u001b[39;00m subcaption:\n",
      "File \u001b[1;32mc:\\Users\\berge\\Desktop\\a16z\\a16z-hackathon\\venv\\Lib\\site-packages\\manim\\renderer\\cairo_renderer.py:102\u001b[0m, in \u001b[0;36mCairoRenderer.play\u001b[1;34m(self, scene, *args, **kwargs)\u001b[0m\n\u001b[0;32m     96\u001b[0m \u001b[38;5;28mself\u001b[39m\u001b[38;5;241m.\u001b[39manimations_hashes\u001b[38;5;241m.\u001b[39mappend(hash_current_animation)\n\u001b[0;32m     97\u001b[0m logger\u001b[38;5;241m.\u001b[39mdebug(\n\u001b[0;32m     98\u001b[0m     \u001b[38;5;124m\"\u001b[39m\u001b[38;5;124mList of the first few animation hashes of the scene: \u001b[39m\u001b[38;5;132;01m%(h)s\u001b[39;00m\u001b[38;5;124m\"\u001b[39m,\n\u001b[0;32m     99\u001b[0m     {\u001b[38;5;124m\"\u001b[39m\u001b[38;5;124mh\u001b[39m\u001b[38;5;124m\"\u001b[39m: \u001b[38;5;28mstr\u001b[39m(\u001b[38;5;28mself\u001b[39m\u001b[38;5;241m.\u001b[39manimations_hashes[:\u001b[38;5;241m5\u001b[39m])},\n\u001b[0;32m    100\u001b[0m )\n\u001b[1;32m--> 102\u001b[0m \u001b[38;5;28;43mself\u001b[39;49m\u001b[38;5;241;43m.\u001b[39;49m\u001b[43mfile_writer\u001b[49m\u001b[38;5;241;43m.\u001b[39;49m\u001b[43mbegin_animation\u001b[49m\u001b[43m(\u001b[49m\u001b[38;5;129;43;01mnot\u001b[39;49;00m\u001b[43m \u001b[49m\u001b[38;5;28;43mself\u001b[39;49m\u001b[38;5;241;43m.\u001b[39;49m\u001b[43mskip_animations\u001b[49m\u001b[43m)\u001b[49m\n\u001b[0;32m    103\u001b[0m scene\u001b[38;5;241m.\u001b[39mbegin_animations()\n\u001b[0;32m    105\u001b[0m \u001b[38;5;66;03m# Save a static image, to avoid rendering non moving objects.\u001b[39;00m\n",
      "File \u001b[1;32mc:\\Users\\berge\\Desktop\\a16z\\a16z-hackathon\\venv\\Lib\\site-packages\\manim\\scene\\scene_file_writer.py:361\u001b[0m, in \u001b[0;36mSceneFileWriter.begin_animation\u001b[1;34m(self, allow_write, file_path)\u001b[0m\n\u001b[0;32m    351\u001b[0m \u001b[38;5;250m\u001b[39m\u001b[38;5;124;03m\"\"\"\u001b[39;00m\n\u001b[0;32m    352\u001b[0m \u001b[38;5;124;03mUsed internally by manim to stream the animation to FFMPEG for\u001b[39;00m\n\u001b[0;32m    353\u001b[0m \u001b[38;5;124;03mdisplaying or writing to a file.\u001b[39;00m\n\u001b[1;32m   (...)\u001b[0m\n\u001b[0;32m    358\u001b[0m \u001b[38;5;124;03m    Whether or not to write to a video file.\u001b[39;00m\n\u001b[0;32m    359\u001b[0m \u001b[38;5;124;03m\"\"\"\u001b[39;00m\n\u001b[0;32m    360\u001b[0m \u001b[38;5;28;01mif\u001b[39;00m write_to_movie() \u001b[38;5;129;01mand\u001b[39;00m allow_write:\n\u001b[1;32m--> 361\u001b[0m     \u001b[38;5;28;43mself\u001b[39;49m\u001b[38;5;241;43m.\u001b[39;49m\u001b[43mopen_movie_pipe\u001b[49m\u001b[43m(\u001b[49m\u001b[43mfile_path\u001b[49m\u001b[38;5;241;43m=\u001b[39;49m\u001b[43mfile_path\u001b[49m\u001b[43m)\u001b[49m\n",
      "File \u001b[1;32mc:\\Users\\berge\\Desktop\\a16z\\a16z-hackathon\\venv\\Lib\\site-packages\\manim\\scene\\scene_file_writer.py:518\u001b[0m, in \u001b[0;36mSceneFileWriter.open_movie_pipe\u001b[1;34m(self, file_path)\u001b[0m\n\u001b[0;32m    516\u001b[0m     command \u001b[38;5;241m+\u001b[39m\u001b[38;5;241m=\u001b[39m [\u001b[38;5;124m\"\u001b[39m\u001b[38;5;124m-vcodec\u001b[39m\u001b[38;5;124m\"\u001b[39m, \u001b[38;5;124m\"\u001b[39m\u001b[38;5;124mlibx264\u001b[39m\u001b[38;5;124m\"\u001b[39m, \u001b[38;5;124m\"\u001b[39m\u001b[38;5;124m-pix_fmt\u001b[39m\u001b[38;5;124m\"\u001b[39m, \u001b[38;5;124m\"\u001b[39m\u001b[38;5;124myuv420p\u001b[39m\u001b[38;5;124m\"\u001b[39m]\n\u001b[0;32m    517\u001b[0m command \u001b[38;5;241m+\u001b[39m\u001b[38;5;241m=\u001b[39m [file_path]\n\u001b[1;32m--> 518\u001b[0m \u001b[38;5;28mself\u001b[39m\u001b[38;5;241m.\u001b[39mwriting_process \u001b[38;5;241m=\u001b[39m \u001b[43msubprocess\u001b[49m\u001b[38;5;241;43m.\u001b[39;49m\u001b[43mPopen\u001b[49m\u001b[43m(\u001b[49m\u001b[43mcommand\u001b[49m\u001b[43m,\u001b[49m\u001b[43m \u001b[49m\u001b[43mstdin\u001b[49m\u001b[38;5;241;43m=\u001b[39;49m\u001b[43msubprocess\u001b[49m\u001b[38;5;241;43m.\u001b[39;49m\u001b[43mPIPE\u001b[49m\u001b[43m)\u001b[49m\n",
      "File \u001b[1;32m~\\AppData\\Local\\Programs\\Python\\Python312\\Lib\\subprocess.py:1026\u001b[0m, in \u001b[0;36mPopen.__init__\u001b[1;34m(self, args, bufsize, executable, stdin, stdout, stderr, preexec_fn, close_fds, shell, cwd, env, universal_newlines, startupinfo, creationflags, restore_signals, start_new_session, pass_fds, user, group, extra_groups, encoding, errors, text, umask, pipesize, process_group)\u001b[0m\n\u001b[0;32m   1022\u001b[0m         \u001b[38;5;28;01mif\u001b[39;00m \u001b[38;5;28mself\u001b[39m\u001b[38;5;241m.\u001b[39mtext_mode:\n\u001b[0;32m   1023\u001b[0m             \u001b[38;5;28mself\u001b[39m\u001b[38;5;241m.\u001b[39mstderr \u001b[38;5;241m=\u001b[39m io\u001b[38;5;241m.\u001b[39mTextIOWrapper(\u001b[38;5;28mself\u001b[39m\u001b[38;5;241m.\u001b[39mstderr,\n\u001b[0;32m   1024\u001b[0m                     encoding\u001b[38;5;241m=\u001b[39mencoding, errors\u001b[38;5;241m=\u001b[39merrors)\n\u001b[1;32m-> 1026\u001b[0m     \u001b[38;5;28;43mself\u001b[39;49m\u001b[38;5;241;43m.\u001b[39;49m\u001b[43m_execute_child\u001b[49m\u001b[43m(\u001b[49m\u001b[43margs\u001b[49m\u001b[43m,\u001b[49m\u001b[43m \u001b[49m\u001b[43mexecutable\u001b[49m\u001b[43m,\u001b[49m\u001b[43m \u001b[49m\u001b[43mpreexec_fn\u001b[49m\u001b[43m,\u001b[49m\u001b[43m \u001b[49m\u001b[43mclose_fds\u001b[49m\u001b[43m,\u001b[49m\n\u001b[0;32m   1027\u001b[0m \u001b[43m                        \u001b[49m\u001b[43mpass_fds\u001b[49m\u001b[43m,\u001b[49m\u001b[43m \u001b[49m\u001b[43mcwd\u001b[49m\u001b[43m,\u001b[49m\u001b[43m \u001b[49m\u001b[43menv\u001b[49m\u001b[43m,\u001b[49m\n\u001b[0;32m   1028\u001b[0m \u001b[43m                        \u001b[49m\u001b[43mstartupinfo\u001b[49m\u001b[43m,\u001b[49m\u001b[43m \u001b[49m\u001b[43mcreationflags\u001b[49m\u001b[43m,\u001b[49m\u001b[43m \u001b[49m\u001b[43mshell\u001b[49m\u001b[43m,\u001b[49m\n\u001b[0;32m   1029\u001b[0m \u001b[43m                        \u001b[49m\u001b[43mp2cread\u001b[49m\u001b[43m,\u001b[49m\u001b[43m \u001b[49m\u001b[43mp2cwrite\u001b[49m\u001b[43m,\u001b[49m\n\u001b[0;32m   1030\u001b[0m \u001b[43m                        \u001b[49m\u001b[43mc2pread\u001b[49m\u001b[43m,\u001b[49m\u001b[43m \u001b[49m\u001b[43mc2pwrite\u001b[49m\u001b[43m,\u001b[49m\n\u001b[0;32m   1031\u001b[0m \u001b[43m                        \u001b[49m\u001b[43merrread\u001b[49m\u001b[43m,\u001b[49m\u001b[43m \u001b[49m\u001b[43merrwrite\u001b[49m\u001b[43m,\u001b[49m\n\u001b[0;32m   1032\u001b[0m \u001b[43m                        \u001b[49m\u001b[43mrestore_signals\u001b[49m\u001b[43m,\u001b[49m\n\u001b[0;32m   1033\u001b[0m \u001b[43m                        \u001b[49m\u001b[43mgid\u001b[49m\u001b[43m,\u001b[49m\u001b[43m \u001b[49m\u001b[43mgids\u001b[49m\u001b[43m,\u001b[49m\u001b[43m \u001b[49m\u001b[43muid\u001b[49m\u001b[43m,\u001b[49m\u001b[43m \u001b[49m\u001b[43mumask\u001b[49m\u001b[43m,\u001b[49m\n\u001b[0;32m   1034\u001b[0m \u001b[43m                        \u001b[49m\u001b[43mstart_new_session\u001b[49m\u001b[43m,\u001b[49m\u001b[43m \u001b[49m\u001b[43mprocess_group\u001b[49m\u001b[43m)\u001b[49m\n\u001b[0;32m   1035\u001b[0m \u001b[38;5;28;01mexcept\u001b[39;00m:\n\u001b[0;32m   1036\u001b[0m     \u001b[38;5;66;03m# Cleanup if the child failed starting.\u001b[39;00m\n\u001b[0;32m   1037\u001b[0m     \u001b[38;5;28;01mfor\u001b[39;00m f \u001b[38;5;129;01min\u001b[39;00m \u001b[38;5;28mfilter\u001b[39m(\u001b[38;5;28;01mNone\u001b[39;00m, (\u001b[38;5;28mself\u001b[39m\u001b[38;5;241m.\u001b[39mstdin, \u001b[38;5;28mself\u001b[39m\u001b[38;5;241m.\u001b[39mstdout, \u001b[38;5;28mself\u001b[39m\u001b[38;5;241m.\u001b[39mstderr)):\n",
      "File \u001b[1;32m~\\AppData\\Local\\Programs\\Python\\Python312\\Lib\\subprocess.py:1538\u001b[0m, in \u001b[0;36mPopen._execute_child\u001b[1;34m(self, args, executable, preexec_fn, close_fds, pass_fds, cwd, env, startupinfo, creationflags, shell, p2cread, p2cwrite, c2pread, c2pwrite, errread, errwrite, unused_restore_signals, unused_gid, unused_gids, unused_uid, unused_umask, unused_start_new_session, unused_process_group)\u001b[0m\n\u001b[0;32m   1536\u001b[0m \u001b[38;5;66;03m# Start the process\u001b[39;00m\n\u001b[0;32m   1537\u001b[0m \u001b[38;5;28;01mtry\u001b[39;00m:\n\u001b[1;32m-> 1538\u001b[0m     hp, ht, pid, tid \u001b[38;5;241m=\u001b[39m \u001b[43m_winapi\u001b[49m\u001b[38;5;241;43m.\u001b[39;49m\u001b[43mCreateProcess\u001b[49m\u001b[43m(\u001b[49m\u001b[43mexecutable\u001b[49m\u001b[43m,\u001b[49m\u001b[43m \u001b[49m\u001b[43margs\u001b[49m\u001b[43m,\u001b[49m\n\u001b[0;32m   1539\u001b[0m \u001b[43m                             \u001b[49m\u001b[38;5;66;43;03m# no special security\u001b[39;49;00m\n\u001b[0;32m   1540\u001b[0m \u001b[43m                             \u001b[49m\u001b[38;5;28;43;01mNone\u001b[39;49;00m\u001b[43m,\u001b[49m\u001b[43m \u001b[49m\u001b[38;5;28;43;01mNone\u001b[39;49;00m\u001b[43m,\u001b[49m\n\u001b[0;32m   1541\u001b[0m \u001b[43m                             \u001b[49m\u001b[38;5;28;43mint\u001b[39;49m\u001b[43m(\u001b[49m\u001b[38;5;129;43;01mnot\u001b[39;49;00m\u001b[43m \u001b[49m\u001b[43mclose_fds\u001b[49m\u001b[43m)\u001b[49m\u001b[43m,\u001b[49m\n\u001b[0;32m   1542\u001b[0m \u001b[43m                             \u001b[49m\u001b[43mcreationflags\u001b[49m\u001b[43m,\u001b[49m\n\u001b[0;32m   1543\u001b[0m \u001b[43m                             \u001b[49m\u001b[43menv\u001b[49m\u001b[43m,\u001b[49m\n\u001b[0;32m   1544\u001b[0m \u001b[43m                             \u001b[49m\u001b[43mcwd\u001b[49m\u001b[43m,\u001b[49m\n\u001b[0;32m   1545\u001b[0m \u001b[43m                             \u001b[49m\u001b[43mstartupinfo\u001b[49m\u001b[43m)\u001b[49m\n\u001b[0;32m   1546\u001b[0m \u001b[38;5;28;01mfinally\u001b[39;00m:\n\u001b[0;32m   1547\u001b[0m     \u001b[38;5;66;03m# Child is launched. Close the parent's copy of those pipe\u001b[39;00m\n\u001b[0;32m   1548\u001b[0m     \u001b[38;5;66;03m# handles that only the child should have open.  You need\u001b[39;00m\n\u001b[1;32m   (...)\u001b[0m\n\u001b[0;32m   1551\u001b[0m     \u001b[38;5;66;03m# pipe will not close when the child process exits and the\u001b[39;00m\n\u001b[0;32m   1552\u001b[0m     \u001b[38;5;66;03m# ReadFile will hang.\u001b[39;00m\n\u001b[0;32m   1553\u001b[0m     \u001b[38;5;28mself\u001b[39m\u001b[38;5;241m.\u001b[39m_close_pipe_fds(p2cread, p2cwrite,\n\u001b[0;32m   1554\u001b[0m                          c2pread, c2pwrite,\n\u001b[0;32m   1555\u001b[0m                          errread, errwrite)\n",
      "\u001b[1;31mKeyboardInterrupt\u001b[0m: "
     ]
    }
   ],
   "source": [
    "%%manim -qm WordEmbeddingsExplanation\n",
    "\n",
    "from manim import *\n",
    "\n",
    "class WordEmbeddingsExplanation(Scene):\n",
    "    def construct(self):\n",
    "        # Title\n",
    "        title = Text(\"Word Embeddings\", font_size=42)\n",
    "        self.play(Write(title))\n",
    "        self.play(title.animate.to_edge(UP))\n",
    "        self.wait(1)\n",
    "\n",
    "        # Explanation text\n",
    "        explanation = Text(\n",
    "            \"Word embeddings represent words as vectors in a high-dimensional space\",\n",
    "            font_size=24\n",
    "        ).next_to(title, DOWN)\n",
    "        self.play(Write(explanation))\n",
    "        self.wait(2)\n",
    "\n",
    "        # Create a 2D coordinate system (representing a simplified embedding space)\n",
    "        plane = NumberPlane(\n",
    "            x_range=[-5, 5],\n",
    "            y_range=[-5, 5],\n",
    "            axis_config={\"color\": BLUE}\n",
    "        )\n",
    "        self.play(Create(plane))\n",
    "        self.wait(1)\n",
    "\n",
    "        # Define some example word vectors (using only x and y coordinates)\n",
    "        words = {\n",
    "            \"king\": np.array([3, 2]),\n",
    "            \"queen\": np.array([3, -2]),\n",
    "            \"man\": np.array([2, 1]),\n",
    "            \"woman\": np.array([2, -1]),\n",
    "            \"royal\": np.array([1, 0])\n",
    "        }\n",
    "\n",
    "        # Create dots and labels for each word\n",
    "        word_dots = VGroup()\n",
    "        word_labels = VGroup()\n",
    "        for word, vector in words.items():\n",
    "            dot = Dot(point=plane.c2p(*vector), color=YELLOW)\n",
    "            label = Text(word, font_size=24).next_to(dot, UP+RIGHT)\n",
    "            word_dots.add(dot)\n",
    "            word_labels.add(label)\n",
    "\n",
    "        self.play(Create(word_dots), Write(word_labels))\n",
    "        self.wait(2)\n",
    "\n",
    "        # Highlight relationships\n",
    "        self.play(\n",
    "            word_dots[0].animate.set_color(RED),  # king\n",
    "            word_dots[1].animate.set_color(RED),  # queen\n",
    "            word_dots[4].animate.set_color(GREEN)  # royal\n",
    "        )\n",
    "        relationship = Text(\"Related words are closer in the embedding space\", font_size=24).to_edge(DOWN)\n",
    "        self.play(Write(relationship))\n",
    "        self.wait(2)\n",
    "\n",
    "        # Show vector arithmetic\n",
    "        vector_math = MathTex(r\"\\text{king} - \\text{man} + \\text{woman} \\approx \\text{queen}\")\n",
    "        vector_math.to_edge(LEFT)\n",
    "        self.play(Write(vector_math))\n",
    "        self.wait(2)\n",
    "\n",
    "        # Animate vector arithmetic\n",
    "        arrow1 = Arrow(start=plane.c2p(*words[\"king\"]), end=plane.c2p(*words[\"man\"]), color=ORANGE)\n",
    "        arrow2 = Arrow(start=plane.c2p(*words[\"man\"]), end=plane.c2p(*words[\"woman\"]), color=ORANGE)\n",
    "        arrow3 = Arrow(start=plane.c2p(*words[\"woman\"]), end=plane.c2p(*words[\"queen\"]), color=ORANGE)\n",
    "\n",
    "        self.play(Create(arrow1), Create(arrow2), Create(arrow3), run_time=2)\n",
    "        self.wait(2)\n",
    "\n",
    "        # Conclusion\n",
    "        conclusion = Text(\n",
    "            \"Word embeddings capture semantic relationships between words\",\n",
    "            font_size=32\n",
    "        ).next_to(relationship, UP)\n",
    "        self.play(Write(conclusion))\n",
    "        self.wait(2)"
   ]
  },
  {
   "cell_type": "code",
   "execution_count": 28,
   "metadata": {},
   "outputs": [
    {
     "data": {
      "text/html": [
       "<pre style=\"white-space:pre;overflow-x:auto;line-height:normal;font-family:Menlo,'DejaVu Sans Mono',consolas,'Courier New',monospace\">Manim Community <span style=\"color: #008000; text-decoration-color: #008000\">v0.18.1</span>\n",
       "\n",
       "</pre>\n"
      ],
      "text/plain": [
       "Manim Community \u001b[32mv0.\u001b[0m\u001b[32m18.1\u001b[0m\n",
       "\n"
      ]
     },
     "metadata": {},
     "output_type": "display_data"
    },
    {
     "name": "stderr",
     "output_type": "stream",
     "text": [
      "                                                                                                                                                                         \r"
     ]
    },
    {
     "data": {
      "text/html": [
       "<video src=\"media\\jupyter\\NetworkEffectsExplanation@2024-10-06@02-07-04.mp4\" controls autoplay loop style=\"max-width: 75%;\"  >\n",
       "      Your browser does not support the <code>video</code> element.\n",
       "    </video>"
      ],
      "text/plain": [
       "<IPython.core.display.Video object>"
      ]
     },
     "metadata": {},
     "output_type": "display_data"
    }
   ],
   "source": [
    "%%manim -qm NetworkEffectsExplanation\n",
    "\n",
    "class NetworkEffectsExplanation(Scene):\n",
    "    def construct(self):\n",
    "        # Title\n",
    "        title = Text(\"Network Effects\", font_size=42)\n",
    "        self.play(Write(title))\n",
    "        self.play(title.animate.to_edge(UP))\n",
    "        self.wait(1)\n",
    "\n",
    "        # Explanation text\n",
    "        explanation = Text(\n",
    "            \"The value of a network increases as more users join\",\n",
    "            font_size=24\n",
    "        ).next_to(title, DOWN)\n",
    "        self.play(Write(explanation))\n",
    "        self.wait(2)\n",
    "\n",
    "        # Create initial network\n",
    "        initial_nodes = VGroup(*[Dot(radius=0.1, color=BLUE) for _ in range(9)])\n",
    "        initial_nodes.arrange_in_grid(rows=3, buff=1)\n",
    "        self.play(Create(initial_nodes))\n",
    "        self.wait(1)\n",
    "\n",
    "        # Add connections\n",
    "        initial_connections = VGroup()\n",
    "        for i, node1 in enumerate(initial_nodes):\n",
    "            for j, node2 in enumerate(initial_nodes[i+1:], start=i+1):\n",
    "                if random.random() < 0.3:\n",
    "                    line = Line(node1.get_center(), node2.get_center(), stroke_opacity=0.5)\n",
    "                    initial_connections.add(line)\n",
    "        self.play(Create(initial_connections))\n",
    "        self.wait(1)\n",
    "\n",
    "        # Show value\n",
    "        value_text = Text(\"Network Value\", font_size=36).to_edge(LEFT)\n",
    "        value = DecimalNumber(9, num_decimal_places=0, font_size=36).next_to(value_text, RIGHT)\n",
    "        self.play(Write(value_text), Write(value))\n",
    "        self.wait(1)\n",
    "\n",
    "        # Add users and show increased value\n",
    "        for _ in range(3):\n",
    "            new_nodes = VGroup(*[Dot(radius=0.1, color=BLUE) for _ in range(9)])\n",
    "            new_nodes.move_to(initial_nodes.get_center())\n",
    "            new_nodes.scale(initial_nodes.width / new_nodes.width)\n",
    "            \n",
    "            all_nodes = VGroup(*initial_nodes, *new_nodes)\n",
    "            new_connections = VGroup()\n",
    "            for i, node1 in enumerate(all_nodes):\n",
    "                for j, node2 in enumerate(all_nodes[i+1:], start=i+1):\n",
    "                    if random.random() < 0.1:\n",
    "                        line = Line(node1.get_center(), node2.get_center(), stroke_opacity=0.5)\n",
    "                        new_connections.add(line)\n",
    "            \n",
    "            new_value = len(all_nodes) ** 2  # Metcalfe's Law\n",
    "            \n",
    "            self.play(\n",
    "                Create(new_nodes),\n",
    "                Create(new_connections),\n",
    "                ChangeDecimalToValue(value, new_value)\n",
    "            )\n",
    "            self.wait(1)\n",
    "            \n",
    "            initial_nodes.add(*new_nodes)\n",
    "            initial_connections.add(*new_connections)\n",
    "\n",
    "        # Highlight network effect\n",
    "        self.play(Indicate(initial_nodes, color=YELLOW), Indicate(initial_connections, color=YELLOW))\n",
    "        self.wait(1)\n",
    "\n",
    "        # Metcalfe's Law\n",
    "        metcalfe = Text(\"Metcalfe's Law: Value ∝ n²\", font_size=36).to_edge(DOWN)\n",
    "        self.play(Write(metcalfe))\n",
    "        self.wait(1)\n",
    "\n",
    "        # Examples\n",
    "        examples = VGroup(\n",
    "            Text(\"• Social networks\", font_size=24),\n",
    "            Text(\"• Communication platforms\", font_size=24),\n",
    "            Text(\"• Operating systems\", font_size=24)\n",
    "        ).arrange(DOWN, aligned_edge=LEFT).next_to(metcalfe, UP)\n",
    "        self.play(Write(examples))\n",
    "        self.wait(1)\n",
    "\n",
    "        # Conclusion\n",
    "        conclusion = Text(\n",
    "            \"Network effects create a positive feedback loop,\\ndriving rapid growth and market dominance\",\n",
    "            font_size=32\n",
    "        ).next_to(examples, UP)\n",
    "        self.play(Write(conclusion))\n",
    "        self.wait(2)"
   ]
  },
  {
   "cell_type": "code",
   "execution_count": 29,
   "metadata": {},
   "outputs": [
    {
     "data": {
      "text/html": [
       "<pre style=\"white-space:pre;overflow-x:auto;line-height:normal;font-family:Menlo,'DejaVu Sans Mono',consolas,'Courier New',monospace\">Manim Community <span style=\"color: #008000; text-decoration-color: #008000\">v0.18.1</span>\n",
       "\n",
       "</pre>\n"
      ],
      "text/plain": [
       "Manim Community \u001b[32mv0.\u001b[0m\u001b[32m18.1\u001b[0m\n",
       "\n"
      ]
     },
     "metadata": {},
     "output_type": "display_data"
    },
    {
     "ename": "KeyboardInterrupt",
     "evalue": "",
     "output_type": "error",
     "traceback": [
      "\u001b[1;31m---------------------------------------------------------------------------\u001b[0m",
      "\u001b[1;31mKeyboardInterrupt\u001b[0m                         Traceback (most recent call last)",
      "Cell \u001b[1;32mIn[29], line 1\u001b[0m\n\u001b[1;32m----> 1\u001b[0m \u001b[43mget_ipython\u001b[49m\u001b[43m(\u001b[49m\u001b[43m)\u001b[49m\u001b[38;5;241;43m.\u001b[39;49m\u001b[43mrun_cell_magic\u001b[49m\u001b[43m(\u001b[49m\u001b[38;5;124;43m'\u001b[39;49m\u001b[38;5;124;43mmanim\u001b[39;49m\u001b[38;5;124;43m'\u001b[39;49m\u001b[43m,\u001b[49m\u001b[43m \u001b[49m\u001b[38;5;124;43m'\u001b[39;49m\u001b[38;5;124;43m-qm SpacetimeWarpGravity3D\u001b[39;49m\u001b[38;5;124;43m'\u001b[39;49m\u001b[43m,\u001b[49m\u001b[43m \u001b[49m\u001b[38;5;124;43m'\u001b[39;49m\u001b[38;5;130;43;01m\\n\u001b[39;49;00m\u001b[38;5;124;43mimport numpy as np\u001b[39;49m\u001b[38;5;130;43;01m\\n\u001b[39;49;00m\u001b[38;5;130;43;01m\\n\u001b[39;49;00m\u001b[38;5;124;43mclass SpacetimeWarpGravity3D(ThreeDScene):\u001b[39;49m\u001b[38;5;130;43;01m\\n\u001b[39;49;00m\u001b[38;5;124;43m    def construct(self):\u001b[39;49m\u001b[38;5;130;43;01m\\n\u001b[39;49;00m\u001b[38;5;124;43m        # Set up the scene\u001b[39;49m\u001b[38;5;130;43;01m\\n\u001b[39;49;00m\u001b[38;5;124;43m        self.set_camera_orientation(phi=75 * DEGREES, theta=-30 * DEGREES)\u001b[39;49m\u001b[38;5;130;43;01m\\n\u001b[39;49;00m\u001b[38;5;124;43m        \u001b[39;49m\u001b[38;5;130;43;01m\\n\u001b[39;49;00m\u001b[38;5;124;43m        # Create a simplified 3D grid to represent spacetime\u001b[39;49m\u001b[38;5;130;43;01m\\n\u001b[39;49;00m\u001b[38;5;124;43m        spacetime = self.get_spacetime_grid()\u001b[39;49m\u001b[38;5;130;43;01m\\n\u001b[39;49;00m\u001b[38;5;124;43m        self.add(spacetime)\u001b[39;49m\u001b[38;5;130;43;01m\\n\u001b[39;49;00m\u001b[38;5;130;43;01m\\n\u001b[39;49;00m\u001b[38;5;124;43m        # Add a large mass (star)\u001b[39;49m\u001b[38;5;130;43;01m\\n\u001b[39;49;00m\u001b[38;5;124;43m        star = Sphere(radius=0.5, resolution=(10, 10)).set_color(YELLOW)\u001b[39;49m\u001b[38;5;130;43;01m\\n\u001b[39;49;00m\u001b[38;5;124;43m        self.add(star)\u001b[39;49m\u001b[38;5;130;43;01m\\n\u001b[39;49;00m\u001b[38;5;130;43;01m\\n\u001b[39;49;00m\u001b[38;5;124;43m        # Warp spacetime around the star\u001b[39;49m\u001b[38;5;130;43;01m\\n\u001b[39;49;00m\u001b[38;5;124;43m        warped_spacetime = self.get_warped_spacetime()\u001b[39;49m\u001b[38;5;130;43;01m\\n\u001b[39;49;00m\u001b[38;5;124;43m        self.play(Transform(spacetime, warped_spacetime), run_time=1.5)\u001b[39;49m\u001b[38;5;130;43;01m\\n\u001b[39;49;00m\u001b[38;5;130;43;01m\\n\u001b[39;49;00m\u001b[38;5;124;43m        # Add a smaller mass (planet)\u001b[39;49m\u001b[38;5;130;43;01m\\n\u001b[39;49;00m\u001b[38;5;124;43m        planet = Sphere(radius=0.2, resolution=(10, 10)).set_color(BLUE).move_to([2, 2, 0])\u001b[39;49m\u001b[38;5;130;43;01m\\n\u001b[39;49;00m\u001b[38;5;124;43m        self.add(planet)\u001b[39;49m\u001b[38;5;130;43;01m\\n\u001b[39;49;00m\u001b[38;5;130;43;01m\\n\u001b[39;49;00m\u001b[38;5;124;43m        # Show the planet\u001b[39;49m\u001b[38;5;130;43;01m\\'\u001b[39;49;00m\u001b[38;5;124;43ms path in curved spacetime\u001b[39;49m\u001b[38;5;130;43;01m\\n\u001b[39;49;00m\u001b[38;5;124;43m        orbit = self.get_orbit_path()\u001b[39;49m\u001b[38;5;130;43;01m\\n\u001b[39;49;00m\u001b[38;5;124;43m        self.add(orbit)\u001b[39;49m\u001b[38;5;130;43;01m\\n\u001b[39;49;00m\u001b[38;5;130;43;01m\\n\u001b[39;49;00m\u001b[38;5;124;43m        # Animate the planet\u001b[39;49m\u001b[38;5;130;43;01m\\'\u001b[39;49;00m\u001b[38;5;124;43ms motion\u001b[39;49m\u001b[38;5;130;43;01m\\n\u001b[39;49;00m\u001b[38;5;124;43m        self.play(MoveAlongPath(planet, orbit), run_time=3, rate_func=linear)\u001b[39;49m\u001b[38;5;130;43;01m\\n\u001b[39;49;00m\u001b[38;5;130;43;01m\\n\u001b[39;49;00m\u001b[38;5;124;43m        # Add explanation text\u001b[39;49m\u001b[38;5;130;43;01m\\n\u001b[39;49;00m\u001b[38;5;124;43m        explanation = Text(\u001b[39;49m\u001b[38;5;124;43m\"\u001b[39;49m\u001b[38;5;124;43mGravity: Masses warp spacetime\u001b[39;49m\u001b[38;5;124;43m\"\u001b[39;49m\u001b[38;5;124;43m, font_size=24)\u001b[39;49m\u001b[38;5;130;43;01m\\n\u001b[39;49;00m\u001b[38;5;124;43m        explanation.to_corner(UR)\u001b[39;49m\u001b[38;5;130;43;01m\\n\u001b[39;49;00m\u001b[38;5;124;43m        self.add_fixed_in_frame_mobjects(explanation)\u001b[39;49m\u001b[38;5;130;43;01m\\n\u001b[39;49;00m\u001b[38;5;124;43m        self.add(explanation)\u001b[39;49m\u001b[38;5;130;43;01m\\n\u001b[39;49;00m\u001b[38;5;130;43;01m\\n\u001b[39;49;00m\u001b[38;5;124;43m        # Brief camera rotation\u001b[39;49m\u001b[38;5;130;43;01m\\n\u001b[39;49;00m\u001b[38;5;124;43m        self.begin_ambient_camera_rotation(rate=0.1)\u001b[39;49m\u001b[38;5;130;43;01m\\n\u001b[39;49;00m\u001b[38;5;124;43m        self.wait(3)\u001b[39;49m\u001b[38;5;130;43;01m\\n\u001b[39;49;00m\u001b[38;5;124;43m        self.stop_ambient_camera_rotation()\u001b[39;49m\u001b[38;5;130;43;01m\\n\u001b[39;49;00m\u001b[38;5;130;43;01m\\n\u001b[39;49;00m\u001b[38;5;124;43m    def get_spacetime_grid(self):\u001b[39;49m\u001b[38;5;130;43;01m\\n\u001b[39;49;00m\u001b[38;5;124;43m        return VGroup(*[\u001b[39;49m\u001b[38;5;130;43;01m\\n\u001b[39;49;00m\u001b[38;5;124;43m            Line3D(start, end, color=BLUE_E)\u001b[39;49m\u001b[38;5;130;43;01m\\n\u001b[39;49;00m\u001b[38;5;124;43m            for start, end in [\u001b[39;49m\u001b[38;5;130;43;01m\\n\u001b[39;49;00m\u001b[38;5;124;43m                ([-5, i, 0], [5, i, 0]) for i in range(-5, 6, 2)\u001b[39;49m\u001b[38;5;130;43;01m\\n\u001b[39;49;00m\u001b[38;5;124;43m            ] + [\u001b[39;49m\u001b[38;5;130;43;01m\\n\u001b[39;49;00m\u001b[38;5;124;43m                ([i, -5, 0], [i, 5, 0]) for i in range(-5, 6, 2)\u001b[39;49m\u001b[38;5;130;43;01m\\n\u001b[39;49;00m\u001b[38;5;124;43m            ]\u001b[39;49m\u001b[38;5;130;43;01m\\n\u001b[39;49;00m\u001b[38;5;124;43m        ])\u001b[39;49m\u001b[38;5;130;43;01m\\n\u001b[39;49;00m\u001b[38;5;130;43;01m\\n\u001b[39;49;00m\u001b[38;5;124;43m    def get_warped_spacetime(self):\u001b[39;49m\u001b[38;5;130;43;01m\\n\u001b[39;49;00m\u001b[38;5;124;43m        def warp_function(point):\u001b[39;49m\u001b[38;5;130;43;01m\\n\u001b[39;49;00m\u001b[38;5;124;43m            x, y, z = point\u001b[39;49m\u001b[38;5;130;43;01m\\n\u001b[39;49;00m\u001b[38;5;124;43m            distance = max(np.sqrt(x**2 + y**2), 0.1)\u001b[39;49m\u001b[38;5;130;43;01m\\n\u001b[39;49;00m\u001b[38;5;124;43m            return [x, y, -1 / distance]\u001b[39;49m\u001b[38;5;130;43;01m\\n\u001b[39;49;00m\u001b[38;5;130;43;01m\\n\u001b[39;49;00m\u001b[38;5;124;43m        return VGroup(*[\u001b[39;49m\u001b[38;5;130;43;01m\\n\u001b[39;49;00m\u001b[38;5;124;43m            ParametricFunction(\u001b[39;49m\u001b[38;5;130;43;01m\\n\u001b[39;49;00m\u001b[38;5;124;43m                lambda t: warp_function([-5 + t*10, i, 0]),\u001b[39;49m\u001b[38;5;130;43;01m\\n\u001b[39;49;00m\u001b[38;5;124;43m                t_range=[0, 1],\u001b[39;49m\u001b[38;5;130;43;01m\\n\u001b[39;49;00m\u001b[38;5;124;43m                color=BLUE_E\u001b[39;49m\u001b[38;5;130;43;01m\\n\u001b[39;49;00m\u001b[38;5;124;43m            )\u001b[39;49m\u001b[38;5;130;43;01m\\n\u001b[39;49;00m\u001b[38;5;124;43m            for i in range(-5, 6, 2)\u001b[39;49m\u001b[38;5;130;43;01m\\n\u001b[39;49;00m\u001b[38;5;124;43m        ] + [\u001b[39;49m\u001b[38;5;130;43;01m\\n\u001b[39;49;00m\u001b[38;5;124;43m            ParametricFunction(\u001b[39;49m\u001b[38;5;130;43;01m\\n\u001b[39;49;00m\u001b[38;5;124;43m                lambda t: warp_function([i, -5 + t*10, 0]),\u001b[39;49m\u001b[38;5;130;43;01m\\n\u001b[39;49;00m\u001b[38;5;124;43m                t_range=[0, 1],\u001b[39;49m\u001b[38;5;130;43;01m\\n\u001b[39;49;00m\u001b[38;5;124;43m                color=BLUE_E\u001b[39;49m\u001b[38;5;130;43;01m\\n\u001b[39;49;00m\u001b[38;5;124;43m            )\u001b[39;49m\u001b[38;5;130;43;01m\\n\u001b[39;49;00m\u001b[38;5;124;43m            for i in range(-5, 6, 2)\u001b[39;49m\u001b[38;5;130;43;01m\\n\u001b[39;49;00m\u001b[38;5;124;43m        ])\u001b[39;49m\u001b[38;5;130;43;01m\\n\u001b[39;49;00m\u001b[38;5;130;43;01m\\n\u001b[39;49;00m\u001b[38;5;124;43m    def get_orbit_path(self):\u001b[39;49m\u001b[38;5;130;43;01m\\n\u001b[39;49;00m\u001b[38;5;124;43m        return ParametricFunction(\u001b[39;49m\u001b[38;5;130;43;01m\\n\u001b[39;49;00m\u001b[38;5;124;43m            lambda t: [2 * np.cos(t), 2 * np.sin(t), -0.5 / np.sqrt(4 + 0.25 * np.sin(t)**2)],\u001b[39;49m\u001b[38;5;130;43;01m\\n\u001b[39;49;00m\u001b[38;5;124;43m            t_range=[0, TAU],\u001b[39;49m\u001b[38;5;130;43;01m\\n\u001b[39;49;00m\u001b[38;5;124;43m            color=GREEN\u001b[39;49m\u001b[38;5;130;43;01m\\n\u001b[39;49;00m\u001b[38;5;124;43m        )\u001b[39;49m\u001b[38;5;130;43;01m\\n\u001b[39;49;00m\u001b[38;5;124;43m'\u001b[39;49m\u001b[43m)\u001b[49m\n",
      "File \u001b[1;32mc:\\Users\\berge\\Desktop\\a16z\\a16z-hackathon\\venv\\Lib\\site-packages\\IPython\\core\\interactiveshell.py:2541\u001b[0m, in \u001b[0;36mInteractiveShell.run_cell_magic\u001b[1;34m(self, magic_name, line, cell)\u001b[0m\n\u001b[0;32m   2539\u001b[0m \u001b[38;5;28;01mwith\u001b[39;00m \u001b[38;5;28mself\u001b[39m\u001b[38;5;241m.\u001b[39mbuiltin_trap:\n\u001b[0;32m   2540\u001b[0m     args \u001b[38;5;241m=\u001b[39m (magic_arg_s, cell)\n\u001b[1;32m-> 2541\u001b[0m     result \u001b[38;5;241m=\u001b[39m \u001b[43mfn\u001b[49m\u001b[43m(\u001b[49m\u001b[38;5;241;43m*\u001b[39;49m\u001b[43margs\u001b[49m\u001b[43m,\u001b[49m\u001b[43m \u001b[49m\u001b[38;5;241;43m*\u001b[39;49m\u001b[38;5;241;43m*\u001b[39;49m\u001b[43mkwargs\u001b[49m\u001b[43m)\u001b[49m\n\u001b[0;32m   2543\u001b[0m \u001b[38;5;66;03m# The code below prevents the output from being displayed\u001b[39;00m\n\u001b[0;32m   2544\u001b[0m \u001b[38;5;66;03m# when using magics with decorator @output_can_be_silenced\u001b[39;00m\n\u001b[0;32m   2545\u001b[0m \u001b[38;5;66;03m# when the last Python token in the expression is a ';'.\u001b[39;00m\n\u001b[0;32m   2546\u001b[0m \u001b[38;5;28;01mif\u001b[39;00m \u001b[38;5;28mgetattr\u001b[39m(fn, magic\u001b[38;5;241m.\u001b[39mMAGIC_OUTPUT_CAN_BE_SILENCED, \u001b[38;5;28;01mFalse\u001b[39;00m):\n",
      "File \u001b[1;32mc:\\Users\\berge\\Desktop\\a16z\\a16z-hackathon\\venv\\Lib\\site-packages\\manim\\utils\\ipython_magic.py:143\u001b[0m, in \u001b[0;36mManimMagic.manim\u001b[1;34m(self, line, cell, local_ns)\u001b[0m\n\u001b[0;32m    141\u001b[0m     SceneClass \u001b[38;5;241m=\u001b[39m local_ns[config[\u001b[38;5;124m\"\u001b[39m\u001b[38;5;124mscene_names\u001b[39m\u001b[38;5;124m\"\u001b[39m][\u001b[38;5;241m0\u001b[39m]]\n\u001b[0;32m    142\u001b[0m     scene \u001b[38;5;241m=\u001b[39m SceneClass(renderer\u001b[38;5;241m=\u001b[39mrenderer)\n\u001b[1;32m--> 143\u001b[0m     \u001b[43mscene\u001b[49m\u001b[38;5;241;43m.\u001b[39;49m\u001b[43mrender\u001b[49m\u001b[43m(\u001b[49m\u001b[43m)\u001b[49m\n\u001b[0;32m    144\u001b[0m \u001b[38;5;28;01mfinally\u001b[39;00m:\n\u001b[0;32m    145\u001b[0m     \u001b[38;5;66;03m# Shader cache becomes invalid as the context is destroyed\u001b[39;00m\n\u001b[0;32m    146\u001b[0m     shader_program_cache\u001b[38;5;241m.\u001b[39mclear()\n",
      "File \u001b[1;32mc:\\Users\\berge\\Desktop\\a16z\\a16z-hackathon\\venv\\Lib\\site-packages\\manim\\scene\\scene.py:229\u001b[0m, in \u001b[0;36mScene.render\u001b[1;34m(self, preview)\u001b[0m\n\u001b[0;32m    227\u001b[0m \u001b[38;5;28mself\u001b[39m\u001b[38;5;241m.\u001b[39msetup()\n\u001b[0;32m    228\u001b[0m \u001b[38;5;28;01mtry\u001b[39;00m:\n\u001b[1;32m--> 229\u001b[0m     \u001b[38;5;28;43mself\u001b[39;49m\u001b[38;5;241;43m.\u001b[39;49m\u001b[43mconstruct\u001b[49m\u001b[43m(\u001b[49m\u001b[43m)\u001b[49m\n\u001b[0;32m    230\u001b[0m \u001b[38;5;28;01mexcept\u001b[39;00m EndSceneEarlyException:\n\u001b[0;32m    231\u001b[0m     \u001b[38;5;28;01mpass\u001b[39;00m\n",
      "File \u001b[1;32m<string>:19\u001b[0m, in \u001b[0;36mconstruct\u001b[1;34m(self)\u001b[0m\n",
      "File \u001b[1;32mc:\\Users\\berge\\Desktop\\a16z\\a16z-hackathon\\venv\\Lib\\site-packages\\manim\\scene\\scene.py:1092\u001b[0m, in \u001b[0;36mScene.play\u001b[1;34m(self, subcaption, subcaption_duration, subcaption_offset, *args, **kwargs)\u001b[0m\n\u001b[0;32m   1089\u001b[0m     \u001b[38;5;28;01mreturn\u001b[39;00m\n\u001b[0;32m   1091\u001b[0m start_time \u001b[38;5;241m=\u001b[39m \u001b[38;5;28mself\u001b[39m\u001b[38;5;241m.\u001b[39mrenderer\u001b[38;5;241m.\u001b[39mtime\n\u001b[1;32m-> 1092\u001b[0m \u001b[38;5;28;43mself\u001b[39;49m\u001b[38;5;241;43m.\u001b[39;49m\u001b[43mrenderer\u001b[49m\u001b[38;5;241;43m.\u001b[39;49m\u001b[43mplay\u001b[49m\u001b[43m(\u001b[49m\u001b[38;5;28;43mself\u001b[39;49m\u001b[43m,\u001b[49m\u001b[43m \u001b[49m\u001b[38;5;241;43m*\u001b[39;49m\u001b[43margs\u001b[49m\u001b[43m,\u001b[49m\u001b[43m \u001b[49m\u001b[38;5;241;43m*\u001b[39;49m\u001b[38;5;241;43m*\u001b[39;49m\u001b[43mkwargs\u001b[49m\u001b[43m)\u001b[49m\n\u001b[0;32m   1093\u001b[0m run_time \u001b[38;5;241m=\u001b[39m \u001b[38;5;28mself\u001b[39m\u001b[38;5;241m.\u001b[39mrenderer\u001b[38;5;241m.\u001b[39mtime \u001b[38;5;241m-\u001b[39m start_time\n\u001b[0;32m   1094\u001b[0m \u001b[38;5;28;01mif\u001b[39;00m subcaption:\n",
      "File \u001b[1;32mc:\\Users\\berge\\Desktop\\a16z\\a16z-hackathon\\venv\\Lib\\site-packages\\manim\\renderer\\cairo_renderer.py:103\u001b[0m, in \u001b[0;36mCairoRenderer.play\u001b[1;34m(self, scene, *args, **kwargs)\u001b[0m\n\u001b[0;32m     97\u001b[0m logger\u001b[38;5;241m.\u001b[39mdebug(\n\u001b[0;32m     98\u001b[0m     \u001b[38;5;124m\"\u001b[39m\u001b[38;5;124mList of the first few animation hashes of the scene: \u001b[39m\u001b[38;5;132;01m%(h)s\u001b[39;00m\u001b[38;5;124m\"\u001b[39m,\n\u001b[0;32m     99\u001b[0m     {\u001b[38;5;124m\"\u001b[39m\u001b[38;5;124mh\u001b[39m\u001b[38;5;124m\"\u001b[39m: \u001b[38;5;28mstr\u001b[39m(\u001b[38;5;28mself\u001b[39m\u001b[38;5;241m.\u001b[39manimations_hashes[:\u001b[38;5;241m5\u001b[39m])},\n\u001b[0;32m    100\u001b[0m )\n\u001b[0;32m    102\u001b[0m \u001b[38;5;28mself\u001b[39m\u001b[38;5;241m.\u001b[39mfile_writer\u001b[38;5;241m.\u001b[39mbegin_animation(\u001b[38;5;129;01mnot\u001b[39;00m \u001b[38;5;28mself\u001b[39m\u001b[38;5;241m.\u001b[39mskip_animations)\n\u001b[1;32m--> 103\u001b[0m \u001b[43mscene\u001b[49m\u001b[38;5;241;43m.\u001b[39;49m\u001b[43mbegin_animations\u001b[49m\u001b[43m(\u001b[49m\u001b[43m)\u001b[49m\n\u001b[0;32m    105\u001b[0m \u001b[38;5;66;03m# Save a static image, to avoid rendering non moving objects.\u001b[39;00m\n\u001b[0;32m    106\u001b[0m \u001b[38;5;28mself\u001b[39m\u001b[38;5;241m.\u001b[39msave_static_frame_data(scene, scene\u001b[38;5;241m.\u001b[39mstatic_mobjects)\n",
      "File \u001b[1;32mc:\\Users\\berge\\Desktop\\a16z\\a16z-hackathon\\venv\\Lib\\site-packages\\manim\\scene\\scene.py:1224\u001b[0m, in \u001b[0;36mScene.begin_animations\u001b[1;34m(self)\u001b[0m\n\u001b[0;32m   1222\u001b[0m \u001b[38;5;28;01mfor\u001b[39;00m animation \u001b[38;5;129;01min\u001b[39;00m \u001b[38;5;28mself\u001b[39m\u001b[38;5;241m.\u001b[39manimations:\n\u001b[0;32m   1223\u001b[0m     animation\u001b[38;5;241m.\u001b[39m_setup_scene(\u001b[38;5;28mself\u001b[39m)\n\u001b[1;32m-> 1224\u001b[0m     \u001b[43manimation\u001b[49m\u001b[38;5;241;43m.\u001b[39;49m\u001b[43mbegin\u001b[49m\u001b[43m(\u001b[49m\u001b[43m)\u001b[49m\n\u001b[0;32m   1226\u001b[0m \u001b[38;5;28;01mif\u001b[39;00m config\u001b[38;5;241m.\u001b[39mrenderer \u001b[38;5;241m==\u001b[39m RendererType\u001b[38;5;241m.\u001b[39mCAIRO:\n\u001b[0;32m   1227\u001b[0m     \u001b[38;5;66;03m# Paint all non-moving objects onto the screen, so they don't\u001b[39;00m\n\u001b[0;32m   1228\u001b[0m     \u001b[38;5;66;03m# have to be rendered every frame\u001b[39;00m\n\u001b[0;32m   1229\u001b[0m     (\n\u001b[0;32m   1230\u001b[0m         \u001b[38;5;28mself\u001b[39m\u001b[38;5;241m.\u001b[39mmoving_mobjects,\n\u001b[0;32m   1231\u001b[0m         \u001b[38;5;28mself\u001b[39m\u001b[38;5;241m.\u001b[39mstatic_mobjects,\n\u001b[0;32m   1232\u001b[0m     ) \u001b[38;5;241m=\u001b[39m \u001b[38;5;28mself\u001b[39m\u001b[38;5;241m.\u001b[39mget_moving_and_static_mobjects(\u001b[38;5;28mself\u001b[39m\u001b[38;5;241m.\u001b[39manimations)\n",
      "File \u001b[1;32mc:\\Users\\berge\\Desktop\\a16z\\a16z-hackathon\\venv\\Lib\\site-packages\\manim\\animation\\transform.py:203\u001b[0m, in \u001b[0;36mTransform.begin\u001b[1;34m(self)\u001b[0m\n\u001b[0;32m    201\u001b[0m     \u001b[38;5;28mself\u001b[39m\u001b[38;5;241m.\u001b[39mmobject\u001b[38;5;241m.\u001b[39malign_data_and_family(\u001b[38;5;28mself\u001b[39m\u001b[38;5;241m.\u001b[39mtarget_copy)\n\u001b[0;32m    202\u001b[0m \u001b[38;5;28;01melse\u001b[39;00m:\n\u001b[1;32m--> 203\u001b[0m     \u001b[38;5;28;43mself\u001b[39;49m\u001b[38;5;241;43m.\u001b[39;49m\u001b[43mmobject\u001b[49m\u001b[38;5;241;43m.\u001b[39;49m\u001b[43malign_data\u001b[49m\u001b[43m(\u001b[49m\u001b[38;5;28;43mself\u001b[39;49m\u001b[38;5;241;43m.\u001b[39;49m\u001b[43mtarget_copy\u001b[49m\u001b[43m)\u001b[49m\n\u001b[0;32m    204\u001b[0m \u001b[38;5;28msuper\u001b[39m()\u001b[38;5;241m.\u001b[39mbegin()\n",
      "File \u001b[1;32mc:\\Users\\berge\\Desktop\\a16z\\a16z-hackathon\\venv\\Lib\\site-packages\\manim\\mobject\\mobject.py:2657\u001b[0m, in \u001b[0;36mMobject.align_data\u001b[1;34m(self, mobject, skip_point_alignment)\u001b[0m\n\u001b[0;32m   2655\u001b[0m \u001b[38;5;66;03m# Recurse\u001b[39;00m\n\u001b[0;32m   2656\u001b[0m \u001b[38;5;28;01mfor\u001b[39;00m m1, m2 \u001b[38;5;129;01min\u001b[39;00m \u001b[38;5;28mzip\u001b[39m(\u001b[38;5;28mself\u001b[39m\u001b[38;5;241m.\u001b[39msubmobjects, mobject\u001b[38;5;241m.\u001b[39msubmobjects):\n\u001b[1;32m-> 2657\u001b[0m     \u001b[43mm1\u001b[49m\u001b[38;5;241;43m.\u001b[39;49m\u001b[43malign_data\u001b[49m\u001b[43m(\u001b[49m\u001b[43mm2\u001b[49m\u001b[43m)\u001b[49m\n",
      "File \u001b[1;32mc:\\Users\\berge\\Desktop\\a16z\\a16z-hackathon\\venv\\Lib\\site-packages\\manim\\mobject\\mobject.py:2657\u001b[0m, in \u001b[0;36mMobject.align_data\u001b[1;34m(self, mobject, skip_point_alignment)\u001b[0m\n\u001b[0;32m   2655\u001b[0m \u001b[38;5;66;03m# Recurse\u001b[39;00m\n\u001b[0;32m   2656\u001b[0m \u001b[38;5;28;01mfor\u001b[39;00m m1, m2 \u001b[38;5;129;01min\u001b[39;00m \u001b[38;5;28mzip\u001b[39m(\u001b[38;5;28mself\u001b[39m\u001b[38;5;241m.\u001b[39msubmobjects, mobject\u001b[38;5;241m.\u001b[39msubmobjects):\n\u001b[1;32m-> 2657\u001b[0m     \u001b[43mm1\u001b[49m\u001b[38;5;241;43m.\u001b[39;49m\u001b[43malign_data\u001b[49m\u001b[43m(\u001b[49m\u001b[43mm2\u001b[49m\u001b[43m)\u001b[49m\n",
      "File \u001b[1;32mc:\\Users\\berge\\Desktop\\a16z\\a16z-hackathon\\venv\\Lib\\site-packages\\manim\\mobject\\mobject.py:2654\u001b[0m, in \u001b[0;36mMobject.align_data\u001b[1;34m(self, mobject, skip_point_alignment)\u001b[0m\n\u001b[0;32m   2652\u001b[0m \u001b[38;5;28mself\u001b[39m\u001b[38;5;241m.\u001b[39malign_submobjects(mobject)\n\u001b[0;32m   2653\u001b[0m \u001b[38;5;28;01mif\u001b[39;00m \u001b[38;5;129;01mnot\u001b[39;00m skip_point_alignment:\n\u001b[1;32m-> 2654\u001b[0m     \u001b[38;5;28;43mself\u001b[39;49m\u001b[38;5;241;43m.\u001b[39;49m\u001b[43malign_points\u001b[49m\u001b[43m(\u001b[49m\u001b[43mmobject\u001b[49m\u001b[43m)\u001b[49m\n\u001b[0;32m   2655\u001b[0m \u001b[38;5;66;03m# Recurse\u001b[39;00m\n\u001b[0;32m   2656\u001b[0m \u001b[38;5;28;01mfor\u001b[39;00m m1, m2 \u001b[38;5;129;01min\u001b[39;00m \u001b[38;5;28mzip\u001b[39m(\u001b[38;5;28mself\u001b[39m\u001b[38;5;241m.\u001b[39msubmobjects, mobject\u001b[38;5;241m.\u001b[39msubmobjects):\n",
      "File \u001b[1;32mc:\\Users\\berge\\Desktop\\a16z\\a16z-hackathon\\venv\\Lib\\site-packages\\manim\\mobject\\types\\vectorized_mobject.py:1653\u001b[0m, in \u001b[0;36mVMobject.align_points\u001b[1;34m(self, vmobject)\u001b[0m\n\u001b[0;32m   1651\u001b[0m diff2 \u001b[38;5;241m=\u001b[39m \u001b[38;5;28mmax\u001b[39m(\u001b[38;5;241m0\u001b[39m, (\u001b[38;5;28mlen\u001b[39m(sp1) \u001b[38;5;241m-\u001b[39m \u001b[38;5;28mlen\u001b[39m(sp2)) \u001b[38;5;241m/\u001b[39m\u001b[38;5;241m/\u001b[39m nppcc)\n\u001b[0;32m   1652\u001b[0m sp1 \u001b[38;5;241m=\u001b[39m \u001b[38;5;28mself\u001b[39m\u001b[38;5;241m.\u001b[39minsert_n_curves_to_point_list(diff1, sp1)\n\u001b[1;32m-> 1653\u001b[0m sp2 \u001b[38;5;241m=\u001b[39m \u001b[38;5;28;43mself\u001b[39;49m\u001b[38;5;241;43m.\u001b[39;49m\u001b[43minsert_n_curves_to_point_list\u001b[49m\u001b[43m(\u001b[49m\u001b[43mdiff2\u001b[49m\u001b[43m,\u001b[49m\u001b[43m \u001b[49m\u001b[43msp2\u001b[49m\u001b[43m)\u001b[49m\n\u001b[0;32m   1654\u001b[0m new_path1 \u001b[38;5;241m=\u001b[39m np\u001b[38;5;241m.\u001b[39mappend(new_path1, sp1, axis\u001b[38;5;241m=\u001b[39m\u001b[38;5;241m0\u001b[39m)\n\u001b[0;32m   1655\u001b[0m new_path2 \u001b[38;5;241m=\u001b[39m np\u001b[38;5;241m.\u001b[39mappend(new_path2, sp2, axis\u001b[38;5;241m=\u001b[39m\u001b[38;5;241m0\u001b[39m)\n",
      "File \u001b[1;32mc:\\Users\\berge\\Desktop\\a16z\\a16z-hackathon\\venv\\Lib\\site-packages\\manim\\mobject\\types\\vectorized_mobject.py:1735\u001b[0m, in \u001b[0;36mVMobject.insert_n_curves_to_point_list\u001b[1;34m(self, n, points)\u001b[0m\n\u001b[0;32m   1731\u001b[0m     alphas \u001b[38;5;241m=\u001b[39m np\u001b[38;5;241m.\u001b[39mlinspace(\u001b[38;5;241m0\u001b[39m, \u001b[38;5;241m1\u001b[39m, sf \u001b[38;5;241m+\u001b[39m \u001b[38;5;241m1\u001b[39m)\n\u001b[0;32m   1732\u001b[0m     \u001b[38;5;28;01mfor\u001b[39;00m a1, a2 \u001b[38;5;129;01min\u001b[39;00m \u001b[38;5;28mzip\u001b[39m(alphas, alphas[\u001b[38;5;241m1\u001b[39m:]):\n\u001b[0;32m   1733\u001b[0m         new_points \u001b[38;5;241m=\u001b[39m np\u001b[38;5;241m.\u001b[39mappend(\n\u001b[0;32m   1734\u001b[0m             new_points,\n\u001b[1;32m-> 1735\u001b[0m             \u001b[43mpartial_bezier_points\u001b[49m\u001b[43m(\u001b[49m\u001b[43mquad\u001b[49m\u001b[43m,\u001b[49m\u001b[43m \u001b[49m\u001b[43ma1\u001b[49m\u001b[43m,\u001b[49m\u001b[43m \u001b[49m\u001b[43ma2\u001b[49m\u001b[43m)\u001b[49m,\n\u001b[0;32m   1736\u001b[0m             axis\u001b[38;5;241m=\u001b[39m\u001b[38;5;241m0\u001b[39m,\n\u001b[0;32m   1737\u001b[0m         )\n\u001b[0;32m   1738\u001b[0m \u001b[38;5;28;01mreturn\u001b[39;00m new_points\n",
      "File \u001b[1;32mc:\\Users\\berge\\Desktop\\a16z\\a16z-hackathon\\venv\\Lib\\site-packages\\manim\\utils\\bezier.py:118\u001b[0m, in \u001b[0;36mpartial_bezier_points\u001b[1;34m(points, a, b)\u001b[0m\n\u001b[0;32m    113\u001b[0m a_to_1 \u001b[38;5;241m=\u001b[39m np\u001b[38;5;241m.\u001b[39masarray(\n\u001b[0;32m    114\u001b[0m     [bezier(points[i:])(a) \u001b[38;5;28;01mfor\u001b[39;00m i \u001b[38;5;129;01min\u001b[39;00m \u001b[38;5;28mrange\u001b[39m(_len)],\n\u001b[0;32m    115\u001b[0m     dtype\u001b[38;5;241m=\u001b[39mPointDType,\n\u001b[0;32m    116\u001b[0m )\n\u001b[0;32m    117\u001b[0m end_prop \u001b[38;5;241m=\u001b[39m (b \u001b[38;5;241m-\u001b[39m a) \u001b[38;5;241m/\u001b[39m (\u001b[38;5;241m1.0\u001b[39m \u001b[38;5;241m-\u001b[39m a)\n\u001b[1;32m--> 118\u001b[0m \u001b[38;5;28;01mreturn\u001b[39;00m \u001b[43mnp\u001b[49m\u001b[38;5;241;43m.\u001b[39;49m\u001b[43masarray\u001b[49m\u001b[43m(\u001b[49m\n\u001b[0;32m    119\u001b[0m \u001b[43m    \u001b[49m\u001b[43m[\u001b[49m\u001b[43mbezier\u001b[49m\u001b[43m(\u001b[49m\u001b[43ma_to_1\u001b[49m\u001b[43m[\u001b[49m\u001b[43m:\u001b[49m\u001b[43m \u001b[49m\u001b[43mi\u001b[49m\u001b[43m \u001b[49m\u001b[38;5;241;43m+\u001b[39;49m\u001b[43m \u001b[49m\u001b[38;5;241;43m1\u001b[39;49m\u001b[43m]\u001b[49m\u001b[43m)\u001b[49m\u001b[43m(\u001b[49m\u001b[43mend_prop\u001b[49m\u001b[43m)\u001b[49m\u001b[43m \u001b[49m\u001b[38;5;28;43;01mfor\u001b[39;49;00m\u001b[43m \u001b[49m\u001b[43mi\u001b[49m\u001b[43m \u001b[49m\u001b[38;5;129;43;01min\u001b[39;49;00m\u001b[43m \u001b[49m\u001b[38;5;28;43mrange\u001b[39;49m\u001b[43m(\u001b[49m\u001b[43m_len\u001b[49m\u001b[43m)\u001b[49m\u001b[43m]\u001b[49m\u001b[43m,\u001b[49m\n\u001b[0;32m    120\u001b[0m \u001b[43m    \u001b[49m\u001b[43mdtype\u001b[49m\u001b[38;5;241;43m=\u001b[39;49m\u001b[43mPointDType\u001b[49m\u001b[43m,\u001b[49m\n\u001b[0;32m    121\u001b[0m \u001b[43m\u001b[49m\u001b[43m)\u001b[49m\n",
      "\u001b[1;31mKeyboardInterrupt\u001b[0m: "
     ]
    }
   ],
   "source": [
    "%%manim -qm SpacetimeWarpGravity3D\n",
    "\n",
    "import numpy as np\n",
    "\n",
    "class SpacetimeWarpGravity3D(ThreeDScene):\n",
    "    def construct(self):\n",
    "        # Set up the scene\n",
    "        self.set_camera_orientation(phi=75 * DEGREES, theta=-30 * DEGREES)\n",
    "        \n",
    "        # Create a simplified 3D grid to represent spacetime\n",
    "        spacetime = self.get_spacetime_grid()\n",
    "        self.add(spacetime)\n",
    "\n",
    "        # Add a large mass (star)\n",
    "        star = Sphere(radius=0.5, resolution=(10, 10)).set_color(YELLOW)\n",
    "        self.add(star)\n",
    "\n",
    "        # Warp spacetime around the star\n",
    "        warped_spacetime = self.get_warped_spacetime()\n",
    "        self.play(Transform(spacetime, warped_spacetime), run_time=1.5)\n",
    "\n",
    "        # Add a smaller mass (planet)\n",
    "        planet = Sphere(radius=0.2, resolution=(10, 10)).set_color(BLUE).move_to([2, 2, 0])\n",
    "        self.add(planet)\n",
    "\n",
    "        # Show the planet's path in curved spacetime\n",
    "        orbit = self.get_orbit_path()\n",
    "        self.add(orbit)\n",
    "\n",
    "        # Animate the planet's motion\n",
    "        self.play(MoveAlongPath(planet, orbit), run_time=3, rate_func=linear)\n",
    "\n",
    "        # Add explanation text\n",
    "        explanation = Text(\"Gravity: Masses warp spacetime\", font_size=24)\n",
    "        explanation.to_corner(UR)\n",
    "        self.add_fixed_in_frame_mobjects(explanation)\n",
    "        self.add(explanation)\n",
    "\n",
    "        # Brief camera rotation\n",
    "        self.begin_ambient_camera_rotation(rate=0.1)\n",
    "        self.wait(3)\n",
    "        self.stop_ambient_camera_rotation()\n",
    "\n",
    "    def get_spacetime_grid(self):\n",
    "        return VGroup(*[\n",
    "            Line3D(start, end, color=BLUE_E)\n",
    "            for start, end in [\n",
    "                ([-5, i, 0], [5, i, 0]) for i in range(-5, 6, 2)\n",
    "            ] + [\n",
    "                ([i, -5, 0], [i, 5, 0]) for i in range(-5, 6, 2)\n",
    "            ]\n",
    "        ])\n",
    "\n",
    "    def get_warped_spacetime(self):\n",
    "        def warp_function(point):\n",
    "            x, y, z = point\n",
    "            distance = max(np.sqrt(x**2 + y**2), 0.1)\n",
    "            return [x, y, -1 / distance]\n",
    "\n",
    "        return VGroup(*[\n",
    "            ParametricFunction(\n",
    "                lambda t: warp_function([-5 + t*10, i, 0]),\n",
    "                t_range=[0, 1],\n",
    "                color=BLUE_E\n",
    "            )\n",
    "            for i in range(-5, 6, 2)\n",
    "        ] + [\n",
    "            ParametricFunction(\n",
    "                lambda t: warp_function([i, -5 + t*10, 0]),\n",
    "                t_range=[0, 1],\n",
    "                color=BLUE_E\n",
    "            )\n",
    "            for i in range(-5, 6, 2)\n",
    "        ])\n",
    "\n",
    "    def get_orbit_path(self):\n",
    "        return ParametricFunction(\n",
    "            lambda t: [2 * np.cos(t), 2 * np.sin(t), -0.5 / np.sqrt(4 + 0.25 * np.sin(t)**2)],\n",
    "            t_range=[0, TAU],\n",
    "            color=GREEN\n",
    "        )\n"
   ]
  },
  {
   "cell_type": "code",
   "execution_count": 31,
   "metadata": {},
   "outputs": [
    {
     "data": {
      "text/html": [
       "<pre style=\"white-space:pre;overflow-x:auto;line-height:normal;font-family:Menlo,'DejaVu Sans Mono',consolas,'Courier New',monospace\">Manim Community <span style=\"color: #008000; text-decoration-color: #008000\">v0.18.1</span>\n",
       "\n",
       "</pre>\n"
      ],
      "text/plain": [
       "Manim Community \u001b[32mv0.\u001b[0m\u001b[32m18.1\u001b[0m\n",
       "\n"
      ]
     },
     "metadata": {},
     "output_type": "display_data"
    },
    {
     "name": "stderr",
     "output_type": "stream",
     "text": [
      "                                                                                                                                                                        \r"
     ]
    },
    {
     "data": {
      "text/html": [
       "<video src=\"media\\jupyter\\FourColorTheoremExplanation@2024-10-06@02-09-04.mp4\" controls autoplay loop style=\"max-width: 75%;\"  >\n",
       "      Your browser does not support the <code>video</code> element.\n",
       "    </video>"
      ],
      "text/plain": [
       "<IPython.core.display.Video object>"
      ]
     },
     "metadata": {},
     "output_type": "display_data"
    }
   ],
   "source": [
    "%%manim -qm FourColorTheoremExplanation\n",
    "\n",
    "from manim import *\n",
    "\n",
    "class FourColorTheoremExplanation(Scene):\n",
    "    def construct(self):\n",
    "        # Title\n",
    "        title = Text(\"Four Color Theorem\", font_size=48).to_edge(UP)\n",
    "        self.play(Write(title))\n",
    "\n",
    "        # Explanation\n",
    "        explanation = Text(\n",
    "            \"Any map can be colored using at most four colors\\n\"\n",
    "            \"such that no adjacent regions share the same color.\",\n",
    "            font_size=24\n",
    "        ).next_to(title, DOWN)\n",
    "        self.play(Write(explanation))\n",
    "\n",
    "        # Create and color a simple map\n",
    "        colors = [RED, GREEN, BLUE, YELLOW]\n",
    "        map_outline = Circle(radius=3, color=WHITE)\n",
    "        regions = VGroup(*[\n",
    "            Polygon(*[\n",
    "                map_outline.point_from_proportion((i/20 + j/5) % 1)  # Ensure alpha is between 0 and 1\n",
    "                for i in range(20)\n",
    "            ]).set_stroke(WHITE, 2).set_fill(colors[j % 4], 0.7)\n",
    "            for j in range(5)\n",
    "        ])\n",
    "\n",
    "        self.play(Create(map_outline), Create(regions))\n",
    "\n",
    "        # Show the four colors used\n",
    "        color_squares = VGroup(*[\n",
    "            Square(side_length=0.5, fill_color=color, fill_opacity=1, stroke_width=2) \n",
    "            for color in colors\n",
    "        ]).arrange(RIGHT, buff=0.3).to_edge(DOWN, buff=0.5)\n",
    "        self.play(Create(color_squares))\n",
    "\n",
    "        # Conclusion\n",
    "        conclusion = Text(\n",
    "            \"The Four Color Theorem was proved in 1976\\n\"\n",
    "            \"using computer-assisted mathematical proof.\",\n",
    "            font_size=24\n",
    "        ).next_to(color_squares, UP)\n",
    "        self.play(Write(conclusion))\n",
    "\n",
    "        self.wait(2)\n"
   ]
  },
  {
   "cell_type": "code",
   "execution_count": 32,
   "metadata": {},
   "outputs": [
    {
     "data": {
      "text/html": [
       "<pre style=\"white-space:pre;overflow-x:auto;line-height:normal;font-family:Menlo,'DejaVu Sans Mono',consolas,'Courier New',monospace\">Manim Community <span style=\"color: #008000; text-decoration-color: #008000\">v0.18.1</span>\n",
       "\n",
       "</pre>\n"
      ],
      "text/plain": [
       "Manim Community \u001b[32mv0.\u001b[0m\u001b[32m18.1\u001b[0m\n",
       "\n"
      ]
     },
     "metadata": {},
     "output_type": "display_data"
    },
    {
     "name": "stderr",
     "output_type": "stream",
     "text": [
      "                                                                                                                                                               \r"
     ]
    },
    {
     "data": {
      "text/html": [
       "<video src=\"media\\jupyter\\ComplexNumbersExplanation@2024-10-06@02-11-24.mp4\" controls autoplay loop style=\"max-width: 75%;\"  >\n",
       "      Your browser does not support the <code>video</code> element.\n",
       "    </video>"
      ],
      "text/plain": [
       "<IPython.core.display.Video object>"
      ]
     },
     "metadata": {},
     "output_type": "display_data"
    }
   ],
   "source": [
    "%%manim -qm ComplexNumbersExplanation\n",
    "\n",
    "import cmath\n",
    "\n",
    "class ComplexNumbersExplanation(Scene):\n",
    "    def construct(self):\n",
    "        # Title\n",
    "        title = Text(\"Complex Numbers\", font_size=48)\n",
    "        self.play(Write(title))\n",
    "        self.play(title.animate.to_edge(UP))\n",
    "        self.wait(1)\n",
    "\n",
    "        # Basic definition\n",
    "        definition = MathTex(\"z = a + bi\", \", where \", \"i^2 = -1\")\n",
    "        self.play(Write(definition))\n",
    "        self.wait(1)\n",
    "        self.play(definition.animate.to_edge(UP).shift(DOWN))\n",
    "\n",
    "        # Create complex plane\n",
    "        plane = ComplexPlane().scale(2)\n",
    "        self.play(Create(plane))\n",
    "        self.wait(1)\n",
    "\n",
    "        # Show a complex number\n",
    "        z = 3 + 2j\n",
    "        dot_z = Dot(plane.n2p(z), color=RED)\n",
    "        label_z = MathTex(\"z = 3 + 2i\").next_to(dot_z, UR, buff=0.1)\n",
    "        arrow_z = Arrow(plane.n2p(0), plane.n2p(z), buff=0, color=RED)\n",
    "        self.play(Create(dot_z), Write(label_z), Create(arrow_z))\n",
    "        self.wait(1)\n",
    "\n",
    "        # Show real and imaginary parts\n",
    "        real_line = Line(plane.n2p(0), plane.n2p(z.real), color=GREEN)\n",
    "        imag_line = Line(plane.n2p(z.real), plane.n2p(z), color=BLUE)\n",
    "        real_label = MathTex(\"Re(z) = 3\").next_to(real_line, DOWN, buff=0.1)\n",
    "        imag_label = MathTex(\"Im(z) = 2\").next_to(imag_line, RIGHT, buff=0.1)\n",
    "        self.play(Create(real_line), Create(imag_line), Write(real_label), Write(imag_label))\n",
    "        self.wait(1)\n",
    "\n",
    "        # Polar form\n",
    "        angle = np.angle(z)\n",
    "        radius = abs(z)\n",
    "        arc = Arc(radius=0.5, angle=angle, color=YELLOW)\n",
    "        radius_line = Line(plane.n2p(0), plane.n2p(z), color=YELLOW)\n",
    "        angle_label = MathTex(r\"\\theta\").next_to(arc, RIGHT, buff=0.1)\n",
    "        radius_label = MathTex(r\"|z| = \\sqrt{a^2 + b^2}\").next_to(radius_line, UR, buff=0.1)\n",
    "        self.play(Create(arc), Create(radius_line), Write(angle_label), Write(radius_label))\n",
    "        self.wait(1)\n",
    "\n",
    "        # Polar form equation\n",
    "        polar_form = MathTex(\"z = |z|(\\\\cos\\\\theta + i\\\\sin\\\\theta) = |z|e^{i\\\\theta}\")\n",
    "        polar_form.to_edge(DOWN)\n",
    "        self.play(Write(polar_form))\n",
    "        self.wait(1)\n",
    "\n",
    "        # Addition\n",
    "        w = 1 - 1j\n",
    "        dot_w = Dot(plane.n2p(w), color=BLUE)\n",
    "        label_w = MathTex(\"w = 1 - i\").next_to(dot_w, UL, buff=0.1)\n",
    "        arrow_w = Arrow(plane.n2p(0), plane.n2p(w), buff=0, color=BLUE)\n",
    "        self.play(Create(dot_w), Write(label_w), Create(arrow_w))\n",
    "        self.wait(1)\n",
    "\n",
    "        sum_z_w = z + w\n",
    "        dot_sum = Dot(plane.n2p(sum_z_w), color=PURPLE)\n",
    "        label_sum = MathTex(\"z + w\").next_to(dot_sum, UR, buff=0.1)\n",
    "        arrow_sum = Arrow(plane.n2p(0), plane.n2p(sum_z_w), buff=0, color=PURPLE)\n",
    "        self.play(Create(dot_sum), Write(label_sum), Create(arrow_sum))\n",
    "        self.wait(1)\n",
    "\n",
    "        # Multiplication\n",
    "        product = z * w\n",
    "        dot_product = Dot(plane.n2p(product), color=ORANGE)\n",
    "        label_product = MathTex(\"z \\\\times w\").next_to(dot_product, UR, buff=0.1)\n",
    "        arrow_product = Arrow(plane.n2p(0), plane.n2p(product), buff=0, color=ORANGE)\n",
    "        self.play(Create(dot_product), Write(label_product), Create(arrow_product))\n",
    "        self.wait(1)\n",
    "\n",
    "        # Explanation of multiplication\n",
    "        mult_explanation = Text(\"Multiplication: rotate and scale\", font_size=24).to_edge(DOWN)\n",
    "        self.play(Write(mult_explanation))\n",
    "        self.wait(1)\n",
    "\n",
    "        # Applications\n",
    "        applications = VGroup(\n",
    "            Text(\"Applications:\", font_size=28),\n",
    "            Text(\"• Electrical Engineering\", font_size=24),\n",
    "            Text(\"• Quantum Mechanics\", font_size=24),\n",
    "            Text(\"• Computer Graphics\", font_size=24)\n",
    "        ).arrange(DOWN, aligned_edge=LEFT).to_edge(RIGHT)\n",
    "        self.play(Write(applications))\n",
    "        self.wait(2)\n",
    "\n",
    "        # Conclusion\n",
    "        conclusion = Text(\n",
    "            \"Complex numbers extend real numbers\\n\"\n",
    "            \"and have powerful geometric interpretations.\",\n",
    "            font_size=24\n",
    "        ).next_to(applications, DOWN)\n",
    "        self.play(Write(conclusion))\n",
    "        self.wait(2)"
   ]
  },
  {
   "cell_type": "code",
   "execution_count": 33,
   "metadata": {},
   "outputs": [
    {
     "data": {
      "text/html": [
       "<pre style=\"white-space:pre;overflow-x:auto;line-height:normal;font-family:Menlo,'DejaVu Sans Mono',consolas,'Courier New',monospace\">Manim Community <span style=\"color: #008000; text-decoration-color: #008000\">v0.18.1</span>\n",
       "\n",
       "</pre>\n"
      ],
      "text/plain": [
       "Manim Community \u001b[32mv0.\u001b[0m\u001b[32m18.1\u001b[0m\n",
       "\n"
      ]
     },
     "metadata": {},
     "output_type": "display_data"
    },
    {
     "name": "stderr",
     "output_type": "stream",
     "text": [
      "                                                                                                                                                  \r"
     ]
    },
    {
     "data": {
      "text/html": [
       "<video src=\"media\\jupyter\\ProbabilityExplanationSimple@2024-10-06@02-14-11.mp4\" controls autoplay loop style=\"max-width: 75%;\"  >\n",
       "      Your browser does not support the <code>video</code> element.\n",
       "    </video>"
      ],
      "text/plain": [
       "<IPython.core.display.Video object>"
      ]
     },
     "metadata": {},
     "output_type": "display_data"
    }
   ],
   "source": [
    "%%manim -qm ProbabilityExplanationSimple\n",
    "\n",
    "import random\n",
    "\n",
    "class ProbabilityExplanationSimple(Scene):\n",
    "    def construct(self):\n",
    "        def probability_demo():\n",
    "            # Title\n",
    "            title = Text(\"Introduction to Probability\", font_size=48).to_edge(UP)\n",
    "            self.play(Write(title))\n",
    "\n",
    "            # Coin\n",
    "            coin = Circle(radius=0.5, color=YELLOW, fill_opacity=1)\n",
    "            coin_label = Text(\"H\", font_size=36).move_to(coin.get_center())\n",
    "            coin_group = VGroup(coin, coin_label).to_edge(LEFT)\n",
    "            self.play(Create(coin_group))\n",
    "\n",
    "            # Dice\n",
    "            dice = Square(side_length=1, color=WHITE, fill_opacity=1)\n",
    "            dice_label = Text(\"1\", font_size=36).move_to(dice.get_center())\n",
    "            dice_group = VGroup(dice, dice_label).to_edge(RIGHT)\n",
    "            self.play(Create(dice_group))\n",
    "\n",
    "            # Results\n",
    "            coin_results = VGroup()\n",
    "            dice_results = VGroup()\n",
    "\n",
    "            for _ in range(10):\n",
    "                # Coin flip\n",
    "                coin_result = random.choice([\"H\", \"T\"])\n",
    "                coin_result_text = Text(coin_result, font_size=24)\n",
    "                coin_results.add(coin_result_text)\n",
    "                coin_results.arrange(DOWN, buff=0.2).next_to(coin_group, RIGHT)\n",
    "                self.play(\n",
    "                    Rotate(coin_group, angle=PI, axis=RIGHT),\n",
    "                    coin_label.animate.become(Text(coin_result, font_size=36).move_to(coin.get_center())),\n",
    "                    Write(coin_result_text),\n",
    "                    run_time=0.5\n",
    "                )\n",
    "\n",
    "                # Dice roll\n",
    "                dice_result = random.randint(1, 6)\n",
    "                dice_result_text = Text(str(dice_result), font_size=24)\n",
    "                dice_results.add(dice_result_text)\n",
    "                dice_results.arrange(DOWN, buff=0.2).next_to(dice_group, LEFT)\n",
    "                self.play(\n",
    "                    Rotate(dice_group, angle=TAU, axis=UR),\n",
    "                    dice_label.animate.become(Text(str(dice_result), font_size=36).move_to(dice.get_center())),\n",
    "                    Write(dice_result_text),\n",
    "                    run_time=0.5\n",
    "                )\n",
    "\n",
    "            # Probability formulas\n",
    "            coin_prob = MathTex(r\"P(\\text{Heads}) = P(\\text{Tails}) = \\frac{1}{2}\").next_to(coin_results, DOWN)\n",
    "            dice_prob = MathTex(r\"P(\\text{Any Number}) = \\frac{1}{6}\").next_to(dice_results, DOWN)\n",
    "            self.play(Write(coin_prob), Write(dice_prob))\n",
    "\n",
    "            # General formula\n",
    "            formula = MathTex(r\"P(A) = \\frac{\\text{Favorable Outcomes}}{\\text{Total Outcomes}}\").to_edge(DOWN)\n",
    "            self.play(Write(formula))\n",
    "\n",
    "            # Conclusion\n",
    "            conclusion = Text(\"Probability quantifies uncertainty\", font_size=36).next_to(formula, UP)\n",
    "            self.play(Write(conclusion))\n",
    "            self.wait(2)\n",
    "\n",
    "        probability_demo()"
   ]
  },
  {
   "cell_type": "code",
   "execution_count": 37,
   "metadata": {},
   "outputs": [
    {
     "data": {
      "text/html": [
       "<pre style=\"white-space:pre;overflow-x:auto;line-height:normal;font-family:Menlo,'DejaVu Sans Mono',consolas,'Courier New',monospace\">Manim Community <span style=\"color: #008000; text-decoration-color: #008000\">v0.18.1</span>\n",
       "\n",
       "</pre>\n"
      ],
      "text/plain": [
       "Manim Community \u001b[32mv0.\u001b[0m\u001b[32m18.1\u001b[0m\n",
       "\n"
      ]
     },
     "metadata": {},
     "output_type": "display_data"
    },
    {
     "name": "stderr",
     "output_type": "stream",
     "text": [
      "                                                                                                                                                 \r"
     ]
    },
    {
     "data": {
      "text/html": [
       "<video src=\"media\\jupyter\\EllipticCurveExplanationSimple@2024-10-06@02-17-09.mp4\" controls autoplay loop style=\"max-width: 75%;\"  >\n",
       "      Your browser does not support the <code>video</code> element.\n",
       "    </video>"
      ],
      "text/plain": [
       "<IPython.core.display.Video object>"
      ]
     },
     "metadata": {},
     "output_type": "display_data"
    }
   ],
   "source": [
    "%%manim -qm EllipticCurveExplanationSimple\n",
    "\n",
    "import numpy as np\n",
    "\n",
    "class EllipticCurveExplanationSimple(Scene):\n",
    "    def construct(self):\n",
    "            # Title\n",
    "            title = Text(\"Elliptic Curves\", font_size=48).to_edge(UP)\n",
    "            self.play(Write(title))\n",
    "\n",
    "            # Create axes\n",
    "            axes = Axes(\n",
    "                x_range=[-3, 3, 1],\n",
    "                y_range=[-3, 3, 1],\n",
    "                axis_config={\"color\": BLUE},\n",
    "                x_length=6,\n",
    "                y_length=6\n",
    "            ).add_coordinates()\n",
    "            self.play(Create(axes))\n",
    "\n",
    "            # Define and plot elliptic curve\n",
    "            a, b = -1, 1  # Example parameters\n",
    "            curve = VGroup(\n",
    "                ParametricFunction(\n",
    "                    lambda t: axes.c2p(t, np.sqrt(max(0, t**3 - t + 1))),\n",
    "                    t_range=[-1.5, 3],\n",
    "                    color=RED,\n",
    "                ),\n",
    "                ParametricFunction(\n",
    "                    lambda t: axes.c2p(t, -np.sqrt(max(0, t**3 - t + 1))),\n",
    "                    t_range=[-1.5, 3],\n",
    "                    color=RED,\n",
    "                )\n",
    "            )\n",
    "            self.play(Create(curve))\n",
    "\n",
    "            # Show equation\n",
    "            equation = MathTex(\"y^2 = x^3 + ax + b\").next_to(axes, UP).shift(LEFT * 2)\n",
    "            params = MathTex(\"a = -1, b = 1\").next_to(equation, DOWN)\n",
    "            self.play(Write(equation), Write(params))\n",
    "\n",
    "            # Demonstrate point addition\n",
    "            P = Dot(axes.c2p(-1, 1), color=GREEN)\n",
    "            Q = Dot(axes.c2p(0, 1), color=BLUE)\n",
    "            P_label = Text(\"P\", font_size=24).next_to(P, UP)\n",
    "            Q_label = Text(\"Q\", font_size=24).next_to(Q, UP)\n",
    "            self.play(Create(P), Create(Q), Write(P_label), Write(Q_label))\n",
    "\n",
    "            # Line through P and Q\n",
    "            line = Line(P.get_center(), Q.get_center())\n",
    "            line.scale(5)  # Scale the line instead of using scale_about_point\n",
    "            self.play(Create(line))\n",
    "\n",
    "            # Find third intersection point\n",
    "            R = Dot(axes.c2p(2, -3), color=YELLOW)\n",
    "            R_label = Text(\"R\", font_size=24).next_to(R, DOWN)\n",
    "            self.play(Create(R), Write(R_label))\n",
    "\n",
    "            # Reflect R across x-axis to get P+Q\n",
    "            PplusQ = Dot(axes.c2p(2, 3), color=PURPLE)\n",
    "            PplusQ_label = Text(\"P+Q\", font_size=24).next_to(PplusQ, UP)\n",
    "            dashed_line = DashedLine(R.get_center(), PplusQ.get_center())\n",
    "            self.play(Create(dashed_line), Create(PplusQ), Write(PplusQ_label))\n",
    "\n",
    "            # Explanation of point addition\n",
    "            addition_explanation = Text(\n",
    "                \"Point addition: P + Q = -(P * Q * curve)\",\n",
    "                font_size=24\n",
    "            ).to_edge(DOWN)\n",
    "            self.play(Write(addition_explanation))\n",
    "\n",
    "            # Applications\n",
    "            applications = VGroup(\n",
    "                Text(\"Applications:\", font_size=28),\n",
    "                Text(\"• Cryptography\", font_size=24),\n",
    "                Text(\"• Number Theory\", font_size=24)\n",
    "            ).arrange(DOWN, aligned_edge=LEFT).to_edge(RIGHT)\n",
    "            self.play(Write(applications))\n",
    "\n",
    "            # Conclusion\n",
    "            conclusion = Text(\n",
    "                \"Elliptic curves have a rich structure\\n\"\n",
    "                \"with important applications.\",\n",
    "                font_size=24\n",
    "            ).next_to(applications, DOWN)\n",
    "            self.play(Write(conclusion))\n",
    "            self.wait(2)\n"
   ]
  },
  {
   "cell_type": "code",
   "execution_count": 38,
   "metadata": {},
   "outputs": [
    {
     "data": {
      "text/html": [
       "<pre style=\"white-space:pre;overflow-x:auto;line-height:normal;font-family:Menlo,'DejaVu Sans Mono',consolas,'Courier New',monospace\">Manim Community <span style=\"color: #008000; text-decoration-color: #008000\">v0.18.1</span>\n",
       "\n",
       "</pre>\n"
      ],
      "text/plain": [
       "Manim Community \u001b[32mv0.\u001b[0m\u001b[32m18.1\u001b[0m\n",
       "\n"
      ]
     },
     "metadata": {},
     "output_type": "display_data"
    },
    {
     "name": "stderr",
     "output_type": "stream",
     "text": [
      "                                                                                                                                                           \r"
     ]
    },
    {
     "data": {
      "text/html": [
       "<video src=\"media\\jupyter\\BasicTrigonometryExplanation@2024-10-06@02-19-19.mp4\" controls autoplay loop style=\"max-width: 75%;\"  >\n",
       "      Your browser does not support the <code>video</code> element.\n",
       "    </video>"
      ],
      "text/plain": [
       "<IPython.core.display.Video object>"
      ]
     },
     "metadata": {},
     "output_type": "display_data"
    }
   ],
   "source": [
    "%%manim -qm BasicTrigonometryExplanation\n",
    "\n",
    "import numpy as np\n",
    "\n",
    "class BasicTrigonometryExplanation(Scene):\n",
    "    def construct(self):\n",
    "        # Title\n",
    "        title = Text(\"Basic Trigonometry\", font_size=48)\n",
    "        self.play(Write(title))\n",
    "        self.play(title.animate.to_edge(UP))\n",
    "        self.wait(1)\n",
    "\n",
    "        # Create unit circle\n",
    "        circle = Circle(radius=2, color=BLUE)\n",
    "        self.play(Create(circle))\n",
    "        self.wait(1)\n",
    "\n",
    "        # Add axes\n",
    "        axes = Axes(\n",
    "            x_range=[-2.5, 2.5],\n",
    "            y_range=[-2.5, 2.5],\n",
    "            axis_config={\"color\": GRAY},\n",
    "            x_length=5,\n",
    "            y_length=5\n",
    "        )\n",
    "        self.play(Create(axes))\n",
    "        self.wait(1)\n",
    "\n",
    "        # Add labels\n",
    "        x_label = axes.get_x_axis_label(\"x\")\n",
    "        y_label = axes.get_y_axis_label(\"y\")\n",
    "        self.play(Write(x_label), Write(y_label))\n",
    "        self.wait(1)\n",
    "\n",
    "        # Create angle\n",
    "        angle = ValueTracker(0)\n",
    "        line = always_redraw(lambda: Line(ORIGIN, axes.c2p(np.cos(angle.get_value()), np.sin(angle.get_value())), color=YELLOW))\n",
    "        angle_arc = always_redraw(lambda: Arc(radius=0.5, angle=angle.get_value(), color=GREEN))\n",
    "        angle_label = always_redraw(lambda: MathTex(r\"\\theta\").next_to(angle_arc, RIGHT, buff=0.1))\n",
    "        \n",
    "        self.play(Create(line), Create(angle_arc), Write(angle_label))\n",
    "        self.wait(1)\n",
    "\n",
    "        # Show sine and cosine\n",
    "        sine_line = always_redraw(lambda: Line(\n",
    "            axes.c2p(np.cos(angle.get_value()), 0),\n",
    "            axes.c2p(np.cos(angle.get_value()), np.sin(angle.get_value())),\n",
    "            color=RED\n",
    "        ))\n",
    "        cosine_line = always_redraw(lambda: Line(\n",
    "            ORIGIN,\n",
    "            axes.c2p(np.cos(angle.get_value()), 0),\n",
    "            color=GREEN\n",
    "        ))\n",
    "        \n",
    "        sine_label = always_redraw(lambda: MathTex(r\"\\sin(\\theta)\").next_to(sine_line, RIGHT, buff=0.1))\n",
    "        cosine_label = always_redraw(lambda: MathTex(r\"\\cos(\\theta)\").next_to(cosine_line, DOWN, buff=0.1))\n",
    "        \n",
    "        self.play(Create(sine_line), Create(cosine_line), Write(sine_label), Write(cosine_label))\n",
    "        self.wait(1)\n",
    "\n",
    "        # Animate the angle\n",
    "        self.play(angle.animate.set_value(PI/2), run_time=2)\n",
    "        self.wait(1)\n",
    "        self.play(angle.animate.set_value(PI), run_time=2)\n",
    "        self.wait(1)\n",
    "        self.play(angle.animate.set_value(3*PI/2), run_time=2)\n",
    "        self.wait(1)\n",
    "        self.play(angle.animate.set_value(2*PI), run_time=2)\n",
    "        self.wait(1)\n",
    "\n",
    "        # Show right triangle\n",
    "        triangle = always_redraw(lambda: Polygon(\n",
    "            ORIGIN,\n",
    "            axes.c2p(np.cos(angle.get_value()), 0),\n",
    "            axes.c2p(np.cos(angle.get_value()), np.sin(angle.get_value())),\n",
    "            color=WHITE\n",
    "        ))\n",
    "        self.play(Create(triangle))\n",
    "        self.wait(1)\n",
    "\n",
    "        # Add formulas\n",
    "        formulas = VGroup(\n",
    "            MathTex(r\"\\sin(\\theta) = \\frac{\\text{opposite}}{\\text{hypotenuse}}\"),\n",
    "            MathTex(r\"\\cos(\\theta) = \\frac{\\text{adjacent}}{\\text{hypotenuse}}\"),\n",
    "            MathTex(r\"\\tan(\\theta) = \\frac{\\text{opposite}}{\\text{adjacent}} = \\frac{\\sin(\\theta)}{\\cos(\\theta)}\")\n",
    "        ).arrange(DOWN, aligned_edge=LEFT).to_edge(RIGHT)\n",
    "        self.play(Write(formulas))\n",
    "        self.wait(1)\n",
    "\n",
    "        # Conclusion\n",
    "        conclusion = Text(\n",
    "            \"Trigonometric functions relate\\nangles to ratios of sides\\nin right triangles\",\n",
    "            font_size=24\n",
    "        ).next_to(formulas, DOWN)\n",
    "        self.play(Write(conclusion))\n",
    "        self.wait(2)"
   ]
  },
  {
   "cell_type": "code",
   "execution_count": 40,
   "metadata": {},
   "outputs": [
    {
     "data": {
      "text/html": [
       "<pre style=\"white-space:pre;overflow-x:auto;line-height:normal;font-family:Menlo,'DejaVu Sans Mono',consolas,'Courier New',monospace\">Manim Community <span style=\"color: #008000; text-decoration-color: #008000\">v0.18.1</span>\n",
       "\n",
       "</pre>\n"
      ],
      "text/plain": [
       "Manim Community \u001b[32mv0.\u001b[0m\u001b[32m18.1\u001b[0m\n",
       "\n"
      ]
     },
     "metadata": {},
     "output_type": "display_data"
    },
    {
     "name": "stderr",
     "output_type": "stream",
     "text": [
      "                                                                                                                                                       \r"
     ]
    },
    {
     "data": {
      "text/html": [
       "<video src=\"media\\jupyter\\SpeedVelocityAccelerationDemo@2024-10-06@02-22-33.mp4\" controls autoplay loop style=\"max-width: 75%;\"  >\n",
       "      Your browser does not support the <code>video</code> element.\n",
       "    </video>"
      ],
      "text/plain": [
       "<IPython.core.display.Video object>"
      ]
     },
     "metadata": {},
     "output_type": "display_data"
    }
   ],
   "source": [
    "%%manim -qm SpeedVelocityAccelerationDemo\n",
    "\n",
    "import numpy as np\n",
    "\n",
    "class SpeedVelocityAccelerationDemo(Scene):\n",
    "    def construct(self):\n",
    "        # Title\n",
    "        title = Text(\"Speed, Velocity, and Acceleration\", font_size=42)\n",
    "        self.play(Write(title))\n",
    "        self.play(title.animate.to_edge(UP))\n",
    "        self.wait(1)\n",
    "\n",
    "        # Create axes\n",
    "        axes = Axes(\n",
    "            x_range=[0, 10, 1],\n",
    "            y_range=[-2, 6, 1],\n",
    "            axis_config={\"color\": BLUE},\n",
    "            x_length=9,\n",
    "            y_length=5\n",
    "        ).shift(DOWN * 0.5)\n",
    "        \n",
    "        x_label = axes.get_x_axis_label(\"t (s)\")\n",
    "        y_label = axes.get_y_axis_label(\"x (m)\")\n",
    "        \n",
    "        self.play(Create(axes), Write(x_label), Write(y_label))\n",
    "        self.wait(1)\n",
    "\n",
    "        # Define motion functions\n",
    "        def position(t):\n",
    "            return t**2 / 2\n",
    "\n",
    "        def velocity(t):\n",
    "            return t\n",
    "\n",
    "        def acceleration(t):\n",
    "            return 1\n",
    "\n",
    "        # Plot position curve\n",
    "        position_graph = axes.plot(position, color=RED)\n",
    "        position_label = Text(\"Position\", font_size=24, color=RED).next_to(position_graph, RIGHT)\n",
    "        self.play(Create(position_graph), Write(position_label))\n",
    "        self.wait(1)\n",
    "\n",
    "        # Plot velocity curve\n",
    "        velocity_graph = axes.plot(velocity, color=GREEN)\n",
    "        velocity_label = Text(\"Velocity\", font_size=24, color=GREEN).next_to(velocity_graph, RIGHT)\n",
    "        self.play(Create(velocity_graph), Write(velocity_label))\n",
    "        self.wait(1)\n",
    "\n",
    "        # Plot acceleration curve\n",
    "        acceleration_graph = axes.plot(acceleration, color=YELLOW)\n",
    "        acceleration_label = Text(\"Acceleration\", font_size=24, color=YELLOW).next_to(acceleration_graph, RIGHT)\n",
    "        self.play(Create(acceleration_graph), Write(acceleration_label))\n",
    "        self.wait(1)\n",
    "\n",
    "        # Animate a moving dot\n",
    "        dot = Dot(color=WHITE)\n",
    "        dot.move_to(axes.c2p(0, 0))\n",
    "        \n",
    "        def update_dot(mob, alpha):\n",
    "            t = alpha * 5\n",
    "            x = position(t)\n",
    "            mob.move_to(axes.c2p(t, x))\n",
    "        \n",
    "        # Velocity vector\n",
    "        velocity_vector = always_redraw(\n",
    "            lambda: Arrow(\n",
    "                start=dot.get_center(),\n",
    "                end=dot.get_center() + RIGHT * velocity(dot.get_center()[0] / axes.x_axis.unit_size),\n",
    "                buff=0,\n",
    "                color=GREEN\n",
    "            )\n",
    "        )\n",
    "\n",
    "        self.play(Create(dot), Create(velocity_vector))\n",
    "        self.play(UpdateFromAlphaFunc(dot, update_dot), run_time=5)\n",
    "        self.wait(1)\n",
    "\n",
    "        # Explanations\n",
    "        speed_text = Text(\"Speed: Magnitude of velocity\", font_size=24)\n",
    "        velocity_text = Text(\"Velocity: Speed with direction\", font_size=24)\n",
    "        acceleration_text = Text(\"Acceleration: Rate of change of velocity\", font_size=24)\n",
    "        \n",
    "        explanations = VGroup(speed_text, velocity_text, acceleration_text).arrange(DOWN, aligned_edge=LEFT).to_edge(LEFT)\n",
    "        self.play(Write(explanations))\n",
    "        self.wait(1)\n",
    "\n",
    "        # Equations\n",
    "        equations = VGroup(\n",
    "            MathTex(\"v = \\\\frac{dx}{dt}\"),\n",
    "            MathTex(\"a = \\\\frac{dv}{dt} = \\\\frac{d^2x}{dt^2}\")\n",
    "        ).arrange(DOWN, aligned_edge=LEFT).next_to(explanations, DOWN)\n",
    "        self.play(Write(equations))\n",
    "        self.wait(1)\n",
    "\n",
    "        # Conclusion\n",
    "        conclusion = Text(\n",
    "            \"Speed is scalar, velocity is a vector,\\nand acceleration changes velocity\",\n",
    "            font_size=24\n",
    "        ).next_to(equations, DOWN)\n",
    "        self.play(Write(conclusion))\n",
    "        self.wait(2)"
   ]
  },
  {
   "cell_type": "code",
   "execution_count": 41,
   "metadata": {},
   "outputs": [
    {
     "data": {
      "text/html": [
       "<pre style=\"white-space:pre;overflow-x:auto;line-height:normal;font-family:Menlo,'DejaVu Sans Mono',consolas,'Courier New',monospace\">Manim Community <span style=\"color: #008000; text-decoration-color: #008000\">v0.18.1</span>\n",
       "\n",
       "</pre>\n"
      ],
      "text/plain": [
       "Manim Community \u001b[32mv0.\u001b[0m\u001b[32m18.1\u001b[0m\n",
       "\n"
      ]
     },
     "metadata": {},
     "output_type": "display_data"
    },
    {
     "name": "stderr",
     "output_type": "stream",
     "text": [
      "                                                                                                                                                  \r"
     ]
    },
    {
     "data": {
      "text/html": [
       "<video src=\"media\\jupyter\\WordEmbeddingsExplanation@2024-10-06@02-24-05.mp4\" controls autoplay loop style=\"max-width: 75%;\"  >\n",
       "      Your browser does not support the <code>video</code> element.\n",
       "    </video>"
      ],
      "text/plain": [
       "<IPython.core.display.Video object>"
      ]
     },
     "metadata": {},
     "output_type": "display_data"
    }
   ],
   "source": [
    "%%manim -qm WordEmbeddingsExplanation\n",
    "\n",
    "from manim import *\n",
    "\n",
    "class WordEmbeddingsExplanation(Scene):\n",
    "    def construct(self):\n",
    "        # Title\n",
    "        title = Text(\"Word Embeddings\", font_size=42)\n",
    "        self.play(Write(title))\n",
    "        self.play(title.animate.to_edge(UP))\n",
    "        self.wait(1)\n",
    "\n",
    "        # Explanation text\n",
    "        explanation = Text(\n",
    "            \"Word embeddings represent words as vectors in a high-dimensional space\",\n",
    "            font_size=24\n",
    "        ).next_to(title, DOWN)\n",
    "        self.play(Write(explanation))\n",
    "        self.wait(2)\n",
    "\n",
    "        # Create a 2D coordinate system (representing a simplified embedding space)\n",
    "        plane = NumberPlane(\n",
    "            x_range=[-5, 5],\n",
    "            y_range=[-5, 5],\n",
    "            axis_config={\"color\": BLUE}\n",
    "        )\n",
    "        self.play(Create(plane))\n",
    "        self.wait(1)\n",
    "\n",
    "        # Define some example word vectors (using only x and y coordinates)\n",
    "        words = {\n",
    "            \"king\": np.array([3, 2]),\n",
    "            \"queen\": np.array([3, -2]),\n",
    "            \"man\": np.array([2, 1]),\n",
    "            \"woman\": np.array([2, -1]),\n",
    "            \"royal\": np.array([1, 0])\n",
    "        }\n",
    "\n",
    "        # Create dots and labels for each word\n",
    "        word_dots = VGroup()\n",
    "        word_labels = VGroup()\n",
    "        for word, vector in words.items():\n",
    "            dot = Dot(point=plane.c2p(*vector), color=YELLOW)\n",
    "            label = Text(word, font_size=24).next_to(dot, UP+RIGHT)\n",
    "            word_dots.add(dot)\n",
    "            word_labels.add(label)\n",
    "\n",
    "        self.play(Create(word_dots), Write(word_labels))\n",
    "        self.wait(2)\n",
    "\n",
    "        # Highlight relationships\n",
    "        self.play(\n",
    "            word_dots[0].animate.set_color(RED),  # king\n",
    "            word_dots[1].animate.set_color(RED),  # queen\n",
    "            word_dots[4].animate.set_color(GREEN)  # royal\n",
    "        )\n",
    "        relationship = Text(\"Related words are closer in the embedding space\", font_size=24).to_edge(DOWN)\n",
    "        self.play(Write(relationship))\n",
    "        self.wait(2)\n",
    "\n",
    "        # Show vector arithmetic\n",
    "        vector_math = MathTex(r\"\\text{king} - \\text{man} + \\text{woman} \\approx \\text{queen}\")\n",
    "        vector_math.to_edge(LEFT)\n",
    "        self.play(Write(vector_math))\n",
    "        self.wait(2)\n",
    "\n",
    "        # Animate vector arithmetic\n",
    "        arrow1 = Arrow(start=plane.c2p(*words[\"king\"]), end=plane.c2p(*words[\"man\"]), color=ORANGE)\n",
    "        arrow2 = Arrow(start=plane.c2p(*words[\"man\"]), end=plane.c2p(*words[\"woman\"]), color=ORANGE)\n",
    "        arrow3 = Arrow(start=plane.c2p(*words[\"woman\"]), end=plane.c2p(*words[\"queen\"]), color=ORANGE)\n",
    "\n",
    "        self.play(Create(arrow1), Create(arrow2), Create(arrow3), run_time=2)\n",
    "        self.wait(2)\n",
    "\n",
    "        # Conclusion\n",
    "        conclusion = Text(\n",
    "            \"Word embeddings capture semantic relationships between words\",\n",
    "            font_size=32\n",
    "        ).next_to(relationship, UP)\n",
    "        self.play(Write(conclusion))\n",
    "        self.wait(2)"
   ]
  },
  {
   "cell_type": "code",
   "execution_count": 42,
   "metadata": {},
   "outputs": [
    {
     "data": {
      "text/html": [
       "<pre style=\"white-space:pre;overflow-x:auto;line-height:normal;font-family:Menlo,'DejaVu Sans Mono',consolas,'Courier New',monospace\">Manim Community <span style=\"color: #008000; text-decoration-color: #008000\">v0.18.1</span>\n",
       "\n",
       "</pre>\n"
      ],
      "text/plain": [
       "Manim Community \u001b[32mv0.\u001b[0m\u001b[32m18.1\u001b[0m\n",
       "\n"
      ]
     },
     "metadata": {},
     "output_type": "display_data"
    },
    {
     "name": "stderr",
     "output_type": "stream",
     "text": [
      "                                                                                                                                                                                \r"
     ]
    },
    {
     "data": {
      "text/html": [
       "<video src=\"media\\jupyter\\GoldenRatioExplanation@2024-10-06@02-25-48.mp4\" controls autoplay loop style=\"max-width: 75%;\"  >\n",
       "      Your browser does not support the <code>video</code> element.\n",
       "    </video>"
      ],
      "text/plain": [
       "<IPython.core.display.Video object>"
      ]
     },
     "metadata": {},
     "output_type": "display_data"
    }
   ],
   "source": [
    "%%manim -qm GoldenRatioExplanation\n",
    "\n",
    "import numpy as np\n",
    "\n",
    "class GoldenRatioExplanation(Scene):\n",
    "    def construct(self):\n",
    "        # Title\n",
    "        title = Text(\"The Golden Ratio\", font_size=48)\n",
    "        self.play(Write(title))\n",
    "        self.play(title.animate.to_edge(UP))\n",
    "        self.wait(1)\n",
    "\n",
    "        # Definition\n",
    "        phi = (1 + np.sqrt(5)) / 2\n",
    "        definition = MathTex(r\"\\phi = \\frac{1 + \\sqrt{5}}{2} \\approx 1.618\")\n",
    "        self.play(Write(definition))\n",
    "        self.wait(1)\n",
    "        self.play(definition.animate.to_edge(UP).shift(DOWN))\n",
    "\n",
    "        # Golden Rectangle\n",
    "        rectangle = Rectangle(width=5, height=5/phi, color=BLUE)\n",
    "        self.play(Create(rectangle))\n",
    "        self.wait(1)\n",
    "\n",
    "        # Labels\n",
    "        width_label = MathTex(\"a\").next_to(rectangle, DOWN)\n",
    "        height_label = MathTex(\"b\").next_to(rectangle, LEFT)\n",
    "        self.play(Write(width_label), Write(height_label))\n",
    "        self.wait(1)\n",
    "\n",
    "        # Ratio explanation\n",
    "        ratio = MathTex(r\"\\frac{a}{b} = \\frac{a+b}{a} = \\phi\").next_to(rectangle, RIGHT, buff=1)\n",
    "        self.play(Write(ratio))\n",
    "        self.wait(1)\n",
    "\n",
    "        # Golden Spiral\n",
    "        def golden_spiral(t):\n",
    "            return np.array([\n",
    "                0.1 * phi**(0.306 * t) * np.cos(t),\n",
    "                0.1 * phi**(0.306 * t) * np.sin(t),\n",
    "                0\n",
    "            ])\n",
    "\n",
    "        spiral = ParametricFunction(golden_spiral, t_range=[0, 4*np.pi], color=YELLOW)\n",
    "        spiral.move_to(rectangle.get_center())\n",
    "        self.play(Create(spiral))\n",
    "        self.wait(1)\n",
    "\n",
    "        # Examples in nature\n",
    "        examples = VGroup(\n",
    "            Text(\"Examples in nature:\", font_size=36),\n",
    "            Text(\"• Nautilus shells\", font_size=24),\n",
    "            Text(\"• Sunflower seed patterns\", font_size=24),\n",
    "            Text(\"• Pine cone spirals\", font_size=24)\n",
    "        ).arrange(DOWN, aligned_edge=LEFT).next_to(rectangle, DOWN, buff=1)\n",
    "        self.play(Write(examples))\n",
    "        self.wait(1)\n",
    "\n",
    "        # Applications\n",
    "        applications = VGroup(\n",
    "            Text(\"Applications:\", font_size=36),\n",
    "            Text(\"• Art and Design\", font_size=24),\n",
    "            Text(\"• Architecture\", font_size=24),\n",
    "            Text(\"• Photography\", font_size=24)\n",
    "        ).arrange(DOWN, aligned_edge=LEFT).next_to(examples, RIGHT, buff=1)\n",
    "        self.play(Write(applications))\n",
    "        self.wait(1)\n",
    "\n",
    "        # Conclusion\n",
    "        conclusion = Text(\n",
    "            \"The Golden Ratio is found throughout nature and is used in various fields for its aesthetic appeal\",\n",
    "            font_size=24, \n",
    "            color=YELLOW\n",
    "        ).next_to(VGroup(examples, applications), DOWN)\n",
    "        self.play(Write(conclusion))\n",
    "        self.wait(2)"
   ]
  },
  {
   "cell_type": "code",
   "execution_count": 43,
   "metadata": {},
   "outputs": [
    {
     "data": {
      "text/html": [
       "<pre style=\"white-space:pre;overflow-x:auto;line-height:normal;font-family:Menlo,'DejaVu Sans Mono',consolas,'Courier New',monospace\">Manim Community <span style=\"color: #008000; text-decoration-color: #008000\">v0.18.1</span>\n",
       "\n",
       "</pre>\n"
      ],
      "text/plain": [
       "Manim Community \u001b[32mv0.\u001b[0m\u001b[32m18.1\u001b[0m\n",
       "\n"
      ]
     },
     "metadata": {},
     "output_type": "display_data"
    },
    {
     "name": "stderr",
     "output_type": "stream",
     "text": [
      "                                                                                                                                                                        \r"
     ]
    },
    {
     "data": {
      "text/html": [
       "<video src=\"media\\jupyter\\ProbabilityDistributionExplanation@2024-10-06@02-27-12.mp4\" controls autoplay loop style=\"max-width: 75%;\"  >\n",
       "      Your browser does not support the <code>video</code> element.\n",
       "    </video>"
      ],
      "text/plain": [
       "<IPython.core.display.Video object>"
      ]
     },
     "metadata": {},
     "output_type": "display_data"
    }
   ],
   "source": [
    "%%manim -qm ProbabilityDistributionExplanation\n",
    "\n",
    "import numpy as np\n",
    "from scipy import stats\n",
    "\n",
    "class ProbabilityDistributionExplanation(Scene):\n",
    "    def construct(self):\n",
    "        title = Text(\"Probability Distributions\", font_size=48)\n",
    "        self.play(Write(title))\n",
    "        self.play(title.animate.to_edge(UP))\n",
    "        self.wait(1)\n",
    "\n",
    "        axes = Axes(\n",
    "            x_range=[-4, 4, 1],\n",
    "            y_range=[0, 0.5, 0.1],\n",
    "            axis_config={\"color\": BLUE},\n",
    "            x_length=10,\n",
    "            y_length=5\n",
    "        ).shift(DOWN)\n",
    "        \n",
    "        x_label = axes.get_x_axis_label(\"x\")\n",
    "        y_label = axes.get_y_axis_label(\"P(x)\")\n",
    "        \n",
    "        self.play(Create(axes), Write(x_label), Write(y_label))\n",
    "        self.wait(1)\n",
    "\n",
    "        def normal_pdf(x):\n",
    "            return stats.norm.pdf(x, loc=0, scale=1)\n",
    "\n",
    "        normal_graph = axes.plot(normal_pdf, color=RED)\n",
    "        normal_label = Text(\"Normal Distribution\", font_size=24, color=RED).next_to(normal_graph, UP)\n",
    "        \n",
    "        self.play(Create(normal_graph), Write(normal_label))\n",
    "        self.wait(1)\n",
    "\n",
    "        def uniform_pdf(x):\n",
    "            return stats.uniform.pdf(x, loc=-2, scale=4)\n",
    "\n",
    "        uniform_graph = axes.plot(uniform_pdf, color=GREEN)\n",
    "        uniform_label = Text(\"Uniform Distribution\", font_size=24, color=GREEN).next_to(uniform_graph, DOWN)\n",
    "        \n",
    "        self.play(Create(uniform_graph), Write(uniform_label))\n",
    "        self.wait(1)\n",
    "\n",
    "        def exponential_pdf(x):\n",
    "            return stats.expon.pdf(x, loc=0, scale=1)\n",
    "\n",
    "        exponential_graph = axes.plot(exponential_pdf, color=YELLOW)\n",
    "        exponential_label = Text(\"Exponential Distribution\", font_size=24, color=YELLOW).next_to(exponential_graph, RIGHT)\n",
    "        \n",
    "        self.play(Create(exponential_graph), Write(exponential_label))\n",
    "        self.wait(2)"
   ]
  },
  {
   "cell_type": "code",
   "execution_count": 45,
   "metadata": {},
   "outputs": [
    {
     "data": {
      "text/html": [
       "<pre style=\"white-space:pre;overflow-x:auto;line-height:normal;font-family:Menlo,'DejaVu Sans Mono',consolas,'Courier New',monospace\">Manim Community <span style=\"color: #008000; text-decoration-color: #008000\">v0.18.1</span>\n",
       "\n",
       "</pre>\n"
      ],
      "text/plain": [
       "Manim Community \u001b[32mv0.\u001b[0m\u001b[32m18.1\u001b[0m\n",
       "\n"
      ]
     },
     "metadata": {},
     "output_type": "display_data"
    },
    {
     "name": "stderr",
     "output_type": "stream",
     "text": [
      "                                                                                               \r"
     ]
    },
    {
     "ename": "ValueError",
     "evalue": "(3, 1) is not in list",
     "output_type": "error",
     "traceback": [
      "\u001b[1;31m---------------------------------------------------------------------------\u001b[0m",
      "\u001b[1;31mValueError\u001b[0m                                Traceback (most recent call last)",
      "Cell \u001b[1;32mIn[45], line 1\u001b[0m\n\u001b[1;32m----> 1\u001b[0m \u001b[43mget_ipython\u001b[49m\u001b[43m(\u001b[49m\u001b[43m)\u001b[49m\u001b[38;5;241;43m.\u001b[39;49m\u001b[43mrun_cell_magic\u001b[49m\u001b[43m(\u001b[49m\u001b[38;5;124;43m'\u001b[39;49m\u001b[38;5;124;43mmanim\u001b[39;49m\u001b[38;5;124;43m'\u001b[39;49m\u001b[43m,\u001b[49m\u001b[43m \u001b[49m\u001b[38;5;124;43m'\u001b[39;49m\u001b[38;5;124;43m-qm GraphTheoryVisualization\u001b[39;49m\u001b[38;5;124;43m'\u001b[39;49m\u001b[43m,\u001b[49m\u001b[43m \u001b[49m\u001b[38;5;124;43m'\u001b[39;49m\u001b[38;5;130;43;01m\\n\u001b[39;49;00m\u001b[38;5;124;43mclass GraphTheoryVisualization(Scene):\u001b[39;49m\u001b[38;5;130;43;01m\\n\u001b[39;49;00m\u001b[38;5;124;43m    def construct(self):\u001b[39;49m\u001b[38;5;130;43;01m\\n\u001b[39;49;00m\u001b[38;5;124;43m        # Title\u001b[39;49m\u001b[38;5;130;43;01m\\n\u001b[39;49;00m\u001b[38;5;124;43m        title = Text(\u001b[39;49m\u001b[38;5;124;43m\"\u001b[39;49m\u001b[38;5;124;43mGraph Theory\u001b[39;49m\u001b[38;5;124;43m\"\u001b[39;49m\u001b[38;5;124;43m, font_size=48)\u001b[39;49m\u001b[38;5;130;43;01m\\n\u001b[39;49;00m\u001b[38;5;124;43m        self.play(Write(title))\u001b[39;49m\u001b[38;5;130;43;01m\\n\u001b[39;49;00m\u001b[38;5;124;43m        self.play(title.animate.to_edge(UP))\u001b[39;49m\u001b[38;5;130;43;01m\\n\u001b[39;49;00m\u001b[38;5;124;43m        self.wait(1)\u001b[39;49m\u001b[38;5;130;43;01m\\n\u001b[39;49;00m\u001b[38;5;130;43;01m\\n\u001b[39;49;00m\u001b[38;5;124;43m        # Create a simple graph\u001b[39;49m\u001b[38;5;130;43;01m\\n\u001b[39;49;00m\u001b[38;5;124;43m        vertices = [Dot() for _ in range(6)]\u001b[39;49m\u001b[38;5;130;43;01m\\n\u001b[39;49;00m\u001b[38;5;124;43m        edges = [\u001b[39;49m\u001b[38;5;130;43;01m\\n\u001b[39;49;00m\u001b[38;5;124;43m            (0, 1), (0, 2), (1, 2), (1, 3), (2, 3), (2, 4), (3, 4), (3, 5), (4, 3)\u001b[39;49m\u001b[38;5;130;43;01m\\n\u001b[39;49;00m\u001b[38;5;124;43m        ]\u001b[39;49m\u001b[38;5;130;43;01m\\n\u001b[39;49;00m\u001b[38;5;130;43;01m\\n\u001b[39;49;00m\u001b[38;5;124;43m        # Position vertices\u001b[39;49m\u001b[38;5;130;43;01m\\n\u001b[39;49;00m\u001b[38;5;124;43m        for i, v in enumerate(vertices):\u001b[39;49m\u001b[38;5;130;43;01m\\n\u001b[39;49;00m\u001b[38;5;124;43m            angle = i * TAU / 6\u001b[39;49m\u001b[38;5;130;43;01m\\n\u001b[39;49;00m\u001b[38;5;124;43m            v.move_to(2.5 * RIGHT * np.cos(angle) + 2 * UP * np.sin(angle))\u001b[39;49m\u001b[38;5;130;43;01m\\n\u001b[39;49;00m\u001b[38;5;130;43;01m\\n\u001b[39;49;00m\u001b[38;5;124;43m        # Create edge lines\u001b[39;49m\u001b[38;5;130;43;01m\\n\u001b[39;49;00m\u001b[38;5;124;43m        edge_lines = [Line(vertices[e[0]].get_center(), vertices[e[1]].get_center()) for e in edges]\u001b[39;49m\u001b[38;5;130;43;01m\\n\u001b[39;49;00m\u001b[38;5;130;43;01m\\n\u001b[39;49;00m\u001b[38;5;124;43m        # Create the graph\u001b[39;49m\u001b[38;5;130;43;01m\\n\u001b[39;49;00m\u001b[38;5;124;43m        graph = VGroup(*vertices, *edge_lines)\u001b[39;49m\u001b[38;5;130;43;01m\\n\u001b[39;49;00m\u001b[38;5;124;43m        self.play(Create(graph))\u001b[39;49m\u001b[38;5;130;43;01m\\n\u001b[39;49;00m\u001b[38;5;124;43m        self.wait(1)\u001b[39;49m\u001b[38;5;130;43;01m\\n\u001b[39;49;00m\u001b[38;5;130;43;01m\\n\u001b[39;49;00m\u001b[38;5;124;43m        # Highlight a path\u001b[39;49m\u001b[38;5;130;43;01m\\n\u001b[39;49;00m\u001b[38;5;124;43m        path = [0, 1, 3, 5]\u001b[39;49m\u001b[38;5;130;43;01m\\n\u001b[39;49;00m\u001b[38;5;124;43m        path_edges = [edge_lines[edges.index((path[i], path[i+1]))] for i in range(len(path)-1)]\u001b[39;49m\u001b[38;5;130;43;01m\\n\u001b[39;49;00m\u001b[38;5;124;43m        self.play(*[edge.animate.set_color(RED) for edge in path_edges])\u001b[39;49m\u001b[38;5;130;43;01m\\n\u001b[39;49;00m\u001b[38;5;124;43m        self.wait(1)\u001b[39;49m\u001b[38;5;130;43;01m\\n\u001b[39;49;00m\u001b[38;5;130;43;01m\\n\u001b[39;49;00m\u001b[38;5;124;43m        # Show a cycle\u001b[39;49m\u001b[38;5;130;43;01m\\n\u001b[39;49;00m\u001b[38;5;124;43m        cycle = [1, 2, 4, 3]\u001b[39;49m\u001b[38;5;130;43;01m\\n\u001b[39;49;00m\u001b[38;5;124;43m        cycle_edges = [edge_lines[edges.index((cycle[i], cycle[(i+1)\u001b[39;49m\u001b[38;5;132;43;01m%le\u001b[39;49;00m\u001b[38;5;124;43mn(cycle)]))] for i in range(len(cycle))]\u001b[39;49m\u001b[38;5;130;43;01m\\n\u001b[39;49;00m\u001b[38;5;124;43m        self.play(*[edge.animate.set_color(YELLOW) for edge in cycle_edges])\u001b[39;49m\u001b[38;5;130;43;01m\\n\u001b[39;49;00m\u001b[38;5;124;43m        self.wait(1)\u001b[39;49m\u001b[38;5;130;43;01m\\n\u001b[39;49;00m\u001b[38;5;130;43;01m\\n\u001b[39;49;00m\u001b[38;5;124;43m        # Demonstrate graph coloring\u001b[39;49m\u001b[38;5;130;43;01m\\n\u001b[39;49;00m\u001b[38;5;124;43m        colors = [BLUE, GREEN, ORANGE]\u001b[39;49m\u001b[38;5;130;43;01m\\n\u001b[39;49;00m\u001b[38;5;124;43m        for i, v in enumerate(vertices):\u001b[39;49m\u001b[38;5;130;43;01m\\n\u001b[39;49;00m\u001b[38;5;124;43m            self.play(v.animate.set_color(colors[i \u001b[39;49m\u001b[38;5;124;43m%\u001b[39;49m\u001b[38;5;124;43m 3]))\u001b[39;49m\u001b[38;5;130;43;01m\\n\u001b[39;49;00m\u001b[38;5;124;43m        self.wait(1)\u001b[39;49m\u001b[38;5;130;43;01m\\n\u001b[39;49;00m\u001b[38;5;130;43;01m\\n\u001b[39;49;00m\u001b[38;5;124;43m        # Show degree of a vertex\u001b[39;49m\u001b[38;5;130;43;01m\\n\u001b[39;49;00m\u001b[38;5;124;43m        focus_vertex = vertices[2]\u001b[39;49m\u001b[38;5;130;43;01m\\n\u001b[39;49;00m\u001b[38;5;124;43m        connected_edges = [e for e in edge_lines if focus_vertex.get_center() in [e.start, e.end]]\u001b[39;49m\u001b[38;5;130;43;01m\\n\u001b[39;49;00m\u001b[38;5;124;43m        self.play(\u001b[39;49m\u001b[38;5;130;43;01m\\n\u001b[39;49;00m\u001b[38;5;124;43m            focus_vertex.animate.scale(1.5),\u001b[39;49m\u001b[38;5;130;43;01m\\n\u001b[39;49;00m\u001b[38;5;124;43m            *[e.animate.set_color(PINK) for e in connected_edges]\u001b[39;49m\u001b[38;5;130;43;01m\\n\u001b[39;49;00m\u001b[38;5;124;43m        )\u001b[39;49m\u001b[38;5;130;43;01m\\n\u001b[39;49;00m\u001b[38;5;124;43m        self.wait(1)\u001b[39;49m\u001b[38;5;130;43;01m\\n\u001b[39;49;00m\u001b[38;5;130;43;01m\\n\u001b[39;49;00m\u001b[38;5;124;43m        # Reset colors\u001b[39;49m\u001b[38;5;130;43;01m\\n\u001b[39;49;00m\u001b[38;5;124;43m        self.play(\u001b[39;49m\u001b[38;5;130;43;01m\\n\u001b[39;49;00m\u001b[38;5;124;43m            *[v.animate.set_color(WHITE) for v in vertices],\u001b[39;49m\u001b[38;5;130;43;01m\\n\u001b[39;49;00m\u001b[38;5;124;43m            *[e.animate.set_color(WHITE) for e in edge_lines],\u001b[39;49m\u001b[38;5;130;43;01m\\n\u001b[39;49;00m\u001b[38;5;124;43m            focus_vertex.animate.scale(1/1.5)\u001b[39;49m\u001b[38;5;130;43;01m\\n\u001b[39;49;00m\u001b[38;5;124;43m        )\u001b[39;49m\u001b[38;5;130;43;01m\\n\u001b[39;49;00m\u001b[38;5;124;43m        self.wait(1)\u001b[39;49m\u001b[38;5;130;43;01m\\n\u001b[39;49;00m\u001b[38;5;130;43;01m\\n\u001b[39;49;00m\u001b[38;5;124;43m        # Demonstrate edge removal (graph cut)\u001b[39;49m\u001b[38;5;130;43;01m\\n\u001b[39;49;00m\u001b[38;5;124;43m        cut_edges = [edge_lines[edges.index((1, 3))], edge_lines[edges.index((2, 4))]]\u001b[39;49m\u001b[38;5;130;43;01m\\n\u001b[39;49;00m\u001b[38;5;124;43m        self.play(*[e.animate.set_color(RED) for e in cut_edges])\u001b[39;49m\u001b[38;5;130;43;01m\\n\u001b[39;49;00m\u001b[38;5;124;43m        self.play(*[e.animate.set_opacity(0.2) for e in cut_edges])\u001b[39;49m\u001b[38;5;130;43;01m\\n\u001b[39;49;00m\u001b[38;5;124;43m        self.wait(1)\u001b[39;49m\u001b[38;5;130;43;01m\\n\u001b[39;49;00m\u001b[38;5;130;43;01m\\n\u001b[39;49;00m\u001b[38;5;124;43m        # Show connected components\u001b[39;49m\u001b[38;5;130;43;01m\\n\u001b[39;49;00m\u001b[38;5;124;43m        component1 = [vertices[i] for i in [0, 1, 2]]\u001b[39;49m\u001b[38;5;130;43;01m\\n\u001b[39;49;00m\u001b[38;5;124;43m        component2 = [vertices[i] for i in [3, 4, 5]]\u001b[39;49m\u001b[38;5;130;43;01m\\n\u001b[39;49;00m\u001b[38;5;124;43m        self.play(\u001b[39;49m\u001b[38;5;130;43;01m\\n\u001b[39;49;00m\u001b[38;5;124;43m            *[v.animate.set_color(BLUE) for v in component1],\u001b[39;49m\u001b[38;5;130;43;01m\\n\u001b[39;49;00m\u001b[38;5;124;43m            *[v.animate.set_color(GREEN) for v in component2]\u001b[39;49m\u001b[38;5;130;43;01m\\n\u001b[39;49;00m\u001b[38;5;124;43m        )\u001b[39;49m\u001b[38;5;130;43;01m\\n\u001b[39;49;00m\u001b[38;5;124;43m        self.wait(2)\u001b[39;49m\u001b[38;5;130;43;01m\\n\u001b[39;49;00m\u001b[38;5;124;43m'\u001b[39;49m\u001b[43m)\u001b[49m\n",
      "File \u001b[1;32mc:\\Users\\berge\\Desktop\\a16z\\a16z-hackathon\\venv\\Lib\\site-packages\\IPython\\core\\interactiveshell.py:2541\u001b[0m, in \u001b[0;36mInteractiveShell.run_cell_magic\u001b[1;34m(self, magic_name, line, cell)\u001b[0m\n\u001b[0;32m   2539\u001b[0m \u001b[38;5;28;01mwith\u001b[39;00m \u001b[38;5;28mself\u001b[39m\u001b[38;5;241m.\u001b[39mbuiltin_trap:\n\u001b[0;32m   2540\u001b[0m     args \u001b[38;5;241m=\u001b[39m (magic_arg_s, cell)\n\u001b[1;32m-> 2541\u001b[0m     result \u001b[38;5;241m=\u001b[39m \u001b[43mfn\u001b[49m\u001b[43m(\u001b[49m\u001b[38;5;241;43m*\u001b[39;49m\u001b[43margs\u001b[49m\u001b[43m,\u001b[49m\u001b[43m \u001b[49m\u001b[38;5;241;43m*\u001b[39;49m\u001b[38;5;241;43m*\u001b[39;49m\u001b[43mkwargs\u001b[49m\u001b[43m)\u001b[49m\n\u001b[0;32m   2543\u001b[0m \u001b[38;5;66;03m# The code below prevents the output from being displayed\u001b[39;00m\n\u001b[0;32m   2544\u001b[0m \u001b[38;5;66;03m# when using magics with decorator @output_can_be_silenced\u001b[39;00m\n\u001b[0;32m   2545\u001b[0m \u001b[38;5;66;03m# when the last Python token in the expression is a ';'.\u001b[39;00m\n\u001b[0;32m   2546\u001b[0m \u001b[38;5;28;01mif\u001b[39;00m \u001b[38;5;28mgetattr\u001b[39m(fn, magic\u001b[38;5;241m.\u001b[39mMAGIC_OUTPUT_CAN_BE_SILENCED, \u001b[38;5;28;01mFalse\u001b[39;00m):\n",
      "File \u001b[1;32mc:\\Users\\berge\\Desktop\\a16z\\a16z-hackathon\\venv\\Lib\\site-packages\\manim\\utils\\ipython_magic.py:143\u001b[0m, in \u001b[0;36mManimMagic.manim\u001b[1;34m(self, line, cell, local_ns)\u001b[0m\n\u001b[0;32m    141\u001b[0m     SceneClass \u001b[38;5;241m=\u001b[39m local_ns[config[\u001b[38;5;124m\"\u001b[39m\u001b[38;5;124mscene_names\u001b[39m\u001b[38;5;124m\"\u001b[39m][\u001b[38;5;241m0\u001b[39m]]\n\u001b[0;32m    142\u001b[0m     scene \u001b[38;5;241m=\u001b[39m SceneClass(renderer\u001b[38;5;241m=\u001b[39mrenderer)\n\u001b[1;32m--> 143\u001b[0m     \u001b[43mscene\u001b[49m\u001b[38;5;241;43m.\u001b[39;49m\u001b[43mrender\u001b[49m\u001b[43m(\u001b[49m\u001b[43m)\u001b[49m\n\u001b[0;32m    144\u001b[0m \u001b[38;5;28;01mfinally\u001b[39;00m:\n\u001b[0;32m    145\u001b[0m     \u001b[38;5;66;03m# Shader cache becomes invalid as the context is destroyed\u001b[39;00m\n\u001b[0;32m    146\u001b[0m     shader_program_cache\u001b[38;5;241m.\u001b[39mclear()\n",
      "File \u001b[1;32mc:\\Users\\berge\\Desktop\\a16z\\a16z-hackathon\\venv\\Lib\\site-packages\\manim\\scene\\scene.py:229\u001b[0m, in \u001b[0;36mScene.render\u001b[1;34m(self, preview)\u001b[0m\n\u001b[0;32m    227\u001b[0m \u001b[38;5;28mself\u001b[39m\u001b[38;5;241m.\u001b[39msetup()\n\u001b[0;32m    228\u001b[0m \u001b[38;5;28;01mtry\u001b[39;00m:\n\u001b[1;32m--> 229\u001b[0m     \u001b[38;5;28;43mself\u001b[39;49m\u001b[38;5;241;43m.\u001b[39;49m\u001b[43mconstruct\u001b[49m\u001b[43m(\u001b[49m\u001b[43m)\u001b[49m\n\u001b[0;32m    230\u001b[0m \u001b[38;5;28;01mexcept\u001b[39;00m EndSceneEarlyException:\n\u001b[0;32m    231\u001b[0m     \u001b[38;5;28;01mpass\u001b[39;00m\n",
      "File \u001b[1;32m<string>:37\u001b[0m, in \u001b[0;36mconstruct\u001b[1;34m(self)\u001b[0m\n",
      "\u001b[1;31mValueError\u001b[0m: (3, 1) is not in list"
     ]
    }
   ],
   "source": [
    "%%manim -qm GraphTheoryVisualization\n",
    "\n",
    "class GraphTheoryVisualization(Scene):\n",
    "    def construct(self):\n",
    "        # Title\n",
    "        title = Text(\"Graph Theory\", font_size=48)\n",
    "        self.play(Write(title))\n",
    "        self.play(title.animate.to_edge(UP))\n",
    "        self.wait(1)\n",
    "\n",
    "        # Create a simple graph\n",
    "        vertices = [Dot() for _ in range(6)]\n",
    "        edges = [\n",
    "            (0, 1), (0, 2), (1, 2), (1, 3), (2, 3), (2, 4), (3, 4), (3, 5), (4, 3)\n",
    "        ]\n",
    "\n",
    "        # Position vertices\n",
    "        for i, v in enumerate(vertices):\n",
    "            angle = i * TAU / 6\n",
    "            v.move_to(2.5 * RIGHT * np.cos(angle) + 2 * UP * np.sin(angle))\n",
    "\n",
    "        # Create edge lines\n",
    "        edge_lines = [Line(vertices[e[0]].get_center(), vertices[e[1]].get_center()) for e in edges]\n",
    "\n",
    "        # Create the graph\n",
    "        graph = VGroup(*vertices, *edge_lines)\n",
    "        self.play(Create(graph))\n",
    "        self.wait(1)\n",
    "\n",
    "        # Highlight a path\n",
    "        path = [0, 1, 3, 5]\n",
    "        path_edges = [edge_lines[edges.index((path[i], path[i+1]))] for i in range(len(path)-1)]\n",
    "        self.play(*[edge.animate.set_color(RED) for edge in path_edges])\n",
    "        self.wait(1)\n",
    "\n",
    "        # Show a cycle\n",
    "        cycle = [1, 2, 4, 3]\n",
    "        cycle_edges = [edge_lines[edges.index((cycle[i], cycle[(i+1)%len(cycle)]))] for i in range(len(cycle))]\n",
    "        self.play(*[edge.animate.set_color(YELLOW) for edge in cycle_edges])\n",
    "        self.wait(1)\n",
    "\n",
    "        # Demonstrate graph coloring\n",
    "        colors = [BLUE, GREEN, ORANGE]\n",
    "        for i, v in enumerate(vertices):\n",
    "            self.play(v.animate.set_color(colors[i % 3]))\n",
    "        self.wait(1)\n",
    "\n",
    "        # Show degree of a vertex\n",
    "        focus_vertex = vertices[2]\n",
    "        connected_edges = [e for e in edge_lines if focus_vertex.get_center() in [e.start, e.end]]\n",
    "        self.play(\n",
    "            focus_vertex.animate.scale(1.5),\n",
    "            *[e.animate.set_color(PINK) for e in connected_edges]\n",
    "        )\n",
    "        self.wait(1)\n",
    "\n",
    "        # Reset colors\n",
    "        self.play(\n",
    "            *[v.animate.set_color(WHITE) for v in vertices],\n",
    "            *[e.animate.set_color(WHITE) for e in edge_lines],\n",
    "            focus_vertex.animate.scale(1/1.5)\n",
    "        )\n",
    "        self.wait(1)\n",
    "\n",
    "        # Demonstrate edge removal (graph cut)\n",
    "        cut_edges = [edge_lines[edges.index((1, 3))], edge_lines[edges.index((2, 4))]]\n",
    "        self.play(*[e.animate.set_color(RED) for e in cut_edges])\n",
    "        self.play(*[e.animate.set_opacity(0.2) for e in cut_edges])\n",
    "        self.wait(1)\n",
    "\n",
    "        # Show connected components\n",
    "        component1 = [vertices[i] for i in [0, 1, 2]]\n",
    "        component2 = [vertices[i] for i in [3, 4, 5]]\n",
    "        self.play(\n",
    "            *[v.animate.set_color(BLUE) for v in component1],\n",
    "            *[v.animate.set_color(GREEN) for v in component2]\n",
    "        )\n",
    "        self.wait(2)"
   ]
  },
  {
   "cell_type": "code",
   "execution_count": 46,
   "metadata": {},
   "outputs": [
    {
     "data": {
      "text/html": [
       "<pre style=\"white-space:pre;overflow-x:auto;line-height:normal;font-family:Menlo,'DejaVu Sans Mono',consolas,'Courier New',monospace\">Manim Community <span style=\"color: #008000; text-decoration-color: #008000\">v0.18.1</span>\n",
       "\n",
       "</pre>\n"
      ],
      "text/plain": [
       "Manim Community \u001b[32mv0.\u001b[0m\u001b[32m18.1\u001b[0m\n",
       "\n"
      ]
     },
     "metadata": {},
     "output_type": "display_data"
    },
    {
     "name": "stderr",
     "output_type": "stream",
     "text": [
      "                                                                                                                              \r"
     ]
    },
    {
     "ename": "KeyboardInterrupt",
     "evalue": "",
     "output_type": "error",
     "traceback": [
      "\u001b[1;31m---------------------------------------------------------------------------\u001b[0m",
      "\u001b[1;31mKeyboardInterrupt\u001b[0m                         Traceback (most recent call last)",
      "Cell \u001b[1;32mIn[46], line 1\u001b[0m\n\u001b[1;32m----> 1\u001b[0m \u001b[43mget_ipython\u001b[49m\u001b[43m(\u001b[49m\u001b[43m)\u001b[49m\u001b[38;5;241;43m.\u001b[39;49m\u001b[43mrun_cell_magic\u001b[49m\u001b[43m(\u001b[49m\u001b[38;5;124;43m'\u001b[39;49m\u001b[38;5;124;43mmanim\u001b[39;49m\u001b[38;5;124;43m'\u001b[39;49m\u001b[43m,\u001b[49m\u001b[43m \u001b[49m\u001b[38;5;124;43m'\u001b[39;49m\u001b[38;5;124;43m-qm QuantumSuperpositionVisualization\u001b[39;49m\u001b[38;5;124;43m'\u001b[39;49m\u001b[43m,\u001b[49m\u001b[43m \u001b[49m\u001b[38;5;124;43m'\u001b[39;49m\u001b[38;5;130;43;01m\\n\u001b[39;49;00m\u001b[38;5;124;43mimport numpy as np\u001b[39;49m\u001b[38;5;130;43;01m\\n\u001b[39;49;00m\u001b[38;5;130;43;01m\\n\u001b[39;49;00m\u001b[38;5;124;43mclass QuantumSuperpositionVisualization(ThreeDScene):\u001b[39;49m\u001b[38;5;130;43;01m\\n\u001b[39;49;00m\u001b[38;5;124;43m    def construct(self):\u001b[39;49m\u001b[38;5;130;43;01m\\n\u001b[39;49;00m\u001b[38;5;124;43m        self.set_camera_orientation(phi=75 * DEGREES, theta=-30 * DEGREES)\u001b[39;49m\u001b[38;5;130;43;01m\\n\u001b[39;49;00m\u001b[38;5;124;43m        \u001b[39;49m\u001b[38;5;130;43;01m\\n\u001b[39;49;00m\u001b[38;5;124;43m        # Title\u001b[39;49m\u001b[38;5;130;43;01m\\n\u001b[39;49;00m\u001b[38;5;124;43m        title = Text(\u001b[39;49m\u001b[38;5;124;43m\"\u001b[39;49m\u001b[38;5;124;43mQuantum Superposition\u001b[39;49m\u001b[38;5;124;43m\"\u001b[39;49m\u001b[38;5;124;43m, font_size=48)\u001b[39;49m\u001b[38;5;130;43;01m\\n\u001b[39;49;00m\u001b[38;5;124;43m        self.add_fixed_in_frame_mobjects(title)\u001b[39;49m\u001b[38;5;130;43;01m\\n\u001b[39;49;00m\u001b[38;5;124;43m        title.to_corner(UL)\u001b[39;49m\u001b[38;5;130;43;01m\\n\u001b[39;49;00m\u001b[38;5;124;43m        self.add(title)\u001b[39;49m\u001b[38;5;130;43;01m\\n\u001b[39;49;00m\u001b[38;5;130;43;01m\\n\u001b[39;49;00m\u001b[38;5;124;43m        # Create Bloch sphere\u001b[39;49m\u001b[38;5;130;43;01m\\n\u001b[39;49;00m\u001b[38;5;124;43m        sphere = Sphere(radius=2, resolution=(20, 20))\u001b[39;49m\u001b[38;5;130;43;01m\\n\u001b[39;49;00m\u001b[38;5;124;43m        sphere.set_color(BLUE_E)\u001b[39;49m\u001b[38;5;130;43;01m\\n\u001b[39;49;00m\u001b[38;5;124;43m        self.add(sphere)\u001b[39;49m\u001b[38;5;130;43;01m\\n\u001b[39;49;00m\u001b[38;5;130;43;01m\\n\u001b[39;49;00m\u001b[38;5;124;43m        # Add axes\u001b[39;49m\u001b[38;5;130;43;01m\\n\u001b[39;49;00m\u001b[38;5;124;43m        axes = ThreeDAxes(x_range=[-2, 2, 1], y_range=[-2, 2, 1], z_range=[-2, 2, 1])\u001b[39;49m\u001b[38;5;130;43;01m\\n\u001b[39;49;00m\u001b[38;5;124;43m        self.add(axes)\u001b[39;49m\u001b[38;5;130;43;01m\\n\u001b[39;49;00m\u001b[38;5;130;43;01m\\n\u001b[39;49;00m\u001b[38;5;124;43m        # Add |0⟩ and |1⟩ state labels\u001b[39;49m\u001b[38;5;130;43;01m\\n\u001b[39;49;00m\u001b[38;5;124;43m        state_0 = MathTex(r\u001b[39;49m\u001b[38;5;124;43m\"\u001b[39;49m\u001b[38;5;124;43m|0\u001b[39;49m\u001b[38;5;130;43;01m\\\\\u001b[39;49;00m\u001b[38;5;124;43mrangle\u001b[39;49m\u001b[38;5;124;43m\"\u001b[39;49m\u001b[38;5;124;43m).next_to(axes.c2p(0, 0, 2), UP)\u001b[39;49m\u001b[38;5;130;43;01m\\n\u001b[39;49;00m\u001b[38;5;124;43m        state_1 = MathTex(r\u001b[39;49m\u001b[38;5;124;43m\"\u001b[39;49m\u001b[38;5;124;43m|1\u001b[39;49m\u001b[38;5;130;43;01m\\\\\u001b[39;49;00m\u001b[38;5;124;43mrangle\u001b[39;49m\u001b[38;5;124;43m\"\u001b[39;49m\u001b[38;5;124;43m).next_to(axes.c2p(0, 0, -2), DOWN)\u001b[39;49m\u001b[38;5;130;43;01m\\n\u001b[39;49;00m\u001b[38;5;124;43m        self.add_fixed_in_frame_mobjects(state_0, state_1)\u001b[39;49m\u001b[38;5;130;43;01m\\n\u001b[39;49;00m\u001b[38;5;124;43m        self.add(state_0, state_1)\u001b[39;49m\u001b[38;5;130;43;01m\\n\u001b[39;49;00m\u001b[38;5;130;43;01m\\n\u001b[39;49;00m\u001b[38;5;124;43m        # Function to create state vector\u001b[39;49m\u001b[38;5;130;43;01m\\n\u001b[39;49;00m\u001b[38;5;124;43m        def get_state_vector(theta, phi):\u001b[39;49m\u001b[38;5;130;43;01m\\n\u001b[39;49;00m\u001b[38;5;124;43m            return np.array([\u001b[39;49m\u001b[38;5;130;43;01m\\n\u001b[39;49;00m\u001b[38;5;124;43m                2 * np.sin(theta) * np.cos(phi),\u001b[39;49m\u001b[38;5;130;43;01m\\n\u001b[39;49;00m\u001b[38;5;124;43m                2 * np.sin(theta) * np.sin(phi),\u001b[39;49m\u001b[38;5;130;43;01m\\n\u001b[39;49;00m\u001b[38;5;124;43m                2 * np.cos(theta)\u001b[39;49m\u001b[38;5;130;43;01m\\n\u001b[39;49;00m\u001b[38;5;124;43m            ])\u001b[39;49m\u001b[38;5;130;43;01m\\n\u001b[39;49;00m\u001b[38;5;130;43;01m\\n\u001b[39;49;00m\u001b[38;5;124;43m        # Initial state (|0⟩)\u001b[39;49m\u001b[38;5;130;43;01m\\n\u001b[39;49;00m\u001b[38;5;124;43m        initial_state = Arrow3D(start=ORIGIN, end=axes.c2p(0, 0, 2), color=YELLOW)\u001b[39;49m\u001b[38;5;130;43;01m\\n\u001b[39;49;00m\u001b[38;5;124;43m        self.play(Create(initial_state))\u001b[39;49m\u001b[38;5;130;43;01m\\n\u001b[39;49;00m\u001b[38;5;124;43m        self.wait(1)\u001b[39;49m\u001b[38;5;130;43;01m\\n\u001b[39;49;00m\u001b[38;5;130;43;01m\\n\u001b[39;49;00m\u001b[38;5;124;43m        # Rotate to superposition state\u001b[39;49m\u001b[38;5;130;43;01m\\n\u001b[39;49;00m\u001b[38;5;124;43m        superposition_state = Arrow3D(start=ORIGIN, end=get_state_vector(np.pi/4, 0), color=YELLOW)\u001b[39;49m\u001b[38;5;130;43;01m\\n\u001b[39;49;00m\u001b[38;5;124;43m        self.play(Transform(initial_state, superposition_state))\u001b[39;49m\u001b[38;5;130;43;01m\\n\u001b[39;49;00m\u001b[38;5;124;43m        self.wait(1)\u001b[39;49m\u001b[38;5;130;43;01m\\n\u001b[39;49;00m\u001b[38;5;130;43;01m\\n\u001b[39;49;00m\u001b[38;5;124;43m        # Add superposition label\u001b[39;49m\u001b[38;5;130;43;01m\\n\u001b[39;49;00m\u001b[38;5;124;43m        superposition_label = MathTex(r\u001b[39;49m\u001b[38;5;124;43m\"\u001b[39;49m\u001b[38;5;130;43;01m\\\\\u001b[39;49;00m\u001b[38;5;124;43mfrac\u001b[39;49m\u001b[38;5;132;43;01m{1}\u001b[39;49;00m\u001b[38;5;124;43m{\u001b[39;49m\u001b[38;5;130;43;01m\\\\\u001b[39;49;00m\u001b[38;5;124;43msqrt\u001b[39;49m\u001b[38;5;132;43;01m{2}\u001b[39;49;00m\u001b[38;5;124;43m}(|0\u001b[39;49m\u001b[38;5;130;43;01m\\\\\u001b[39;49;00m\u001b[38;5;124;43mrangle + |1\u001b[39;49m\u001b[38;5;130;43;01m\\\\\u001b[39;49;00m\u001b[38;5;124;43mrangle)\u001b[39;49m\u001b[38;5;124;43m\"\u001b[39;49m\u001b[38;5;124;43m).scale(0.7)\u001b[39;49m\u001b[38;5;130;43;01m\\n\u001b[39;49;00m\u001b[38;5;124;43m        self.add_fixed_in_frame_mobjects(superposition_label)\u001b[39;49m\u001b[38;5;130;43;01m\\n\u001b[39;49;00m\u001b[38;5;124;43m        superposition_label.to_corner(UR)\u001b[39;49m\u001b[38;5;130;43;01m\\n\u001b[39;49;00m\u001b[38;5;124;43m        self.play(Write(superposition_label))\u001b[39;49m\u001b[38;5;130;43;01m\\n\u001b[39;49;00m\u001b[38;5;124;43m        self.wait(1)\u001b[39;49m\u001b[38;5;130;43;01m\\n\u001b[39;49;00m\u001b[38;5;130;43;01m\\n\u001b[39;49;00m\u001b[38;5;124;43m        # Demonstrate measurement\u001b[39;49m\u001b[38;5;130;43;01m\\n\u001b[39;49;00m\u001b[38;5;124;43m        measurement_text = Text(\u001b[39;49m\u001b[38;5;124;43m\"\u001b[39;49m\u001b[38;5;124;43mMeasurement\u001b[39;49m\u001b[38;5;124;43m\"\u001b[39;49m\u001b[38;5;124;43m, font_size=36)\u001b[39;49m\u001b[38;5;130;43;01m\\n\u001b[39;49;00m\u001b[38;5;124;43m        self.add_fixed_in_frame_mobjects(measurement_text)\u001b[39;49m\u001b[38;5;130;43;01m\\n\u001b[39;49;00m\u001b[38;5;124;43m        measurement_text.to_edge(DOWN)\u001b[39;49m\u001b[38;5;130;43;01m\\n\u001b[39;49;00m\u001b[38;5;124;43m        self.play(Write(measurement_text))\u001b[39;49m\u001b[38;5;130;43;01m\\n\u001b[39;49;00m\u001b[38;5;124;43m        self.wait(1)\u001b[39;49m\u001b[38;5;130;43;01m\\n\u001b[39;49;00m\u001b[38;5;130;43;01m\\n\u001b[39;49;00m\u001b[38;5;124;43m        # 50\u001b[39;49m\u001b[38;5;132;43;01m% c\u001b[39;49;00m\u001b[38;5;124;43mhance of measuring |0⟩\u001b[39;49m\u001b[38;5;130;43;01m\\n\u001b[39;49;00m\u001b[38;5;124;43m        measured_state_0 = Arrow3D(start=ORIGIN, end=axes.c2p(0, 0, 2), color=GREEN)\u001b[39;49m\u001b[38;5;130;43;01m\\n\u001b[39;49;00m\u001b[38;5;124;43m        self.play(Transform(initial_state, measured_state_0))\u001b[39;49m\u001b[38;5;130;43;01m\\n\u001b[39;49;00m\u001b[38;5;124;43m        self.wait(1)\u001b[39;49m\u001b[38;5;130;43;01m\\n\u001b[39;49;00m\u001b[38;5;130;43;01m\\n\u001b[39;49;00m\u001b[38;5;124;43m        # Reset to superposition\u001b[39;49m\u001b[38;5;130;43;01m\\n\u001b[39;49;00m\u001b[38;5;124;43m        self.play(Transform(initial_state, superposition_state))\u001b[39;49m\u001b[38;5;130;43;01m\\n\u001b[39;49;00m\u001b[38;5;124;43m        self.wait(1)\u001b[39;49m\u001b[38;5;130;43;01m\\n\u001b[39;49;00m\u001b[38;5;130;43;01m\\n\u001b[39;49;00m\u001b[38;5;124;43m        # 50\u001b[39;49m\u001b[38;5;132;43;01m% c\u001b[39;49;00m\u001b[38;5;124;43mhance of measuring |1⟩\u001b[39;49m\u001b[38;5;130;43;01m\\n\u001b[39;49;00m\u001b[38;5;124;43m        measured_state_1 = Arrow3D(start=ORIGIN, end=axes.c2p(0, 0, -2), color=RED)\u001b[39;49m\u001b[38;5;130;43;01m\\n\u001b[39;49;00m\u001b[38;5;124;43m        self.play(Transform(initial_state, measured_state_1))\u001b[39;49m\u001b[38;5;130;43;01m\\n\u001b[39;49;00m\u001b[38;5;124;43m        self.wait(1)\u001b[39;49m\u001b[38;5;130;43;01m\\n\u001b[39;49;00m\u001b[38;5;130;43;01m\\n\u001b[39;49;00m\u001b[38;5;124;43m        # Conclusion\u001b[39;49m\u001b[38;5;130;43;01m\\n\u001b[39;49;00m\u001b[38;5;124;43m        conclusion = Text(\u001b[39;49m\u001b[38;5;124;43m\"\u001b[39;49m\u001b[38;5;124;43mSuperposition collapses upon measurement\u001b[39;49m\u001b[38;5;124;43m\"\u001b[39;49m\u001b[38;5;124;43m, font_size=36)\u001b[39;49m\u001b[38;5;130;43;01m\\n\u001b[39;49;00m\u001b[38;5;124;43m        self.add_fixed_in_frame_mobjects(conclusion)\u001b[39;49m\u001b[38;5;130;43;01m\\n\u001b[39;49;00m\u001b[38;5;124;43m        conclusion.next_to(measurement_text, UP)\u001b[39;49m\u001b[38;5;130;43;01m\\n\u001b[39;49;00m\u001b[38;5;124;43m        self.play(Write(conclusion))\u001b[39;49m\u001b[38;5;130;43;01m\\n\u001b[39;49;00m\u001b[38;5;124;43m        self.wait(2)\u001b[39;49m\u001b[38;5;130;43;01m\\n\u001b[39;49;00m\u001b[38;5;130;43;01m\\n\u001b[39;49;00m\u001b[38;5;124;43m        # Rotate the camera\u001b[39;49m\u001b[38;5;130;43;01m\\n\u001b[39;49;00m\u001b[38;5;124;43m        self.begin_ambient_camera_rotation(rate=0.2)\u001b[39;49m\u001b[38;5;130;43;01m\\n\u001b[39;49;00m\u001b[38;5;124;43m        self.wait(5)\u001b[39;49m\u001b[38;5;130;43;01m\\n\u001b[39;49;00m\u001b[38;5;124;43m        self.stop_ambient_camera_rotation()\u001b[39;49m\u001b[38;5;130;43;01m\\n\u001b[39;49;00m\u001b[38;5;124;43m'\u001b[39;49m\u001b[43m)\u001b[49m\n",
      "File \u001b[1;32mc:\\Users\\berge\\Desktop\\a16z\\a16z-hackathon\\venv\\Lib\\site-packages\\IPython\\core\\interactiveshell.py:2541\u001b[0m, in \u001b[0;36mInteractiveShell.run_cell_magic\u001b[1;34m(self, magic_name, line, cell)\u001b[0m\n\u001b[0;32m   2539\u001b[0m \u001b[38;5;28;01mwith\u001b[39;00m \u001b[38;5;28mself\u001b[39m\u001b[38;5;241m.\u001b[39mbuiltin_trap:\n\u001b[0;32m   2540\u001b[0m     args \u001b[38;5;241m=\u001b[39m (magic_arg_s, cell)\n\u001b[1;32m-> 2541\u001b[0m     result \u001b[38;5;241m=\u001b[39m \u001b[43mfn\u001b[49m\u001b[43m(\u001b[49m\u001b[38;5;241;43m*\u001b[39;49m\u001b[43margs\u001b[49m\u001b[43m,\u001b[49m\u001b[43m \u001b[49m\u001b[38;5;241;43m*\u001b[39;49m\u001b[38;5;241;43m*\u001b[39;49m\u001b[43mkwargs\u001b[49m\u001b[43m)\u001b[49m\n\u001b[0;32m   2543\u001b[0m \u001b[38;5;66;03m# The code below prevents the output from being displayed\u001b[39;00m\n\u001b[0;32m   2544\u001b[0m \u001b[38;5;66;03m# when using magics with decorator @output_can_be_silenced\u001b[39;00m\n\u001b[0;32m   2545\u001b[0m \u001b[38;5;66;03m# when the last Python token in the expression is a ';'.\u001b[39;00m\n\u001b[0;32m   2546\u001b[0m \u001b[38;5;28;01mif\u001b[39;00m \u001b[38;5;28mgetattr\u001b[39m(fn, magic\u001b[38;5;241m.\u001b[39mMAGIC_OUTPUT_CAN_BE_SILENCED, \u001b[38;5;28;01mFalse\u001b[39;00m):\n",
      "File \u001b[1;32mc:\\Users\\berge\\Desktop\\a16z\\a16z-hackathon\\venv\\Lib\\site-packages\\manim\\utils\\ipython_magic.py:143\u001b[0m, in \u001b[0;36mManimMagic.manim\u001b[1;34m(self, line, cell, local_ns)\u001b[0m\n\u001b[0;32m    141\u001b[0m     SceneClass \u001b[38;5;241m=\u001b[39m local_ns[config[\u001b[38;5;124m\"\u001b[39m\u001b[38;5;124mscene_names\u001b[39m\u001b[38;5;124m\"\u001b[39m][\u001b[38;5;241m0\u001b[39m]]\n\u001b[0;32m    142\u001b[0m     scene \u001b[38;5;241m=\u001b[39m SceneClass(renderer\u001b[38;5;241m=\u001b[39mrenderer)\n\u001b[1;32m--> 143\u001b[0m     \u001b[43mscene\u001b[49m\u001b[38;5;241;43m.\u001b[39;49m\u001b[43mrender\u001b[49m\u001b[43m(\u001b[49m\u001b[43m)\u001b[49m\n\u001b[0;32m    144\u001b[0m \u001b[38;5;28;01mfinally\u001b[39;00m:\n\u001b[0;32m    145\u001b[0m     \u001b[38;5;66;03m# Shader cache becomes invalid as the context is destroyed\u001b[39;00m\n\u001b[0;32m    146\u001b[0m     shader_program_cache\u001b[38;5;241m.\u001b[39mclear()\n",
      "File \u001b[1;32mc:\\Users\\berge\\Desktop\\a16z\\a16z-hackathon\\venv\\Lib\\site-packages\\manim\\scene\\scene.py:229\u001b[0m, in \u001b[0;36mScene.render\u001b[1;34m(self, preview)\u001b[0m\n\u001b[0;32m    227\u001b[0m \u001b[38;5;28mself\u001b[39m\u001b[38;5;241m.\u001b[39msetup()\n\u001b[0;32m    228\u001b[0m \u001b[38;5;28;01mtry\u001b[39;00m:\n\u001b[1;32m--> 229\u001b[0m     \u001b[38;5;28;43mself\u001b[39;49m\u001b[38;5;241;43m.\u001b[39;49m\u001b[43mconstruct\u001b[49m\u001b[43m(\u001b[49m\u001b[43m)\u001b[49m\n\u001b[0;32m    230\u001b[0m \u001b[38;5;28;01mexcept\u001b[39;00m EndSceneEarlyException:\n\u001b[0;32m    231\u001b[0m     \u001b[38;5;28;01mpass\u001b[39;00m\n",
      "File \u001b[1;32m<string>:52\u001b[0m, in \u001b[0;36mconstruct\u001b[1;34m(self)\u001b[0m\n",
      "File \u001b[1;32mc:\\Users\\berge\\Desktop\\a16z\\a16z-hackathon\\venv\\Lib\\site-packages\\manim\\scene\\scene.py:1134\u001b[0m, in \u001b[0;36mScene.wait\u001b[1;34m(self, duration, stop_condition, frozen_frame)\u001b[0m\n\u001b[0;32m   1107\u001b[0m \u001b[38;5;28;01mdef\u001b[39;00m \u001b[38;5;21mwait\u001b[39m(\n\u001b[0;32m   1108\u001b[0m     \u001b[38;5;28mself\u001b[39m,\n\u001b[0;32m   1109\u001b[0m     duration: \u001b[38;5;28mfloat\u001b[39m \u001b[38;5;241m=\u001b[39m DEFAULT_WAIT_TIME,\n\u001b[0;32m   1110\u001b[0m     stop_condition: Callable[[], \u001b[38;5;28mbool\u001b[39m] \u001b[38;5;241m|\u001b[39m \u001b[38;5;28;01mNone\u001b[39;00m \u001b[38;5;241m=\u001b[39m \u001b[38;5;28;01mNone\u001b[39;00m,\n\u001b[0;32m   1111\u001b[0m     frozen_frame: \u001b[38;5;28mbool\u001b[39m \u001b[38;5;241m|\u001b[39m \u001b[38;5;28;01mNone\u001b[39;00m \u001b[38;5;241m=\u001b[39m \u001b[38;5;28;01mNone\u001b[39;00m,\n\u001b[0;32m   1112\u001b[0m ):\n\u001b[0;32m   1113\u001b[0m \u001b[38;5;250m    \u001b[39m\u001b[38;5;124;03m\"\"\"Plays a \"no operation\" animation.\u001b[39;00m\n\u001b[0;32m   1114\u001b[0m \n\u001b[0;32m   1115\u001b[0m \u001b[38;5;124;03m    Parameters\u001b[39;00m\n\u001b[1;32m   (...)\u001b[0m\n\u001b[0;32m   1132\u001b[0m \u001b[38;5;124;03m    :class:`.Wait`, :meth:`.should_mobjects_update`\u001b[39;00m\n\u001b[0;32m   1133\u001b[0m \u001b[38;5;124;03m    \"\"\"\u001b[39;00m\n\u001b[1;32m-> 1134\u001b[0m     \u001b[38;5;28;43mself\u001b[39;49m\u001b[38;5;241;43m.\u001b[39;49m\u001b[43mplay\u001b[49m\u001b[43m(\u001b[49m\n\u001b[0;32m   1135\u001b[0m \u001b[43m        \u001b[49m\u001b[43mWait\u001b[49m\u001b[43m(\u001b[49m\n\u001b[0;32m   1136\u001b[0m \u001b[43m            \u001b[49m\u001b[43mrun_time\u001b[49m\u001b[38;5;241;43m=\u001b[39;49m\u001b[43mduration\u001b[49m\u001b[43m,\u001b[49m\n\u001b[0;32m   1137\u001b[0m \u001b[43m            \u001b[49m\u001b[43mstop_condition\u001b[49m\u001b[38;5;241;43m=\u001b[39;49m\u001b[43mstop_condition\u001b[49m\u001b[43m,\u001b[49m\n\u001b[0;32m   1138\u001b[0m \u001b[43m            \u001b[49m\u001b[43mfrozen_frame\u001b[49m\u001b[38;5;241;43m=\u001b[39;49m\u001b[43mfrozen_frame\u001b[49m\u001b[43m,\u001b[49m\n\u001b[0;32m   1139\u001b[0m \u001b[43m        \u001b[49m\u001b[43m)\u001b[49m\n\u001b[0;32m   1140\u001b[0m \u001b[43m    \u001b[49m\u001b[43m)\u001b[49m\n",
      "File \u001b[1;32mc:\\Users\\berge\\Desktop\\a16z\\a16z-hackathon\\venv\\Lib\\site-packages\\manim\\scene\\scene.py:1092\u001b[0m, in \u001b[0;36mScene.play\u001b[1;34m(self, subcaption, subcaption_duration, subcaption_offset, *args, **kwargs)\u001b[0m\n\u001b[0;32m   1089\u001b[0m     \u001b[38;5;28;01mreturn\u001b[39;00m\n\u001b[0;32m   1091\u001b[0m start_time \u001b[38;5;241m=\u001b[39m \u001b[38;5;28mself\u001b[39m\u001b[38;5;241m.\u001b[39mrenderer\u001b[38;5;241m.\u001b[39mtime\n\u001b[1;32m-> 1092\u001b[0m \u001b[38;5;28;43mself\u001b[39;49m\u001b[38;5;241;43m.\u001b[39;49m\u001b[43mrenderer\u001b[49m\u001b[38;5;241;43m.\u001b[39;49m\u001b[43mplay\u001b[49m\u001b[43m(\u001b[49m\u001b[38;5;28;43mself\u001b[39;49m\u001b[43m,\u001b[49m\u001b[43m \u001b[49m\u001b[38;5;241;43m*\u001b[39;49m\u001b[43margs\u001b[49m\u001b[43m,\u001b[49m\u001b[43m \u001b[49m\u001b[38;5;241;43m*\u001b[39;49m\u001b[38;5;241;43m*\u001b[39;49m\u001b[43mkwargs\u001b[49m\u001b[43m)\u001b[49m\n\u001b[0;32m   1093\u001b[0m run_time \u001b[38;5;241m=\u001b[39m \u001b[38;5;28mself\u001b[39m\u001b[38;5;241m.\u001b[39mrenderer\u001b[38;5;241m.\u001b[39mtime \u001b[38;5;241m-\u001b[39m start_time\n\u001b[0;32m   1094\u001b[0m \u001b[38;5;28;01mif\u001b[39;00m subcaption:\n",
      "File \u001b[1;32mc:\\Users\\berge\\Desktop\\a16z\\a16z-hackathon\\venv\\Lib\\site-packages\\manim\\renderer\\cairo_renderer.py:102\u001b[0m, in \u001b[0;36mCairoRenderer.play\u001b[1;34m(self, scene, *args, **kwargs)\u001b[0m\n\u001b[0;32m     96\u001b[0m \u001b[38;5;28mself\u001b[39m\u001b[38;5;241m.\u001b[39manimations_hashes\u001b[38;5;241m.\u001b[39mappend(hash_current_animation)\n\u001b[0;32m     97\u001b[0m logger\u001b[38;5;241m.\u001b[39mdebug(\n\u001b[0;32m     98\u001b[0m     \u001b[38;5;124m\"\u001b[39m\u001b[38;5;124mList of the first few animation hashes of the scene: \u001b[39m\u001b[38;5;132;01m%(h)s\u001b[39;00m\u001b[38;5;124m\"\u001b[39m,\n\u001b[0;32m     99\u001b[0m     {\u001b[38;5;124m\"\u001b[39m\u001b[38;5;124mh\u001b[39m\u001b[38;5;124m\"\u001b[39m: \u001b[38;5;28mstr\u001b[39m(\u001b[38;5;28mself\u001b[39m\u001b[38;5;241m.\u001b[39manimations_hashes[:\u001b[38;5;241m5\u001b[39m])},\n\u001b[0;32m    100\u001b[0m )\n\u001b[1;32m--> 102\u001b[0m \u001b[38;5;28;43mself\u001b[39;49m\u001b[38;5;241;43m.\u001b[39;49m\u001b[43mfile_writer\u001b[49m\u001b[38;5;241;43m.\u001b[39;49m\u001b[43mbegin_animation\u001b[49m\u001b[43m(\u001b[49m\u001b[38;5;129;43;01mnot\u001b[39;49;00m\u001b[43m \u001b[49m\u001b[38;5;28;43mself\u001b[39;49m\u001b[38;5;241;43m.\u001b[39;49m\u001b[43mskip_animations\u001b[49m\u001b[43m)\u001b[49m\n\u001b[0;32m    103\u001b[0m scene\u001b[38;5;241m.\u001b[39mbegin_animations()\n\u001b[0;32m    105\u001b[0m \u001b[38;5;66;03m# Save a static image, to avoid rendering non moving objects.\u001b[39;00m\n",
      "File \u001b[1;32mc:\\Users\\berge\\Desktop\\a16z\\a16z-hackathon\\venv\\Lib\\site-packages\\manim\\scene\\scene_file_writer.py:361\u001b[0m, in \u001b[0;36mSceneFileWriter.begin_animation\u001b[1;34m(self, allow_write, file_path)\u001b[0m\n\u001b[0;32m    351\u001b[0m \u001b[38;5;250m\u001b[39m\u001b[38;5;124;03m\"\"\"\u001b[39;00m\n\u001b[0;32m    352\u001b[0m \u001b[38;5;124;03mUsed internally by manim to stream the animation to FFMPEG for\u001b[39;00m\n\u001b[0;32m    353\u001b[0m \u001b[38;5;124;03mdisplaying or writing to a file.\u001b[39;00m\n\u001b[1;32m   (...)\u001b[0m\n\u001b[0;32m    358\u001b[0m \u001b[38;5;124;03m    Whether or not to write to a video file.\u001b[39;00m\n\u001b[0;32m    359\u001b[0m \u001b[38;5;124;03m\"\"\"\u001b[39;00m\n\u001b[0;32m    360\u001b[0m \u001b[38;5;28;01mif\u001b[39;00m write_to_movie() \u001b[38;5;129;01mand\u001b[39;00m allow_write:\n\u001b[1;32m--> 361\u001b[0m     \u001b[38;5;28;43mself\u001b[39;49m\u001b[38;5;241;43m.\u001b[39;49m\u001b[43mopen_movie_pipe\u001b[49m\u001b[43m(\u001b[49m\u001b[43mfile_path\u001b[49m\u001b[38;5;241;43m=\u001b[39;49m\u001b[43mfile_path\u001b[49m\u001b[43m)\u001b[49m\n",
      "File \u001b[1;32mc:\\Users\\berge\\Desktop\\a16z\\a16z-hackathon\\venv\\Lib\\site-packages\\manim\\scene\\scene_file_writer.py:518\u001b[0m, in \u001b[0;36mSceneFileWriter.open_movie_pipe\u001b[1;34m(self, file_path)\u001b[0m\n\u001b[0;32m    516\u001b[0m     command \u001b[38;5;241m+\u001b[39m\u001b[38;5;241m=\u001b[39m [\u001b[38;5;124m\"\u001b[39m\u001b[38;5;124m-vcodec\u001b[39m\u001b[38;5;124m\"\u001b[39m, \u001b[38;5;124m\"\u001b[39m\u001b[38;5;124mlibx264\u001b[39m\u001b[38;5;124m\"\u001b[39m, \u001b[38;5;124m\"\u001b[39m\u001b[38;5;124m-pix_fmt\u001b[39m\u001b[38;5;124m\"\u001b[39m, \u001b[38;5;124m\"\u001b[39m\u001b[38;5;124myuv420p\u001b[39m\u001b[38;5;124m\"\u001b[39m]\n\u001b[0;32m    517\u001b[0m command \u001b[38;5;241m+\u001b[39m\u001b[38;5;241m=\u001b[39m [file_path]\n\u001b[1;32m--> 518\u001b[0m \u001b[38;5;28mself\u001b[39m\u001b[38;5;241m.\u001b[39mwriting_process \u001b[38;5;241m=\u001b[39m \u001b[43msubprocess\u001b[49m\u001b[38;5;241;43m.\u001b[39;49m\u001b[43mPopen\u001b[49m\u001b[43m(\u001b[49m\u001b[43mcommand\u001b[49m\u001b[43m,\u001b[49m\u001b[43m \u001b[49m\u001b[43mstdin\u001b[49m\u001b[38;5;241;43m=\u001b[39;49m\u001b[43msubprocess\u001b[49m\u001b[38;5;241;43m.\u001b[39;49m\u001b[43mPIPE\u001b[49m\u001b[43m)\u001b[49m\n",
      "File \u001b[1;32m~\\AppData\\Local\\Programs\\Python\\Python312\\Lib\\subprocess.py:1026\u001b[0m, in \u001b[0;36mPopen.__init__\u001b[1;34m(self, args, bufsize, executable, stdin, stdout, stderr, preexec_fn, close_fds, shell, cwd, env, universal_newlines, startupinfo, creationflags, restore_signals, start_new_session, pass_fds, user, group, extra_groups, encoding, errors, text, umask, pipesize, process_group)\u001b[0m\n\u001b[0;32m   1022\u001b[0m         \u001b[38;5;28;01mif\u001b[39;00m \u001b[38;5;28mself\u001b[39m\u001b[38;5;241m.\u001b[39mtext_mode:\n\u001b[0;32m   1023\u001b[0m             \u001b[38;5;28mself\u001b[39m\u001b[38;5;241m.\u001b[39mstderr \u001b[38;5;241m=\u001b[39m io\u001b[38;5;241m.\u001b[39mTextIOWrapper(\u001b[38;5;28mself\u001b[39m\u001b[38;5;241m.\u001b[39mstderr,\n\u001b[0;32m   1024\u001b[0m                     encoding\u001b[38;5;241m=\u001b[39mencoding, errors\u001b[38;5;241m=\u001b[39merrors)\n\u001b[1;32m-> 1026\u001b[0m     \u001b[38;5;28;43mself\u001b[39;49m\u001b[38;5;241;43m.\u001b[39;49m\u001b[43m_execute_child\u001b[49m\u001b[43m(\u001b[49m\u001b[43margs\u001b[49m\u001b[43m,\u001b[49m\u001b[43m \u001b[49m\u001b[43mexecutable\u001b[49m\u001b[43m,\u001b[49m\u001b[43m \u001b[49m\u001b[43mpreexec_fn\u001b[49m\u001b[43m,\u001b[49m\u001b[43m \u001b[49m\u001b[43mclose_fds\u001b[49m\u001b[43m,\u001b[49m\n\u001b[0;32m   1027\u001b[0m \u001b[43m                        \u001b[49m\u001b[43mpass_fds\u001b[49m\u001b[43m,\u001b[49m\u001b[43m \u001b[49m\u001b[43mcwd\u001b[49m\u001b[43m,\u001b[49m\u001b[43m \u001b[49m\u001b[43menv\u001b[49m\u001b[43m,\u001b[49m\n\u001b[0;32m   1028\u001b[0m \u001b[43m                        \u001b[49m\u001b[43mstartupinfo\u001b[49m\u001b[43m,\u001b[49m\u001b[43m \u001b[49m\u001b[43mcreationflags\u001b[49m\u001b[43m,\u001b[49m\u001b[43m \u001b[49m\u001b[43mshell\u001b[49m\u001b[43m,\u001b[49m\n\u001b[0;32m   1029\u001b[0m \u001b[43m                        \u001b[49m\u001b[43mp2cread\u001b[49m\u001b[43m,\u001b[49m\u001b[43m \u001b[49m\u001b[43mp2cwrite\u001b[49m\u001b[43m,\u001b[49m\n\u001b[0;32m   1030\u001b[0m \u001b[43m                        \u001b[49m\u001b[43mc2pread\u001b[49m\u001b[43m,\u001b[49m\u001b[43m \u001b[49m\u001b[43mc2pwrite\u001b[49m\u001b[43m,\u001b[49m\n\u001b[0;32m   1031\u001b[0m \u001b[43m                        \u001b[49m\u001b[43merrread\u001b[49m\u001b[43m,\u001b[49m\u001b[43m \u001b[49m\u001b[43merrwrite\u001b[49m\u001b[43m,\u001b[49m\n\u001b[0;32m   1032\u001b[0m \u001b[43m                        \u001b[49m\u001b[43mrestore_signals\u001b[49m\u001b[43m,\u001b[49m\n\u001b[0;32m   1033\u001b[0m \u001b[43m                        \u001b[49m\u001b[43mgid\u001b[49m\u001b[43m,\u001b[49m\u001b[43m \u001b[49m\u001b[43mgids\u001b[49m\u001b[43m,\u001b[49m\u001b[43m \u001b[49m\u001b[43muid\u001b[49m\u001b[43m,\u001b[49m\u001b[43m \u001b[49m\u001b[43mumask\u001b[49m\u001b[43m,\u001b[49m\n\u001b[0;32m   1034\u001b[0m \u001b[43m                        \u001b[49m\u001b[43mstart_new_session\u001b[49m\u001b[43m,\u001b[49m\u001b[43m \u001b[49m\u001b[43mprocess_group\u001b[49m\u001b[43m)\u001b[49m\n\u001b[0;32m   1035\u001b[0m \u001b[38;5;28;01mexcept\u001b[39;00m:\n\u001b[0;32m   1036\u001b[0m     \u001b[38;5;66;03m# Cleanup if the child failed starting.\u001b[39;00m\n\u001b[0;32m   1037\u001b[0m     \u001b[38;5;28;01mfor\u001b[39;00m f \u001b[38;5;129;01min\u001b[39;00m \u001b[38;5;28mfilter\u001b[39m(\u001b[38;5;28;01mNone\u001b[39;00m, (\u001b[38;5;28mself\u001b[39m\u001b[38;5;241m.\u001b[39mstdin, \u001b[38;5;28mself\u001b[39m\u001b[38;5;241m.\u001b[39mstdout, \u001b[38;5;28mself\u001b[39m\u001b[38;5;241m.\u001b[39mstderr)):\n",
      "File \u001b[1;32m~\\AppData\\Local\\Programs\\Python\\Python312\\Lib\\subprocess.py:1538\u001b[0m, in \u001b[0;36mPopen._execute_child\u001b[1;34m(self, args, executable, preexec_fn, close_fds, pass_fds, cwd, env, startupinfo, creationflags, shell, p2cread, p2cwrite, c2pread, c2pwrite, errread, errwrite, unused_restore_signals, unused_gid, unused_gids, unused_uid, unused_umask, unused_start_new_session, unused_process_group)\u001b[0m\n\u001b[0;32m   1536\u001b[0m \u001b[38;5;66;03m# Start the process\u001b[39;00m\n\u001b[0;32m   1537\u001b[0m \u001b[38;5;28;01mtry\u001b[39;00m:\n\u001b[1;32m-> 1538\u001b[0m     hp, ht, pid, tid \u001b[38;5;241m=\u001b[39m \u001b[43m_winapi\u001b[49m\u001b[38;5;241;43m.\u001b[39;49m\u001b[43mCreateProcess\u001b[49m\u001b[43m(\u001b[49m\u001b[43mexecutable\u001b[49m\u001b[43m,\u001b[49m\u001b[43m \u001b[49m\u001b[43margs\u001b[49m\u001b[43m,\u001b[49m\n\u001b[0;32m   1539\u001b[0m \u001b[43m                             \u001b[49m\u001b[38;5;66;43;03m# no special security\u001b[39;49;00m\n\u001b[0;32m   1540\u001b[0m \u001b[43m                             \u001b[49m\u001b[38;5;28;43;01mNone\u001b[39;49;00m\u001b[43m,\u001b[49m\u001b[43m \u001b[49m\u001b[38;5;28;43;01mNone\u001b[39;49;00m\u001b[43m,\u001b[49m\n\u001b[0;32m   1541\u001b[0m \u001b[43m                             \u001b[49m\u001b[38;5;28;43mint\u001b[39;49m\u001b[43m(\u001b[49m\u001b[38;5;129;43;01mnot\u001b[39;49;00m\u001b[43m \u001b[49m\u001b[43mclose_fds\u001b[49m\u001b[43m)\u001b[49m\u001b[43m,\u001b[49m\n\u001b[0;32m   1542\u001b[0m \u001b[43m                             \u001b[49m\u001b[43mcreationflags\u001b[49m\u001b[43m,\u001b[49m\n\u001b[0;32m   1543\u001b[0m \u001b[43m                             \u001b[49m\u001b[43menv\u001b[49m\u001b[43m,\u001b[49m\n\u001b[0;32m   1544\u001b[0m \u001b[43m                             \u001b[49m\u001b[43mcwd\u001b[49m\u001b[43m,\u001b[49m\n\u001b[0;32m   1545\u001b[0m \u001b[43m                             \u001b[49m\u001b[43mstartupinfo\u001b[49m\u001b[43m)\u001b[49m\n\u001b[0;32m   1546\u001b[0m \u001b[38;5;28;01mfinally\u001b[39;00m:\n\u001b[0;32m   1547\u001b[0m     \u001b[38;5;66;03m# Child is launched. Close the parent's copy of those pipe\u001b[39;00m\n\u001b[0;32m   1548\u001b[0m     \u001b[38;5;66;03m# handles that only the child should have open.  You need\u001b[39;00m\n\u001b[1;32m   (...)\u001b[0m\n\u001b[0;32m   1551\u001b[0m     \u001b[38;5;66;03m# pipe will not close when the child process exits and the\u001b[39;00m\n\u001b[0;32m   1552\u001b[0m     \u001b[38;5;66;03m# ReadFile will hang.\u001b[39;00m\n\u001b[0;32m   1553\u001b[0m     \u001b[38;5;28mself\u001b[39m\u001b[38;5;241m.\u001b[39m_close_pipe_fds(p2cread, p2cwrite,\n\u001b[0;32m   1554\u001b[0m                          c2pread, c2pwrite,\n\u001b[0;32m   1555\u001b[0m                          errread, errwrite)\n",
      "\u001b[1;31mKeyboardInterrupt\u001b[0m: "
     ]
    }
   ],
   "source": [
    "%%manim -qm QuantumSuperpositionVisualization\n",
    "\n",
    "import numpy as np\n",
    "\n",
    "class QuantumSuperpositionVisualization(ThreeDScene):\n",
    "    def construct(self):\n",
    "        self.set_camera_orientation(phi=75 * DEGREES, theta=-30 * DEGREES)\n",
    "        \n",
    "        # Title\n",
    "        title = Text(\"Quantum Superposition\", font_size=48)\n",
    "        self.add_fixed_in_frame_mobjects(title)\n",
    "        title.to_corner(UL)\n",
    "        self.add(title)\n",
    "\n",
    "        # Create Bloch sphere\n",
    "        sphere = Sphere(radius=2, resolution=(20, 20))\n",
    "        sphere.set_color(BLUE_E)\n",
    "        self.add(sphere)\n",
    "\n",
    "        # Add axes\n",
    "        axes = ThreeDAxes(x_range=[-2, 2, 1], y_range=[-2, 2, 1], z_range=[-2, 2, 1])\n",
    "        self.add(axes)\n",
    "\n",
    "        # Add |0⟩ and |1⟩ state labels\n",
    "        state_0 = MathTex(r\"|0\\rangle\").next_to(axes.c2p(0, 0, 2), UP)\n",
    "        state_1 = MathTex(r\"|1\\rangle\").next_to(axes.c2p(0, 0, -2), DOWN)\n",
    "        self.add_fixed_in_frame_mobjects(state_0, state_1)\n",
    "        self.add(state_0, state_1)\n",
    "\n",
    "        # Function to create state vector\n",
    "        def get_state_vector(theta, phi):\n",
    "            return np.array([\n",
    "                2 * np.sin(theta) * np.cos(phi),\n",
    "                2 * np.sin(theta) * np.sin(phi),\n",
    "                2 * np.cos(theta)\n",
    "            ])\n",
    "\n",
    "        # Initial state (|0⟩)\n",
    "        initial_state = Arrow3D(start=ORIGIN, end=axes.c2p(0, 0, 2), color=YELLOW)\n",
    "        self.play(Create(initial_state))\n",
    "        self.wait(1)\n",
    "\n",
    "        # Rotate to superposition state\n",
    "        superposition_state = Arrow3D(start=ORIGIN, end=get_state_vector(np.pi/4, 0), color=YELLOW)\n",
    "        self.play(Transform(initial_state, superposition_state))\n",
    "        self.wait(1)\n",
    "\n",
    "        # Add superposition label\n",
    "        superposition_label = MathTex(r\"\\frac{1}{\\sqrt{2}}(|0\\rangle + |1\\rangle)\").scale(0.7)\n",
    "        self.add_fixed_in_frame_mobjects(superposition_label)\n",
    "        superposition_label.to_corner(UR)\n",
    "        self.play(Write(superposition_label))\n",
    "        self.wait(1)\n",
    "\n",
    "        # Demonstrate measurement\n",
    "        measurement_text = Text(\"Measurement\", font_size=36)\n",
    "        self.add_fixed_in_frame_mobjects(measurement_text)\n",
    "        measurement_text.to_edge(DOWN)\n",
    "        self.play(Write(measurement_text))\n",
    "        self.wait(1)\n",
    "\n",
    "        # 50% chance of measuring |0⟩\n",
    "        measured_state_0 = Arrow3D(start=ORIGIN, end=axes.c2p(0, 0, 2), color=GREEN)\n",
    "        self.play(Transform(initial_state, measured_state_0))\n",
    "        self.wait(1)\n",
    "\n",
    "        # Reset to superposition\n",
    "        self.play(Transform(initial_state, superposition_state))\n",
    "        self.wait(1)\n",
    "\n",
    "        # 50% chance of measuring |1⟩\n",
    "        measured_state_1 = Arrow3D(start=ORIGIN, end=axes.c2p(0, 0, -2), color=RED)\n",
    "        self.play(Transform(initial_state, measured_state_1))\n",
    "        self.wait(1)\n",
    "\n",
    "        # Conclusion\n",
    "        conclusion = Text(\"Superposition collapses upon measurement\", font_size=36)\n",
    "        self.add_fixed_in_frame_mobjects(conclusion)\n",
    "        conclusion.next_to(measurement_text, UP)\n",
    "        self.play(Write(conclusion))\n",
    "        self.wait(2)\n",
    "\n",
    "        # Rotate the camera\n",
    "        self.begin_ambient_camera_rotation(rate=0.2)\n",
    "        self.wait(5)\n",
    "        self.stop_ambient_camera_rotation()"
   ]
  },
  {
   "cell_type": "code",
   "execution_count": null,
   "metadata": {},
   "outputs": [],
   "source": []
  },
  {
   "cell_type": "code",
   "execution_count": 48,
   "metadata": {},
   "outputs": [
    {
     "data": {
      "text/html": [
       "<pre style=\"white-space:pre;overflow-x:auto;line-height:normal;font-family:Menlo,'DejaVu Sans Mono',consolas,'Courier New',monospace\">Manim Community <span style=\"color: #008000; text-decoration-color: #008000\">v0.18.1</span>\n",
       "\n",
       "</pre>\n"
      ],
      "text/plain": [
       "Manim Community \u001b[32mv0.\u001b[0m\u001b[32m18.1\u001b[0m\n",
       "\n"
      ]
     },
     "metadata": {},
     "output_type": "display_data"
    },
    {
     "name": "stderr",
     "output_type": "stream",
     "text": [
      "                                                                                              \r"
     ]
    },
    {
     "data": {
      "text/html": [
       "<video src=\"media\\jupyter\\SimpleBubbleSortVisualization@2024-10-06@02-32-24.mp4\" controls autoplay loop style=\"max-width: 75%;\"  >\n",
       "      Your browser does not support the <code>video</code> element.\n",
       "    </video>"
      ],
      "text/plain": [
       "<IPython.core.display.Video object>"
      ]
     },
     "metadata": {},
     "output_type": "display_data"
    }
   ],
   "source": [
    "%%manim -qm SimpleBubbleSortVisualization\n",
    "\n",
    "class SimpleBubbleSortVisualization(Scene):\n",
    "    def construct(self):\n",
    "        # Title\n",
    "        title = Text(\"Bubble Sort\", font_size=36).to_edge(UP)\n",
    "        self.add(title)\n",
    "\n",
    "        # Create initial array\n",
    "        array = [5, 2, 8, 12, 1, 6]\n",
    "        \n",
    "        # Create rectangles to represent array elements\n",
    "        rects = VGroup(*[\n",
    "            Rectangle(height=value/3, width=0.8, fill_opacity=0.8, fill_color=BLUE, color=WHITE)\n",
    "            for value in array\n",
    "        ]).arrange(RIGHT, buff=0.2).move_to(ORIGIN)\n",
    "\n",
    "        # Add labels to rectangles\n",
    "        labels = VGroup(*[\n",
    "            Text(str(value), font_size=24).move_to(rect)\n",
    "            for value, rect in zip(array, rects)\n",
    "        ])\n",
    "\n",
    "        self.add(rects, labels)\n",
    "        self.wait(0.5)\n",
    "\n",
    "        # Bubble sort animation\n",
    "        for i in range(len(array) - 1):\n",
    "            for j in range(len(array) - i - 1):\n",
    "                # Highlight current pair\n",
    "                self.play(\n",
    "                    rects[j].animate.set_fill(YELLOW),\n",
    "                    rects[j+1].animate.set_fill(YELLOW),\n",
    "                    run_time=0.3\n",
    "                )\n",
    "                \n",
    "                if array[j] > array[j+1]:\n",
    "                    # Swap elements\n",
    "                    array[j], array[j+1] = array[j+1], array[j]\n",
    "                    \n",
    "                    # Animate swap\n",
    "                    self.play(\n",
    "                        rects[j].animate.move_to(rects[j+1].get_center()),\n",
    "                        rects[j+1].animate.move_to(rects[j].get_center()),\n",
    "                        labels[j].animate.move_to(rects[j+1].get_center()),\n",
    "                        labels[j+1].animate.move_to(rects[j].get_center()),\n",
    "                        run_time=0.3\n",
    "                    )\n",
    "                    \n",
    "                    # Update rects and labels\n",
    "                    rects[j], rects[j+1] = rects[j+1], rects[j]\n",
    "                    labels[j], labels[j+1] = labels[j+1], labels[j]\n",
    "                \n",
    "                # Reset color\n",
    "                self.play(\n",
    "                    rects[j].animate.set_fill(BLUE),\n",
    "                    rects[j+1].animate.set_fill(BLUE),\n",
    "                    run_time=0.3\n",
    "                )\n",
    "            \n",
    "            # Set color of sorted element\n",
    "            self.play(rects[-i-1].animate.set_fill(GREEN), run_time=0.3)\n",
    "\n",
    "        # Show sorted array\n",
    "        sorted_text = Text(\"Sorted\", font_size=36).next_to(rects, DOWN)\n",
    "        self.play(Write(sorted_text))\n",
    "        self.wait(1)"
   ]
  },
  {
   "cell_type": "code",
   "execution_count": 50,
   "metadata": {},
   "outputs": [
    {
     "data": {
      "text/html": [
       "<pre style=\"white-space:pre;overflow-x:auto;line-height:normal;font-family:Menlo,'DejaVu Sans Mono',consolas,'Courier New',monospace\">Manim Community <span style=\"color: #008000; text-decoration-color: #008000\">v0.18.1</span>\n",
       "\n",
       "</pre>\n"
      ],
      "text/plain": [
       "Manim Community \u001b[32mv0.\u001b[0m\u001b[32m18.1\u001b[0m\n",
       "\n"
      ]
     },
     "metadata": {},
     "output_type": "display_data"
    },
    {
     "name": "stderr",
     "output_type": "stream",
     "text": [
      "                                                                                                                                                 \r"
     ]
    },
    {
     "data": {
      "text/html": [
       "<video src=\"media\\jupyter\\SierpinskiTriangleFractal@2024-10-06@02-34-26.mp4\" controls autoplay loop style=\"max-width: 75%;\"  >\n",
       "      Your browser does not support the <code>video</code> element.\n",
       "    </video>"
      ],
      "text/plain": [
       "<IPython.core.display.Video object>"
      ]
     },
     "metadata": {},
     "output_type": "display_data"
    }
   ],
   "source": [
    "%%manim -qm SierpinskiTriangleFractal\n",
    "\n",
    "import numpy as np\n",
    "from manim import *\n",
    "\n",
    "class SierpinskiTriangleFractal(Scene):\n",
    "    def construct(self):\n",
    "        # Title\n",
    "        title = Text(\"Sierpinski Triangle Fractal\", font_size=42)\n",
    "        self.play(Write(title))\n",
    "        self.play(title.animate.to_edge(UP))\n",
    "        self.wait(1)\n",
    "\n",
    "        # Function to create a triangle\n",
    "        def create_triangle(points, color=WHITE):\n",
    "            return Polygon(*points, color=color, fill_opacity=0.5)\n",
    "\n",
    "        # Function to generate Sierpinski Triangle points\n",
    "        def sierpinski_points(points, depth):\n",
    "            if depth == 0:\n",
    "                return [points]\n",
    "            else:\n",
    "                p1, p2, p3 = points\n",
    "                p12 = (p1 + p2) / 2\n",
    "                p23 = (p2 + p3) / 2\n",
    "                p31 = (p3 + p1) / 2\n",
    "                return (sierpinski_points([p1, p12, p31], depth - 1) +\n",
    "                        sierpinski_points([p12, p2, p23], depth - 1) +\n",
    "                        sierpinski_points([p31, p23, p3], depth - 1))\n",
    "\n",
    "        # Initial triangle\n",
    "        points = np.array([[-3, -2, 0], [3, -2, 0], [0, 2*np.sqrt(3)-2, 0]])\n",
    "        initial_triangle = create_triangle(points)\n",
    "        self.play(Create(initial_triangle))\n",
    "        self.wait(1)\n",
    "\n",
    "        # Generate and display Sierpinski Triangle\n",
    "        max_depth = 5\n",
    "        for depth in range(1, max_depth + 1):\n",
    "            new_triangles = VGroup(*[create_triangle(p, color=BLUE) for p in sierpinski_points(points, depth)])\n",
    "            self.play(Transform(initial_triangle, new_triangles))\n",
    "            self.wait(1)\n",
    "\n",
    "        # Show fractal properties\n",
    "        properties = VGroup(\n",
    "            Text(\"Fractal Properties:\", font_size=36),\n",
    "            Text(\"• Self-similarity\", font_size=24),\n",
    "            Text(\"• Infinite complexity\", font_size=24),\n",
    "            Text(\"• Fractional dimension\", font_size=24)\n",
    "        ).arrange(DOWN, aligned_edge=LEFT).to_edge(LEFT)\n",
    "        self.play(Write(properties))\n",
    "        self.wait(1)\n",
    "\n",
    "        # Conclusion\n",
    "        conclusion = Text(\n",
    "            \"Fractals exhibit infinite detail\\nand self-similarity at all scales\",\n",
    "            font_size=32\n",
    "        ).next_to(properties, DOWN)\n",
    "        self.play(Write(conclusion))\n",
    "        self.wait(2)"
   ]
  },
  {
   "cell_type": "code",
   "execution_count": 52,
   "metadata": {},
   "outputs": [
    {
     "data": {
      "text/html": [
       "<pre style=\"white-space:pre;overflow-x:auto;line-height:normal;font-family:Menlo,'DejaVu Sans Mono',consolas,'Courier New',monospace\">Manim Community <span style=\"color: #008000; text-decoration-color: #008000\">v0.18.1</span>\n",
       "\n",
       "</pre>\n"
      ],
      "text/plain": [
       "Manim Community \u001b[32mv0.\u001b[0m\u001b[32m18.1\u001b[0m\n",
       "\n"
      ]
     },
     "metadata": {},
     "output_type": "display_data"
    },
    {
     "ename": "AttributeError",
     "evalue": "NumberPlane object has no attribute 'z_range'",
     "output_type": "error",
     "traceback": [
      "\u001b[1;31m---------------------------------------------------------------------------\u001b[0m",
      "\u001b[1;31mAttributeError\u001b[0m                            Traceback (most recent call last)",
      "Cell \u001b[1;32mIn[52], line 1\u001b[0m\n\u001b[1;32m----> 1\u001b[0m \u001b[43mget_ipython\u001b[49m\u001b[43m(\u001b[49m\u001b[43m)\u001b[49m\u001b[38;5;241;43m.\u001b[39;49m\u001b[43mrun_cell_magic\u001b[49m\u001b[43m(\u001b[49m\u001b[38;5;124;43m'\u001b[39;49m\u001b[38;5;124;43mmanim\u001b[39;49m\u001b[38;5;124;43m'\u001b[39;49m\u001b[43m,\u001b[49m\u001b[43m \u001b[49m\u001b[38;5;124;43m'\u001b[39;49m\u001b[38;5;124;43m-qm SpacetimeGravityVisualization\u001b[39;49m\u001b[38;5;124;43m'\u001b[39;49m\u001b[43m,\u001b[49m\u001b[43m \u001b[49m\u001b[38;5;124;43m'\u001b[39;49m\u001b[38;5;130;43;01m\\n\u001b[39;49;00m\u001b[38;5;124;43mimport numpy as np\u001b[39;49m\u001b[38;5;130;43;01m\\n\u001b[39;49;00m\u001b[38;5;130;43;01m\\n\u001b[39;49;00m\u001b[38;5;124;43mclass SpacetimeGravityVisualization(ThreeDScene):\u001b[39;49m\u001b[38;5;130;43;01m\\n\u001b[39;49;00m\u001b[38;5;124;43m    def construct(self):\u001b[39;49m\u001b[38;5;130;43;01m\\n\u001b[39;49;00m\u001b[38;5;124;43m        self.set_camera_orientation(phi=60 * DEGREES, theta=-30 * DEGREES)\u001b[39;49m\u001b[38;5;130;43;01m\\n\u001b[39;49;00m\u001b[38;5;130;43;01m\\n\u001b[39;49;00m\u001b[38;5;124;43m        # Title\u001b[39;49m\u001b[38;5;130;43;01m\\n\u001b[39;49;00m\u001b[38;5;124;43m        title = Text(\u001b[39;49m\u001b[38;5;124;43m\"\u001b[39;49m\u001b[38;5;124;43mGravity and Spacetime Curvature\u001b[39;49m\u001b[38;5;124;43m\"\u001b[39;49m\u001b[38;5;124;43m, font_size=42)\u001b[39;49m\u001b[38;5;130;43;01m\\n\u001b[39;49;00m\u001b[38;5;124;43m        self.add_fixed_in_frame_mobjects(title)\u001b[39;49m\u001b[38;5;130;43;01m\\n\u001b[39;49;00m\u001b[38;5;124;43m        title.to_corner(UL)\u001b[39;49m\u001b[38;5;130;43;01m\\n\u001b[39;49;00m\u001b[38;5;124;43m        self.add(title)\u001b[39;49m\u001b[38;5;130;43;01m\\n\u001b[39;49;00m\u001b[38;5;130;43;01m\\n\u001b[39;49;00m\u001b[38;5;124;43m        # Create a 2D grid to represent spacetime\u001b[39;49m\u001b[38;5;130;43;01m\\n\u001b[39;49;00m\u001b[38;5;124;43m        grid = NumberPlane(\u001b[39;49m\u001b[38;5;130;43;01m\\n\u001b[39;49;00m\u001b[38;5;124;43m            x_range=(-8, 8),\u001b[39;49m\u001b[38;5;130;43;01m\\n\u001b[39;49;00m\u001b[38;5;124;43m            y_range=(-8, 8),\u001b[39;49m\u001b[38;5;130;43;01m\\n\u001b[39;49;00m\u001b[38;5;124;43m            background_line_style=\u001b[39;49m\u001b[38;5;124;43m{\u001b[39;49m\u001b[38;5;130;43;01m\\n\u001b[39;49;00m\u001b[38;5;124;43m                \u001b[39;49m\u001b[38;5;124;43m\"\u001b[39;49m\u001b[38;5;124;43mstroke_color\u001b[39;49m\u001b[38;5;124;43m\"\u001b[39;49m\u001b[38;5;124;43m: BLUE_E,\u001b[39;49m\u001b[38;5;130;43;01m\\n\u001b[39;49;00m\u001b[38;5;124;43m                \u001b[39;49m\u001b[38;5;124;43m\"\u001b[39;49m\u001b[38;5;124;43mstroke_width\u001b[39;49m\u001b[38;5;124;43m\"\u001b[39;49m\u001b[38;5;124;43m: 2,\u001b[39;49m\u001b[38;5;130;43;01m\\n\u001b[39;49;00m\u001b[38;5;124;43m                \u001b[39;49m\u001b[38;5;124;43m\"\u001b[39;49m\u001b[38;5;124;43mstroke_opacity\u001b[39;49m\u001b[38;5;124;43m\"\u001b[39;49m\u001b[38;5;124;43m: 0.6\u001b[39;49m\u001b[38;5;130;43;01m\\n\u001b[39;49;00m\u001b[38;5;124;43m            }\u001b[39;49m\u001b[38;5;130;43;01m\\n\u001b[39;49;00m\u001b[38;5;124;43m        )\u001b[39;49m\u001b[38;5;130;43;01m\\n\u001b[39;49;00m\u001b[38;5;130;43;01m\\n\u001b[39;49;00m\u001b[38;5;124;43m        # Function to create a depression in the grid\u001b[39;49m\u001b[38;5;130;43;01m\\n\u001b[39;49;00m\u001b[38;5;124;43m        def curved_grid(x, y):\u001b[39;49m\u001b[38;5;130;43;01m\\n\u001b[39;49;00m\u001b[38;5;124;43m            r = np.sqrt(x**2 + y**2)\u001b[39;49m\u001b[38;5;130;43;01m\\n\u001b[39;49;00m\u001b[38;5;124;43m            z = -1 / (r + 1)\u001b[39;49m\u001b[38;5;130;43;01m\\n\u001b[39;49;00m\u001b[38;5;124;43m            return np.array([x, y, z])\u001b[39;49m\u001b[38;5;130;43;01m\\n\u001b[39;49;00m\u001b[38;5;130;43;01m\\n\u001b[39;49;00m\u001b[38;5;124;43m        # Create the curved grid\u001b[39;49m\u001b[38;5;130;43;01m\\n\u001b[39;49;00m\u001b[38;5;124;43m        curved_surface = Surface(\u001b[39;49m\u001b[38;5;130;43;01m\\n\u001b[39;49;00m\u001b[38;5;124;43m            lambda u, v: curved_grid(u, v),\u001b[39;49m\u001b[38;5;130;43;01m\\n\u001b[39;49;00m\u001b[38;5;124;43m            u_range=(-8, 8),\u001b[39;49m\u001b[38;5;130;43;01m\\n\u001b[39;49;00m\u001b[38;5;124;43m            v_range=(-8, 8),\u001b[39;49m\u001b[38;5;130;43;01m\\n\u001b[39;49;00m\u001b[38;5;124;43m            resolution=(50, 50),\u001b[39;49m\u001b[38;5;130;43;01m\\n\u001b[39;49;00m\u001b[38;5;124;43m            fill_opacity=0.7,\u001b[39;49m\u001b[38;5;130;43;01m\\n\u001b[39;49;00m\u001b[38;5;124;43m            stroke_width=0,\u001b[39;49m\u001b[38;5;130;43;01m\\n\u001b[39;49;00m\u001b[38;5;124;43m        )\u001b[39;49m\u001b[38;5;130;43;01m\\n\u001b[39;49;00m\u001b[38;5;130;43;01m\\n\u001b[39;49;00m\u001b[38;5;124;43m        # Add color to the curved surface\u001b[39;49m\u001b[38;5;130;43;01m\\n\u001b[39;49;00m\u001b[38;5;124;43m        curved_surface.set_fill_by_value(axes=grid, colors=[(BLUE_E, -0.5), (RED_E, 0)], axis=2)\u001b[39;49m\u001b[38;5;130;43;01m\\n\u001b[39;49;00m\u001b[38;5;130;43;01m\\n\u001b[39;49;00m\u001b[38;5;124;43m        # Create a sphere to represent a massive object\u001b[39;49m\u001b[38;5;130;43;01m\\n\u001b[39;49;00m\u001b[38;5;124;43m        sphere = Sphere(radius=0.5, fill_color=YELLOW, fill_opacity=1)\u001b[39;49m\u001b[38;5;130;43;01m\\n\u001b[39;49;00m\u001b[38;5;124;43m        sphere.move_to(curved_grid(0, 0))\u001b[39;49m\u001b[38;5;130;43;01m\\n\u001b[39;49;00m\u001b[38;5;130;43;01m\\n\u001b[39;49;00m\u001b[38;5;124;43m        # Add everything to the scene\u001b[39;49m\u001b[38;5;130;43;01m\\n\u001b[39;49;00m\u001b[38;5;124;43m        self.add(grid)\u001b[39;49m\u001b[38;5;130;43;01m\\n\u001b[39;49;00m\u001b[38;5;124;43m        self.play(\u001b[39;49m\u001b[38;5;130;43;01m\\n\u001b[39;49;00m\u001b[38;5;124;43m            ReplacementTransform(grid, curved_surface),\u001b[39;49m\u001b[38;5;130;43;01m\\n\u001b[39;49;00m\u001b[38;5;124;43m            run_time=3\u001b[39;49m\u001b[38;5;130;43;01m\\n\u001b[39;49;00m\u001b[38;5;124;43m        )\u001b[39;49m\u001b[38;5;130;43;01m\\n\u001b[39;49;00m\u001b[38;5;124;43m        self.play(Create(sphere))\u001b[39;49m\u001b[38;5;130;43;01m\\n\u001b[39;49;00m\u001b[38;5;124;43m        self.wait(1)\u001b[39;49m\u001b[38;5;130;43;01m\\n\u001b[39;49;00m\u001b[38;5;130;43;01m\\n\u001b[39;49;00m\u001b[38;5;124;43m        # Add explanation text\u001b[39;49m\u001b[38;5;130;43;01m\\n\u001b[39;49;00m\u001b[38;5;124;43m        explanation = VGroup(\u001b[39;49m\u001b[38;5;130;43;01m\\n\u001b[39;49;00m\u001b[38;5;124;43m            Text(\u001b[39;49m\u001b[38;5;124;43m\"\u001b[39;49m\u001b[38;5;124;43mMass curves spacetime\u001b[39;49m\u001b[38;5;124;43m\"\u001b[39;49m\u001b[38;5;124;43m, font_size=36),\u001b[39;49m\u001b[38;5;130;43;01m\\n\u001b[39;49;00m\u001b[38;5;124;43m            Text(\u001b[39;49m\u001b[38;5;124;43m\"\u001b[39;49m\u001b[38;5;124;43mCurvature affects motion of objects\u001b[39;49m\u001b[38;5;124;43m\"\u001b[39;49m\u001b[38;5;124;43m, font_size=24)\u001b[39;49m\u001b[38;5;130;43;01m\\n\u001b[39;49;00m\u001b[38;5;124;43m        ).arrange(DOWN, aligned_edge=LEFT)\u001b[39;49m\u001b[38;5;130;43;01m\\n\u001b[39;49;00m\u001b[38;5;124;43m        self.add_fixed_in_frame_mobjects(explanation)\u001b[39;49m\u001b[38;5;130;43;01m\\n\u001b[39;49;00m\u001b[38;5;124;43m        explanation.to_corner(UR)\u001b[39;49m\u001b[38;5;130;43;01m\\n\u001b[39;49;00m\u001b[38;5;124;43m        self.play(Write(explanation))\u001b[39;49m\u001b[38;5;130;43;01m\\n\u001b[39;49;00m\u001b[38;5;130;43;01m\\n\u001b[39;49;00m\u001b[38;5;124;43m        # Animate a small object moving in the curved spacetime\u001b[39;49m\u001b[38;5;130;43;01m\\n\u001b[39;49;00m\u001b[38;5;124;43m        small_sphere = Sphere(radius=0.1, fill_color=GREEN, fill_opacity=1)\u001b[39;49m\u001b[38;5;130;43;01m\\n\u001b[39;49;00m\u001b[38;5;124;43m        small_sphere.move_to(curved_grid(-6, 0))\u001b[39;49m\u001b[38;5;130;43;01m\\n\u001b[39;49;00m\u001b[38;5;130;43;01m\\n\u001b[39;49;00m\u001b[38;5;124;43m        def update_sphere(mob, dt):\u001b[39;49m\u001b[38;5;130;43;01m\\n\u001b[39;49;00m\u001b[38;5;124;43m            x, y, _ = mob.get_center()\u001b[39;49m\u001b[38;5;130;43;01m\\n\u001b[39;49;00m\u001b[38;5;124;43m            r = np.sqrt(x**2 + y**2)\u001b[39;49m\u001b[38;5;130;43;01m\\n\u001b[39;49;00m\u001b[38;5;124;43m            theta = np.arctan2(y, x)\u001b[39;49m\u001b[38;5;130;43;01m\\n\u001b[39;49;00m\u001b[38;5;124;43m            theta += dt * 0.5 / (r + 1)\u001b[39;49m\u001b[38;5;130;43;01m\\n\u001b[39;49;00m\u001b[38;5;124;43m            new_x = r * np.cos(theta)\u001b[39;49m\u001b[38;5;130;43;01m\\n\u001b[39;49;00m\u001b[38;5;124;43m            new_y = r * np.sin(theta)\u001b[39;49m\u001b[38;5;130;43;01m\\n\u001b[39;49;00m\u001b[38;5;124;43m            mob.move_to(curved_grid(new_x, new_y))\u001b[39;49m\u001b[38;5;130;43;01m\\n\u001b[39;49;00m\u001b[38;5;130;43;01m\\n\u001b[39;49;00m\u001b[38;5;124;43m        small_sphere.add_updater(update_sphere)\u001b[39;49m\u001b[38;5;130;43;01m\\n\u001b[39;49;00m\u001b[38;5;124;43m        self.add(small_sphere)\u001b[39;49m\u001b[38;5;130;43;01m\\n\u001b[39;49;00m\u001b[38;5;130;43;01m\\n\u001b[39;49;00m\u001b[38;5;124;43m        # Rotate the camera\u001b[39;49m\u001b[38;5;130;43;01m\\n\u001b[39;49;00m\u001b[38;5;124;43m        self.begin_ambient_camera_rotation(rate=0.2)\u001b[39;49m\u001b[38;5;130;43;01m\\n\u001b[39;49;00m\u001b[38;5;124;43m        self.wait(10)\u001b[39;49m\u001b[38;5;130;43;01m\\n\u001b[39;49;00m\u001b[38;5;124;43m        self.stop_ambient_camera_rotation()\u001b[39;49m\u001b[38;5;130;43;01m\\n\u001b[39;49;00m\u001b[38;5;130;43;01m\\n\u001b[39;49;00m\u001b[38;5;124;43m        # Conclusion\u001b[39;49m\u001b[38;5;130;43;01m\\n\u001b[39;49;00m\u001b[38;5;124;43m        conclusion = Text(\u001b[39;49m\u001b[38;5;124;43m\"\u001b[39;49m\u001b[38;5;124;43mGravity emerges from the curvature of spacetime\u001b[39;49m\u001b[38;5;124;43m\"\u001b[39;49m\u001b[38;5;124;43m, font_size=36)\u001b[39;49m\u001b[38;5;130;43;01m\\n\u001b[39;49;00m\u001b[38;5;124;43m        self.add_fixed_in_frame_mobjects(conclusion)\u001b[39;49m\u001b[38;5;130;43;01m\\n\u001b[39;49;00m\u001b[38;5;124;43m        conclusion.to_edge(DOWN)\u001b[39;49m\u001b[38;5;130;43;01m\\n\u001b[39;49;00m\u001b[38;5;124;43m        self.play(Write(conclusion))\u001b[39;49m\u001b[38;5;130;43;01m\\n\u001b[39;49;00m\u001b[38;5;124;43m        self.wait(2)\u001b[39;49m\u001b[38;5;130;43;01m\\n\u001b[39;49;00m\u001b[38;5;124;43m'\u001b[39;49m\u001b[43m)\u001b[49m\n",
      "File \u001b[1;32mc:\\Users\\berge\\Desktop\\a16z\\a16z-hackathon\\venv\\Lib\\site-packages\\IPython\\core\\interactiveshell.py:2541\u001b[0m, in \u001b[0;36mInteractiveShell.run_cell_magic\u001b[1;34m(self, magic_name, line, cell)\u001b[0m\n\u001b[0;32m   2539\u001b[0m \u001b[38;5;28;01mwith\u001b[39;00m \u001b[38;5;28mself\u001b[39m\u001b[38;5;241m.\u001b[39mbuiltin_trap:\n\u001b[0;32m   2540\u001b[0m     args \u001b[38;5;241m=\u001b[39m (magic_arg_s, cell)\n\u001b[1;32m-> 2541\u001b[0m     result \u001b[38;5;241m=\u001b[39m \u001b[43mfn\u001b[49m\u001b[43m(\u001b[49m\u001b[38;5;241;43m*\u001b[39;49m\u001b[43margs\u001b[49m\u001b[43m,\u001b[49m\u001b[43m \u001b[49m\u001b[38;5;241;43m*\u001b[39;49m\u001b[38;5;241;43m*\u001b[39;49m\u001b[43mkwargs\u001b[49m\u001b[43m)\u001b[49m\n\u001b[0;32m   2543\u001b[0m \u001b[38;5;66;03m# The code below prevents the output from being displayed\u001b[39;00m\n\u001b[0;32m   2544\u001b[0m \u001b[38;5;66;03m# when using magics with decorator @output_can_be_silenced\u001b[39;00m\n\u001b[0;32m   2545\u001b[0m \u001b[38;5;66;03m# when the last Python token in the expression is a ';'.\u001b[39;00m\n\u001b[0;32m   2546\u001b[0m \u001b[38;5;28;01mif\u001b[39;00m \u001b[38;5;28mgetattr\u001b[39m(fn, magic\u001b[38;5;241m.\u001b[39mMAGIC_OUTPUT_CAN_BE_SILENCED, \u001b[38;5;28;01mFalse\u001b[39;00m):\n",
      "File \u001b[1;32mc:\\Users\\berge\\Desktop\\a16z\\a16z-hackathon\\venv\\Lib\\site-packages\\manim\\utils\\ipython_magic.py:143\u001b[0m, in \u001b[0;36mManimMagic.manim\u001b[1;34m(self, line, cell, local_ns)\u001b[0m\n\u001b[0;32m    141\u001b[0m     SceneClass \u001b[38;5;241m=\u001b[39m local_ns[config[\u001b[38;5;124m\"\u001b[39m\u001b[38;5;124mscene_names\u001b[39m\u001b[38;5;124m\"\u001b[39m][\u001b[38;5;241m0\u001b[39m]]\n\u001b[0;32m    142\u001b[0m     scene \u001b[38;5;241m=\u001b[39m SceneClass(renderer\u001b[38;5;241m=\u001b[39mrenderer)\n\u001b[1;32m--> 143\u001b[0m     \u001b[43mscene\u001b[49m\u001b[38;5;241;43m.\u001b[39;49m\u001b[43mrender\u001b[49m\u001b[43m(\u001b[49m\u001b[43m)\u001b[49m\n\u001b[0;32m    144\u001b[0m \u001b[38;5;28;01mfinally\u001b[39;00m:\n\u001b[0;32m    145\u001b[0m     \u001b[38;5;66;03m# Shader cache becomes invalid as the context is destroyed\u001b[39;00m\n\u001b[0;32m    146\u001b[0m     shader_program_cache\u001b[38;5;241m.\u001b[39mclear()\n",
      "File \u001b[1;32mc:\\Users\\berge\\Desktop\\a16z\\a16z-hackathon\\venv\\Lib\\site-packages\\manim\\scene\\scene.py:229\u001b[0m, in \u001b[0;36mScene.render\u001b[1;34m(self, preview)\u001b[0m\n\u001b[0;32m    227\u001b[0m \u001b[38;5;28mself\u001b[39m\u001b[38;5;241m.\u001b[39msetup()\n\u001b[0;32m    228\u001b[0m \u001b[38;5;28;01mtry\u001b[39;00m:\n\u001b[1;32m--> 229\u001b[0m     \u001b[38;5;28;43mself\u001b[39;49m\u001b[38;5;241;43m.\u001b[39;49m\u001b[43mconstruct\u001b[49m\u001b[43m(\u001b[49m\u001b[43m)\u001b[49m\n\u001b[0;32m    230\u001b[0m \u001b[38;5;28;01mexcept\u001b[39;00m EndSceneEarlyException:\n\u001b[0;32m    231\u001b[0m     \u001b[38;5;28;01mpass\u001b[39;00m\n",
      "File \u001b[1;32m<string>:42\u001b[0m, in \u001b[0;36mconstruct\u001b[1;34m(self)\u001b[0m\n",
      "File \u001b[1;32mc:\\Users\\berge\\Desktop\\a16z\\a16z-hackathon\\venv\\Lib\\site-packages\\manim\\mobject\\three_d\\three_dimensions.py:287\u001b[0m, in \u001b[0;36mSurface.set_fill_by_value\u001b[1;34m(self, axes, colorscale, axis, **kwargs)\u001b[0m\n\u001b[0;32m    281\u001b[0m     logger\u001b[38;5;241m.\u001b[39mwarning(\n\u001b[0;32m    282\u001b[0m         \u001b[38;5;124m\"\u001b[39m\u001b[38;5;124mThe value passed to the colorscale keyword argument was None, \u001b[39m\u001b[38;5;124m\"\u001b[39m\n\u001b[0;32m    283\u001b[0m         \u001b[38;5;124m\"\u001b[39m\u001b[38;5;124mthe surface fill color has not been changed\u001b[39m\u001b[38;5;124m\"\u001b[39m\n\u001b[0;32m    284\u001b[0m     )\n\u001b[0;32m    285\u001b[0m     \u001b[38;5;28;01mreturn\u001b[39;00m \u001b[38;5;28mself\u001b[39m\n\u001b[1;32m--> 287\u001b[0m ranges \u001b[38;5;241m=\u001b[39m [axes\u001b[38;5;241m.\u001b[39mx_range, axes\u001b[38;5;241m.\u001b[39my_range, \u001b[43maxes\u001b[49m\u001b[38;5;241;43m.\u001b[39;49m\u001b[43mz_range\u001b[49m]\n\u001b[0;32m    289\u001b[0m \u001b[38;5;28;01mif\u001b[39;00m \u001b[38;5;28mtype\u001b[39m(colorscale[\u001b[38;5;241m0\u001b[39m]) \u001b[38;5;129;01mis\u001b[39;00m \u001b[38;5;28mtuple\u001b[39m:\n\u001b[0;32m    290\u001b[0m     new_colors, pivots \u001b[38;5;241m=\u001b[39m [\n\u001b[0;32m    291\u001b[0m         [i \u001b[38;5;28;01mfor\u001b[39;00m i, j \u001b[38;5;129;01min\u001b[39;00m colorscale],\n\u001b[0;32m    292\u001b[0m         [j \u001b[38;5;28;01mfor\u001b[39;00m i, j \u001b[38;5;129;01min\u001b[39;00m colorscale],\n\u001b[0;32m    293\u001b[0m     ]\n",
      "File \u001b[1;32mc:\\Users\\berge\\Desktop\\a16z\\a16z-hackathon\\venv\\Lib\\site-packages\\manim\\mobject\\mobject.py:669\u001b[0m, in \u001b[0;36mMobject.__getattr__\u001b[1;34m(self, attr)\u001b[0m\n\u001b[0;32m    666\u001b[0m     \u001b[38;5;28;01mreturn\u001b[39;00m types\u001b[38;5;241m.\u001b[39mMethodType(setter, \u001b[38;5;28mself\u001b[39m)\n\u001b[0;32m    668\u001b[0m \u001b[38;5;66;03m# Unhandled attribute, therefore error\u001b[39;00m\n\u001b[1;32m--> 669\u001b[0m \u001b[38;5;28;01mraise\u001b[39;00m \u001b[38;5;167;01mAttributeError\u001b[39;00m(\u001b[38;5;124mf\u001b[39m\u001b[38;5;124m\"\u001b[39m\u001b[38;5;132;01m{\u001b[39;00m\u001b[38;5;28mtype\u001b[39m(\u001b[38;5;28mself\u001b[39m)\u001b[38;5;241m.\u001b[39m\u001b[38;5;18m__name__\u001b[39m\u001b[38;5;132;01m}\u001b[39;00m\u001b[38;5;124m object has no attribute \u001b[39m\u001b[38;5;124m'\u001b[39m\u001b[38;5;132;01m{\u001b[39;00mattr\u001b[38;5;132;01m}\u001b[39;00m\u001b[38;5;124m'\u001b[39m\u001b[38;5;124m\"\u001b[39m)\n",
      "\u001b[1;31mAttributeError\u001b[0m: NumberPlane object has no attribute 'z_range'"
     ]
    }
   ],
   "source": [
    "%%manim -qm SpacetimeGravityVisualization\n",
    "\n",
    "import numpy as np\n",
    "\n",
    "class SpacetimeGravityVisualization(ThreeDScene):\n",
    "    def construct(self):\n",
    "        self.set_camera_orientation(phi=60 * DEGREES, theta=-30 * DEGREES)\n",
    "\n",
    "        # Title\n",
    "        title = Text(\"Gravity and Spacetime Curvature\", font_size=42)\n",
    "        self.add_fixed_in_frame_mobjects(title)\n",
    "        title.to_corner(UL)\n",
    "        self.add(title)\n",
    "\n",
    "        # Create a 3D grid to represent spacetime\n",
    "        grid = ThreeDAxes(\n",
    "            x_range=(-8, 8),\n",
    "            y_range=(-8, 8),\n",
    "            z_range=(-2, 2),\n",
    "            axis_config={\n",
    "                \"color\": BLUE_E,\n",
    "                \"stroke_width\": 2,\n",
    "                \"stroke_opacity\": 0.6\n",
    "            }\n",
    "        )\n",
    "\n",
    "        # Function to create a depression in the grid\n",
    "        def curved_grid(x, y):\n",
    "            r = np.sqrt(x**2 + y**2)\n",
    "            z = -1 / (r + 1)\n",
    "            return np.array([x, y, z])\n",
    "\n",
    "        # Create the curved surface\n",
    "        curved_surface = Surface(\n",
    "            lambda u, v: curved_grid(u, v),\n",
    "            u_range=(-8, 8),\n",
    "            v_range=(-8, 8),\n",
    "            resolution=(50, 50),\n",
    "            fill_opacity=0.7,\n",
    "            stroke_width=0,\n",
    "        )\n",
    "\n",
    "        # Add color to the curved surface\n",
    "        curved_surface.set_fill_by_value(axes=grid, colors=[(BLUE_E, -0.5), (RED_E, 0)], axis=2)\n",
    "\n",
    "        # Create a sphere to represent a massive object\n",
    "        sphere = Sphere(radius=0.5, fill_color=YELLOW, fill_opacity=1)\n",
    "        sphere.move_to(curved_grid(0, 0))\n",
    "\n",
    "        # Add everything to the scene\n",
    "        self.add(grid)\n",
    "        self.play(\n",
    "            ReplacementTransform(grid, curved_surface),\n",
    "            run_time=3\n",
    "        )\n",
    "        self.play(Create(sphere))\n",
    "        self.wait(1)\n",
    "\n",
    "        # Add explanation text\n",
    "        explanation = VGroup(\n",
    "            Text(\"Mass curves spacetime\", font_size=36),\n",
    "            Text(\"Curvature affects motion of objects\", font_size=24)\n",
    "        ).arrange(DOWN, aligned_edge=LEFT)\n",
    "        self.add_fixed_in_frame_mobjects(explanation)\n",
    "        explanation.to_corner(UR)\n",
    "        self.play(Write(explanation))\n",
    "\n",
    "        # Animate a small object moving in the curved spacetime\n",
    "        small_sphere = Sphere(radius=0.1, fill_color=GREEN, fill_opacity=1)\n",
    "        small_sphere.move_to(curved_grid(-6, 0))\n",
    "\n",
    "        def update_sphere(mob, dt):\n",
    "            x, y, _ = mob.get_center()\n",
    "            r = np.sqrt(x**2 + y**2)\n",
    "            theta = np.arctan2(y, x)\n",
    "            theta += dt * 0.5 / (r + 1)\n",
    "            new_x = r * np.cos(theta)\n",
    "            new_y = r * np.sin(theta)\n",
    "            mob.move_to(curved_grid(new_x, new_y))\n",
    "\n",
    "        small_sphere.add_updater(update_sphere)\n",
    "        self.add(small_sphere)\n",
    "\n",
    "        # Rotate the camera\n",
    "        self.begin_ambient_camera_rotation(rate=0.2)\n",
    "        self.wait(10)\n",
    "        self.stop_ambient_camera_rotation()\n",
    "\n",
    "        # Conclusion\n",
    "        conclusion = Text(\"Gravity emerges from the curvature of spacetime\", font_size=36)\n",
    "        self.add_fixed_in_frame_mobjects(conclusion)\n",
    "        conclusion.to_edge(DOWN)\n",
    "        self.play(Write(conclusion))\n",
    "        self.wait(2)"
   ]
  },
  {
   "cell_type": "code",
   "execution_count": 53,
   "metadata": {},
   "outputs": [
    {
     "name": "stdout",
     "output_type": "stream",
     "text": [
      "Collecting pymunk\n",
      "  Downloading pymunk-6.8.1-cp312-cp312-win_amd64.whl.metadata (6.9 kB)\n",
      "Collecting cffi>=1.15.0 (from pymunk)\n",
      "  Using cached cffi-1.17.1-cp312-cp312-win_amd64.whl.metadata (1.6 kB)\n",
      "Collecting pycparser (from cffi>=1.15.0->pymunk)\n",
      "  Using cached pycparser-2.22-py3-none-any.whl.metadata (943 bytes)\n",
      "Downloading pymunk-6.8.1-cp312-cp312-win_amd64.whl (365 kB)\n",
      "Using cached cffi-1.17.1-cp312-cp312-win_amd64.whl (181 kB)\n",
      "Using cached pycparser-2.22-py3-none-any.whl (117 kB)\n",
      "Installing collected packages: pycparser, cffi, pymunk\n",
      "Successfully installed cffi-1.17.1 pycparser-2.22 pymunk-6.8.1\n",
      "Note: you may need to restart the kernel to use updated packages.\n"
     ]
    }
   ],
   "source": [
    "pip install pymunk"
   ]
  },
  {
   "cell_type": "code",
   "execution_count": 55,
   "metadata": {},
   "outputs": [
    {
     "ename": "ModuleNotFoundError",
     "evalue": "No module named 'pygame'",
     "output_type": "error",
     "traceback": [
      "\u001b[1;31m---------------------------------------------------------------------------\u001b[0m",
      "\u001b[1;31mModuleNotFoundError\u001b[0m                       Traceback (most recent call last)",
      "Cell \u001b[1;32mIn[55], line 1\u001b[0m\n\u001b[1;32m----> 1\u001b[0m \u001b[43mget_ipython\u001b[49m\u001b[43m(\u001b[49m\u001b[43m)\u001b[49m\u001b[38;5;241;43m.\u001b[39;49m\u001b[43mrun_cell_magic\u001b[49m\u001b[43m(\u001b[49m\u001b[38;5;124;43m'\u001b[39;49m\u001b[38;5;124;43mmanim\u001b[39;49m\u001b[38;5;124;43m'\u001b[39;49m\u001b[43m,\u001b[49m\u001b[43m \u001b[49m\u001b[38;5;124;43m'\u001b[39;49m\u001b[38;5;124;43m-qm PhysicsSimulation\u001b[39;49m\u001b[38;5;124;43m'\u001b[39;49m\u001b[43m,\u001b[49m\u001b[43m \u001b[49m\u001b[38;5;124;43m'\u001b[39;49m\u001b[38;5;130;43;01m\\n\u001b[39;49;00m\u001b[38;5;124;43mimport pymunk\u001b[39;49m\u001b[38;5;130;43;01m\\n\u001b[39;49;00m\u001b[38;5;124;43mimport pymunk.pygame_util\u001b[39;49m\u001b[38;5;130;43;01m\\n\u001b[39;49;00m\u001b[38;5;124;43mfrom pymunk import Vec2d\u001b[39;49m\u001b[38;5;130;43;01m\\n\u001b[39;49;00m\u001b[38;5;124;43mimport random\u001b[39;49m\u001b[38;5;130;43;01m\\n\u001b[39;49;00m\u001b[38;5;130;43;01m\\n\u001b[39;49;00m\u001b[38;5;124;43mclass PhysicsSimulation(Scene):\u001b[39;49m\u001b[38;5;130;43;01m\\n\u001b[39;49;00m\u001b[38;5;124;43m    def construct(self):\u001b[39;49m\u001b[38;5;130;43;01m\\n\u001b[39;49;00m\u001b[38;5;124;43m        # Set up pymunk space\u001b[39;49m\u001b[38;5;130;43;01m\\n\u001b[39;49;00m\u001b[38;5;124;43m        space = pymunk.Space()\u001b[39;49m\u001b[38;5;130;43;01m\\n\u001b[39;49;00m\u001b[38;5;124;43m        space.gravity = Vec2d(0, -981)  # Gravity\u001b[39;49m\u001b[38;5;130;43;01m\\n\u001b[39;49;00m\u001b[38;5;130;43;01m\\n\u001b[39;49;00m\u001b[38;5;124;43m        # Create static floor\u001b[39;49m\u001b[38;5;130;43;01m\\n\u001b[39;49;00m\u001b[38;5;124;43m        floor = pymunk.Segment(space.static_body, (-7, -3), (7, -3), 0.5)\u001b[39;49m\u001b[38;5;130;43;01m\\n\u001b[39;49;00m\u001b[38;5;124;43m        floor.friction = 1.0\u001b[39;49m\u001b[38;5;130;43;01m\\n\u001b[39;49;00m\u001b[38;5;124;43m        space.add(floor)\u001b[39;49m\u001b[38;5;130;43;01m\\n\u001b[39;49;00m\u001b[38;5;130;43;01m\\n\u001b[39;49;00m\u001b[38;5;124;43m        # Create balls\u001b[39;49m\u001b[38;5;130;43;01m\\n\u001b[39;49;00m\u001b[38;5;124;43m        balls = []\u001b[39;49m\u001b[38;5;130;43;01m\\n\u001b[39;49;00m\u001b[38;5;124;43m        ball_shapes = VGroup()\u001b[39;49m\u001b[38;5;130;43;01m\\n\u001b[39;49;00m\u001b[38;5;124;43m        for _ in range(10):\u001b[39;49m\u001b[38;5;130;43;01m\\n\u001b[39;49;00m\u001b[38;5;124;43m            mass = 1\u001b[39;49m\u001b[38;5;130;43;01m\\n\u001b[39;49;00m\u001b[38;5;124;43m            radius = 0.2\u001b[39;49m\u001b[38;5;130;43;01m\\n\u001b[39;49;00m\u001b[38;5;124;43m            moment = pymunk.moment_for_circle(mass, 0, radius)\u001b[39;49m\u001b[38;5;130;43;01m\\n\u001b[39;49;00m\u001b[38;5;124;43m            body = pymunk.Body(mass, moment)\u001b[39;49m\u001b[38;5;130;43;01m\\n\u001b[39;49;00m\u001b[38;5;124;43m            x = random.uniform(-6, 6)\u001b[39;49m\u001b[38;5;130;43;01m\\n\u001b[39;49;00m\u001b[38;5;124;43m            y = random.uniform(0, 5)\u001b[39;49m\u001b[38;5;130;43;01m\\n\u001b[39;49;00m\u001b[38;5;124;43m            body.position = x, y\u001b[39;49m\u001b[38;5;130;43;01m\\n\u001b[39;49;00m\u001b[38;5;124;43m            shape = pymunk.Circle(body, radius)\u001b[39;49m\u001b[38;5;130;43;01m\\n\u001b[39;49;00m\u001b[38;5;124;43m            shape.friction = 0.5\u001b[39;49m\u001b[38;5;130;43;01m\\n\u001b[39;49;00m\u001b[38;5;124;43m            shape.elasticity = 0.8\u001b[39;49m\u001b[38;5;130;43;01m\\n\u001b[39;49;00m\u001b[38;5;124;43m            space.add(body, shape)\u001b[39;49m\u001b[38;5;130;43;01m\\n\u001b[39;49;00m\u001b[38;5;124;43m            balls.append(body)\u001b[39;49m\u001b[38;5;130;43;01m\\n\u001b[39;49;00m\u001b[38;5;124;43m            ball_shapes.add(Circle(radius=radius, fill_color=BLUE, fill_opacity=0.8).move_to([x, y, 0]))\u001b[39;49m\u001b[38;5;130;43;01m\\n\u001b[39;49;00m\u001b[38;5;130;43;01m\\n\u001b[39;49;00m\u001b[38;5;124;43m        # Add shapes to scene\u001b[39;49m\u001b[38;5;130;43;01m\\n\u001b[39;49;00m\u001b[38;5;124;43m        floor_line = Line(start=(-7, -3, 0), end=(7, -3, 0), stroke_width=5)\u001b[39;49m\u001b[38;5;130;43;01m\\n\u001b[39;49;00m\u001b[38;5;124;43m        self.add(floor_line, ball_shapes)\u001b[39;49m\u001b[38;5;130;43;01m\\n\u001b[39;49;00m\u001b[38;5;130;43;01m\\n\u001b[39;49;00m\u001b[38;5;124;43m        # Simulation loop\u001b[39;49m\u001b[38;5;130;43;01m\\n\u001b[39;49;00m\u001b[38;5;124;43m        dt = 1/60\u001b[39;49m\u001b[38;5;130;43;01m\\n\u001b[39;49;00m\u001b[38;5;124;43m        for _ in range(300):  # Run for 5 seconds (300 frames at 60 fps)\u001b[39;49m\u001b[38;5;130;43;01m\\n\u001b[39;49;00m\u001b[38;5;124;43m            space.step(dt)\u001b[39;49m\u001b[38;5;130;43;01m\\n\u001b[39;49;00m\u001b[38;5;124;43m            for ball, ball_shape in zip(balls, ball_shapes):\u001b[39;49m\u001b[38;5;130;43;01m\\n\u001b[39;49;00m\u001b[38;5;124;43m                ball_shape.move_to([ball.position.x, ball.position.y, 0])\u001b[39;49m\u001b[38;5;130;43;01m\\n\u001b[39;49;00m\u001b[38;5;124;43m            self.wait(dt)\u001b[39;49m\u001b[38;5;130;43;01m\\n\u001b[39;49;00m\u001b[38;5;130;43;01m\\n\u001b[39;49;00m\u001b[38;5;124;43m        # Add title and explanation\u001b[39;49m\u001b[38;5;130;43;01m\\n\u001b[39;49;00m\u001b[38;5;124;43m        title = Text(\u001b[39;49m\u001b[38;5;124;43m\"\u001b[39;49m\u001b[38;5;124;43mPhysics Simulation: Gravity and Collisions\u001b[39;49m\u001b[38;5;124;43m\"\u001b[39;49m\u001b[38;5;124;43m, font_size=36)\u001b[39;49m\u001b[38;5;130;43;01m\\n\u001b[39;49;00m\u001b[38;5;124;43m        title.to_edge(UP)\u001b[39;49m\u001b[38;5;130;43;01m\\n\u001b[39;49;00m\u001b[38;5;124;43m        explanation = Text(\u001b[39;49m\u001b[38;5;124;43m\"\u001b[39;49m\u001b[38;5;124;43mUsing pymunk physics engine\u001b[39;49m\u001b[38;5;124;43m\"\u001b[39;49m\u001b[38;5;124;43m, font_size=24)\u001b[39;49m\u001b[38;5;130;43;01m\\n\u001b[39;49;00m\u001b[38;5;124;43m        explanation.next_to(title, DOWN)\u001b[39;49m\u001b[38;5;130;43;01m\\n\u001b[39;49;00m\u001b[38;5;124;43m        self.play(Write(title), Write(explanation))\u001b[39;49m\u001b[38;5;130;43;01m\\n\u001b[39;49;00m\u001b[38;5;124;43m        self.wait(2)\u001b[39;49m\u001b[38;5;130;43;01m\\n\u001b[39;49;00m\u001b[38;5;124;43m'\u001b[39;49m\u001b[43m)\u001b[49m\n",
      "File \u001b[1;32mc:\\Users\\berge\\Desktop\\a16z\\a16z-hackathon\\venv\\Lib\\site-packages\\IPython\\core\\interactiveshell.py:2541\u001b[0m, in \u001b[0;36mInteractiveShell.run_cell_magic\u001b[1;34m(self, magic_name, line, cell)\u001b[0m\n\u001b[0;32m   2539\u001b[0m \u001b[38;5;28;01mwith\u001b[39;00m \u001b[38;5;28mself\u001b[39m\u001b[38;5;241m.\u001b[39mbuiltin_trap:\n\u001b[0;32m   2540\u001b[0m     args \u001b[38;5;241m=\u001b[39m (magic_arg_s, cell)\n\u001b[1;32m-> 2541\u001b[0m     result \u001b[38;5;241m=\u001b[39m \u001b[43mfn\u001b[49m\u001b[43m(\u001b[49m\u001b[38;5;241;43m*\u001b[39;49m\u001b[43margs\u001b[49m\u001b[43m,\u001b[49m\u001b[43m \u001b[49m\u001b[38;5;241;43m*\u001b[39;49m\u001b[38;5;241;43m*\u001b[39;49m\u001b[43mkwargs\u001b[49m\u001b[43m)\u001b[49m\n\u001b[0;32m   2543\u001b[0m \u001b[38;5;66;03m# The code below prevents the output from being displayed\u001b[39;00m\n\u001b[0;32m   2544\u001b[0m \u001b[38;5;66;03m# when using magics with decorator @output_can_be_silenced\u001b[39;00m\n\u001b[0;32m   2545\u001b[0m \u001b[38;5;66;03m# when the last Python token in the expression is a ';'.\u001b[39;00m\n\u001b[0;32m   2546\u001b[0m \u001b[38;5;28;01mif\u001b[39;00m \u001b[38;5;28mgetattr\u001b[39m(fn, magic\u001b[38;5;241m.\u001b[39mMAGIC_OUTPUT_CAN_BE_SILENCED, \u001b[38;5;28;01mFalse\u001b[39;00m):\n",
      "File \u001b[1;32mc:\\Users\\berge\\Desktop\\a16z\\a16z-hackathon\\venv\\Lib\\site-packages\\manim\\utils\\ipython_magic.py:122\u001b[0m, in \u001b[0;36mManimMagic.manim\u001b[1;34m(self, line, cell, local_ns)\u001b[0m\n\u001b[0;32m     48\u001b[0m \u001b[38;5;250m\u001b[39m\u001b[38;5;124mr\u001b[39m\u001b[38;5;124;03m\"\"\"Render Manim scenes contained in IPython cells.\u001b[39;00m\n\u001b[0;32m     49\u001b[0m \u001b[38;5;124;03mWorks as a line or cell magic.\u001b[39;00m\n\u001b[0;32m     50\u001b[0m \n\u001b[1;32m   (...)\u001b[0m\n\u001b[0;32m    119\u001b[0m \n\u001b[0;32m    120\u001b[0m \u001b[38;5;124;03m\"\"\"\u001b[39;00m\n\u001b[0;32m    121\u001b[0m \u001b[38;5;28;01mif\u001b[39;00m cell:\n\u001b[1;32m--> 122\u001b[0m     \u001b[43mexec\u001b[49m\u001b[43m(\u001b[49m\u001b[43mcell\u001b[49m\u001b[43m,\u001b[49m\u001b[43m \u001b[49m\u001b[43mlocal_ns\u001b[49m\u001b[43m)\u001b[49m\n\u001b[0;32m    124\u001b[0m args \u001b[38;5;241m=\u001b[39m line\u001b[38;5;241m.\u001b[39msplit()\n\u001b[0;32m    125\u001b[0m \u001b[38;5;28;01mif\u001b[39;00m \u001b[38;5;129;01mnot\u001b[39;00m \u001b[38;5;28mlen\u001b[39m(args) \u001b[38;5;129;01mor\u001b[39;00m \u001b[38;5;124m\"\u001b[39m\u001b[38;5;124m-h\u001b[39m\u001b[38;5;124m\"\u001b[39m \u001b[38;5;129;01min\u001b[39;00m args \u001b[38;5;129;01mor\u001b[39;00m \u001b[38;5;124m\"\u001b[39m\u001b[38;5;124m--help\u001b[39m\u001b[38;5;124m\"\u001b[39m \u001b[38;5;129;01min\u001b[39;00m args \u001b[38;5;129;01mor\u001b[39;00m \u001b[38;5;124m\"\u001b[39m\u001b[38;5;124m--version\u001b[39m\u001b[38;5;124m\"\u001b[39m \u001b[38;5;129;01min\u001b[39;00m args:\n",
      "File \u001b[1;32m<string>:3\u001b[0m\n",
      "File \u001b[1;32mc:\\Users\\berge\\Desktop\\a16z\\a16z-hackathon\\venv\\Lib\\site-packages\\pymunk\\pygame_util.py:44\u001b[0m\n\u001b[0;32m     34\u001b[0m __all__ \u001b[38;5;241m=\u001b[39m [\n\u001b[0;32m     35\u001b[0m     \u001b[38;5;124m\"\u001b[39m\u001b[38;5;124mDrawOptions\u001b[39m\u001b[38;5;124m\"\u001b[39m,\n\u001b[0;32m     36\u001b[0m     \u001b[38;5;124m\"\u001b[39m\u001b[38;5;124mget_mouse_pos\u001b[39m\u001b[38;5;124m\"\u001b[39m,\n\u001b[1;32m   (...)\u001b[0m\n\u001b[0;32m     39\u001b[0m     \u001b[38;5;124m\"\u001b[39m\u001b[38;5;124mpositive_y_is_up\u001b[39m\u001b[38;5;124m\"\u001b[39m,\n\u001b[0;32m     40\u001b[0m ]\n\u001b[0;32m     42\u001b[0m \u001b[38;5;28;01mfrom\u001b[39;00m \u001b[38;5;21;01mtyping\u001b[39;00m \u001b[38;5;28;01mimport\u001b[39;00m List, Sequence, Tuple\n\u001b[1;32m---> 44\u001b[0m \u001b[38;5;28;01mimport\u001b[39;00m \u001b[38;5;21;01mpygame\u001b[39;00m\n\u001b[0;32m     46\u001b[0m \u001b[38;5;28;01mimport\u001b[39;00m \u001b[38;5;21;01mpymunk\u001b[39;00m\n\u001b[0;32m     47\u001b[0m \u001b[38;5;28;01mfrom\u001b[39;00m \u001b[38;5;21;01mpymunk\u001b[39;00m\u001b[38;5;21;01m.\u001b[39;00m\u001b[38;5;21;01mspace_debug_draw_options\u001b[39;00m \u001b[38;5;28;01mimport\u001b[39;00m SpaceDebugColor\n",
      "\u001b[1;31mModuleNotFoundError\u001b[0m: No module named 'pygame'"
     ]
    }
   ],
   "source": [
    "%%manim -qm PhysicsSimulation\n",
    "\n",
    "import pymunk\n",
    "import pymunk.pygame_util\n",
    "from pymunk import Vec2d\n",
    "import random\n",
    "\n",
    "class PhysicsSimulation(Scene):\n",
    "    def construct(self):\n",
    "        # Set up pymunk space\n",
    "        space = pymunk.Space()\n",
    "        space.gravity = Vec2d(0, -981)  # Gravity\n",
    "\n",
    "        # Create static floor\n",
    "        floor = pymunk.Segment(space.static_body, (-7, -3), (7, -3), 0.5)\n",
    "        floor.friction = 1.0\n",
    "        space.add(floor)\n",
    "\n",
    "        # Create balls\n",
    "        balls = []\n",
    "        ball_shapes = VGroup()\n",
    "        for _ in range(10):\n",
    "            mass = 1\n",
    "            radius = 0.2\n",
    "            moment = pymunk.moment_for_circle(mass, 0, radius)\n",
    "            body = pymunk.Body(mass, moment)\n",
    "            x = random.uniform(-6, 6)\n",
    "            y = random.uniform(0, 5)\n",
    "            body.position = x, y\n",
    "            shape = pymunk.Circle(body, radius)\n",
    "            shape.friction = 0.5\n",
    "            shape.elasticity = 0.8\n",
    "            space.add(body, shape)\n",
    "            balls.append(body)\n",
    "            ball_shapes.add(Circle(radius=radius, fill_color=BLUE, fill_opacity=0.8).move_to([x, y, 0]))\n",
    "\n",
    "        # Add shapes to scene\n",
    "        floor_line = Line(start=(-7, -3, 0), end=(7, -3, 0), stroke_width=5)\n",
    "        self.add(floor_line, ball_shapes)\n",
    "\n",
    "        # Simulation loop\n",
    "        dt = 1/60\n",
    "        for _ in range(300):  # Run for 5 seconds (300 frames at 60 fps)\n",
    "            space.step(dt)\n",
    "            for ball, ball_shape in zip(balls, ball_shapes):\n",
    "                ball_shape.move_to([ball.position.x, ball.position.y, 0])\n",
    "            self.wait(dt)\n",
    "\n",
    "        # Add title and explanation\n",
    "        title = Text(\"Physics Simulation: Gravity and Collisions\", font_size=36)\n",
    "        title.to_edge(UP)\n",
    "        explanation = Text(\"Using pymunk physics engine\", font_size=24)\n",
    "        explanation.next_to(title, DOWN)\n",
    "        self.play(Write(title), Write(explanation))\n",
    "        self.wait(2)"
   ]
  },
  {
   "cell_type": "code",
   "execution_count": null,
   "metadata": {},
   "outputs": [
    {
     "data": {
      "text/html": [
       "<pre style=\"white-space:pre;overflow-x:auto;line-height:normal;font-family:Menlo,'DejaVu Sans Mono',consolas,'Courier New',monospace\">Manim Community <span style=\"color: #008000; text-decoration-color: #008000\">v0.18.1</span>\n",
       "\n",
       "</pre>\n"
      ],
      "text/plain": [
       "Manim Community \u001b[32mv0.\u001b[0m\u001b[32m18.1\u001b[0m\n",
       "\n"
      ]
     },
     "metadata": {},
     "output_type": "display_data"
    },
    {
     "name": "stderr",
     "output_type": "stream",
     "text": [
      "                                                                                              \r"
     ]
    },
    {
     "data": {
      "text/html": [
       "<video src=\"media\\jupyter\\SimpleBubbleSortVisualization@2024-10-06@02-32-24.mp4\" controls autoplay loop style=\"max-width: 75%;\"  >\n",
       "      Your browser does not support the <code>video</code> element.\n",
       "    </video>"
      ],
      "text/plain": [
       "<IPython.core.display.Video object>"
      ]
     },
     "metadata": {},
     "output_type": "display_data"
    }
   ],
   "source": [
    "%%manim -qm SimpleBubbleSortVisualization\n",
    "\n",
    "class SimpleBubbleSortVisualization(Scene):\n",
    "    def construct(self):\n",
    "        # Title\n",
    "        title = Text(\"Bubble Sort\", font_size=36).to_edge(UP)\n",
    "        self.add(title)\n",
    "\n",
    "        # Create initial array\n",
    "        array = [5, 2, 8, 12, 1, 6]\n",
    "        \n",
    "        # Create rectangles to represent array elements\n",
    "        rects = VGroup(*[\n",
    "            Rectangle(height=value/3, width=0.8, fill_opacity=0.8, fill_color=BLUE, color=WHITE)\n",
    "            for value in array\n",
    "        ]).arrange(RIGHT, buff=0.2).move_to(ORIGIN)\n",
    "\n",
    "        # Add labels to rectangles\n",
    "        labels = VGroup(*[\n",
    "            Text(str(value), font_size=24).move_to(rect)\n",
    "            for value, rect in zip(array, rects)\n",
    "        ])\n",
    "\n",
    "        self.add(rects, labels)\n",
    "        self.wait(0.5)\n",
    "\n",
    "        # Bubble sort animation\n",
    "        for i in range(len(array) - 1):\n",
    "            for j in range(len(array) - i - 1):\n",
    "                # Highlight current pair\n",
    "                self.play(\n",
    "                    rects[j].animate.set_fill(YELLOW),\n",
    "                    rects[j+1].animate.set_fill(YELLOW),\n",
    "                    run_time=0.3\n",
    "                )\n",
    "                \n",
    "                if array[j] > array[j+1]:\n",
    "                    # Swap elements\n",
    "                    array[j], array[j+1] = array[j+1], array[j]\n",
    "                    \n",
    "                    # Animate swap\n",
    "                    self.play(\n",
    "                        rects[j].animate.move_to(rects[j+1].get_center()),\n",
    "                        rects[j+1].animate.move_to(rects[j].get_center()),\n",
    "                        labels[j].animate.move_to(rects[j+1].get_center()),\n",
    "                        labels[j+1].animate.move_to(rects[j].get_center()),\n",
    "                        run_time=0.3\n",
    "                    )\n",
    "                    \n",
    "                    # Update rects and labels\n",
    "                    rects[j], rects[j+1] = rects[j+1], rects[j]\n",
    "                    labels[j], labels[j+1] = labels[j+1], labels[j]\n",
    "                \n",
    "                # Reset color\n",
    "                self.play(\n",
    "                    rects[j].animate.set_fill(BLUE),\n",
    "                    rects[j+1].animate.set_fill(BLUE),\n",
    "                    run_time=0.3\n",
    "                )\n",
    "            \n",
    "            # Set color of sorted element\n",
    "            self.play(rects[-i-1].animate.set_fill(GREEN), run_time=0.3)\n",
    "\n",
    "        # Show sorted array\n",
    "        sorted_text = Text(\"Sorted\", font_size=36).next_to(rects, DOWN)\n",
    "        self.play(Write(sorted_text))\n",
    "        self.wait(1)"
   ]
  },
  {
   "cell_type": "code",
   "execution_count": 56,
   "metadata": {},
   "outputs": [
    {
     "data": {
      "text/html": [
       "<pre style=\"white-space:pre;overflow-x:auto;line-height:normal;font-family:Menlo,'DejaVu Sans Mono',consolas,'Courier New',monospace\">Manim Community <span style=\"color: #008000; text-decoration-color: #008000\">v0.18.1</span>\n",
       "\n",
       "</pre>\n"
      ],
      "text/plain": [
       "Manim Community \u001b[32mv0.\u001b[0m\u001b[32m18.1\u001b[0m\n",
       "\n"
      ]
     },
     "metadata": {},
     "output_type": "display_data"
    },
    {
     "name": "stderr",
     "output_type": "stream",
     "text": [
      "                                                                                                                               \r"
     ]
    },
    {
     "ename": "FileNotFoundError",
     "evalue": "[Errno 2] No such file or directory: 'media\\\\videos\\\\backend\\\\720p30\\\\PhysicsSimulation.mp4'",
     "output_type": "error",
     "traceback": [
      "\u001b[1;31m---------------------------------------------------------------------------\u001b[0m",
      "\u001b[1;31mFileNotFoundError\u001b[0m                         Traceback (most recent call last)",
      "Cell \u001b[1;32mIn[56], line 1\u001b[0m\n\u001b[1;32m----> 1\u001b[0m \u001b[43mget_ipython\u001b[49m\u001b[43m(\u001b[49m\u001b[43m)\u001b[49m\u001b[38;5;241;43m.\u001b[39;49m\u001b[43mrun_cell_magic\u001b[49m\u001b[43m(\u001b[49m\u001b[38;5;124;43m'\u001b[39;49m\u001b[38;5;124;43mmanim\u001b[39;49m\u001b[38;5;124;43m'\u001b[39;49m\u001b[43m,\u001b[49m\u001b[43m \u001b[49m\u001b[38;5;124;43m'\u001b[39;49m\u001b[38;5;124;43m-qm PhysicsSimulation\u001b[39;49m\u001b[38;5;124;43m'\u001b[39;49m\u001b[43m,\u001b[49m\u001b[43m \u001b[49m\u001b[38;5;124;43m'\u001b[39;49m\u001b[38;5;130;43;01m\\n\u001b[39;49;00m\u001b[38;5;124;43mimport pymunk\u001b[39;49m\u001b[38;5;130;43;01m\\n\u001b[39;49;00m\u001b[38;5;124;43mfrom pymunk import Vec2d\u001b[39;49m\u001b[38;5;130;43;01m\\n\u001b[39;49;00m\u001b[38;5;124;43mimport random\u001b[39;49m\u001b[38;5;130;43;01m\\n\u001b[39;49;00m\u001b[38;5;130;43;01m\\n\u001b[39;49;00m\u001b[38;5;124;43mclass PhysicsSimulation(Scene):\u001b[39;49m\u001b[38;5;130;43;01m\\n\u001b[39;49;00m\u001b[38;5;124;43m    def construct(self):\u001b[39;49m\u001b[38;5;130;43;01m\\n\u001b[39;49;00m\u001b[38;5;124;43m        # Set up pymunk space\u001b[39;49m\u001b[38;5;130;43;01m\\n\u001b[39;49;00m\u001b[38;5;124;43m        space = pymunk.Space()\u001b[39;49m\u001b[38;5;130;43;01m\\n\u001b[39;49;00m\u001b[38;5;124;43m        space.gravity = Vec2d(0, -981)  # Gravity\u001b[39;49m\u001b[38;5;130;43;01m\\n\u001b[39;49;00m\u001b[38;5;130;43;01m\\n\u001b[39;49;00m\u001b[38;5;124;43m        # Create static floor\u001b[39;49m\u001b[38;5;130;43;01m\\n\u001b[39;49;00m\u001b[38;5;124;43m        floor = pymunk.Segment(space.static_body, (-7, -3), (7, -3), 0.5)\u001b[39;49m\u001b[38;5;130;43;01m\\n\u001b[39;49;00m\u001b[38;5;124;43m        floor.friction = 1.0\u001b[39;49m\u001b[38;5;130;43;01m\\n\u001b[39;49;00m\u001b[38;5;124;43m        space.add(floor)\u001b[39;49m\u001b[38;5;130;43;01m\\n\u001b[39;49;00m\u001b[38;5;130;43;01m\\n\u001b[39;49;00m\u001b[38;5;124;43m        # Create balls\u001b[39;49m\u001b[38;5;130;43;01m\\n\u001b[39;49;00m\u001b[38;5;124;43m        balls = []\u001b[39;49m\u001b[38;5;130;43;01m\\n\u001b[39;49;00m\u001b[38;5;124;43m        ball_shapes = VGroup()\u001b[39;49m\u001b[38;5;130;43;01m\\n\u001b[39;49;00m\u001b[38;5;124;43m        for _ in range(10):\u001b[39;49m\u001b[38;5;130;43;01m\\n\u001b[39;49;00m\u001b[38;5;124;43m            mass = 1\u001b[39;49m\u001b[38;5;130;43;01m\\n\u001b[39;49;00m\u001b[38;5;124;43m            radius = 0.2\u001b[39;49m\u001b[38;5;130;43;01m\\n\u001b[39;49;00m\u001b[38;5;124;43m            moment = pymunk.moment_for_circle(mass, 0, radius)\u001b[39;49m\u001b[38;5;130;43;01m\\n\u001b[39;49;00m\u001b[38;5;124;43m            body = pymunk.Body(mass, moment)\u001b[39;49m\u001b[38;5;130;43;01m\\n\u001b[39;49;00m\u001b[38;5;124;43m            x = random.uniform(-6, 6)\u001b[39;49m\u001b[38;5;130;43;01m\\n\u001b[39;49;00m\u001b[38;5;124;43m            y = random.uniform(0, 5)\u001b[39;49m\u001b[38;5;130;43;01m\\n\u001b[39;49;00m\u001b[38;5;124;43m            body.position = x, y\u001b[39;49m\u001b[38;5;130;43;01m\\n\u001b[39;49;00m\u001b[38;5;124;43m            shape = pymunk.Circle(body, radius)\u001b[39;49m\u001b[38;5;130;43;01m\\n\u001b[39;49;00m\u001b[38;5;124;43m            shape.friction = 0.5\u001b[39;49m\u001b[38;5;130;43;01m\\n\u001b[39;49;00m\u001b[38;5;124;43m            shape.elasticity = 0.8\u001b[39;49m\u001b[38;5;130;43;01m\\n\u001b[39;49;00m\u001b[38;5;124;43m            space.add(body, shape)\u001b[39;49m\u001b[38;5;130;43;01m\\n\u001b[39;49;00m\u001b[38;5;124;43m            balls.append(body)\u001b[39;49m\u001b[38;5;130;43;01m\\n\u001b[39;49;00m\u001b[38;5;124;43m            ball_shapes.add(Circle(radius=radius, fill_color=BLUE, fill_opacity=0.8).move_to([x, y, 0]))\u001b[39;49m\u001b[38;5;130;43;01m\\n\u001b[39;49;00m\u001b[38;5;130;43;01m\\n\u001b[39;49;00m\u001b[38;5;124;43m        # Add shapes to scene\u001b[39;49m\u001b[38;5;130;43;01m\\n\u001b[39;49;00m\u001b[38;5;124;43m        floor_line = Line(start=(-7, -3, 0), end=(7, -3, 0), stroke_width=5)\u001b[39;49m\u001b[38;5;130;43;01m\\n\u001b[39;49;00m\u001b[38;5;124;43m        self.add(floor_line, ball_shapes)\u001b[39;49m\u001b[38;5;130;43;01m\\n\u001b[39;49;00m\u001b[38;5;130;43;01m\\n\u001b[39;49;00m\u001b[38;5;124;43m        # Simulation loop\u001b[39;49m\u001b[38;5;130;43;01m\\n\u001b[39;49;00m\u001b[38;5;124;43m        dt = 1/60\u001b[39;49m\u001b[38;5;130;43;01m\\n\u001b[39;49;00m\u001b[38;5;124;43m        for _ in range(300):  # Run for 5 seconds (300 frames at 60 fps)\u001b[39;49m\u001b[38;5;130;43;01m\\n\u001b[39;49;00m\u001b[38;5;124;43m            space.step(dt)\u001b[39;49m\u001b[38;5;130;43;01m\\n\u001b[39;49;00m\u001b[38;5;124;43m            for ball, ball_shape in zip(balls, ball_shapes):\u001b[39;49m\u001b[38;5;130;43;01m\\n\u001b[39;49;00m\u001b[38;5;124;43m                ball_shape.move_to([ball.position.x, ball.position.y, 0])\u001b[39;49m\u001b[38;5;130;43;01m\\n\u001b[39;49;00m\u001b[38;5;124;43m            self.wait(dt)\u001b[39;49m\u001b[38;5;130;43;01m\\n\u001b[39;49;00m\u001b[38;5;130;43;01m\\n\u001b[39;49;00m\u001b[38;5;124;43m        # Add title and explanation\u001b[39;49m\u001b[38;5;130;43;01m\\n\u001b[39;49;00m\u001b[38;5;124;43m        title = Text(\u001b[39;49m\u001b[38;5;124;43m\"\u001b[39;49m\u001b[38;5;124;43mPhysics Simulation: Gravity and Collisions\u001b[39;49m\u001b[38;5;124;43m\"\u001b[39;49m\u001b[38;5;124;43m, font_size=36)\u001b[39;49m\u001b[38;5;130;43;01m\\n\u001b[39;49;00m\u001b[38;5;124;43m        title.to_edge(UP)\u001b[39;49m\u001b[38;5;130;43;01m\\n\u001b[39;49;00m\u001b[38;5;124;43m        explanation = Text(\u001b[39;49m\u001b[38;5;124;43m\"\u001b[39;49m\u001b[38;5;124;43mUsing pymunk physics engine\u001b[39;49m\u001b[38;5;124;43m\"\u001b[39;49m\u001b[38;5;124;43m, font_size=24)\u001b[39;49m\u001b[38;5;130;43;01m\\n\u001b[39;49;00m\u001b[38;5;124;43m        explanation.next_to(title, DOWN)\u001b[39;49m\u001b[38;5;130;43;01m\\n\u001b[39;49;00m\u001b[38;5;124;43m        self.play(Write(title), Write(explanation))\u001b[39;49m\u001b[38;5;130;43;01m\\n\u001b[39;49;00m\u001b[38;5;124;43m        self.wait(2)\u001b[39;49m\u001b[38;5;130;43;01m\\n\u001b[39;49;00m\u001b[38;5;124;43m'\u001b[39;49m\u001b[43m)\u001b[49m\n",
      "File \u001b[1;32mc:\\Users\\berge\\Desktop\\a16z\\a16z-hackathon\\venv\\Lib\\site-packages\\IPython\\core\\interactiveshell.py:2541\u001b[0m, in \u001b[0;36mInteractiveShell.run_cell_magic\u001b[1;34m(self, magic_name, line, cell)\u001b[0m\n\u001b[0;32m   2539\u001b[0m \u001b[38;5;28;01mwith\u001b[39;00m \u001b[38;5;28mself\u001b[39m\u001b[38;5;241m.\u001b[39mbuiltin_trap:\n\u001b[0;32m   2540\u001b[0m     args \u001b[38;5;241m=\u001b[39m (magic_arg_s, cell)\n\u001b[1;32m-> 2541\u001b[0m     result \u001b[38;5;241m=\u001b[39m \u001b[43mfn\u001b[49m\u001b[43m(\u001b[49m\u001b[38;5;241;43m*\u001b[39;49m\u001b[43margs\u001b[49m\u001b[43m,\u001b[49m\u001b[43m \u001b[49m\u001b[38;5;241;43m*\u001b[39;49m\u001b[38;5;241;43m*\u001b[39;49m\u001b[43mkwargs\u001b[49m\u001b[43m)\u001b[49m\n\u001b[0;32m   2543\u001b[0m \u001b[38;5;66;03m# The code below prevents the output from being displayed\u001b[39;00m\n\u001b[0;32m   2544\u001b[0m \u001b[38;5;66;03m# when using magics with decorator @output_can_be_silenced\u001b[39;00m\n\u001b[0;32m   2545\u001b[0m \u001b[38;5;66;03m# when the last Python token in the expression is a ';'.\u001b[39;00m\n\u001b[0;32m   2546\u001b[0m \u001b[38;5;28;01mif\u001b[39;00m \u001b[38;5;28mgetattr\u001b[39m(fn, magic\u001b[38;5;241m.\u001b[39mMAGIC_OUTPUT_CAN_BE_SILENCED, \u001b[38;5;28;01mFalse\u001b[39;00m):\n",
      "File \u001b[1;32mc:\\Users\\berge\\Desktop\\a16z\\a16z-hackathon\\venv\\Lib\\site-packages\\manim\\utils\\ipython_magic.py:168\u001b[0m, in \u001b[0;36mManimMagic.manim\u001b[1;34m(self, line, cell, local_ns)\u001b[0m\n\u001b[0;32m    166\u001b[0m \u001b[38;5;28mself\u001b[39m\u001b[38;5;241m.\u001b[39mrendered_files[local_path] \u001b[38;5;241m=\u001b[39m tmpfile\n\u001b[0;32m    167\u001b[0m tmpfile\u001b[38;5;241m.\u001b[39mparent\u001b[38;5;241m.\u001b[39mmkdir(parents\u001b[38;5;241m=\u001b[39m\u001b[38;5;28;01mTrue\u001b[39;00m, exist_ok\u001b[38;5;241m=\u001b[39m\u001b[38;5;28;01mTrue\u001b[39;00m)\n\u001b[1;32m--> 168\u001b[0m \u001b[43mshutil\u001b[49m\u001b[38;5;241;43m.\u001b[39;49m\u001b[43mcopy\u001b[49m\u001b[43m(\u001b[49m\u001b[43mlocal_path\u001b[49m\u001b[43m,\u001b[49m\u001b[43m \u001b[49m\u001b[43mtmpfile\u001b[49m\u001b[43m)\u001b[49m\n\u001b[0;32m    170\u001b[0m file_type \u001b[38;5;241m=\u001b[39m mimetypes\u001b[38;5;241m.\u001b[39mguess_type(config[\u001b[38;5;124m\"\u001b[39m\u001b[38;5;124moutput_file\u001b[39m\u001b[38;5;124m\"\u001b[39m])[\u001b[38;5;241m0\u001b[39m]\n\u001b[0;32m    171\u001b[0m embed \u001b[38;5;241m=\u001b[39m config[\u001b[38;5;124m\"\u001b[39m\u001b[38;5;124mmedia_embed\u001b[39m\u001b[38;5;124m\"\u001b[39m]\n",
      "File \u001b[1;32m~\\AppData\\Local\\Programs\\Python\\Python312\\Lib\\shutil.py:435\u001b[0m, in \u001b[0;36mcopy\u001b[1;34m(src, dst, follow_symlinks)\u001b[0m\n\u001b[0;32m    433\u001b[0m \u001b[38;5;28;01mif\u001b[39;00m os\u001b[38;5;241m.\u001b[39mpath\u001b[38;5;241m.\u001b[39misdir(dst):\n\u001b[0;32m    434\u001b[0m     dst \u001b[38;5;241m=\u001b[39m os\u001b[38;5;241m.\u001b[39mpath\u001b[38;5;241m.\u001b[39mjoin(dst, os\u001b[38;5;241m.\u001b[39mpath\u001b[38;5;241m.\u001b[39mbasename(src))\n\u001b[1;32m--> 435\u001b[0m \u001b[43mcopyfile\u001b[49m\u001b[43m(\u001b[49m\u001b[43msrc\u001b[49m\u001b[43m,\u001b[49m\u001b[43m \u001b[49m\u001b[43mdst\u001b[49m\u001b[43m,\u001b[49m\u001b[43m \u001b[49m\u001b[43mfollow_symlinks\u001b[49m\u001b[38;5;241;43m=\u001b[39;49m\u001b[43mfollow_symlinks\u001b[49m\u001b[43m)\u001b[49m\n\u001b[0;32m    436\u001b[0m copymode(src, dst, follow_symlinks\u001b[38;5;241m=\u001b[39mfollow_symlinks)\n\u001b[0;32m    437\u001b[0m \u001b[38;5;28;01mreturn\u001b[39;00m dst\n",
      "File \u001b[1;32m~\\AppData\\Local\\Programs\\Python\\Python312\\Lib\\shutil.py:260\u001b[0m, in \u001b[0;36mcopyfile\u001b[1;34m(src, dst, follow_symlinks)\u001b[0m\n\u001b[0;32m    258\u001b[0m     os\u001b[38;5;241m.\u001b[39msymlink(os\u001b[38;5;241m.\u001b[39mreadlink(src), dst)\n\u001b[0;32m    259\u001b[0m \u001b[38;5;28;01melse\u001b[39;00m:\n\u001b[1;32m--> 260\u001b[0m     \u001b[38;5;28;01mwith\u001b[39;00m \u001b[38;5;28;43mopen\u001b[39;49m\u001b[43m(\u001b[49m\u001b[43msrc\u001b[49m\u001b[43m,\u001b[49m\u001b[43m \u001b[49m\u001b[38;5;124;43m'\u001b[39;49m\u001b[38;5;124;43mrb\u001b[39;49m\u001b[38;5;124;43m'\u001b[39;49m\u001b[43m)\u001b[49m \u001b[38;5;28;01mas\u001b[39;00m fsrc:\n\u001b[0;32m    261\u001b[0m         \u001b[38;5;28;01mtry\u001b[39;00m:\n\u001b[0;32m    262\u001b[0m             \u001b[38;5;28;01mwith\u001b[39;00m \u001b[38;5;28mopen\u001b[39m(dst, \u001b[38;5;124m'\u001b[39m\u001b[38;5;124mwb\u001b[39m\u001b[38;5;124m'\u001b[39m) \u001b[38;5;28;01mas\u001b[39;00m fdst:\n\u001b[0;32m    263\u001b[0m                 \u001b[38;5;66;03m# macOS\u001b[39;00m\n",
      "\u001b[1;31mFileNotFoundError\u001b[0m: [Errno 2] No such file or directory: 'media\\\\videos\\\\backend\\\\720p30\\\\PhysicsSimulation.mp4'"
     ]
    }
   ],
   "source": [
    "%%manim -qm PhysicsSimulation\n",
    "\n",
    "import pymunk\n",
    "from pymunk import Vec2d\n",
    "import random\n",
    "\n",
    "class PhysicsSimulation(Scene):\n",
    "    def construct(self):\n",
    "        # Set up pymunk space\n",
    "        space = pymunk.Space()\n",
    "        space.gravity = Vec2d(0, -981)  # Gravity\n",
    "\n",
    "        # Create static floor\n",
    "        floor = pymunk.Segment(space.static_body, (-7, -3), (7, -3), 0.5)\n",
    "        floor.friction = 1.0\n",
    "        space.add(floor)\n",
    "\n",
    "        # Create balls\n",
    "        balls = []\n",
    "        ball_shapes = VGroup()\n",
    "        for _ in range(10):\n",
    "            mass = 1\n",
    "            radius = 0.2\n",
    "            moment = pymunk.moment_for_circle(mass, 0, radius)\n",
    "            body = pymunk.Body(mass, moment)\n",
    "            x = random.uniform(-6, 6)\n",
    "            y = random.uniform(0, 5)\n",
    "            body.position = x, y\n",
    "            shape = pymunk.Circle(body, radius)\n",
    "            shape.friction = 0.5\n",
    "            shape.elasticity = 0.8\n",
    "            space.add(body, shape)\n",
    "            balls.append(body)\n",
    "            ball_shapes.add(Circle(radius=radius, fill_color=BLUE, fill_opacity=0.8).move_to([x, y, 0]))\n",
    "\n",
    "        # Add shapes to scene\n",
    "        floor_line = Line(start=(-7, -3, 0), end=(7, -3, 0), stroke_width=5)\n",
    "        self.add(floor_line, ball_shapes)\n",
    "\n",
    "        # Simulation loop\n",
    "        dt = 1/60\n",
    "        for _ in range(300):  # Run for 5 seconds (300 frames at 60 fps)\n",
    "            space.step(dt)\n",
    "            for ball, ball_shape in zip(balls, ball_shapes):\n",
    "                ball_shape.move_to([ball.position.x, ball.position.y, 0])\n",
    "            self.wait(dt)\n",
    "\n",
    "        # Add title and explanation\n",
    "        title = Text(\"Physics Simulation: Gravity and Collisions\", font_size=36)\n",
    "        title.to_edge(UP)\n",
    "        explanation = Text(\"Using pymunk physics engine\", font_size=24)\n",
    "        explanation.next_to(title, DOWN)\n",
    "        self.play(Write(title), Write(explanation))\n",
    "        self.wait(2)"
   ]
  },
  {
   "cell_type": "code",
   "execution_count": 59,
   "metadata": {},
   "outputs": [
    {
     "data": {
      "text/html": [
       "<pre style=\"white-space:pre;overflow-x:auto;line-height:normal;font-family:Menlo,'DejaVu Sans Mono',consolas,'Courier New',monospace\">Manim Community <span style=\"color: #008000; text-decoration-color: #008000\">v0.18.1</span>\n",
       "\n",
       "</pre>\n"
      ],
      "text/plain": [
       "Manim Community \u001b[32mv0.\u001b[0m\u001b[32m18.1\u001b[0m\n",
       "\n"
      ]
     },
     "metadata": {},
     "output_type": "display_data"
    },
    {
     "name": "stderr",
     "output_type": "stream",
     "text": [
      "                                                                                                    \r"
     ]
    },
    {
     "ename": "AttributeError",
     "evalue": "'numpy.ndarray' object has no attribute 'rotate'",
     "output_type": "error",
     "traceback": [
      "\u001b[1;31m---------------------------------------------------------------------------\u001b[0m",
      "\u001b[1;31mAttributeError\u001b[0m                            Traceback (most recent call last)",
      "Cell \u001b[1;32mIn[59], line 1\u001b[0m\n\u001b[1;32m----> 1\u001b[0m \u001b[43mget_ipython\u001b[49m\u001b[43m(\u001b[49m\u001b[43m)\u001b[49m\u001b[38;5;241;43m.\u001b[39;49m\u001b[43mrun_cell_magic\u001b[49m\u001b[43m(\u001b[49m\u001b[38;5;124;43m'\u001b[39;49m\u001b[38;5;124;43mmanim\u001b[39;49m\u001b[38;5;124;43m'\u001b[39;49m\u001b[43m,\u001b[49m\u001b[43m \u001b[49m\u001b[38;5;124;43m'\u001b[39;49m\u001b[38;5;124;43m-qm KochSnowflake\u001b[39;49m\u001b[38;5;124;43m'\u001b[39;49m\u001b[43m,\u001b[49m\u001b[43m \u001b[49m\u001b[38;5;124;43m'\u001b[39;49m\u001b[38;5;130;43;01m\\n\u001b[39;49;00m\u001b[38;5;124;43mimport numpy as np\u001b[39;49m\u001b[38;5;130;43;01m\\n\u001b[39;49;00m\u001b[38;5;124;43mfrom manim import *\u001b[39;49m\u001b[38;5;130;43;01m\\n\u001b[39;49;00m\u001b[38;5;130;43;01m\\n\u001b[39;49;00m\u001b[38;5;124;43mclass KochSnowflake(Scene):\u001b[39;49m\u001b[38;5;130;43;01m\\n\u001b[39;49;00m\u001b[38;5;124;43m    def construct(self):\u001b[39;49m\u001b[38;5;130;43;01m\\n\u001b[39;49;00m\u001b[38;5;124;43m        # Title\u001b[39;49m\u001b[38;5;130;43;01m\\n\u001b[39;49;00m\u001b[38;5;124;43m        title = Text(\u001b[39;49m\u001b[38;5;124;43m\"\u001b[39;49m\u001b[38;5;124;43mKoch Snowflake Fractal\u001b[39;49m\u001b[38;5;124;43m\"\u001b[39;49m\u001b[38;5;124;43m, font_size=42)\u001b[39;49m\u001b[38;5;130;43;01m\\n\u001b[39;49;00m\u001b[38;5;124;43m        self.play(Write(title))\u001b[39;49m\u001b[38;5;130;43;01m\\n\u001b[39;49;00m\u001b[38;5;124;43m        self.play(title.animate.to_edge(UP))\u001b[39;49m\u001b[38;5;130;43;01m\\n\u001b[39;49;00m\u001b[38;5;124;43m        self.wait(1)\u001b[39;49m\u001b[38;5;130;43;01m\\n\u001b[39;49;00m\u001b[38;5;130;43;01m\\n\u001b[39;49;00m\u001b[38;5;124;43m        # Function to create Koch curve\u001b[39;49m\u001b[38;5;130;43;01m\\n\u001b[39;49;00m\u001b[38;5;124;43m        def koch_curve(start, end, depth):\u001b[39;49m\u001b[38;5;130;43;01m\\n\u001b[39;49;00m\u001b[38;5;124;43m            if depth == 0:\u001b[39;49m\u001b[38;5;130;43;01m\\n\u001b[39;49;00m\u001b[38;5;124;43m                return [Line(start, end)]\u001b[39;49m\u001b[38;5;130;43;01m\\n\u001b[39;49;00m\u001b[38;5;124;43m            \u001b[39;49m\u001b[38;5;130;43;01m\\n\u001b[39;49;00m\u001b[38;5;124;43m            v = end - start\u001b[39;49m\u001b[38;5;130;43;01m\\n\u001b[39;49;00m\u001b[38;5;124;43m            p1 = start + v / 3\u001b[39;49m\u001b[38;5;130;43;01m\\n\u001b[39;49;00m\u001b[38;5;124;43m            p3 = end - v / 3\u001b[39;49m\u001b[38;5;130;43;01m\\n\u001b[39;49;00m\u001b[38;5;124;43m            p2 = p1 + v.rotate(np.pi / 3) / 3\u001b[39;49m\u001b[38;5;130;43;01m\\n\u001b[39;49;00m\u001b[38;5;124;43m            \u001b[39;49m\u001b[38;5;130;43;01m\\n\u001b[39;49;00m\u001b[38;5;124;43m            return (\u001b[39;49m\u001b[38;5;130;43;01m\\n\u001b[39;49;00m\u001b[38;5;124;43m                koch_curve(start, p1, depth - 1) +\u001b[39;49m\u001b[38;5;130;43;01m\\n\u001b[39;49;00m\u001b[38;5;124;43m                koch_curve(p1, p2, depth - 1) +\u001b[39;49m\u001b[38;5;130;43;01m\\n\u001b[39;49;00m\u001b[38;5;124;43m                koch_curve(p2, p3, depth - 1) +\u001b[39;49m\u001b[38;5;130;43;01m\\n\u001b[39;49;00m\u001b[38;5;124;43m                koch_curve(p3, end, depth - 1)\u001b[39;49m\u001b[38;5;130;43;01m\\n\u001b[39;49;00m\u001b[38;5;124;43m            )\u001b[39;49m\u001b[38;5;130;43;01m\\n\u001b[39;49;00m\u001b[38;5;130;43;01m\\n\u001b[39;49;00m\u001b[38;5;124;43m        # Initial triangle\u001b[39;49m\u001b[38;5;130;43;01m\\n\u001b[39;49;00m\u001b[38;5;124;43m        side_length = 6\u001b[39;49m\u001b[38;5;130;43;01m\\n\u001b[39;49;00m\u001b[38;5;124;43m        height = side_length * np.sqrt(3) / 2\u001b[39;49m\u001b[38;5;130;43;01m\\n\u001b[39;49;00m\u001b[38;5;124;43m        points = [\u001b[39;49m\u001b[38;5;130;43;01m\\n\u001b[39;49;00m\u001b[38;5;124;43m            np.array([-side_length/2, -height/3, 0]),\u001b[39;49m\u001b[38;5;130;43;01m\\n\u001b[39;49;00m\u001b[38;5;124;43m            np.array([side_length/2, -height/3, 0]),\u001b[39;49m\u001b[38;5;130;43;01m\\n\u001b[39;49;00m\u001b[38;5;124;43m            np.array([0, 2*height/3, 0])\u001b[39;49m\u001b[38;5;130;43;01m\\n\u001b[39;49;00m\u001b[38;5;124;43m        ]\u001b[39;49m\u001b[38;5;130;43;01m\\n\u001b[39;49;00m\u001b[38;5;130;43;01m\\n\u001b[39;49;00m\u001b[38;5;124;43m        # Generate and display Koch Snowflake\u001b[39;49m\u001b[38;5;130;43;01m\\n\u001b[39;49;00m\u001b[38;5;124;43m        max_depth = 5\u001b[39;49m\u001b[38;5;130;43;01m\\n\u001b[39;49;00m\u001b[38;5;124;43m        snowflake = VGroup()\u001b[39;49m\u001b[38;5;130;43;01m\\n\u001b[39;49;00m\u001b[38;5;124;43m        for depth in range(max_depth + 1):\u001b[39;49m\u001b[38;5;130;43;01m\\n\u001b[39;49;00m\u001b[38;5;124;43m            new_snowflake = VGroup()\u001b[39;49m\u001b[38;5;130;43;01m\\n\u001b[39;49;00m\u001b[38;5;124;43m            for i in range(3):\u001b[39;49m\u001b[38;5;130;43;01m\\n\u001b[39;49;00m\u001b[38;5;124;43m                start, end = points[i], points[(i+1) \u001b[39;49m\u001b[38;5;124;43m%\u001b[39;49m\u001b[38;5;124;43m 3]\u001b[39;49m\u001b[38;5;130;43;01m\\n\u001b[39;49;00m\u001b[38;5;124;43m                new_snowflake.add(*koch_curve(start, end, depth))\u001b[39;49m\u001b[38;5;130;43;01m\\n\u001b[39;49;00m\u001b[38;5;124;43m            \u001b[39;49m\u001b[38;5;130;43;01m\\n\u001b[39;49;00m\u001b[38;5;124;43m            if depth == 0:\u001b[39;49m\u001b[38;5;130;43;01m\\n\u001b[39;49;00m\u001b[38;5;124;43m                self.play(Create(new_snowflake))\u001b[39;49m\u001b[38;5;130;43;01m\\n\u001b[39;49;00m\u001b[38;5;124;43m            else:\u001b[39;49m\u001b[38;5;130;43;01m\\n\u001b[39;49;00m\u001b[38;5;124;43m                self.play(Transform(snowflake, new_snowflake))\u001b[39;49m\u001b[38;5;130;43;01m\\n\u001b[39;49;00m\u001b[38;5;124;43m            \u001b[39;49m\u001b[38;5;130;43;01m\\n\u001b[39;49;00m\u001b[38;5;124;43m            snowflake = new_snowflake\u001b[39;49m\u001b[38;5;130;43;01m\\n\u001b[39;49;00m\u001b[38;5;124;43m            self.wait(0.5)\u001b[39;49m\u001b[38;5;130;43;01m\\n\u001b[39;49;00m\u001b[38;5;130;43;01m\\n\u001b[39;49;00m\u001b[38;5;124;43m        # Show fractal properties\u001b[39;49m\u001b[38;5;130;43;01m\\n\u001b[39;49;00m\u001b[38;5;124;43m        properties = VGroup(\u001b[39;49m\u001b[38;5;130;43;01m\\n\u001b[39;49;00m\u001b[38;5;124;43m            Text(\u001b[39;49m\u001b[38;5;124;43m\"\u001b[39;49m\u001b[38;5;124;43mFractal Properties:\u001b[39;49m\u001b[38;5;124;43m\"\u001b[39;49m\u001b[38;5;124;43m, font_size=36),\u001b[39;49m\u001b[38;5;130;43;01m\\n\u001b[39;49;00m\u001b[38;5;124;43m            Text(\u001b[39;49m\u001b[38;5;124;43m\"\u001b[39;49m\u001b[38;5;124;43m• Self-similarity\u001b[39;49m\u001b[38;5;124;43m\"\u001b[39;49m\u001b[38;5;124;43m, font_size=24),\u001b[39;49m\u001b[38;5;130;43;01m\\n\u001b[39;49;00m\u001b[38;5;124;43m            Text(\u001b[39;49m\u001b[38;5;124;43m\"\u001b[39;49m\u001b[38;5;124;43m• Infinite perimeter\u001b[39;49m\u001b[38;5;124;43m\"\u001b[39;49m\u001b[38;5;124;43m, font_size=24),\u001b[39;49m\u001b[38;5;130;43;01m\\n\u001b[39;49;00m\u001b[38;5;124;43m            Text(\u001b[39;49m\u001b[38;5;124;43m\"\u001b[39;49m\u001b[38;5;124;43m• Finite area\u001b[39;49m\u001b[38;5;124;43m\"\u001b[39;49m\u001b[38;5;124;43m, font_size=24)\u001b[39;49m\u001b[38;5;130;43;01m\\n\u001b[39;49;00m\u001b[38;5;124;43m        ).arrange(DOWN, aligned_edge=LEFT).to_edge(LEFT)\u001b[39;49m\u001b[38;5;130;43;01m\\n\u001b[39;49;00m\u001b[38;5;124;43m        self.play(Write(properties))\u001b[39;49m\u001b[38;5;130;43;01m\\n\u001b[39;49;00m\u001b[38;5;124;43m        self.wait(1)\u001b[39;49m\u001b[38;5;130;43;01m\\n\u001b[39;49;00m\u001b[38;5;130;43;01m\\n\u001b[39;49;00m\u001b[38;5;124;43m        # Zoom in to show self-similarity\u001b[39;49m\u001b[38;5;130;43;01m\\n\u001b[39;49;00m\u001b[38;5;124;43m        self.play(\u001b[39;49m\u001b[38;5;130;43;01m\\n\u001b[39;49;00m\u001b[38;5;124;43m            self.camera.frame.animate.scale(0.3).move_to(points[0]),\u001b[39;49m\u001b[38;5;130;43;01m\\n\u001b[39;49;00m\u001b[38;5;124;43m            run_time=2\u001b[39;49m\u001b[38;5;130;43;01m\\n\u001b[39;49;00m\u001b[38;5;124;43m        )\u001b[39;49m\u001b[38;5;130;43;01m\\n\u001b[39;49;00m\u001b[38;5;124;43m        self.wait(1)\u001b[39;49m\u001b[38;5;130;43;01m\\n\u001b[39;49;00m\u001b[38;5;124;43m        self.play(\u001b[39;49m\u001b[38;5;130;43;01m\\n\u001b[39;49;00m\u001b[38;5;124;43m            self.camera.frame.animate.scale(0.3),\u001b[39;49m\u001b[38;5;130;43;01m\\n\u001b[39;49;00m\u001b[38;5;124;43m            run_time=2\u001b[39;49m\u001b[38;5;130;43;01m\\n\u001b[39;49;00m\u001b[38;5;124;43m        )\u001b[39;49m\u001b[38;5;130;43;01m\\n\u001b[39;49;00m\u001b[38;5;124;43m        self.wait(1)\u001b[39;49m\u001b[38;5;130;43;01m\\n\u001b[39;49;00m\u001b[38;5;130;43;01m\\n\u001b[39;49;00m\u001b[38;5;124;43m        # Zoom out\u001b[39;49m\u001b[38;5;130;43;01m\\n\u001b[39;49;00m\u001b[38;5;124;43m        self.play(\u001b[39;49m\u001b[38;5;130;43;01m\\n\u001b[39;49;00m\u001b[38;5;124;43m            self.camera.frame.animate.scale(11).move_to(ORIGIN),\u001b[39;49m\u001b[38;5;130;43;01m\\n\u001b[39;49;00m\u001b[38;5;124;43m            run_time=2\u001b[39;49m\u001b[38;5;130;43;01m\\n\u001b[39;49;00m\u001b[38;5;124;43m        )\u001b[39;49m\u001b[38;5;130;43;01m\\n\u001b[39;49;00m\u001b[38;5;124;43m        self.wait(1)\u001b[39;49m\u001b[38;5;130;43;01m\\n\u001b[39;49;00m\u001b[38;5;130;43;01m\\n\u001b[39;49;00m\u001b[38;5;124;43m        # Conclusion\u001b[39;49m\u001b[38;5;130;43;01m\\n\u001b[39;49;00m\u001b[38;5;124;43m        conclusion = Text(\u001b[39;49m\u001b[38;5;130;43;01m\\n\u001b[39;49;00m\u001b[38;5;124;43m            \u001b[39;49m\u001b[38;5;124;43m\"\u001b[39;49m\u001b[38;5;124;43mThe Koch Snowflake has an infinite perimeter\u001b[39;49m\u001b[38;5;130;43;01m\\\\\u001b[39;49;00m\u001b[38;5;124;43mnbut encloses a finite area\u001b[39;49m\u001b[38;5;124;43m\"\u001b[39;49m\u001b[38;5;124;43m,\u001b[39;49m\u001b[38;5;130;43;01m\\n\u001b[39;49;00m\u001b[38;5;124;43m            font_size=32\u001b[39;49m\u001b[38;5;130;43;01m\\n\u001b[39;49;00m\u001b[38;5;124;43m        ).next_to(properties, DOWN)\u001b[39;49m\u001b[38;5;130;43;01m\\n\u001b[39;49;00m\u001b[38;5;124;43m        self.play(Write(conclusion))\u001b[39;49m\u001b[38;5;130;43;01m\\n\u001b[39;49;00m\u001b[38;5;124;43m        self.wait(2)\u001b[39;49m\u001b[38;5;130;43;01m\\n\u001b[39;49;00m\u001b[38;5;124;43m'\u001b[39;49m\u001b[43m)\u001b[49m\n",
      "File \u001b[1;32mc:\\Users\\berge\\Desktop\\a16z\\a16z-hackathon\\venv\\Lib\\site-packages\\IPython\\core\\interactiveshell.py:2541\u001b[0m, in \u001b[0;36mInteractiveShell.run_cell_magic\u001b[1;34m(self, magic_name, line, cell)\u001b[0m\n\u001b[0;32m   2539\u001b[0m \u001b[38;5;28;01mwith\u001b[39;00m \u001b[38;5;28mself\u001b[39m\u001b[38;5;241m.\u001b[39mbuiltin_trap:\n\u001b[0;32m   2540\u001b[0m     args \u001b[38;5;241m=\u001b[39m (magic_arg_s, cell)\n\u001b[1;32m-> 2541\u001b[0m     result \u001b[38;5;241m=\u001b[39m \u001b[43mfn\u001b[49m\u001b[43m(\u001b[49m\u001b[38;5;241;43m*\u001b[39;49m\u001b[43margs\u001b[49m\u001b[43m,\u001b[49m\u001b[43m \u001b[49m\u001b[38;5;241;43m*\u001b[39;49m\u001b[38;5;241;43m*\u001b[39;49m\u001b[43mkwargs\u001b[49m\u001b[43m)\u001b[49m\n\u001b[0;32m   2543\u001b[0m \u001b[38;5;66;03m# The code below prevents the output from being displayed\u001b[39;00m\n\u001b[0;32m   2544\u001b[0m \u001b[38;5;66;03m# when using magics with decorator @output_can_be_silenced\u001b[39;00m\n\u001b[0;32m   2545\u001b[0m \u001b[38;5;66;03m# when the last Python token in the expression is a ';'.\u001b[39;00m\n\u001b[0;32m   2546\u001b[0m \u001b[38;5;28;01mif\u001b[39;00m \u001b[38;5;28mgetattr\u001b[39m(fn, magic\u001b[38;5;241m.\u001b[39mMAGIC_OUTPUT_CAN_BE_SILENCED, \u001b[38;5;28;01mFalse\u001b[39;00m):\n",
      "File \u001b[1;32mc:\\Users\\berge\\Desktop\\a16z\\a16z-hackathon\\venv\\Lib\\site-packages\\manim\\utils\\ipython_magic.py:143\u001b[0m, in \u001b[0;36mManimMagic.manim\u001b[1;34m(self, line, cell, local_ns)\u001b[0m\n\u001b[0;32m    141\u001b[0m     SceneClass \u001b[38;5;241m=\u001b[39m local_ns[config[\u001b[38;5;124m\"\u001b[39m\u001b[38;5;124mscene_names\u001b[39m\u001b[38;5;124m\"\u001b[39m][\u001b[38;5;241m0\u001b[39m]]\n\u001b[0;32m    142\u001b[0m     scene \u001b[38;5;241m=\u001b[39m SceneClass(renderer\u001b[38;5;241m=\u001b[39mrenderer)\n\u001b[1;32m--> 143\u001b[0m     \u001b[43mscene\u001b[49m\u001b[38;5;241;43m.\u001b[39;49m\u001b[43mrender\u001b[49m\u001b[43m(\u001b[49m\u001b[43m)\u001b[49m\n\u001b[0;32m    144\u001b[0m \u001b[38;5;28;01mfinally\u001b[39;00m:\n\u001b[0;32m    145\u001b[0m     \u001b[38;5;66;03m# Shader cache becomes invalid as the context is destroyed\u001b[39;00m\n\u001b[0;32m    146\u001b[0m     shader_program_cache\u001b[38;5;241m.\u001b[39mclear()\n",
      "File \u001b[1;32mc:\\Users\\berge\\Desktop\\a16z\\a16z-hackathon\\venv\\Lib\\site-packages\\manim\\scene\\scene.py:229\u001b[0m, in \u001b[0;36mScene.render\u001b[1;34m(self, preview)\u001b[0m\n\u001b[0;32m    227\u001b[0m \u001b[38;5;28mself\u001b[39m\u001b[38;5;241m.\u001b[39msetup()\n\u001b[0;32m    228\u001b[0m \u001b[38;5;28;01mtry\u001b[39;00m:\n\u001b[1;32m--> 229\u001b[0m     \u001b[38;5;28;43mself\u001b[39;49m\u001b[38;5;241;43m.\u001b[39;49m\u001b[43mconstruct\u001b[49m\u001b[43m(\u001b[49m\u001b[43m)\u001b[49m\n\u001b[0;32m    230\u001b[0m \u001b[38;5;28;01mexcept\u001b[39;00m EndSceneEarlyException:\n\u001b[0;32m    231\u001b[0m     \u001b[38;5;28;01mpass\u001b[39;00m\n",
      "File \u001b[1;32m<string>:46\u001b[0m, in \u001b[0;36mconstruct\u001b[1;34m(self)\u001b[0m\n",
      "File \u001b[1;32m<string>:21\u001b[0m, in \u001b[0;36mkoch_curve\u001b[1;34m(start, end, depth)\u001b[0m\n",
      "\u001b[1;31mAttributeError\u001b[0m: 'numpy.ndarray' object has no attribute 'rotate'"
     ]
    }
   ],
   "source": [
    "%%manim -qm KochSnowflake\n",
    "\n",
    "import numpy as np\n",
    "from manim import *\n",
    "\n",
    "class KochSnowflake(Scene):\n",
    "    def construct(self):\n",
    "        # Title\n",
    "        title = Text(\"Koch Snowflake Fractal\", font_size=42)\n",
    "        self.play(Write(title))\n",
    "        self.play(title.animate.to_edge(UP))\n",
    "        self.wait(1)\n",
    "\n",
    "        # Function to create Koch curve\n",
    "        def koch_curve(start, end, depth):\n",
    "            if depth == 0:\n",
    "                return [Line(start, end)]\n",
    "            \n",
    "            v = end - start\n",
    "            p1 = start + v / 3\n",
    "            p3 = end - v / 3\n",
    "            p2 = p1 + v.rotate(np.pi / 3) / 3\n",
    "            \n",
    "            return (\n",
    "                koch_curve(start, p1, depth - 1) +\n",
    "                koch_curve(p1, p2, depth - 1) +\n",
    "                koch_curve(p2, p3, depth - 1) +\n",
    "                koch_curve(p3, end, depth - 1)\n",
    "            )\n",
    "\n",
    "        # Initial triangle\n",
    "        side_length = 6\n",
    "        height = side_length * np.sqrt(3) / 2\n",
    "        points = [\n",
    "            np.array([-side_length/2, -height/3, 0]),\n",
    "            np.array([side_length/2, -height/3, 0]),\n",
    "            np.array([0, 2*height/3, 0])\n",
    "        ]\n",
    "\n",
    "        # Generate and display Koch Snowflake\n",
    "        max_depth = 5\n",
    "        snowflake = VGroup()\n",
    "        for depth in range(max_depth + 1):\n",
    "            new_snowflake = VGroup()\n",
    "            for i in range(3):\n",
    "                start, end = points[i], points[(i+1) % 3]\n",
    "                new_snowflake.add(*koch_curve(start, end, depth))\n",
    "            \n",
    "            if depth == 0:\n",
    "                self.play(Create(new_snowflake))\n",
    "            else:\n",
    "                self.play(Transform(snowflake, new_snowflake))\n",
    "            \n",
    "            snowflake = new_snowflake\n",
    "            self.wait(0.5)\n",
    "\n",
    "        # Show fractal properties\n",
    "        properties = VGroup(\n",
    "            Text(\"Fractal Properties:\", font_size=36),\n",
    "            Text(\"• Self-similarity\", font_size=24),\n",
    "            Text(\"• Infinite perimeter\", font_size=24),\n",
    "            Text(\"• Finite area\", font_size=24)\n",
    "        ).arrange(DOWN, aligned_edge=LEFT).to_edge(LEFT)\n",
    "        self.play(Write(properties))\n",
    "        self.wait(1)\n",
    "\n",
    "        # Zoom in to show self-similarity\n",
    "        self.play(\n",
    "            self.camera.frame.animate.scale(0.3).move_to(points[0]),\n",
    "            run_time=2\n",
    "        )\n",
    "        self.wait(1)\n",
    "        self.play(\n",
    "            self.camera.frame.animate.scale(0.3),\n",
    "            run_time=2\n",
    "        )\n",
    "        self.wait(1)\n",
    "\n",
    "        # Zoom out\n",
    "        self.play(\n",
    "            self.camera.frame.animate.scale(11).move_to(ORIGIN),\n",
    "            run_time=2\n",
    "        )\n",
    "        self.wait(1)\n",
    "\n",
    "        # Conclusion\n",
    "        conclusion = Text(\n",
    "            \"The Koch Snowflake has an infinite perimeter\\nbut encloses a finite area\",\n",
    "            font_size=32\n",
    "        ).next_to(properties, DOWN)\n",
    "        self.play(Write(conclusion))\n",
    "        self.wait(2)"
   ]
  },
  {
   "cell_type": "code",
   "execution_count": 60,
   "metadata": {},
   "outputs": [
    {
     "data": {
      "text/html": [
       "<pre style=\"white-space:pre;overflow-x:auto;line-height:normal;font-family:Menlo,'DejaVu Sans Mono',consolas,'Courier New',monospace\">Manim Community <span style=\"color: #008000; text-decoration-color: #008000\">v0.18.1</span>\n",
       "\n",
       "</pre>\n"
      ],
      "text/plain": [
       "Manim Community \u001b[32mv0.\u001b[0m\u001b[32m18.1\u001b[0m\n",
       "\n"
      ]
     },
     "metadata": {},
     "output_type": "display_data"
    },
    {
     "name": "stderr",
     "output_type": "stream",
     "text": [
      "                                                                                                    \r"
     ]
    },
    {
     "ename": "AttributeError",
     "evalue": "'Camera' object has no attribute 'frame'",
     "output_type": "error",
     "traceback": [
      "\u001b[1;31m---------------------------------------------------------------------------\u001b[0m",
      "\u001b[1;31mAttributeError\u001b[0m                            Traceback (most recent call last)",
      "Cell \u001b[1;32mIn[60], line 1\u001b[0m\n\u001b[1;32m----> 1\u001b[0m \u001b[43mget_ipython\u001b[49m\u001b[43m(\u001b[49m\u001b[43m)\u001b[49m\u001b[38;5;241;43m.\u001b[39;49m\u001b[43mrun_cell_magic\u001b[49m\u001b[43m(\u001b[49m\u001b[38;5;124;43m'\u001b[39;49m\u001b[38;5;124;43mmanim\u001b[39;49m\u001b[38;5;124;43m'\u001b[39;49m\u001b[43m,\u001b[49m\u001b[43m \u001b[49m\u001b[38;5;124;43m'\u001b[39;49m\u001b[38;5;124;43m-qm KochSnowflake\u001b[39;49m\u001b[38;5;124;43m'\u001b[39;49m\u001b[43m,\u001b[49m\u001b[43m \u001b[49m\u001b[38;5;124;43m'\u001b[39;49m\u001b[38;5;130;43;01m\\n\u001b[39;49;00m\u001b[38;5;124;43mimport numpy as np\u001b[39;49m\u001b[38;5;130;43;01m\\n\u001b[39;49;00m\u001b[38;5;124;43mfrom manim import *\u001b[39;49m\u001b[38;5;130;43;01m\\n\u001b[39;49;00m\u001b[38;5;124;43mfrom manim.utils.space_ops import rotate_vector\u001b[39;49m\u001b[38;5;130;43;01m\\n\u001b[39;49;00m\u001b[38;5;130;43;01m\\n\u001b[39;49;00m\u001b[38;5;124;43mclass KochSnowflake(Scene):\u001b[39;49m\u001b[38;5;130;43;01m\\n\u001b[39;49;00m\u001b[38;5;124;43m    def construct(self):\u001b[39;49m\u001b[38;5;130;43;01m\\n\u001b[39;49;00m\u001b[38;5;124;43m        # Title\u001b[39;49m\u001b[38;5;130;43;01m\\n\u001b[39;49;00m\u001b[38;5;124;43m        title = Text(\u001b[39;49m\u001b[38;5;124;43m\"\u001b[39;49m\u001b[38;5;124;43mKoch Snowflake Fractal\u001b[39;49m\u001b[38;5;124;43m\"\u001b[39;49m\u001b[38;5;124;43m, font_size=42)\u001b[39;49m\u001b[38;5;130;43;01m\\n\u001b[39;49;00m\u001b[38;5;124;43m        self.play(Write(title))\u001b[39;49m\u001b[38;5;130;43;01m\\n\u001b[39;49;00m\u001b[38;5;124;43m        self.play(title.animate.to_edge(UP))\u001b[39;49m\u001b[38;5;130;43;01m\\n\u001b[39;49;00m\u001b[38;5;124;43m        self.wait(1)\u001b[39;49m\u001b[38;5;130;43;01m\\n\u001b[39;49;00m\u001b[38;5;130;43;01m\\n\u001b[39;49;00m\u001b[38;5;124;43m        # Function to create Koch curve\u001b[39;49m\u001b[38;5;130;43;01m\\n\u001b[39;49;00m\u001b[38;5;124;43m        def koch_curve(start, end, depth):\u001b[39;49m\u001b[38;5;130;43;01m\\n\u001b[39;49;00m\u001b[38;5;124;43m            if depth == 0:\u001b[39;49m\u001b[38;5;130;43;01m\\n\u001b[39;49;00m\u001b[38;5;124;43m                return [Line(start, end)]\u001b[39;49m\u001b[38;5;130;43;01m\\n\u001b[39;49;00m\u001b[38;5;124;43m            \u001b[39;49m\u001b[38;5;130;43;01m\\n\u001b[39;49;00m\u001b[38;5;124;43m            v = end - start\u001b[39;49m\u001b[38;5;130;43;01m\\n\u001b[39;49;00m\u001b[38;5;124;43m            p1 = start + v / 3\u001b[39;49m\u001b[38;5;130;43;01m\\n\u001b[39;49;00m\u001b[38;5;124;43m            p3 = end - v / 3\u001b[39;49m\u001b[38;5;130;43;01m\\n\u001b[39;49;00m\u001b[38;5;124;43m            p2 = p1 + rotate_vector(v / 3, PI / 3)\u001b[39;49m\u001b[38;5;130;43;01m\\n\u001b[39;49;00m\u001b[38;5;124;43m            \u001b[39;49m\u001b[38;5;130;43;01m\\n\u001b[39;49;00m\u001b[38;5;124;43m            return (\u001b[39;49m\u001b[38;5;130;43;01m\\n\u001b[39;49;00m\u001b[38;5;124;43m                koch_curve(start, p1, depth - 1) +\u001b[39;49m\u001b[38;5;130;43;01m\\n\u001b[39;49;00m\u001b[38;5;124;43m                koch_curve(p1, p2, depth - 1) +\u001b[39;49m\u001b[38;5;130;43;01m\\n\u001b[39;49;00m\u001b[38;5;124;43m                koch_curve(p2, p3, depth - 1) +\u001b[39;49m\u001b[38;5;130;43;01m\\n\u001b[39;49;00m\u001b[38;5;124;43m                koch_curve(p3, end, depth - 1)\u001b[39;49m\u001b[38;5;130;43;01m\\n\u001b[39;49;00m\u001b[38;5;124;43m            )\u001b[39;49m\u001b[38;5;130;43;01m\\n\u001b[39;49;00m\u001b[38;5;130;43;01m\\n\u001b[39;49;00m\u001b[38;5;124;43m        # Initial triangle\u001b[39;49m\u001b[38;5;130;43;01m\\n\u001b[39;49;00m\u001b[38;5;124;43m        side_length = 6\u001b[39;49m\u001b[38;5;130;43;01m\\n\u001b[39;49;00m\u001b[38;5;124;43m        height = side_length * np.sqrt(3) / 2\u001b[39;49m\u001b[38;5;130;43;01m\\n\u001b[39;49;00m\u001b[38;5;124;43m        points = [\u001b[39;49m\u001b[38;5;130;43;01m\\n\u001b[39;49;00m\u001b[38;5;124;43m            np.array([-side_length/2, -height/3, 0]),\u001b[39;49m\u001b[38;5;130;43;01m\\n\u001b[39;49;00m\u001b[38;5;124;43m            np.array([side_length/2, -height/3, 0]),\u001b[39;49m\u001b[38;5;130;43;01m\\n\u001b[39;49;00m\u001b[38;5;124;43m            np.array([0, 2*height/3, 0])\u001b[39;49m\u001b[38;5;130;43;01m\\n\u001b[39;49;00m\u001b[38;5;124;43m        ]\u001b[39;49m\u001b[38;5;130;43;01m\\n\u001b[39;49;00m\u001b[38;5;130;43;01m\\n\u001b[39;49;00m\u001b[38;5;124;43m        # Generate and display Koch Snowflake\u001b[39;49m\u001b[38;5;130;43;01m\\n\u001b[39;49;00m\u001b[38;5;124;43m        max_depth = 5\u001b[39;49m\u001b[38;5;130;43;01m\\n\u001b[39;49;00m\u001b[38;5;124;43m        snowflake = VGroup()\u001b[39;49m\u001b[38;5;130;43;01m\\n\u001b[39;49;00m\u001b[38;5;124;43m        for depth in range(max_depth + 1):\u001b[39;49m\u001b[38;5;130;43;01m\\n\u001b[39;49;00m\u001b[38;5;124;43m            new_snowflake = VGroup()\u001b[39;49m\u001b[38;5;130;43;01m\\n\u001b[39;49;00m\u001b[38;5;124;43m            for i in range(3):\u001b[39;49m\u001b[38;5;130;43;01m\\n\u001b[39;49;00m\u001b[38;5;124;43m                start, end = points[i], points[(i+1) \u001b[39;49m\u001b[38;5;124;43m%\u001b[39;49m\u001b[38;5;124;43m 3]\u001b[39;49m\u001b[38;5;130;43;01m\\n\u001b[39;49;00m\u001b[38;5;124;43m                new_snowflake.add(*koch_curve(start, end, depth))\u001b[39;49m\u001b[38;5;130;43;01m\\n\u001b[39;49;00m\u001b[38;5;124;43m            \u001b[39;49m\u001b[38;5;130;43;01m\\n\u001b[39;49;00m\u001b[38;5;124;43m            if depth == 0:\u001b[39;49m\u001b[38;5;130;43;01m\\n\u001b[39;49;00m\u001b[38;5;124;43m                self.play(Create(new_snowflake))\u001b[39;49m\u001b[38;5;130;43;01m\\n\u001b[39;49;00m\u001b[38;5;124;43m            else:\u001b[39;49m\u001b[38;5;130;43;01m\\n\u001b[39;49;00m\u001b[38;5;124;43m                self.play(Transform(snowflake, new_snowflake))\u001b[39;49m\u001b[38;5;130;43;01m\\n\u001b[39;49;00m\u001b[38;5;124;43m            \u001b[39;49m\u001b[38;5;130;43;01m\\n\u001b[39;49;00m\u001b[38;5;124;43m            snowflake = new_snowflake\u001b[39;49m\u001b[38;5;130;43;01m\\n\u001b[39;49;00m\u001b[38;5;124;43m            self.wait(0.5)\u001b[39;49m\u001b[38;5;130;43;01m\\n\u001b[39;49;00m\u001b[38;5;130;43;01m\\n\u001b[39;49;00m\u001b[38;5;124;43m        # Show fractal properties\u001b[39;49m\u001b[38;5;130;43;01m\\n\u001b[39;49;00m\u001b[38;5;124;43m        properties = VGroup(\u001b[39;49m\u001b[38;5;130;43;01m\\n\u001b[39;49;00m\u001b[38;5;124;43m            Text(\u001b[39;49m\u001b[38;5;124;43m\"\u001b[39;49m\u001b[38;5;124;43mFractal Properties:\u001b[39;49m\u001b[38;5;124;43m\"\u001b[39;49m\u001b[38;5;124;43m, font_size=36),\u001b[39;49m\u001b[38;5;130;43;01m\\n\u001b[39;49;00m\u001b[38;5;124;43m            Text(\u001b[39;49m\u001b[38;5;124;43m\"\u001b[39;49m\u001b[38;5;124;43m• Self-similarity\u001b[39;49m\u001b[38;5;124;43m\"\u001b[39;49m\u001b[38;5;124;43m, font_size=24),\u001b[39;49m\u001b[38;5;130;43;01m\\n\u001b[39;49;00m\u001b[38;5;124;43m            Text(\u001b[39;49m\u001b[38;5;124;43m\"\u001b[39;49m\u001b[38;5;124;43m• Infinite perimeter\u001b[39;49m\u001b[38;5;124;43m\"\u001b[39;49m\u001b[38;5;124;43m, font_size=24),\u001b[39;49m\u001b[38;5;130;43;01m\\n\u001b[39;49;00m\u001b[38;5;124;43m            Text(\u001b[39;49m\u001b[38;5;124;43m\"\u001b[39;49m\u001b[38;5;124;43m• Finite area\u001b[39;49m\u001b[38;5;124;43m\"\u001b[39;49m\u001b[38;5;124;43m, font_size=24)\u001b[39;49m\u001b[38;5;130;43;01m\\n\u001b[39;49;00m\u001b[38;5;124;43m        ).arrange(DOWN, aligned_edge=LEFT).to_edge(LEFT)\u001b[39;49m\u001b[38;5;130;43;01m\\n\u001b[39;49;00m\u001b[38;5;124;43m        self.play(Write(properties))\u001b[39;49m\u001b[38;5;130;43;01m\\n\u001b[39;49;00m\u001b[38;5;124;43m        self.wait(1)\u001b[39;49m\u001b[38;5;130;43;01m\\n\u001b[39;49;00m\u001b[38;5;130;43;01m\\n\u001b[39;49;00m\u001b[38;5;124;43m        # Zoom in to show self-similarity\u001b[39;49m\u001b[38;5;130;43;01m\\n\u001b[39;49;00m\u001b[38;5;124;43m        self.play(\u001b[39;49m\u001b[38;5;130;43;01m\\n\u001b[39;49;00m\u001b[38;5;124;43m            self.camera.frame.animate.scale(0.3).move_to(points[0]),\u001b[39;49m\u001b[38;5;130;43;01m\\n\u001b[39;49;00m\u001b[38;5;124;43m            run_time=2\u001b[39;49m\u001b[38;5;130;43;01m\\n\u001b[39;49;00m\u001b[38;5;124;43m        )\u001b[39;49m\u001b[38;5;130;43;01m\\n\u001b[39;49;00m\u001b[38;5;124;43m        self.wait(1)\u001b[39;49m\u001b[38;5;130;43;01m\\n\u001b[39;49;00m\u001b[38;5;124;43m        self.play(\u001b[39;49m\u001b[38;5;130;43;01m\\n\u001b[39;49;00m\u001b[38;5;124;43m            self.camera.frame.animate.scale(0.3),\u001b[39;49m\u001b[38;5;130;43;01m\\n\u001b[39;49;00m\u001b[38;5;124;43m            run_time=2\u001b[39;49m\u001b[38;5;130;43;01m\\n\u001b[39;49;00m\u001b[38;5;124;43m        )\u001b[39;49m\u001b[38;5;130;43;01m\\n\u001b[39;49;00m\u001b[38;5;124;43m        self.wait(1)\u001b[39;49m\u001b[38;5;130;43;01m\\n\u001b[39;49;00m\u001b[38;5;130;43;01m\\n\u001b[39;49;00m\u001b[38;5;124;43m        # Zoom out\u001b[39;49m\u001b[38;5;130;43;01m\\n\u001b[39;49;00m\u001b[38;5;124;43m        self.play(\u001b[39;49m\u001b[38;5;130;43;01m\\n\u001b[39;49;00m\u001b[38;5;124;43m            self.camera.frame.animate.scale(11).move_to(ORIGIN),\u001b[39;49m\u001b[38;5;130;43;01m\\n\u001b[39;49;00m\u001b[38;5;124;43m            run_time=2\u001b[39;49m\u001b[38;5;130;43;01m\\n\u001b[39;49;00m\u001b[38;5;124;43m        )\u001b[39;49m\u001b[38;5;130;43;01m\\n\u001b[39;49;00m\u001b[38;5;124;43m        self.wait(1)\u001b[39;49m\u001b[38;5;130;43;01m\\n\u001b[39;49;00m\u001b[38;5;130;43;01m\\n\u001b[39;49;00m\u001b[38;5;124;43m        # Conclusion\u001b[39;49m\u001b[38;5;130;43;01m\\n\u001b[39;49;00m\u001b[38;5;124;43m        conclusion = Text(\u001b[39;49m\u001b[38;5;130;43;01m\\n\u001b[39;49;00m\u001b[38;5;124;43m            \u001b[39;49m\u001b[38;5;124;43m\"\u001b[39;49m\u001b[38;5;124;43mThe Koch Snowflake has an infinite perimeter\u001b[39;49m\u001b[38;5;130;43;01m\\\\\u001b[39;49;00m\u001b[38;5;124;43mnbut encloses a finite area\u001b[39;49m\u001b[38;5;124;43m\"\u001b[39;49m\u001b[38;5;124;43m,\u001b[39;49m\u001b[38;5;130;43;01m\\n\u001b[39;49;00m\u001b[38;5;124;43m            font_size=32\u001b[39;49m\u001b[38;5;130;43;01m\\n\u001b[39;49;00m\u001b[38;5;124;43m        ).next_to(properties, DOWN)\u001b[39;49m\u001b[38;5;130;43;01m\\n\u001b[39;49;00m\u001b[38;5;124;43m        self.play(Write(conclusion))\u001b[39;49m\u001b[38;5;130;43;01m\\n\u001b[39;49;00m\u001b[38;5;124;43m        self.wait(2)\u001b[39;49m\u001b[38;5;130;43;01m\\n\u001b[39;49;00m\u001b[38;5;124;43m'\u001b[39;49m\u001b[43m)\u001b[49m\n",
      "File \u001b[1;32mc:\\Users\\berge\\Desktop\\a16z\\a16z-hackathon\\venv\\Lib\\site-packages\\IPython\\core\\interactiveshell.py:2541\u001b[0m, in \u001b[0;36mInteractiveShell.run_cell_magic\u001b[1;34m(self, magic_name, line, cell)\u001b[0m\n\u001b[0;32m   2539\u001b[0m \u001b[38;5;28;01mwith\u001b[39;00m \u001b[38;5;28mself\u001b[39m\u001b[38;5;241m.\u001b[39mbuiltin_trap:\n\u001b[0;32m   2540\u001b[0m     args \u001b[38;5;241m=\u001b[39m (magic_arg_s, cell)\n\u001b[1;32m-> 2541\u001b[0m     result \u001b[38;5;241m=\u001b[39m \u001b[43mfn\u001b[49m\u001b[43m(\u001b[49m\u001b[38;5;241;43m*\u001b[39;49m\u001b[43margs\u001b[49m\u001b[43m,\u001b[49m\u001b[43m \u001b[49m\u001b[38;5;241;43m*\u001b[39;49m\u001b[38;5;241;43m*\u001b[39;49m\u001b[43mkwargs\u001b[49m\u001b[43m)\u001b[49m\n\u001b[0;32m   2543\u001b[0m \u001b[38;5;66;03m# The code below prevents the output from being displayed\u001b[39;00m\n\u001b[0;32m   2544\u001b[0m \u001b[38;5;66;03m# when using magics with decorator @output_can_be_silenced\u001b[39;00m\n\u001b[0;32m   2545\u001b[0m \u001b[38;5;66;03m# when the last Python token in the expression is a ';'.\u001b[39;00m\n\u001b[0;32m   2546\u001b[0m \u001b[38;5;28;01mif\u001b[39;00m \u001b[38;5;28mgetattr\u001b[39m(fn, magic\u001b[38;5;241m.\u001b[39mMAGIC_OUTPUT_CAN_BE_SILENCED, \u001b[38;5;28;01mFalse\u001b[39;00m):\n",
      "File \u001b[1;32mc:\\Users\\berge\\Desktop\\a16z\\a16z-hackathon\\venv\\Lib\\site-packages\\manim\\utils\\ipython_magic.py:143\u001b[0m, in \u001b[0;36mManimMagic.manim\u001b[1;34m(self, line, cell, local_ns)\u001b[0m\n\u001b[0;32m    141\u001b[0m     SceneClass \u001b[38;5;241m=\u001b[39m local_ns[config[\u001b[38;5;124m\"\u001b[39m\u001b[38;5;124mscene_names\u001b[39m\u001b[38;5;124m\"\u001b[39m][\u001b[38;5;241m0\u001b[39m]]\n\u001b[0;32m    142\u001b[0m     scene \u001b[38;5;241m=\u001b[39m SceneClass(renderer\u001b[38;5;241m=\u001b[39mrenderer)\n\u001b[1;32m--> 143\u001b[0m     \u001b[43mscene\u001b[49m\u001b[38;5;241;43m.\u001b[39;49m\u001b[43mrender\u001b[49m\u001b[43m(\u001b[49m\u001b[43m)\u001b[49m\n\u001b[0;32m    144\u001b[0m \u001b[38;5;28;01mfinally\u001b[39;00m:\n\u001b[0;32m    145\u001b[0m     \u001b[38;5;66;03m# Shader cache becomes invalid as the context is destroyed\u001b[39;00m\n\u001b[0;32m    146\u001b[0m     shader_program_cache\u001b[38;5;241m.\u001b[39mclear()\n",
      "File \u001b[1;32mc:\\Users\\berge\\Desktop\\a16z\\a16z-hackathon\\venv\\Lib\\site-packages\\manim\\scene\\scene.py:229\u001b[0m, in \u001b[0;36mScene.render\u001b[1;34m(self, preview)\u001b[0m\n\u001b[0;32m    227\u001b[0m \u001b[38;5;28mself\u001b[39m\u001b[38;5;241m.\u001b[39msetup()\n\u001b[0;32m    228\u001b[0m \u001b[38;5;28;01mtry\u001b[39;00m:\n\u001b[1;32m--> 229\u001b[0m     \u001b[38;5;28;43mself\u001b[39;49m\u001b[38;5;241;43m.\u001b[39;49m\u001b[43mconstruct\u001b[49m\u001b[43m(\u001b[49m\u001b[43m)\u001b[49m\n\u001b[0;32m    230\u001b[0m \u001b[38;5;28;01mexcept\u001b[39;00m EndSceneEarlyException:\n\u001b[0;32m    231\u001b[0m     \u001b[38;5;28;01mpass\u001b[39;00m\n",
      "File \u001b[1;32m<string>:69\u001b[0m, in \u001b[0;36mconstruct\u001b[1;34m(self)\u001b[0m\n",
      "\u001b[1;31mAttributeError\u001b[0m: 'Camera' object has no attribute 'frame'"
     ]
    }
   ],
   "source": [
    "%%manim -qm KochSnowflake\n",
    "\n",
    "import numpy as np\n",
    "from manim import *\n",
    "from manim.utils.space_ops import rotate_vector\n",
    "\n",
    "class KochSnowflake(Scene):\n",
    "    def construct(self):\n",
    "        # Title\n",
    "        title = Text(\"Koch Snowflake Fractal\", font_size=42)\n",
    "        self.play(Write(title))\n",
    "        self.play(title.animate.to_edge(UP))\n",
    "        self.wait(1)\n",
    "\n",
    "        # Function to create Koch curve\n",
    "        def koch_curve(start, end, depth):\n",
    "            if depth == 0:\n",
    "                return [Line(start, end)]\n",
    "            \n",
    "            v = end - start\n",
    "            p1 = start + v / 3\n",
    "            p3 = end - v / 3\n",
    "            p2 = p1 + rotate_vector(v / 3, PI / 3)\n",
    "            \n",
    "            return (\n",
    "                koch_curve(start, p1, depth - 1) +\n",
    "                koch_curve(p1, p2, depth - 1) +\n",
    "                koch_curve(p2, p3, depth - 1) +\n",
    "                koch_curve(p3, end, depth - 1)\n",
    "            )\n",
    "\n",
    "        # Initial triangle\n",
    "        side_length = 6\n",
    "        height = side_length * np.sqrt(3) / 2\n",
    "        points = [\n",
    "            np.array([-side_length/2, -height/3, 0]),\n",
    "            np.array([side_length/2, -height/3, 0]),\n",
    "            np.array([0, 2*height/3, 0])\n",
    "        ]\n",
    "\n",
    "        # Generate and display Koch Snowflake\n",
    "        max_depth = 5\n",
    "        snowflake = VGroup()\n",
    "        for depth in range(max_depth + 1):\n",
    "            new_snowflake = VGroup()\n",
    "            for i in range(3):\n",
    "                start, end = points[i], points[(i+1) % 3]\n",
    "                new_snowflake.add(*koch_curve(start, end, depth))\n",
    "            \n",
    "            if depth == 0:\n",
    "                self.play(Create(new_snowflake))\n",
    "            else:\n",
    "                self.play(Transform(snowflake, new_snowflake))\n",
    "            \n",
    "            snowflake = new_snowflake\n",
    "            self.wait(0.5)\n",
    "\n",
    "        # Show fractal properties\n",
    "        properties = VGroup(\n",
    "            Text(\"Fractal Properties:\", font_size=36),\n",
    "            Text(\"• Self-similarity\", font_size=24),\n",
    "            Text(\"• Infinite perimeter\", font_size=24),\n",
    "            Text(\"• Finite area\", font_size=24)\n",
    "        ).arrange(DOWN, aligned_edge=LEFT).to_edge(LEFT)\n",
    "        self.play(Write(properties))\n",
    "        self.wait(1)\n",
    "\n",
    "        # Zoom in to show self-similarity\n",
    "        self.play(\n",
    "            self.camera.frame.animate.scale(0.3).move_to(points[0]),\n",
    "            run_time=2\n",
    "        )\n",
    "        self.wait(1)\n",
    "        self.play(\n",
    "            self.camera.frame.animate.scale(0.3),\n",
    "            run_time=2\n",
    "        )\n",
    "        self.wait(1)\n",
    "\n",
    "        # Zoom out\n",
    "        self.play(\n",
    "            self.camera.frame.animate.scale(11).move_to(ORIGIN),\n",
    "            run_time=2\n",
    "        )\n",
    "        self.wait(1)\n",
    "\n",
    "        # Conclusion\n",
    "        conclusion = Text(\n",
    "            \"The Koch Snowflake has an infinite perimeter\\nbut encloses a finite area\",\n",
    "            font_size=32\n",
    "        ).next_to(properties, DOWN)\n",
    "        self.play(Write(conclusion))\n",
    "        self.wait(2)"
   ]
  },
  {
   "cell_type": "code",
   "execution_count": 39,
   "metadata": {},
   "outputs": [
    {
     "data": {
      "text/html": [
       "<pre style=\"white-space:pre;overflow-x:auto;line-height:normal;font-family:Menlo,'DejaVu Sans Mono',consolas,'Courier New',monospace\">Manim Community <span style=\"color: #008000; text-decoration-color: #008000\">v0.18.1</span>\n",
       "\n",
       "</pre>\n"
      ],
      "text/plain": [
       "Manim Community \u001b[32mv0.\u001b[0m\u001b[32m18.1\u001b[0m\n",
       "\n"
      ]
     },
     "metadata": {},
     "output_type": "display_data"
    },
    {
     "name": "stderr",
     "output_type": "stream",
     "text": [
      "                                                                                                         \r"
     ]
    },
    {
     "ename": "NameError",
     "evalue": "name 'BROWN' is not defined",
     "output_type": "error",
     "traceback": [
      "\u001b[1;31m---------------------------------------------------------------------------\u001b[0m",
      "\u001b[1;31mNameError\u001b[0m                                 Traceback (most recent call last)",
      "Cell \u001b[1;32mIn[39], line 1\u001b[0m\n\u001b[1;32m----> 1\u001b[0m \u001b[43mget_ipython\u001b[49m\u001b[43m(\u001b[49m\u001b[43m)\u001b[49m\u001b[38;5;241;43m.\u001b[39;49m\u001b[43mrun_cell_magic\u001b[49m\u001b[43m(\u001b[49m\u001b[38;5;124;43m'\u001b[39;49m\u001b[38;5;124;43mmanim\u001b[39;49m\u001b[38;5;124;43m'\u001b[39;49m\u001b[43m,\u001b[49m\u001b[43m \u001b[49m\u001b[38;5;124;43m'\u001b[39;49m\u001b[38;5;124;43m-qm ProjectileMotionDemo\u001b[39;49m\u001b[38;5;124;43m'\u001b[39;49m\u001b[43m,\u001b[49m\u001b[43m \u001b[49m\u001b[38;5;124;43m'\u001b[39;49m\u001b[38;5;130;43;01m\\n\u001b[39;49;00m\u001b[38;5;124;43mimport numpy as np\u001b[39;49m\u001b[38;5;130;43;01m\\n\u001b[39;49;00m\u001b[38;5;130;43;01m\\n\u001b[39;49;00m\u001b[38;5;124;43mclass ProjectileMotionDemo(Scene):\u001b[39;49m\u001b[38;5;130;43;01m\\n\u001b[39;49;00m\u001b[38;5;124;43m    def construct(self):\u001b[39;49m\u001b[38;5;130;43;01m\\n\u001b[39;49;00m\u001b[38;5;124;43m        # Title\u001b[39;49m\u001b[38;5;130;43;01m\\n\u001b[39;49;00m\u001b[38;5;124;43m        title = Text(\u001b[39;49m\u001b[38;5;124;43m\"\u001b[39;49m\u001b[38;5;124;43mProjectile Motion\u001b[39;49m\u001b[38;5;124;43m\"\u001b[39;49m\u001b[38;5;124;43m, font_size=48)\u001b[39;49m\u001b[38;5;130;43;01m\\n\u001b[39;49;00m\u001b[38;5;124;43m        self.play(Write(title))\u001b[39;49m\u001b[38;5;130;43;01m\\n\u001b[39;49;00m\u001b[38;5;124;43m        self.play(title.animate.to_edge(UP))\u001b[39;49m\u001b[38;5;130;43;01m\\n\u001b[39;49;00m\u001b[38;5;124;43m        self.wait(1)\u001b[39;49m\u001b[38;5;130;43;01m\\n\u001b[39;49;00m\u001b[38;5;130;43;01m\\n\u001b[39;49;00m\u001b[38;5;124;43m        # Create ground and axes\u001b[39;49m\u001b[38;5;130;43;01m\\n\u001b[39;49;00m\u001b[38;5;124;43m        ground = Line(start=[-7, -3, 0], end=[7, -3, 0], color=BROWN)\u001b[39;49m\u001b[38;5;130;43;01m\\n\u001b[39;49;00m\u001b[38;5;124;43m        axes = Axes(\u001b[39;49m\u001b[38;5;130;43;01m\\n\u001b[39;49;00m\u001b[38;5;124;43m            x_range=[0, 14, 2],\u001b[39;49m\u001b[38;5;130;43;01m\\n\u001b[39;49;00m\u001b[38;5;124;43m            y_range=[0, 6, 1],\u001b[39;49m\u001b[38;5;130;43;01m\\n\u001b[39;49;00m\u001b[38;5;124;43m            axis_config=\u001b[39;49m\u001b[38;5;124;43m{\u001b[39;49m\u001b[38;5;124;43m\"\u001b[39;49m\u001b[38;5;124;43mcolor\u001b[39;49m\u001b[38;5;124;43m\"\u001b[39;49m\u001b[38;5;124;43m: BLUE},\u001b[39;49m\u001b[38;5;130;43;01m\\n\u001b[39;49;00m\u001b[38;5;124;43m            x_length=10,\u001b[39;49m\u001b[38;5;130;43;01m\\n\u001b[39;49;00m\u001b[38;5;124;43m            y_length=6\u001b[39;49m\u001b[38;5;130;43;01m\\n\u001b[39;49;00m\u001b[38;5;124;43m        ).shift(LEFT * 3 + DOWN * 1.5)\u001b[39;49m\u001b[38;5;130;43;01m\\n\u001b[39;49;00m\u001b[38;5;124;43m        \u001b[39;49m\u001b[38;5;130;43;01m\\n\u001b[39;49;00m\u001b[38;5;124;43m        x_label = axes.get_x_axis_label(\u001b[39;49m\u001b[38;5;124;43m\"\u001b[39;49m\u001b[38;5;124;43mx (m)\u001b[39;49m\u001b[38;5;124;43m\"\u001b[39;49m\u001b[38;5;124;43m)\u001b[39;49m\u001b[38;5;130;43;01m\\n\u001b[39;49;00m\u001b[38;5;124;43m        y_label = axes.get_y_axis_label(\u001b[39;49m\u001b[38;5;124;43m\"\u001b[39;49m\u001b[38;5;124;43my (m)\u001b[39;49m\u001b[38;5;124;43m\"\u001b[39;49m\u001b[38;5;124;43m)\u001b[39;49m\u001b[38;5;130;43;01m\\n\u001b[39;49;00m\u001b[38;5;124;43m        \u001b[39;49m\u001b[38;5;130;43;01m\\n\u001b[39;49;00m\u001b[38;5;124;43m        self.play(Create(ground), Create(axes), Write(x_label), Write(y_label))\u001b[39;49m\u001b[38;5;130;43;01m\\n\u001b[39;49;00m\u001b[38;5;124;43m        self.wait(1)\u001b[39;49m\u001b[38;5;130;43;01m\\n\u001b[39;49;00m\u001b[38;5;130;43;01m\\n\u001b[39;49;00m\u001b[38;5;124;43m        # Projectile motion parameters\u001b[39;49m\u001b[38;5;130;43;01m\\n\u001b[39;49;00m\u001b[38;5;124;43m        v0 = 10  # Initial velocity (m/s)\u001b[39;49m\u001b[38;5;130;43;01m\\n\u001b[39;49;00m\u001b[38;5;124;43m        angle = np.pi / 4  # Launch angle (45 degrees)\u001b[39;49m\u001b[38;5;130;43;01m\\n\u001b[39;49;00m\u001b[38;5;124;43m        g = 9.8  # Acceleration due to gravity (m/s^2)\u001b[39;49m\u001b[38;5;130;43;01m\\n\u001b[39;49;00m\u001b[38;5;130;43;01m\\n\u001b[39;49;00m\u001b[38;5;124;43m        # Projectile trajectory\u001b[39;49m\u001b[38;5;130;43;01m\\n\u001b[39;49;00m\u001b[38;5;124;43m        def trajectory(t):\u001b[39;49m\u001b[38;5;130;43;01m\\n\u001b[39;49;00m\u001b[38;5;124;43m            x = v0 * np.cos(angle) * t\u001b[39;49m\u001b[38;5;130;43;01m\\n\u001b[39;49;00m\u001b[38;5;124;43m            y = v0 * np.sin(angle) * t - 0.5 * g * t**2\u001b[39;49m\u001b[38;5;130;43;01m\\n\u001b[39;49;00m\u001b[38;5;124;43m            return axes.c2p(x, y)\u001b[39;49m\u001b[38;5;130;43;01m\\n\u001b[39;49;00m\u001b[38;5;130;43;01m\\n\u001b[39;49;00m\u001b[38;5;124;43m        path = ParametricFunction(trajectory, t_range=[0, 2*v0*np.sin(angle)/g, 0.1], color=RED)\u001b[39;49m\u001b[38;5;130;43;01m\\n\u001b[39;49;00m\u001b[38;5;124;43m        self.play(Create(path))\u001b[39;49m\u001b[38;5;130;43;01m\\n\u001b[39;49;00m\u001b[38;5;124;43m        self.wait(1)\u001b[39;49m\u001b[38;5;130;43;01m\\n\u001b[39;49;00m\u001b[38;5;130;43;01m\\n\u001b[39;49;00m\u001b[38;5;124;43m        # Animate the projectile\u001b[39;49m\u001b[38;5;130;43;01m\\n\u001b[39;49;00m\u001b[38;5;124;43m        ball = Dot(color=YELLOW)\u001b[39;49m\u001b[38;5;130;43;01m\\n\u001b[39;49;00m\u001b[38;5;124;43m        ball.move_to(axes.c2p(0, 0))\u001b[39;49m\u001b[38;5;130;43;01m\\n\u001b[39;49;00m\u001b[38;5;124;43m        \u001b[39;49m\u001b[38;5;130;43;01m\\n\u001b[39;49;00m\u001b[38;5;124;43m        self.play(Create(ball))\u001b[39;49m\u001b[38;5;130;43;01m\\n\u001b[39;49;00m\u001b[38;5;124;43m        self.play(MoveAlongPath(ball, path), run_time=3)\u001b[39;49m\u001b[38;5;130;43;01m\\n\u001b[39;49;00m\u001b[38;5;124;43m        self.wait(1)\u001b[39;49m\u001b[38;5;130;43;01m\\n\u001b[39;49;00m\u001b[38;5;130;43;01m\\n\u001b[39;49;00m\u001b[38;5;124;43m        # Show velocity components\u001b[39;49m\u001b[38;5;130;43;01m\\n\u001b[39;49;00m\u001b[38;5;124;43m        arrow_scale = 0.5\u001b[39;49m\u001b[38;5;130;43;01m\\n\u001b[39;49;00m\u001b[38;5;124;43m        v_arrow = Arrow(start=ORIGIN, end=[v0 * arrow_scale, 0, 0], color=GREEN)\u001b[39;49m\u001b[38;5;130;43;01m\\n\u001b[39;49;00m\u001b[38;5;124;43m        vx_arrow = Arrow(start=ORIGIN, end=[v0 * np.cos(angle) * arrow_scale, 0, 0], color=BLUE)\u001b[39;49m\u001b[38;5;130;43;01m\\n\u001b[39;49;00m\u001b[38;5;124;43m        vy_arrow = Arrow(start=ORIGIN, end=[0, v0 * np.sin(angle) * arrow_scale, 0], color=RED)\u001b[39;49m\u001b[38;5;130;43;01m\\n\u001b[39;49;00m\u001b[38;5;124;43m        \u001b[39;49m\u001b[38;5;130;43;01m\\n\u001b[39;49;00m\u001b[38;5;124;43m        v_label = MathTex(\u001b[39;49m\u001b[38;5;124;43m\"\u001b[39;49m\u001b[38;5;124;43mv_0\u001b[39;49m\u001b[38;5;124;43m\"\u001b[39;49m\u001b[38;5;124;43m).next_to(v_arrow.get_end(), RIGHT)\u001b[39;49m\u001b[38;5;130;43;01m\\n\u001b[39;49;00m\u001b[38;5;124;43m        vx_label = MathTex(\u001b[39;49m\u001b[38;5;124;43m\"\u001b[39;49m\u001b[38;5;124;43mv_x\u001b[39;49m\u001b[38;5;124;43m\"\u001b[39;49m\u001b[38;5;124;43m).next_to(vx_arrow.get_end(), DOWN)\u001b[39;49m\u001b[38;5;130;43;01m\\n\u001b[39;49;00m\u001b[38;5;124;43m        vy_label = MathTex(\u001b[39;49m\u001b[38;5;124;43m\"\u001b[39;49m\u001b[38;5;124;43mv_y\u001b[39;49m\u001b[38;5;124;43m\"\u001b[39;49m\u001b[38;5;124;43m).next_to(vy_arrow.get_end(), RIGHT)\u001b[39;49m\u001b[38;5;130;43;01m\\n\u001b[39;49;00m\u001b[38;5;124;43m        \u001b[39;49m\u001b[38;5;130;43;01m\\n\u001b[39;49;00m\u001b[38;5;124;43m        velocity_group = VGroup(v_arrow, vx_arrow, vy_arrow, v_label, vx_label, vy_label)\u001b[39;49m\u001b[38;5;130;43;01m\\n\u001b[39;49;00m\u001b[38;5;124;43m        velocity_group.shift(LEFT * 5 + UP * 2)\u001b[39;49m\u001b[38;5;130;43;01m\\n\u001b[39;49;00m\u001b[38;5;124;43m        \u001b[39;49m\u001b[38;5;130;43;01m\\n\u001b[39;49;00m\u001b[38;5;124;43m        self.play(Create(velocity_group))\u001b[39;49m\u001b[38;5;130;43;01m\\n\u001b[39;49;00m\u001b[38;5;124;43m        self.wait(1)\u001b[39;49m\u001b[38;5;130;43;01m\\n\u001b[39;49;00m\u001b[38;5;130;43;01m\\n\u001b[39;49;00m\u001b[38;5;124;43m        # Equations\u001b[39;49m\u001b[38;5;130;43;01m\\n\u001b[39;49;00m\u001b[38;5;124;43m        equations = VGroup(\u001b[39;49m\u001b[38;5;130;43;01m\\n\u001b[39;49;00m\u001b[38;5;124;43m            MathTex(\u001b[39;49m\u001b[38;5;124;43m\"\u001b[39;49m\u001b[38;5;124;43mx = v_0 \u001b[39;49m\u001b[38;5;130;43;01m\\\\\u001b[39;49;00m\u001b[38;5;130;43;01m\\\\\u001b[39;49;00m\u001b[38;5;124;43mcos(\u001b[39;49m\u001b[38;5;130;43;01m\\\\\u001b[39;49;00m\u001b[38;5;130;43;01m\\\\\u001b[39;49;00m\u001b[38;5;124;43mtheta) t\u001b[39;49m\u001b[38;5;124;43m\"\u001b[39;49m\u001b[38;5;124;43m),\u001b[39;49m\u001b[38;5;130;43;01m\\n\u001b[39;49;00m\u001b[38;5;124;43m            MathTex(\u001b[39;49m\u001b[38;5;124;43m\"\u001b[39;49m\u001b[38;5;124;43my = v_0 \u001b[39;49m\u001b[38;5;130;43;01m\\\\\u001b[39;49;00m\u001b[38;5;130;43;01m\\\\\u001b[39;49;00m\u001b[38;5;124;43msin(\u001b[39;49m\u001b[38;5;130;43;01m\\\\\u001b[39;49;00m\u001b[38;5;130;43;01m\\\\\u001b[39;49;00m\u001b[38;5;124;43mtheta) t - \u001b[39;49m\u001b[38;5;130;43;01m\\\\\u001b[39;49;00m\u001b[38;5;130;43;01m\\\\\u001b[39;49;00m\u001b[38;5;124;43mfrac\u001b[39;49m\u001b[38;5;132;43;01m{1}\u001b[39;49;00m\u001b[38;5;132;43;01m{2}\u001b[39;49;00m\u001b[38;5;124;43mgt^2\u001b[39;49m\u001b[38;5;124;43m\"\u001b[39;49m\u001b[38;5;124;43m),\u001b[39;49m\u001b[38;5;130;43;01m\\n\u001b[39;49;00m\u001b[38;5;124;43m            MathTex(\u001b[39;49m\u001b[38;5;124;43m\"\u001b[39;49m\u001b[38;5;130;43;01m\\\\\u001b[39;49;00m\u001b[38;5;130;43;01m\\\\\u001b[39;49;00m\u001b[38;5;124;43mtext\u001b[39;49m\u001b[38;5;132;43;01m{Range}\u001b[39;49;00m\u001b[38;5;124;43m = \u001b[39;49m\u001b[38;5;130;43;01m\\\\\u001b[39;49;00m\u001b[38;5;130;43;01m\\\\\u001b[39;49;00m\u001b[38;5;124;43mfrac\u001b[39;49m\u001b[38;5;124;43m{\u001b[39;49m\u001b[38;5;124;43mv_0^2 \u001b[39;49m\u001b[38;5;130;43;01m\\\\\u001b[39;49;00m\u001b[38;5;130;43;01m\\\\\u001b[39;49;00m\u001b[38;5;124;43msin(2\u001b[39;49m\u001b[38;5;130;43;01m\\\\\u001b[39;49;00m\u001b[38;5;130;43;01m\\\\\u001b[39;49;00m\u001b[38;5;124;43mtheta)}\u001b[39;49m\u001b[38;5;132;43;01m{g}\u001b[39;49;00m\u001b[38;5;124;43m\"\u001b[39;49m\u001b[38;5;124;43m)\u001b[39;49m\u001b[38;5;130;43;01m\\n\u001b[39;49;00m\u001b[38;5;124;43m        ).arrange(DOWN, aligned_edge=LEFT).to_edge(RIGHT)\u001b[39;49m\u001b[38;5;130;43;01m\\n\u001b[39;49;00m\u001b[38;5;124;43m        \u001b[39;49m\u001b[38;5;130;43;01m\\n\u001b[39;49;00m\u001b[38;5;124;43m        self.play(Write(equations))\u001b[39;49m\u001b[38;5;130;43;01m\\n\u001b[39;49;00m\u001b[38;5;124;43m        self.wait(1)\u001b[39;49m\u001b[38;5;130;43;01m\\n\u001b[39;49;00m\u001b[38;5;130;43;01m\\n\u001b[39;49;00m\u001b[38;5;124;43m        # Conclusion\u001b[39;49m\u001b[38;5;130;43;01m\\n\u001b[39;49;00m\u001b[38;5;124;43m        conclusion = Text(\u001b[39;49m\u001b[38;5;130;43;01m\\n\u001b[39;49;00m\u001b[38;5;124;43m            \u001b[39;49m\u001b[38;5;124;43m\"\u001b[39;49m\u001b[38;5;124;43mProjectile motion combines\u001b[39;49m\u001b[38;5;130;43;01m\\\\\u001b[39;49;00m\u001b[38;5;124;43mnhorizontal and vertical motion\u001b[39;49m\u001b[38;5;124;43m\"\u001b[39;49m\u001b[38;5;124;43m,\u001b[39;49m\u001b[38;5;130;43;01m\\n\u001b[39;49;00m\u001b[38;5;124;43m            font_size=24\u001b[39;49m\u001b[38;5;130;43;01m\\n\u001b[39;49;00m\u001b[38;5;124;43m        ).next_to(equations, DOWN)\u001b[39;49m\u001b[38;5;130;43;01m\\n\u001b[39;49;00m\u001b[38;5;124;43m        self.play(Write(conclusion))\u001b[39;49m\u001b[38;5;130;43;01m\\n\u001b[39;49;00m\u001b[38;5;124;43m        self.wait(2)\u001b[39;49m\u001b[38;5;130;43;01m\\n\u001b[39;49;00m\u001b[38;5;124;43m'\u001b[39;49m\u001b[43m)\u001b[49m\n",
      "File \u001b[1;32mc:\\Users\\berge\\Desktop\\a16z\\a16z-hackathon\\venv\\Lib\\site-packages\\IPython\\core\\interactiveshell.py:2541\u001b[0m, in \u001b[0;36mInteractiveShell.run_cell_magic\u001b[1;34m(self, magic_name, line, cell)\u001b[0m\n\u001b[0;32m   2539\u001b[0m \u001b[38;5;28;01mwith\u001b[39;00m \u001b[38;5;28mself\u001b[39m\u001b[38;5;241m.\u001b[39mbuiltin_trap:\n\u001b[0;32m   2540\u001b[0m     args \u001b[38;5;241m=\u001b[39m (magic_arg_s, cell)\n\u001b[1;32m-> 2541\u001b[0m     result \u001b[38;5;241m=\u001b[39m \u001b[43mfn\u001b[49m\u001b[43m(\u001b[49m\u001b[38;5;241;43m*\u001b[39;49m\u001b[43margs\u001b[49m\u001b[43m,\u001b[49m\u001b[43m \u001b[49m\u001b[38;5;241;43m*\u001b[39;49m\u001b[38;5;241;43m*\u001b[39;49m\u001b[43mkwargs\u001b[49m\u001b[43m)\u001b[49m\n\u001b[0;32m   2543\u001b[0m \u001b[38;5;66;03m# The code below prevents the output from being displayed\u001b[39;00m\n\u001b[0;32m   2544\u001b[0m \u001b[38;5;66;03m# when using magics with decorator @output_can_be_silenced\u001b[39;00m\n\u001b[0;32m   2545\u001b[0m \u001b[38;5;66;03m# when the last Python token in the expression is a ';'.\u001b[39;00m\n\u001b[0;32m   2546\u001b[0m \u001b[38;5;28;01mif\u001b[39;00m \u001b[38;5;28mgetattr\u001b[39m(fn, magic\u001b[38;5;241m.\u001b[39mMAGIC_OUTPUT_CAN_BE_SILENCED, \u001b[38;5;28;01mFalse\u001b[39;00m):\n",
      "File \u001b[1;32mc:\\Users\\berge\\Desktop\\a16z\\a16z-hackathon\\venv\\Lib\\site-packages\\manim\\utils\\ipython_magic.py:143\u001b[0m, in \u001b[0;36mManimMagic.manim\u001b[1;34m(self, line, cell, local_ns)\u001b[0m\n\u001b[0;32m    141\u001b[0m     SceneClass \u001b[38;5;241m=\u001b[39m local_ns[config[\u001b[38;5;124m\"\u001b[39m\u001b[38;5;124mscene_names\u001b[39m\u001b[38;5;124m\"\u001b[39m][\u001b[38;5;241m0\u001b[39m]]\n\u001b[0;32m    142\u001b[0m     scene \u001b[38;5;241m=\u001b[39m SceneClass(renderer\u001b[38;5;241m=\u001b[39mrenderer)\n\u001b[1;32m--> 143\u001b[0m     \u001b[43mscene\u001b[49m\u001b[38;5;241;43m.\u001b[39;49m\u001b[43mrender\u001b[49m\u001b[43m(\u001b[49m\u001b[43m)\u001b[49m\n\u001b[0;32m    144\u001b[0m \u001b[38;5;28;01mfinally\u001b[39;00m:\n\u001b[0;32m    145\u001b[0m     \u001b[38;5;66;03m# Shader cache becomes invalid as the context is destroyed\u001b[39;00m\n\u001b[0;32m    146\u001b[0m     shader_program_cache\u001b[38;5;241m.\u001b[39mclear()\n",
      "File \u001b[1;32mc:\\Users\\berge\\Desktop\\a16z\\a16z-hackathon\\venv\\Lib\\site-packages\\manim\\scene\\scene.py:229\u001b[0m, in \u001b[0;36mScene.render\u001b[1;34m(self, preview)\u001b[0m\n\u001b[0;32m    227\u001b[0m \u001b[38;5;28mself\u001b[39m\u001b[38;5;241m.\u001b[39msetup()\n\u001b[0;32m    228\u001b[0m \u001b[38;5;28;01mtry\u001b[39;00m:\n\u001b[1;32m--> 229\u001b[0m     \u001b[38;5;28;43mself\u001b[39;49m\u001b[38;5;241;43m.\u001b[39;49m\u001b[43mconstruct\u001b[49m\u001b[43m(\u001b[49m\u001b[43m)\u001b[49m\n\u001b[0;32m    230\u001b[0m \u001b[38;5;28;01mexcept\u001b[39;00m EndSceneEarlyException:\n\u001b[0;32m    231\u001b[0m     \u001b[38;5;28;01mpass\u001b[39;00m\n",
      "File \u001b[1;32m<string>:13\u001b[0m, in \u001b[0;36mconstruct\u001b[1;34m(self)\u001b[0m\n",
      "\u001b[1;31mNameError\u001b[0m: name 'BROWN' is not defined"
     ]
    }
   ],
   "source": [
    "%%manim -qm ProjectileMotionDemo\n",
    "\n",
    "import numpy as np\n",
    "\n",
    "class ProjectileMotionDemo(Scene):\n",
    "    def construct(self):\n",
    "        # Title\n",
    "        title = Text(\"Projectile Motion\", font_size=48)\n",
    "        self.play(Write(title))\n",
    "        self.play(title.animate.to_edge(UP))\n",
    "        self.wait(1)\n",
    "\n",
    "        # Create ground and axes\n",
    "        ground = Line(start=[-7, -3, 0], end=[7, -3, 0], color=BROWN)\n",
    "        axes = Axes(\n",
    "            x_range=[0, 14, 2],\n",
    "            y_range=[0, 6, 1],\n",
    "            axis_config={\"color\": BLUE},\n",
    "            x_length=10,\n",
    "            y_length=6\n",
    "        ).shift(LEFT * 3 + DOWN * 1.5)\n",
    "        \n",
    "        x_label = axes.get_x_axis_label(\"x (m)\")\n",
    "        y_label = axes.get_y_axis_label(\"y (m)\")\n",
    "        \n",
    "        self.play(Create(ground), Create(axes), Write(x_label), Write(y_label))\n",
    "        self.wait(1)\n",
    "\n",
    "        # Projectile motion parameters\n",
    "        v0 = 10  # Initial velocity (m/s)\n",
    "        angle = np.pi / 4  # Launch angle (45 degrees)\n",
    "        g = 9.8  # Acceleration due to gravity (m/s^2)\n",
    "\n",
    "        # Projectile trajectory\n",
    "        def trajectory(t):\n",
    "            x = v0 * np.cos(angle) * t\n",
    "            y = v0 * np.sin(angle) * t - 0.5 * g * t**2\n",
    "            return axes.c2p(x, y)\n",
    "\n",
    "        path = ParametricFunction(trajectory, t_range=[0, 2*v0*np.sin(angle)/g, 0.1], color=RED)\n",
    "        self.play(Create(path))\n",
    "        self.wait(1)\n",
    "\n",
    "        # Animate the projectile\n",
    "        ball = Dot(color=YELLOW)\n",
    "        ball.move_to(axes.c2p(0, 0))\n",
    "        \n",
    "        self.play(Create(ball))\n",
    "        self.play(MoveAlongPath(ball, path), run_time=3)\n",
    "        self.wait(1)\n",
    "\n",
    "        # Show velocity components\n",
    "        arrow_scale = 0.5\n",
    "        v_arrow = Arrow(start=ORIGIN, end=[v0 * arrow_scale, 0, 0], color=GREEN)\n",
    "        vx_arrow = Arrow(start=ORIGIN, end=[v0 * np.cos(angle) * arrow_scale, 0, 0], color=BLUE)\n",
    "        vy_arrow = Arrow(start=ORIGIN, end=[0, v0 * np.sin(angle) * arrow_scale, 0], color=RED)\n",
    "        \n",
    "        v_label = MathTex(\"v_0\").next_to(v_arrow.get_end(), RIGHT)\n",
    "        vx_label = MathTex(\"v_x\").next_to(vx_arrow.get_end(), DOWN)\n",
    "        vy_label = MathTex(\"v_y\").next_to(vy_arrow.get_end(), RIGHT)\n",
    "        \n",
    "        velocity_group = VGroup(v_arrow, vx_arrow, vy_arrow, v_label, vx_label, vy_label)\n",
    "        velocity_group.shift(LEFT * 5 + UP * 2)\n",
    "        \n",
    "        self.play(Create(velocity_group))\n",
    "        self.wait(1)\n",
    "\n",
    "        # Equations\n",
    "        equations = VGroup(\n",
    "            MathTex(\"x = v_0 \\\\cos(\\\\theta) t\"),\n",
    "            MathTex(\"y = v_0 \\\\sin(\\\\theta) t - \\\\frac{1}{2}gt^2\"),\n",
    "            MathTex(\"\\\\text{Range} = \\\\frac{v_0^2 \\\\sin(2\\\\theta)}{g}\")\n",
    "        ).arrange(DOWN, aligned_edge=LEFT).to_edge(RIGHT)\n",
    "        \n",
    "        self.play(Write(equations))\n",
    "        self.wait(1)\n",
    "\n",
    "        # Conclusion\n",
    "        conclusion = Text(\n",
    "            \"Projectile motion combines\\nhorizontal and vertical motion\",\n",
    "            font_size=24\n",
    "        ).next_to(equations, DOWN)\n",
    "        self.play(Write(conclusion))\n",
    "        self.wait(2)"
   ]
  },
  {
   "cell_type": "code",
   "execution_count": null,
   "metadata": {},
   "outputs": [],
   "source": []
  }
 ],
 "metadata": {
  "kernelspec": {
   "display_name": "crewAIv0",
   "language": "python",
   "name": "python3"
  },
  "language_info": {
   "codemirror_mode": {
    "name": "ipython",
    "version": 3
   },
   "file_extension": ".py",
   "mimetype": "text/x-python",
   "name": "python",
   "nbconvert_exporter": "python",
   "pygments_lexer": "ipython3",
   "version": "3.12.3"
  }
 },
 "nbformat": 4,
 "nbformat_minor": 2
}
